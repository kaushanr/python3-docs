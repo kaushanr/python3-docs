{
  "nbformat": 4,
  "nbformat_minor": 0,
  "metadata": {
    "colab": {
      "provenance": [],
      "authorship_tag": "ABX9TyNmbSvuulJ2roPhBesdU00d",
      "include_colab_link": true
    },
    "kernelspec": {
      "name": "python3",
      "display_name": "Python 3"
    },
    "language_info": {
      "name": "python"
    }
  },
  "cells": [
    {
      "cell_type": "markdown",
      "metadata": {
        "id": "view-in-github",
        "colab_type": "text"
      },
      "source": [
        "<a href=\"https://colab.research.google.com/github/kaushanr/python3-docs/blob/main/Section_34.ipynb\" target=\"_parent\"><img src=\"https://colab.research.google.com/assets/colab-badge.svg\" alt=\"Open In Colab\"/></a>"
      ]
    },
    {
      "cell_type": "markdown",
      "source": [
        "# Regular Expressions (REGEX)"
      ],
      "metadata": {
        "id": "-1NzeNuTWbO8"
      }
    },
    {
      "cell_type": "code",
      "execution_count": null,
      "metadata": {
        "id": "iNJ6IPZkWXy5"
      },
      "outputs": [],
      "source": [
        "# What are they? \n",
        "  \n",
        "  # a way of describing patterns within search strings\n",
        "\n",
        "# Validating emails example\n",
        "\n",
        "  # Syntax conditions \n",
        "\n",
        "    # step 1 - starts with one of more letters,+,_,-,. signs then\n",
        "    # step 2 - a single @ sign then\n",
        "    # step 3 - one or more letters, numbers or - then\n",
        "    # step 4 - a single dot then\n",
        "    # step 5 - ends with one or more letters, numbers, - or .\n",
        "\n",
        "  # to implement these rules using conditional logic is going to be tedious, \n",
        "  # hence an alternative is to use a regular expression here to enforce these checks\n",
        "\n",
        "  # Corresponding regex syntax for the conditions above\n",
        "\n",
        "    # step 1 - ^[a-zA-Z0-9+_-.]+\n",
        "    # step 2 - @\n",
        "    # step 3 - [a-zA-Z0-9-]+\n",
        "    # step 4 - \\.[a-zA-Z0-9-.]+$\n",
        "\n",
        "      # regex syntax\n",
        "\n",
        "        # ^ - designates expression must be at the start (NOTE** - check keyboard settings! - US Qwerty style symbol)\n",
        "        # [a-z] - designates, character is in lower case a-z range\n",
        "        # [0-9] -  designates, digit in range 0-9\n",
        "        # + - designates for one or more characters or digits\n",
        "        # \\. - special syntax to insert . character is required - \\insert_char\n",
        "        # $ - designates expression must end with this\n",
        "    \n",
        "    # assembled regex syntax - (^[a-zA-Z0-9+_-.]+@[a-zA-Z0-9-]+\\.[a-zA-Z0-9-.]+$)\n",
        "\n",
        "  # Use cases\n",
        "\n",
        "    # credit card number validating\n",
        "    # phone number validating\n",
        "    # advanced find/replace in text\n",
        "    # formatting text/output \n",
        "    # syntax highlighting\n"
      ]
    },
    {
      "cell_type": "code",
      "source": [
        "# Writing REGEX\n",
        "\n",
        "  # https://pythex.org/\n",
        "  # http://www.rexegg.com/regex-quickstart.html\n",
        "\n",
        "  # comonly used regex syntax - /insert_your_regex_expression/\n",
        "\n",
        "    # \\d - digit 0-9\n",
        "    # \\w - letter digit or underscore\n",
        "    # \\s - whitespace character\n",
        "    # \\D - not a digit\n",
        "    # \\W - not a word character\n",
        "    # \\S - not a whitespace character\n",
        "    # . - any character except line break\n",
        "    # note - regex is case sensitive\n",
        "\n",
        "  # regex quantifier syntax\n",
        "\n",
        "    # + - one or more\n",
        "    # {3} - exactly x times - {3} - 3 times\n",
        "    # {3,5} - 3 to 5 times\n",
        "    # {4,} - 4 or more times\n",
        "    # * - 0 or more times\n",
        "    # ? - once or none (optional)\n",
        "\n",
        "  # character classes\n",
        "\n",
        "    # allows to specify groups or ranges of characters\n",
        "\n",
        "    # syntax - [enter ranges] - [aeiou] searches for any instances of items in the range occuring within a test text\n",
        "                              # [a-z] range of all letters from a through z\n",
        "                              # [ˆvalue] - finds anything that is NOT the specified value \n",
        "  \n",
        "  # anchors and boundaries\n",
        "\n",
        "    # ˆ - indicates start of a string or line \n",
        "    # $ - indicates end of a string or line\n",
        "    # \\b - word boundary\n",
        "    \n",
        "  # logical OR - '|'\n",
        "\n",
        "    # example - (\\d{3}|\\(\\d{3}\\)) \\d{3} \\d{4}\n",
        "                # for test case - 415 345 0998 and (415) 345 0998\n",
        "\n",
        "    # example - (Mr\\.|Mrs\\.) ([A-Za-z]+) ([A-Za-z]+) # parantheses can return matched pairs as groupings \n",
        "                # for test case - Mr. Luca Guadagnino and Mrs. Tilda Swinton\n",
        "\n",
        "    # example - https?://([A-Za-z_-]+\\.[A-Za-z_-]+) - matches the url pattern and returns the domain data as a matched group\n",
        "                # for test case - https://pythex.org and http://google.com "
      ],
      "metadata": {
        "id": "iIjnCvRyzpjo"
      },
      "execution_count": null,
      "outputs": []
    },
    {
      "cell_type": "code",
      "source": [
        "# REGEX with Python\n",
        "\n",
        "import re\n",
        "\n",
        "pattern = re.compile(r'\\d{3} \\d{3}-\\d{4}')\n",
        "res = pattern.search('Call me at 415 555-4242!')\n",
        "print(res) # returns a match object if pattern match found, else returns None\n",
        "print(res.group(),'\\n') # to obtain the matches pattern out - res.group()\n",
        "\n",
        "res = pattern.search('Call me at 415 555-4242 or 310 455-2632') # search method only scans for the first location of a mathcing pattern\n",
        "print(res)\n",
        "print(res.group(),'\\n')\n",
        "\n",
        "res = pattern.findall('Call me at 415 555-4242 or 310 455-2632')\n",
        "print(res,'\\n')  # findall returns a list of strings of all matched instances\n",
        "\n",
        "  # another method without using a instance object method saved to a prior variable - uses a module method\n",
        "\n",
        "print(re.search(r'\\d{3} \\d{3}-\\d{4}','Call me at 310 455-2632').group()) # downside this expression needs to be called every time\n",
        "                                                                         # to recompile the regex object, whereas the previous one\n",
        "                                                                         # was saved to a variable"
      ],
      "metadata": {
        "colab": {
          "base_uri": "https://localhost:8080/"
        },
        "id": "UbomOJEdjzNW",
        "outputId": "051747fd-bef4-4da2-c584-61db7af5b58f"
      },
      "execution_count": null,
      "outputs": [
        {
          "output_type": "stream",
          "name": "stdout",
          "text": [
            "<re.Match object; span=(11, 23), match='415 555-4242'>\n",
            "415 555-4242 \n",
            "\n",
            "<re.Match object; span=(11, 23), match='415 555-4242'>\n",
            "415 555-4242 \n",
            "\n",
            "['415 555-4242', '310 455-2632'] \n",
            "\n",
            "310 455-2632\n"
          ]
        }
      ]
    },
    {
      "cell_type": "code",
      "source": [
        "#Validation using regex in Python\n",
        "\n",
        "import re\n",
        "\n",
        "def extract_phone(input):\n",
        "  phone_regex = re.compile(r'\\b\\d{3} \\d{3}(-| )?\\d{4}\\b')\n",
        "  match = phone_regex.search(input)\n",
        "  if match:\n",
        "    return match.group()\n",
        "  return None\n",
        "\n",
        "\n",
        "print(extract_phone('My number is 415 555-5661'))\n",
        "print(extract_phone('My number is 415 555 4700'))\n",
        "print(extract_phone('My number is 415 555 47004334'))\n",
        "print(extract_phone('My number is 415 5554711'))\n",
        "\n",
        "print()\n",
        "\n",
        "def extract_all_phones(input):\n",
        "  phone_regex = re.compile(r'\\b\\d{3} \\d{3}(?:-| )?\\d{4}\\b') # (?:OR-regex) - non capturing version of parentheses\n",
        "  match = phone_regex.findall(input)\n",
        "  return match if match else None\n",
        "  \n",
        "\n",
        "print(extract_all_phones('Call me at 415 555 4242 or 310 455-2632 or 410 1552662'))\n",
        "print(extract_all_phones('Call me at 415 55'))\n",
        "\n",
        "print()\n",
        "\n",
        "def is_valid_phone(input):\n",
        "\tphone_regex = re.compile(r'^\\d{3} \\d{3}(?:-| )?\\d{4}$') # ^ - exclusive to US Qwerty style setting\n",
        "\tmatch = phone_regex.search(input)\n",
        "\treturn True if match else False\n",
        "\n",
        "\n",
        "print(is_valid_phone('415 555-4242'))\n",
        "print(is_valid_phone('sdfsdf 415 555 4242 sfsdsd'))\n",
        "print(is_valid_phone('415 555 4242 dfds'))\n",
        "\n",
        "print()\n",
        "\n",
        "def is_valid_phone(input):\n",
        "\tphone_regex = re.compile(r'\\d{3} \\d{3}(?:-| )?\\d{4}')\n",
        "\tmatch = phone_regex.fullmatch(input) # .fullmatch - returns True if passed string is an exact match - no need of before/after anchors\n",
        "\treturn True if match else False\n",
        "\n",
        "\n",
        "print(is_valid_phone('415 555-4242'))\n",
        "print(is_valid_phone('sdfsdf 415 555 4242 sfsdsd'))\n",
        "print(is_valid_phone('415 555 4242 dfds'))"
      ],
      "metadata": {
        "colab": {
          "base_uri": "https://localhost:8080/"
        },
        "id": "1vjQp3tmJIGN",
        "outputId": "94e5f1b1-36e2-48c7-8dc5-4d81ef80702f"
      },
      "execution_count": null,
      "outputs": [
        {
          "output_type": "stream",
          "name": "stdout",
          "text": [
            "415 555-5661\n",
            "415 555 4700\n",
            "None\n",
            "415 5554711\n",
            "\n",
            "['415 555 4242', '310 455-2632', '410 1552662']\n",
            "None\n",
            "\n",
            "True\n",
            "False\n",
            "False\n",
            "\n",
            "True\n",
            "False\n",
            "False\n"
          ]
        }
      ]
    },
    {
      "cell_type": "code",
      "source": [
        "# Coding exercise\n",
        "\n",
        "'''\n",
        "is_valid_time(\"10:45\")       #True\n",
        "is_valid_time(\"1:23\")        #True\n",
        "is_valid_time(\"10.45\")       #False\n",
        "is_valid_time(\"1999\")        #False\n",
        "is_valid_time(\"145:23\")      #False\n",
        "is_valid_time(\"it is 12:15\") #False\n",
        "is_valid_time(\"12:15\")       #True\n",
        "is_valid_time(\"34:55\") #True\n",
        "'''\n",
        "\n",
        "import re\n",
        "\n",
        "def is_valid_time(input):\n",
        "    time_regex = re.compile(r'(?:\\d|\\d{2}):\\d{2}')\n",
        "    match = time_regex.fullmatch(input)\n",
        "    return True if match else False\n",
        "\n",
        "\n",
        "print(is_valid_time(\"10:45\"))\n",
        "print(is_valid_time(\"1:23\"))\n",
        "print(is_valid_time(\"10.45\"))\n",
        "print(is_valid_time(\"1999\"))\n",
        "print(is_valid_time(\"145:23\"))\n",
        "print(is_valid_time(\"it is 12:15\"))\n",
        "print(is_valid_time(\"12:15\"))\n",
        "print(is_valid_time(\"34:55\"))"
      ],
      "metadata": {
        "id": "dM_Tez2rEYXa",
        "colab": {
          "base_uri": "https://localhost:8080/"
        },
        "outputId": "d19a6fe5-174a-475b-83bf-83516da7ec7c"
      },
      "execution_count": null,
      "outputs": [
        {
          "output_type": "stream",
          "name": "stdout",
          "text": [
            "True\n",
            "True\n",
            "False\n",
            "False\n",
            "False\n",
            "False\n",
            "True\n",
            "True\n"
          ]
        }
      ]
    },
    {
      "cell_type": "code",
      "source": [
        "# Parsing URLs \n",
        "\n",
        "import re\n",
        "\n",
        "url_regex = re.compile(r'(https?)://(www\\.[A-Za-z-]{2,256}\\.[a-z]{2,6})([-a-zA-Z0-9@:%_\\+.~#?&//=]*)')\n",
        "match = url_regex.search('https://www.google.com/search?q=cat+videos')\n",
        "print(match.group())\n",
        "print(match.group(0)) # same as .group(0)\n",
        "print(f'Protocol : {match.group(1)}') # returns item in index 0 of iterable object\n",
        "print(f'Domain : {match.group(2)}')\n",
        "print(f'Everthing Else : {match.group(3)}','\\n')\n",
        "print(match.groups()) # returns a tuple of the matched captures"
      ],
      "metadata": {
        "id": "67-397PRGSBZ",
        "colab": {
          "base_uri": "https://localhost:8080/"
        },
        "outputId": "7d0a8412-c60f-4db1-994a-a3357e215998"
      },
      "execution_count": null,
      "outputs": [
        {
          "output_type": "stream",
          "name": "stdout",
          "text": [
            "https://www.google.com/search?q=cat+videos\n",
            "https://www.google.com/search?q=cat+videos\n",
            "Protocol : https\n",
            "Domain : www.google.com\n",
            "Everthing Else : /search?q=cat+videos \n",
            "\n",
            "('https', 'www.google.com', '/search?q=cat+videos')\n"
          ]
        }
      ]
    },
    {
      "cell_type": "code",
      "source": [
        "# Coding exercise\n",
        "\n",
        "import re\n",
        "\n",
        "def parse_bytes(input):\n",
        "  bytes_regex = re.compile(r'(\\b[0-1]{8}\\b)')\n",
        "  match = bytes_regex.findall(input)\n",
        "  return match\n",
        "\n",
        "print(parse_bytes(\"11010101 101 323\"))\n",
        "print(parse_bytes(\"my data is: 10101010 11100010\"))\n",
        "print(parse_bytes(\"asdsa\"))"
      ],
      "metadata": {
        "colab": {
          "base_uri": "https://localhost:8080/"
        },
        "id": "hK1P1t7rukIq",
        "outputId": "db28e3fc-6216-4e36-b386-25727a146dcf"
      },
      "execution_count": null,
      "outputs": [
        {
          "output_type": "stream",
          "name": "stdout",
          "text": [
            "['11010101']\n",
            "['10101010', '11100010']\n",
            "[]\n"
          ]
        }
      ]
    },
    {
      "cell_type": "code",
      "source": [
        "# Symbolic group names\n",
        "\n",
        "import re\n",
        "\n",
        "def parse_name(input):\n",
        "  name_regex = re.compile(r'^(Mr\\.|Mrs\\.|Ms\\.|Mdme\\.) (?P<first>[A-Za-z]+) ([A-Za-z]+)$') # label assigned to first name match group\n",
        "  match = name_regex.search(input)\n",
        "  print(f'First Name : {match.group(\"first\")}') # calling the match group using the assigned label\n",
        "  return match.groups()\n",
        "\n",
        "print(parse_name('Mrs. Tilda Swinton'))\n"
      ],
      "metadata": {
        "colab": {
          "base_uri": "https://localhost:8080/"
        },
        "id": "a1pum8ZLxbrH",
        "outputId": "39453a1a-fb13-4a2a-b1da-9774d96a2fdd"
      },
      "execution_count": null,
      "outputs": [
        {
          "output_type": "stream",
          "name": "stdout",
          "text": [
            "First Name : Tilda\n",
            "('Mrs.', 'Tilda', 'Swinton')\n"
          ]
        }
      ]
    },
    {
      "cell_type": "code",
      "source": [
        "# Coding exercise\n",
        "\n",
        "import re\n",
        "\n",
        "def parse_date(input):\n",
        "  input_regex = re.compile(r'^(\\d{2})(?:/|\\.|,)(\\d{2})(?:/|\\.|,)(\\d{4})$') # another solution - ^(\\d\\d)[,/.](\\d\\d)[,/.](\\d{4})$ \n",
        "  match = input_regex.search(input)\n",
        "  if match:\n",
        "    date = {\n",
        "        'd': match.group(1),\n",
        "        'm': match.group(2),\n",
        "        'y': match.group(3)\n",
        "    }\n",
        "    return date\n",
        "  return None\n",
        "\n",
        "print(parse_date(\"01/22/1999\"))\n",
        "print(parse_date(\"12,04,2003\"))\n",
        "print(parse_date(\"12.11.2003\"))\n",
        "print(parse_date(\"12.11.200312\"))"
      ],
      "metadata": {
        "id": "TZ6kM_cG6oY0",
        "colab": {
          "base_uri": "https://localhost:8080/"
        },
        "outputId": "668e38c4-0a27-4465-b620-166b6b9f87e2"
      },
      "execution_count": null,
      "outputs": [
        {
          "output_type": "stream",
          "name": "stdout",
          "text": [
            "{'d': '01', 'm': '22', 'y': '1999'}\n",
            "{'d': '12', 'm': '04', 'y': '2003'}\n",
            "{'d': '12', 'm': '11', 'y': '2003'}\n",
            "None\n"
          ]
        }
      ]
    },
    {
      "cell_type": "code",
      "source": [
        "# Compilation Flags\n",
        "\n",
        "  # Verbose - re.VEROSE or re.X\n",
        "\n",
        "import re\n",
        "\n",
        "pat = re.compile(r'^([a-z0-9_\\.-]+)@([\\da-z\\.-]+)\\.([a-z\\.]{2,6})$') # we can break this regex up into commentable/discernable blocks\n",
        "\n",
        "pattern = re.compile(r'''\n",
        "  ^([a-z0-9_\\.-]+)  # username of email\n",
        "  @                 # single @ sign\n",
        "  ([\\da-z\\.-]+)     # email provider\n",
        "  \\.                # single period\n",
        "  ([a-z\\.]{2,6})$   # com, org, net, etc\n",
        "''',re.VERBOSE)\n",
        "\n",
        "match = pattern.search('thomas.123@yahoo.com')\n",
        "print(match.group())\n",
        "print(match.groups(),'\\n')\n",
        "\n",
        "  # Ignore - re.IGNORECASE or re.I\n",
        "\n",
        "pattern = re.compile(r'''\n",
        "  ^([a-z0-9_\\.-]+)  # username of email\n",
        "  @                 # single @ sign\n",
        "  ([\\da-z\\.-]+)     # email provider\n",
        "  \\.                # single period\n",
        "  ([a-z\\.]{2,6})$   # com, org, net, etc\n",
        "''',re.VERBOSE | re.IGNORECASE) # pipe '|' is not logical OR here - builtin syntax to pass in multiple arguments to re.compile()\n",
        "\n",
        "match = pattern.search('ThomaS.123@yahoo.com')\n",
        "print(match.group())\n",
        "print(match.groups())"
      ],
      "metadata": {
        "id": "KL1pqaN3y_NZ",
        "colab": {
          "base_uri": "https://localhost:8080/"
        },
        "outputId": "67bcf803-4700-4b74-833d-de6fecf2f1e7"
      },
      "execution_count": 6,
      "outputs": [
        {
          "output_type": "stream",
          "name": "stdout",
          "text": [
            "thomas.123@yahoo.com\n",
            "('thomas.123', 'yahoo', 'com') \n",
            "\n",
            "ThomaS.123@yahoo.com\n",
            "('ThomaS.123', 'yahoo', 'com')\n"
          ]
        }
      ]
    },
    {
      "cell_type": "code",
      "source": [
        "# REGEX Substituition\n",
        "\n",
        "import re\n",
        "\n",
        "text = 'Last night Mrs. Daisy and Mr. White murdered Ms. Chow'\n",
        "pattern = re.compile(r'(Mr\\.|Mrs\\.|Ms\\.) [a-z]+', re.IGNORECASE)\n",
        "match = pattern.findall(text)\n",
        "print(match) # whats returned is only the matched capture groups - but the whole name is actually matched\n",
        "censored = pattern.sub('REDACTED',text)\n",
        "print(censored,'\\n')\n",
        "\n",
        "  # capture groups - \\g<group_name/default=number>\n",
        "\n",
        "text = 'Last night Mrs. Daisy and Mr. White murdered Ms. Chow'\n",
        "pattern = re.compile(r'(Mr\\.|Mrs\\.|Ms\\.) ([a-z])[a-z]+', re.IGNORECASE) # capture group 1\n",
        "match = pattern.findall(text)\n",
        "print(match) # whats returned is only the matched capture groups - but the whole name is actually matched\n",
        "censored = pattern.sub('\\g<1> \\g<2>',text)\n",
        "print(censored)\n"
      ],
      "metadata": {
        "colab": {
          "base_uri": "https://localhost:8080/"
        },
        "id": "GX4LR98l4ZP_",
        "outputId": "d87a8484-48ed-46a0-d5ba-47f3e048c494"
      },
      "execution_count": 25,
      "outputs": [
        {
          "output_type": "stream",
          "name": "stdout",
          "text": [
            "['Mrs.', 'Mr.', 'Ms.']\n",
            "Last night REDACTED and REDACTED murdered REDACTED \n",
            "\n",
            "[('Mrs.', 'D'), ('Mr.', 'W'), ('Ms.', 'C')]\n",
            "Last night Mrs. D and Mr. W murdered Ms. C\n"
          ]
        }
      ]
    },
    {
      "cell_type": "code",
      "source": [
        "# Coding exercise\n",
        "\n",
        "import re\n",
        "\n",
        "def censor(input):\n",
        "  pattern = re.compile(r'(frack)[a-z]*', re.IGNORECASE) # alternative regex - \\bfrack\\w*\\b\n",
        "  sub_prof = pattern.sub('CENSORED',input)\n",
        "  return sub_prof\n",
        "\n",
        "print(censor(\"Frack you\"))\n",
        "print(censor(\"I hope you fracking die\"))\n",
        "print(censor(\"you fracking Frack\"))\n",
        "print(censor(\"I don't give a flying frack!\"))"
      ],
      "metadata": {
        "colab": {
          "base_uri": "https://localhost:8080/"
        },
        "id": "YKHJXoxUSSMs",
        "outputId": "e29547b4-76d0-4001-e108-3fd8723e0c67"
      },
      "execution_count": 5,
      "outputs": [
        {
          "output_type": "stream",
          "name": "stdout",
          "text": [
            "CENSORED you\n",
            "I hope you CENSORED die\n",
            "you CENSORED CENSORED\n",
            "I don't give a flying CENSORED!\n"
          ]
        }
      ]
    },
    {
      "cell_type": "code",
      "source": [
        "# Swapping file names\n",
        "\n",
        "from pprint import pprint\n",
        "import re\n",
        "\n",
        "titles = [\n",
        "    'Significant Others (1987)',\n",
        "    'Tales of the City (1978)',\n",
        "    'The Days of Anna Madrigal (2014)',\n",
        "    'Mary Ann in Autumn (2010)',\n",
        "    'Further Tales of the City (1982)',\n",
        "    'Babycakes (1984)',\n",
        "    'More Tales of the City (1980)',\n",
        "    'Sure of You (1989)',\n",
        "    'Michael Tolliver Lives (2007)'\n",
        "]\n",
        "\n",
        "pattern = re.compile(r'^([\\w]+[ \\b\\w+\\b]*) \\((\\d+)\\)$')\n",
        "\n",
        "ord_titles = []\n",
        "for title in titles:\n",
        "  result = pattern.sub('\\g<2> - \\g<1>',title)\n",
        "  ord_titles.append(result)\n",
        "\n",
        "ord_titles.sort()\n",
        "pprint(ord_titles)"
      ],
      "metadata": {
        "colab": {
          "base_uri": "https://localhost:8080/"
        },
        "id": "Ca_aksdpWCt6",
        "outputId": "5a651673-6a85-42eb-d1c3-dac614a38c4b"
      },
      "execution_count": 15,
      "outputs": [
        {
          "output_type": "stream",
          "name": "stdout",
          "text": [
            "['1978 - Tales of the City',\n",
            " '1980 - More Tales of the City',\n",
            " '1982 - Further Tales of the City',\n",
            " '1984 - Babycakes',\n",
            " '1987 - Significant Others',\n",
            " '1989 - Sure of You',\n",
            " '2007 - Michael Tolliver Lives',\n",
            " '2010 - Mary Ann in Autumn',\n",
            " '2014 - The Days of Anna Madrigal']\n"
          ]
        }
      ]
    }
  ]
}