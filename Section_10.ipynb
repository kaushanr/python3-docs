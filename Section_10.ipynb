{
  "nbformat": 4,
  "nbformat_minor": 0,
  "metadata": {
    "colab": {
      "name": "Section_10.ipynb",
      "provenance": [],
      "authorship_tag": "ABX9TyM5J6uOyiZH1KIarXptAjaE",
      "include_colab_link": true
    },
    "kernelspec": {
      "name": "python3",
      "display_name": "Python 3"
    },
    "language_info": {
      "name": "python"
    }
  },
  "cells": [
    {
      "cell_type": "markdown",
      "metadata": {
        "id": "view-in-github",
        "colab_type": "text"
      },
      "source": [
        "<a href=\"https://colab.research.google.com/github/kaushanr/python3_docs/blob/main/Section_10.ipynb\" target=\"_parent\"><img src=\"https://colab.research.google.com/assets/colab-badge.svg\" alt=\"Open In Colab\"/></a>"
      ]
    },
    {
      "cell_type": "markdown",
      "source": [
        "# Loops"
      ],
      "metadata": {
        "id": "kEyRF9GW7e4c"
      }
    },
    {
      "cell_type": "code",
      "execution_count": 2,
      "metadata": {
        "id": "J2jiPFLW7an5",
        "colab": {
          "base_uri": "https://localhost:8080/"
        },
        "outputId": "9e8a0e85-3cd1-4fa2-9a70-8b0ccd0f9d8c"
      },
      "outputs": [
        {
          "output_type": "stream",
          "name": "stdout",
          "text": [
            "h\n",
            "e\n",
            "l\n",
            "l\n",
            "o\n",
            "1\n",
            "2\n",
            "3\n",
            "4\n",
            "5\n",
            "6\n",
            "7\n"
          ]
        }
      ],
      "source": [
        "# For Loops\n",
        "\n",
        "for char in 'hello': # char here is a temporary variable, 'hello' is the iterable object\n",
        "  print(char)\n",
        "\n",
        "for number in range(1,8): # prints numbers from 1 to 7, excluding 8\n",
        "  print(number)"
      ]
    },
    {
      "cell_type": "code",
      "source": [
        "# Ranges\n",
        "\n",
        "range(7) # for a single argument, prints numbers from 0 to (argument - 1)\n",
        "range(1,7) # prints numbers from 1 to (7 - 1),  exclusive of 7\n",
        "range(1,10,2) # third argument is the step size, gives odd integers from 1 to 9\n",
        "range(7,0,-1) # decrements from 7 to 1, exclusive of 0\n",
        "\n",
        "print(list(range(10))) # list function shows the numbers within the range\n",
        "print(list(range(1,10,2)))\n",
        "print(list(range(7,0,-1)))\n",
        "\n",
        "for num in range(1,10,2):\n",
        "  print(num)"
      ],
      "metadata": {
        "colab": {
          "base_uri": "https://localhost:8080/"
        },
        "id": "AuQHzUMA3CJ9",
        "outputId": "9132522d-cf4e-4578-ec71-f3f0612d247c"
      },
      "execution_count": 8,
      "outputs": [
        {
          "output_type": "stream",
          "name": "stdout",
          "text": [
            "[0, 1, 2, 3, 4, 5, 6, 7, 8, 9]\n",
            "[1, 3, 5, 7, 9]\n",
            "[7, 6, 5, 4, 3, 2, 1]\n",
            "1\n",
            "3\n",
            "5\n",
            "7\n",
            "9\n"
          ]
        }
      ]
    },
    {
      "cell_type": "code",
      "source": [
        "# Accumulator Excercise\n",
        "\n",
        "x = 0\n",
        "for num in range(10,21): # add all odd numbers between 10 and 21 inclusive of 21\n",
        "  if num % 2 != 0:\n",
        "    x += num\n",
        "print(x)\n",
        "\n",
        "y = 0\n",
        "for val in range(11,21,2):\n",
        "  y += val\n",
        "print(y)"
      ],
      "metadata": {
        "colab": {
          "base_uri": "https://localhost:8080/"
        },
        "id": "Ymdi9QyI8iXn",
        "outputId": "391ae92e-d0ad-42c3-f910-4666b192a242"
      },
      "execution_count": 10,
      "outputs": [
        {
          "output_type": "stream",
          "name": "stdout",
          "text": [
            "75\n",
            "75\n"
          ]
        }
      ]
    },
    {
      "cell_type": "code",
      "source": [
        "# Repeater Excercise\n",
        "\n",
        "times = int(input('How many times do I have to tell you? '))\n",
        "\n",
        "for i in range(times):\n",
        "  print(f'time {i + 1} : CLEAN UP YOUR ROOM!')"
      ],
      "metadata": {
        "colab": {
          "base_uri": "https://localhost:8080/"
        },
        "id": "ISR7es-Q9LsI",
        "outputId": "c16ba299-50e0-464d-a246-273d6621ab01"
      },
      "execution_count": 17,
      "outputs": [
        {
          "output_type": "stream",
          "name": "stdout",
          "text": [
            "How many times do I have to tell you? 5\n",
            "time 1 : CLEAN UP YOUR ROOM!\n",
            "time 2 : CLEAN UP YOUR ROOM!\n",
            "time 3 : CLEAN UP YOUR ROOM!\n",
            "time 4 : CLEAN UP YOUR ROOM!\n",
            "time 5 : CLEAN UP YOUR ROOM!\n"
          ]
        }
      ]
    },
    {
      "cell_type": "code",
      "source": [
        "# Unlucky Numbers\n",
        "\n",
        "for i in range(0,21):\n",
        "  if i != 4 and i != 13:\n",
        "    if i % 2 == 0:\n",
        "      state = 'even'\n",
        "    else:\n",
        "      state = 'odd'\n",
        "  else:\n",
        "    state = 'UNLUCKY!'\n",
        "    \n",
        "  print(f'{i} is {state}')"
      ],
      "metadata": {
        "colab": {
          "base_uri": "https://localhost:8080/"
        },
        "id": "z7PJtp0Y_Qgf",
        "outputId": "e0aaf3af-bc9d-4246-eb1f-64a0d902de9d"
      },
      "execution_count": 21,
      "outputs": [
        {
          "output_type": "stream",
          "name": "stdout",
          "text": [
            "0 is even\n",
            "1 is odd\n",
            "2 is even\n",
            "3 is odd\n",
            "4 is UNLUCKY!\n",
            "5 is odd\n",
            "6 is even\n",
            "7 is odd\n",
            "8 is even\n",
            "9 is odd\n",
            "10 is even\n",
            "11 is odd\n",
            "12 is even\n",
            "13 is UNLUCKY!\n",
            "14 is even\n",
            "15 is odd\n",
            "16 is even\n",
            "17 is odd\n",
            "18 is even\n",
            "19 is odd\n",
            "20 is even\n"
          ]
        }
      ]
    },
    {
      "cell_type": "code",
      "source": [
        "# While Loops \n",
        "\n",
        "msg = input('What\\'s the password : ')\n",
        "\n",
        "while msg != 'bananas': # while condition is true, enter loop\n",
        "  print('WRONG!')\n",
        "  msg = input('Whats\\'s the password : ')\n",
        "print('CORRECT!')"
      ],
      "metadata": {
        "colab": {
          "base_uri": "https://localhost:8080/"
        },
        "id": "JaP1MiASD7Ng",
        "outputId": "1bb52782-b16d-44b7-a177-23ab48974639"
      },
      "execution_count": 1,
      "outputs": [
        {
          "output_type": "stream",
          "name": "stdout",
          "text": [
            "What's the password : apple\n",
            "WRONG!\n",
            "Whats's the password : orange\n",
            "WRONG!\n",
            "Whats's the password : bananas\n",
            "CORRECT!\n"
          ]
        }
      ]
    },
    {
      "cell_type": "code",
      "source": [
        "# print numbers from 1 to 10\n",
        "\n",
        "i = 1\n",
        "\n",
        "while i < 11:\n",
        "  print(i)\n",
        "  i += 1"
      ],
      "metadata": {
        "colab": {
          "base_uri": "https://localhost:8080/"
        },
        "id": "zidT9zMBB5Rl",
        "outputId": "68d0a4ba-b8e0-45aa-f3ea-6468294de0d0"
      },
      "execution_count": 3,
      "outputs": [
        {
          "output_type": "stream",
          "name": "stdout",
          "text": [
            "1\n",
            "2\n",
            "3\n",
            "4\n",
            "5\n",
            "6\n",
            "7\n",
            "8\n",
            "9\n",
            "10\n"
          ]
        }
      ]
    },
    {
      "cell_type": "code",
      "source": [
        "# Emoji Art\n",
        "\n",
        "for i in range(1,10):   # for loop\n",
        "  print('\\U0001f600' * i) # emoji unicode\n",
        "\n",
        "print('\\n')\n",
        "\n",
        "i = 1\n",
        "while i < 10: # while loop\n",
        "  print('\\U0001f600' * i)\n",
        "  i += 1\n",
        "\n",
        "print('\\n')\n",
        "\n",
        "for i in range(1,10): # without string multiplication\n",
        "  count = 1\n",
        "  smileys = ''\n",
        "  while count <= i:\n",
        "    smileys += '\\U0001f600'\n",
        "    count += 1\n",
        "  print(smileys)\n",
        "\n",
        "print('\\n')\n",
        "\n",
        "# Symmetrical art\n",
        "\n",
        "i = 1\n",
        "while i <= 21: # while loop\n",
        "  num = (21 - i)//2\n",
        "  print('  ' * num +  '\\U0001f600' * i)\n",
        "  i += 2"
      ],
      "metadata": {
        "colab": {
          "base_uri": "https://localhost:8080/"
        },
        "id": "EM-FdkzVDTnh",
        "outputId": "8db4e680-8511-4ea0-b9d3-ab9f1a43ae03"
      },
      "execution_count": 16,
      "outputs": [
        {
          "output_type": "stream",
          "name": "stdout",
          "text": [
            "😀\n",
            "😀😀\n",
            "😀😀😀\n",
            "😀😀😀😀\n",
            "😀😀😀😀😀\n",
            "😀😀😀😀😀😀\n",
            "😀😀😀😀😀😀😀\n",
            "😀😀😀😀😀😀😀😀\n",
            "😀😀😀😀😀😀😀😀😀\n",
            "\n",
            "\n",
            "😀\n",
            "😀😀\n",
            "😀😀😀\n",
            "😀😀😀😀\n",
            "😀😀😀😀😀\n",
            "😀😀😀😀😀😀\n",
            "😀😀😀😀😀😀😀\n",
            "😀😀😀😀😀😀😀😀\n",
            "😀😀😀😀😀😀😀😀😀\n",
            "\n",
            "\n",
            "😀\n",
            "😀😀\n",
            "😀😀😀\n",
            "😀😀😀😀\n",
            "😀😀😀😀😀\n",
            "😀😀😀😀😀😀\n",
            "😀😀😀😀😀😀😀\n",
            "😀😀😀😀😀😀😀😀\n",
            "😀😀😀😀😀😀😀😀😀\n",
            "\n",
            "\n",
            "                    😀\n",
            "                  😀😀😀\n",
            "                😀😀😀😀😀\n",
            "              😀😀😀😀😀😀😀\n",
            "            😀😀😀😀😀😀😀😀😀\n",
            "          😀😀😀😀😀😀😀😀😀😀😀\n",
            "        😀😀😀😀😀😀😀😀😀😀😀😀😀\n",
            "      😀😀😀😀😀😀😀😀😀😀😀😀😀😀😀\n",
            "    😀😀😀😀😀😀😀😀😀😀😀😀😀😀😀😀😀\n",
            "  😀😀😀😀😀😀😀😀😀😀😀😀😀😀😀😀😀😀😀\n",
            "😀😀😀😀😀😀😀😀😀😀😀😀😀😀😀😀😀😀😀😀😀\n"
          ]
        }
      ]
    },
    {
      "cell_type": "code",
      "source": [
        "# STOP COPYING ME!\n",
        "\n",
        "msg = input('Hey, how\\'s it going? ')\n",
        "while msg.lower() != 'stop copying me': # check lowercase string for match. accurately copies 'yelling' in text :D\n",
        "  msg = input(f'{msg}\\n') # instead of having a print(msg) seperately\n",
        "print('UGH, FINE YOU WIN')"
      ],
      "metadata": {
        "colab": {
          "base_uri": "https://localhost:8080/"
        },
        "id": "iwNFGzACKyVD",
        "outputId": "a2d0ccea-2bdb-46ed-d588-9fa6794bfa8d"
      },
      "execution_count": 20,
      "outputs": [
        {
          "output_type": "stream",
          "name": "stdout",
          "text": [
            "Hey, how's it going? sup, fine i guess..\n",
            "sup, fine i guess..\n",
            "hahaha\n",
            "hahaha\n",
            "very Funny\n",
            "very Funny\n",
            "sToP iT\n",
            "sToP iT\n",
            "it's ANNOYING!\n",
            "it's ANNOYING!\n",
            "stop copying me\n",
            "UGH, FINE YOU WIN\n"
          ]
        }
      ]
    },
    {
      "cell_type": "code",
      "source": [
        "# Break\n",
        "\n",
        "while True:\n",
        "  cmd = input('Type \\'exit\\' to exit : ')\n",
        "  if cmd == 'exit':\n",
        "    break\n",
        "print('Exit successful')"
      ],
      "metadata": {
        "colab": {
          "base_uri": "https://localhost:8080/"
        },
        "id": "KtkPVRt-PzNF",
        "outputId": "0e1077d5-014e-4c5c-8a98-930752aa067b"
      },
      "execution_count": 23,
      "outputs": [
        {
          "output_type": "stream",
          "name": "stdout",
          "text": [
            "Type 'exit' to exit : sdfsd\n",
            "Type 'exit' to exit : jghjhg\n",
            "Type 'exit' to exit : wreqweq\n",
            "Type 'exit' to exit : exit\n",
            "Exit successful\n"
          ]
        }
      ]
    },
    {
      "cell_type": "code",
      "source": [
        "times = input('How many times do I have to tell you? ')\n",
        "\n",
        "while not times: # playing the silent game\n",
        "  times = input('How many times do I have to tell you? ') # the persistent parent...\n",
        "\n",
        "while times:\n",
        "  times = int(times)\n",
        "  for i in range(times):\n",
        "    if i >= 3:\n",
        "      print('Do you even listen anymore?!')\n",
        "      break\n",
        "    else:\n",
        "      print('CLEAN UP YOUR ROOM!')\n",
        "  break"
      ],
      "metadata": {
        "colab": {
          "base_uri": "https://localhost:8080/"
        },
        "id": "hewhuKj6Qupv",
        "outputId": "8702222a-6e01-4b7c-99a3-45b105fc2545"
      },
      "execution_count": 40,
      "outputs": [
        {
          "output_type": "stream",
          "name": "stdout",
          "text": [
            "How many times do I have to tell you? \n",
            "How many times do I have to tell you? \n",
            "How many times do I have to tell you? 6\n",
            "CLEAN UP YOUR ROOM!\n",
            "CLEAN UP YOUR ROOM!\n",
            "CLEAN UP YOUR ROOM!\n",
            "Do you even listen anymore?!\n"
          ]
        }
      ]
    }
  ]
}