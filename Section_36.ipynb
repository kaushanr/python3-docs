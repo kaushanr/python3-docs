{
  "nbformat": 4,
  "nbformat_minor": 0,
  "metadata": {
    "colab": {
      "provenance": [],
      "authorship_tag": "ABX9TyPyT9s7m9yFvM2jt1J2e4x1",
      "include_colab_link": true
    },
    "kernelspec": {
      "name": "python3",
      "display_name": "Python 3"
    },
    "language_info": {
      "name": "python"
    }
  },
  "cells": [
    {
      "cell_type": "markdown",
      "metadata": {
        "id": "view-in-github",
        "colab_type": "text"
      },
      "source": [
        "<a href=\"https://colab.research.google.com/github/kaushanr/python3-docs/blob/main/Section_36.ipynb\" target=\"_parent\"><img src=\"https://colab.research.google.com/assets/colab-badge.svg\" alt=\"Open In Colab\"/></a>"
      ]
    },
    {
      "cell_type": "markdown",
      "source": [
        "# Challenges"
      ],
      "metadata": {
        "id": "5fe7SRtfHfJW"
      }
    },
    {
      "cell_type": "markdown",
      "source": [
        "### Part 1\n",
        "\n",
        "---\n",
        "\n"
      ],
      "metadata": {
        "id": "Emz8_2ZVVf2C"
      }
    },
    {
      "cell_type": "code",
      "execution_count": null,
      "metadata": {
        "colab": {
          "base_uri": "https://localhost:8080/"
        },
        "id": "aVSKTSL6HZwu",
        "outputId": "fc1385b9-ea97-4182-b664-1cf88662b94e"
      },
      "outputs": [
        {
          "output_type": "stream",
          "name": "stdout",
          "text": [
            "emosewa\n"
          ]
        }
      ],
      "source": [
        "'''\n",
        "reverse_string('awesome') # 'emosewa'\n",
        "reverse_string('Colt') # 'tloC'\n",
        "reverse_string('Elie') # 'eilE'\n",
        "'''\n",
        "\n",
        "# add whatever parameters you deem necessary - good luck!\n",
        "def reverse_string(some_string):\n",
        "  # implement your function here\n",
        "  return some_string[::-1]\n",
        "\n",
        "print(reverse_string('awesome'))\n",
        "\n",
        "# another solution\n",
        "\n",
        "def reverse_string(str):\n",
        "    s = ''\n",
        "    for i, char in enumerate(str[::-1]):\n",
        "        s += char\n",
        "    return s"
      ]
    },
    {
      "cell_type": "code",
      "source": [
        "'''\n",
        "list_check([[],[1],[2,3], (1,2)]) # False\n",
        "list_check([1, True, [],[1],[2,3]]) # False\n",
        "list_check([[],[1],[2,3]]) # True\n",
        "'''\n",
        "\n",
        "def list_check(check_list):\n",
        "  result = all(isinstance(item,list) for item in check_list)\n",
        "  return result\n",
        "\n",
        "print(list_check([[],[1],[2,3], (1,2)]))\n",
        "print(list_check([1, True, [],[1],[2,3]]))\n",
        "print(list_check([[],[1],[2,3]]))\n",
        "\n",
        "# another solution\n",
        "\n",
        "def list_check(vals):\n",
        "    return all(type(l) == list for l in vals)"
      ],
      "metadata": {
        "colab": {
          "base_uri": "https://localhost:8080/"
        },
        "id": "NzxXRVV5XX61",
        "outputId": "e373862e-7af4-4b47-8da6-078c5736758c"
      },
      "execution_count": null,
      "outputs": [
        {
          "output_type": "stream",
          "name": "stdout",
          "text": [
            "False\n",
            "False\n",
            "True\n"
          ]
        }
      ]
    },
    {
      "cell_type": "code",
      "source": [
        "'''\n",
        "remove_every_other([1,2,3,4,5]) # [1,3,5] \n",
        "remove_every_other([5,1,2,4,1]) # [5,2,1]\n",
        "remove_every_other([1]) # [1] \n",
        "'''\n",
        "\n",
        "def remove_every_other(some_list):\n",
        "  result = some_list[::2]\n",
        "  return result\n",
        "\n",
        "print(remove_every_other([1,2,3,4,5]))\n",
        "print(remove_every_other([5,1,2,4,1]))\n",
        "\n",
        "# another solution\n",
        "\n",
        "def remove_every_other(lst):\n",
        "    return [val for i,val in enumerate(lst) if i % 2 == 0] # better method if list contains elements other than numbers"
      ],
      "metadata": {
        "colab": {
          "base_uri": "https://localhost:8080/"
        },
        "id": "d5qU3HuuXr5t",
        "outputId": "640ca1f2-a52b-41c0-8a16-83020059b6c3"
      },
      "execution_count": null,
      "outputs": [
        {
          "output_type": "stream",
          "name": "stdout",
          "text": [
            "[1, 3, 5]\n",
            "[5, 2, 1]\n"
          ]
        }
      ]
    },
    {
      "cell_type": "code",
      "source": [
        "'''\n",
        "sum_pairs([4,2,10,5,1], 6) # [4,2]\n",
        "sum_pairs([11,20,4,2,1,5], 100) # []\n",
        "'''\n",
        "\n",
        "def sum_pairs(num_list,number):\n",
        "  for i in range(len(num_list)-1):\n",
        "    a = num_list[i]\n",
        "    b = num_list[i+1]\n",
        "    result = a + b\n",
        "    if result == number:\n",
        "      return [a,b]\n",
        "  return []\n",
        "  \n",
        "print(sum_pairs([4,2,10,5,1], 6))\n",
        "print(sum_pairs([11,20,4,2,1,5], 100))\n",
        "\n",
        "# another solution\n",
        "\n",
        "def sum_pairs(ints, s):\n",
        "    already_visited = set()\n",
        "    for i in ints:\n",
        "        difference = s - i\n",
        "        if difference in already_visited:\n",
        "            return [difference, i]\n",
        "        already_visited.add(i)\n",
        "    return []"
      ],
      "metadata": {
        "colab": {
          "base_uri": "https://localhost:8080/"
        },
        "id": "TJRrBaI-Ywlu",
        "outputId": "c2ae6b2d-9d82-4746-e37a-f3c70e0fade6"
      },
      "execution_count": null,
      "outputs": [
        {
          "output_type": "stream",
          "name": "stdout",
          "text": [
            "[4, 2]\n",
            "[]\n"
          ]
        }
      ]
    },
    {
      "cell_type": "code",
      "source": [
        "'''\n",
        "vowel_count('awesome') # {'a': 1, 'e': 2, 'o': 1}\n",
        "vowel_count('Elie') # {'e': 2, 'i': 1}\n",
        "vowel_count('Colt') # {'o': 1}\n",
        "'''\n",
        "\n",
        "def vowel_count(some_string):\n",
        "  result = {}\n",
        "  for char in 'aeiou':\n",
        "    if some_string.lower().count(char):\n",
        "      result[char] = some_string.lower().count(char)\n",
        "  return result\n",
        "\n",
        "print(vowel_count('awesome'))\n",
        "print(vowel_count('Elie'))\n",
        "\n",
        "# another solution\n",
        "\n",
        "def vowel_count(string):\n",
        "    lower_s = string.lower()\n",
        "    return {letter: lower_s.count(letter) for letter in lower_s if letter in \"aeiou\"} # better method using dict comprehension"
      ],
      "metadata": {
        "colab": {
          "base_uri": "https://localhost:8080/"
        },
        "id": "Z4Hr3znWZ5XL",
        "outputId": "14a5d173-ec19-421e-8912-17bcf43fc177"
      },
      "execution_count": null,
      "outputs": [
        {
          "output_type": "stream",
          "name": "stdout",
          "text": [
            "{'a': 1, 'e': 2, 'o': 1}\n",
            "{'e': 2, 'i': 1}\n"
          ]
        }
      ]
    },
    {
      "cell_type": "markdown",
      "source": [
        "### Part 2\n",
        "\n",
        "---\n",
        "\n"
      ],
      "metadata": {
        "id": "a-hDwm3fgq_n"
      }
    },
    {
      "cell_type": "code",
      "source": [
        "'''\n",
        "titleize('this is awesome') # \"This Is Awesome\"\n",
        "titleize('oNLy cAPITALIZe fIRSt') # \"ONLy CAPITALIZe FIRSt\"\n",
        "'''\n",
        "\n",
        "def titleize(sentence):\n",
        "  return ' '.join([word[0].upper()+word[1:] for word in sentence.split(' ')])\n",
        "\n",
        "print(titleize('this is awesome'))\n",
        "print(titleize('oNLy cAPITALIZe fIRSt'))"
      ],
      "metadata": {
        "colab": {
          "base_uri": "https://localhost:8080/"
        },
        "id": "xof0P3CggtsF",
        "outputId": "7d2ab50f-3ac7-4068-b6d7-75ef1c364b49"
      },
      "execution_count": null,
      "outputs": [
        {
          "output_type": "stream",
          "name": "stdout",
          "text": [
            "This Is Awesome\n",
            "ONLy CAPITALIZe FIRSt\n"
          ]
        }
      ]
    },
    {
      "cell_type": "code",
      "source": [
        "'''\n",
        "find_factors(10) # [1,2,5,10 ]\n",
        "find_factors(11) # [1,11]\n",
        "find_factors(111) # [1,3,37,111 ]\n",
        "find_factors(321421) # [1,293,1097,321421 ]\n",
        "find_factors(412146) # [1,2,3,6,7,9,14,18,21,42,63,126,3271,6542,9813,19626,22897,29439,45794,58878,68691,137382,206073,412146]\n",
        "'''\n",
        "\n",
        "def find_factors(num):\n",
        "  return [factor for factor in range(1,num+1) if num%factor == 0]\n",
        "\n",
        "print(find_factors(10))\n",
        "print(find_factors(321421))\n",
        "print(find_factors(412146))\n",
        "\n",
        "# another soluton\n",
        "\n",
        "def find_factors(num):\n",
        "    factors = []\n",
        "    i = 1\n",
        "    while(i <= num):\n",
        "        if (num % i == 0):\n",
        "            factors.append(i)\n",
        "        i += 1\n",
        "    return factors"
      ],
      "metadata": {
        "colab": {
          "base_uri": "https://localhost:8080/"
        },
        "id": "qNrOc0THJv3C",
        "outputId": "67ef4ad3-068c-4891-f35e-58f2d45841f0"
      },
      "execution_count": null,
      "outputs": [
        {
          "output_type": "stream",
          "name": "stdout",
          "text": [
            "[1, 2, 5, 10]\n",
            "[1, 293, 1097, 321421]\n",
            "[1, 2, 3, 6, 7, 9, 14, 18, 21, 42, 63, 126, 3271, 6542, 9813, 19626, 22897, 29439, 45794, 58878, 68691, 137382, 206073, 412146]\n"
          ]
        }
      ]
    },
    {
      "cell_type": "code",
      "source": [
        "'''\n",
        "includes([1, 2, 3], 1) # True \n",
        "includes([1, 2, 3], 1, 2) # False \n",
        "includes({ 'a': 1, 'b': 2 }, 1) # True \n",
        "includes({ 'a': 1, 'b': 2 }, 'a') # False\n",
        "includes('abcd', 'b') # True\n",
        "includes('abcd', 'e') # False\n",
        "'''\n",
        "\n",
        "def includes(collection,value,start_index=0):\n",
        "  if isinstance(collection,(str,list)):\n",
        "    return value in collection[start_index:]\n",
        "  elif isinstance(collection,dict):\n",
        "    return value in collection.values()\n",
        "  return None\n",
        "\n",
        "print(includes([1, 2, 3], 1))\n",
        "print(includes([1, 2, 3], 1, 2))\n",
        "print(includes({ 'a': 1, 'b': 2 }, 1))\n",
        "print(includes({ 'a': 1, 'b': 2 }, 'a'))\n",
        "print(includes('abcd', 'b'))\n",
        "print(includes('abcd', 'e'))\n",
        "\n",
        "# another solution\n",
        "\n",
        "def includes(item,val,start=None):\n",
        "    if type(item) == dict:\n",
        "        return val in item.values()\n",
        "    if start is None:\n",
        "        return val in item\n",
        "    return val in item[start:]"
      ],
      "metadata": {
        "colab": {
          "base_uri": "https://localhost:8080/"
        },
        "id": "zbTc8KDDKsDm",
        "outputId": "de408cd0-690a-49ba-ca59-4cb9b669150e"
      },
      "execution_count": null,
      "outputs": [
        {
          "output_type": "stream",
          "name": "stdout",
          "text": [
            "True\n",
            "False\n",
            "True\n",
            "False\n",
            "True\n",
            "False\n"
          ]
        }
      ]
    },
    {
      "cell_type": "code",
      "source": [
        "'''\n",
        "repeat('*', 3) # '***' \n",
        "repeat('abc', 2) # 'abcabc' \n",
        "repeat('abc', 0) # ''\n",
        "'''\n",
        "\n",
        "def repeat(string,num):\n",
        "  return string*num\n",
        "\n",
        "print(repeat('*', 3))  \n",
        "print(repeat('abc', 2))\n",
        "print(repeat('abc', 0))\n",
        "\n",
        "# another solution\n",
        "\n",
        "def repeat(string, num):\n",
        "    if (num == 0):\n",
        "        return ''\n",
        "    i = 0\n",
        "    newStr = ''\n",
        "    while (i < num):\n",
        "        newStr += string\n",
        "        i += 1\n",
        "    return newStr"
      ],
      "metadata": {
        "colab": {
          "base_uri": "https://localhost:8080/"
        },
        "id": "yPdSTVFcMl81",
        "outputId": "a03af315-d87e-4175-b4f8-681785d8f25d"
      },
      "execution_count": null,
      "outputs": [
        {
          "output_type": "stream",
          "name": "stdout",
          "text": [
            "***\n",
            "abcabc\n",
            "\n"
          ]
        }
      ]
    },
    {
      "cell_type": "code",
      "source": [
        "'''\n",
        "truncate(\"Super cool\", 2) # \"Truncation must be at least 3 characters.\"\n",
        "truncate(\"Super cool\", 1) # \"Truncation must be at least 3 characters.\"\n",
        "truncate(\"Super cool\", 0) # \"Truncation must be at least 3 characters.\"\n",
        "truncate(\"Hello World\", 6) # \"Hel...\"\n",
        "truncate(\"Problem solving is the best!\", 10) # \"Problem...\"\n",
        "truncate(\"Another test\", 12) # \"Another t...\"\n",
        "truncate(\"Woah\", 4) # \"W...\"\n",
        "truncate(\"Woah\", 3) # \"...\"\n",
        "truncate(\"Yo\",100) # \"Yo\"\n",
        "truncate(\"Holy guacamole!\", 152) # \"Holy guacamole!\"\n",
        "'''\n",
        "\n",
        "def truncate(some_string,number):\n",
        "  if number >= 3:\n",
        "    if number > len(some_string):\n",
        "      return some_string\n",
        "    return some_string[:number-3:]+'...'\n",
        "  return 'Truncation must be at least 3 characters.'\n",
        "\n",
        "print(truncate(\"Super cool\", 2))\n",
        "print(truncate(\"Hello World\", 6))\n",
        "print(truncate(\"Problem solving is the best!\", 10))\n",
        "print(truncate(\"Another test\", 12))\n",
        "print(truncate(\"Woah\", 4))\n",
        "print(truncate(\"Holy guacamole!\", 152))\n",
        "\n",
        "# another solution\n",
        "\n",
        "def truncate(string, n):\n",
        "    if (n < 3):\n",
        "        return \"Truncation must be at least 3 characters.\"\n",
        "    if (n > len(string) + 2):\n",
        "        return string\n",
        " \n",
        "    return string[:n - 3] + \"...\""
      ],
      "metadata": {
        "colab": {
          "base_uri": "https://localhost:8080/"
        },
        "id": "dVK4LQAjOP9T",
        "outputId": "a7a54174-8b41-400c-91e1-26f2ceb81be0"
      },
      "execution_count": null,
      "outputs": [
        {
          "output_type": "stream",
          "name": "stdout",
          "text": [
            "Truncation must be at least 3 characters.\n",
            "Hel...\n",
            "Problem...\n",
            "Another t...\n",
            "W...\n",
            "Holy guacamole!\n"
          ]
        }
      ]
    },
    {
      "cell_type": "markdown",
      "source": [
        "### Part 3\n",
        "\n",
        "---\n",
        "\n"
      ],
      "metadata": {
        "id": "S_5ZjJfRSsBL"
      }
    },
    {
      "cell_type": "code",
      "source": [
        "'''\n",
        "two_list_dictionary(['a', 'b', 'c', 'd'], [1, 2, 3]) # {'a': 1, 'b': 2, 'c': 3, 'd': None}\n",
        "two_list_dictionary(['a', 'b', 'c']  , [1, 2, 3, 4]) # {'a': 1, 'b': 2, 'c': 3}\n",
        "two_list_dictionary(['x', 'y', 'z']  , [1,2]) # {'x': 1, 'y': 2, 'z': None}\n",
        "'''\n",
        "\n",
        "def two_list_dictionary(keys,values):\n",
        "  diff = len(keys)-len(values)\n",
        "  if diff > 0:\n",
        "    values.extend([None]*diff)\n",
        "  return dict(zip(keys,values))\n",
        "\n",
        "print(two_list_dictionary(['a', 'b', 'c', 'd'], [1, 2, 3]))\n",
        "print(two_list_dictionary(['a', 'b', 'c']  , [1, 2, 3, 4]))\n",
        "print(two_list_dictionary(['x', 'y', 'z']  , [1,2]))\n",
        "\n",
        "# another solution\n",
        "\n",
        "def two_list_dictionary(keys, values):\n",
        "    collection = {}\n",
        " \n",
        "    for idx, val in enumerate(keys):\n",
        "        if idx < len(values):\n",
        "            collection[keys[idx]] = values[idx]\n",
        "        else:\n",
        "            collection[keys[idx]] = None\n",
        " \n",
        "    return collection"
      ],
      "metadata": {
        "colab": {
          "base_uri": "https://localhost:8080/"
        },
        "id": "qxxtsgurSuIC",
        "outputId": "39f3dd3f-7faa-4a9d-bd07-ea9d5acec163"
      },
      "execution_count": null,
      "outputs": [
        {
          "output_type": "stream",
          "name": "stdout",
          "text": [
            "{'a': 1, 'b': 2, 'c': 3, 'd': None}\n",
            "{'a': 1, 'b': 2, 'c': 3}\n",
            "{'x': 1, 'y': 2, 'z': None}\n"
          ]
        }
      ]
    },
    {
      "cell_type": "code",
      "source": [
        "'''\n",
        "range_in_list([1,2,3,4],0,2) #  6\n",
        "range_in_list([1,2,3,4],0,3) # 10\n",
        "range_in_list([1,2,3,4],1) #  9\n",
        "range_in_list([1,2,3,4]) # 10\n",
        "range_in_list([1,2,3,4],0,100) # 10\n",
        "range_in_list([],0,1) # 0\n",
        "'''\n",
        "\n",
        "def range_in_list(num_list,start=0,end=None):\n",
        "  if not end:\n",
        "    end = len(num_list)-1\n",
        "  return sum(num_list[start:end+1])\n",
        "\n",
        "print(range_in_list([1,2,3,4],0,2))\n",
        "print(range_in_list([1,2,3,4],0,3))\n",
        "print(range_in_list([1,2,3,4],1))\n",
        "print(range_in_list([1,2,3,4]))\n",
        "print(range_in_list([1,2,3,4],0,100))\n",
        "print(range_in_list([],0,1))\n",
        "\n",
        "# another solution\n",
        "\n",
        "def range_in_list(lst, start=0, end=None):\n",
        "    end = end or lst[-1]\n",
        "    return sum(lst[start:end+1])"
      ],
      "metadata": {
        "colab": {
          "base_uri": "https://localhost:8080/"
        },
        "id": "qTrOvNMeT2Vc",
        "outputId": "f1f4dd43-b90f-4fcc-b60f-0d7d85e3ef04"
      },
      "execution_count": null,
      "outputs": [
        {
          "output_type": "stream",
          "name": "stdout",
          "text": [
            "6\n",
            "10\n",
            "9\n",
            "10\n",
            "10\n",
            "0\n"
          ]
        }
      ]
    },
    {
      "cell_type": "code",
      "source": [
        "'''\n",
        "same_frequency(551122,221515) # True\n",
        "same_frequency(321142,3212215) # False\n",
        "same_frequency(1212, 2211) # True\n",
        "'''\n",
        "\n",
        "def same_frequency(num1,num2):\n",
        "  count1 = [str(num1).count(str(num)) for num in range(10)]\n",
        "  count2 = [str(num2).count(str(num)) for num in range(10)]\n",
        "  return count1==count2\n",
        "\n",
        "print(same_frequency(551122,221515))\n",
        "print(same_frequency(321142,3212215))\n",
        "print(same_frequency(1212, 2211))\n",
        "\n",
        "# another solution\n",
        "\n",
        "def same_frequency(num1,num2):\n",
        "    d1 = {letter:str(num1).count(letter) for letter in str(num1)}\n",
        "    d2 = {letter:str(num2).count(letter) for letter in str(num2)}\n",
        "  \n",
        "    for key,val in d1.items():\n",
        "        if not key in d2.keys():\n",
        "            return False\n",
        "        elif d2[key] != d1[key]:\n",
        "            return False\n",
        "    return True"
      ],
      "metadata": {
        "colab": {
          "base_uri": "https://localhost:8080/"
        },
        "id": "qm6K9A7JeX07",
        "outputId": "ef9b0d2a-273f-4661-aa7e-e713214be78d"
      },
      "execution_count": null,
      "outputs": [
        {
          "output_type": "stream",
          "name": "stdout",
          "text": [
            "True\n",
            "False\n",
            "True\n"
          ]
        }
      ]
    },
    {
      "cell_type": "code",
      "source": [
        "'''\n",
        "nth(['a', 'b', 'c', 'd'], 1)  # 'b' \n",
        "nth(['a', 'b', 'c', 'd'], -2) #  'c'\n",
        "nth(['a', 'b', 'c', 'd'], 0)  # 'a'\n",
        "nth(['a', 'b', 'c', 'd'], -4) #  'a'\n",
        "nth(['a', 'b', 'c', 'd'], -1) #  'd'\n",
        "nth(['a', 'b', 'c', 'd'], 3)  # 'd'\n",
        "'''\n",
        "\n",
        "def nth(num_list,val):\n",
        "  return num_list[val]\n",
        "\n",
        "print(nth(['a', 'b', 'c', 'd'], 1))\n",
        "print(nth(['a', 'b', 'c', 'd'], -2))\n",
        "print(nth(['a', 'b', 'c', 'd'], 0))\n",
        "print(nth(['a', 'b', 'c', 'd'], -4))\n",
        "print(nth(['a', 'b', 'c', 'd'], -1))\n",
        "print(nth(['a', 'b', 'c', 'd'], 3))\n",
        "\n",
        "# another solution\n",
        "\n",
        "def nth(arr, idx):\n",
        "    if idx >= 0:\n",
        "        return arr[idx]\n",
        "    return arr[idx + len(arr)]"
      ],
      "metadata": {
        "colab": {
          "base_uri": "https://localhost:8080/"
        },
        "id": "_edqA22wgbqs",
        "outputId": "8cbac0e8-7436-467e-bffe-6fa98b57011d"
      },
      "execution_count": null,
      "outputs": [
        {
          "output_type": "stream",
          "name": "stdout",
          "text": [
            "b\n",
            "c\n",
            "a\n",
            "a\n",
            "d\n",
            "d\n"
          ]
        }
      ]
    },
    {
      "cell_type": "code",
      "source": [
        "'''\n",
        "find_the_duplicate([1,2,1,4,3,12]) # 1\n",
        "find_the_duplicate([6,1,9,5,3,4,9]) # 9\n",
        "find_the_duplicate([2,1,3,4]) # None\n",
        "'''\n",
        "\n",
        "def find_the_duplicate(num_list):\n",
        "  return dict(zip([num_list.count(num) for num in num_list],num_list)).get(2)\n",
        "\n",
        "print(find_the_duplicate([1,2,1,4,3,12]))\n",
        "print(find_the_duplicate([6,1,9,5,3,4,9]))\n",
        "print(find_the_duplicate([2,1,3,4]))\n",
        "\n",
        "# another solution\n",
        "\n",
        "def find_the_duplicate(arr):\n",
        "    counter = {}\n",
        "    for val in arr:\n",
        "        if val in counter:\n",
        "            counter[val] += 1\n",
        "        else:\n",
        "            counter[val] = 1\n",
        "    for key in counter.keys():\n",
        "        if counter[key] > 1:\n",
        "            return int(key)"
      ],
      "metadata": {
        "colab": {
          "base_uri": "https://localhost:8080/"
        },
        "id": "solpp6wvlQ3s",
        "outputId": "5422fc19-0ff2-4246-e1e3-5448c32cfa2e"
      },
      "execution_count": null,
      "outputs": [
        {
          "output_type": "stream",
          "name": "stdout",
          "text": [
            "1\n",
            "9\n",
            "None\n"
          ]
        }
      ]
    },
    {
      "cell_type": "markdown",
      "source": [
        "### Part 4\n",
        "\n",
        "---\n",
        "\n"
      ],
      "metadata": {
        "id": "qtVodWF41x_E"
      }
    },
    {
      "cell_type": "code",
      "source": [
        "'''\n",
        "EXAMPLES:\n",
        "\n",
        "\n",
        "list1 = [\n",
        "  [ 1, 2 ],\n",
        "  [ 3, 4 ]\n",
        "]\n",
        " \n",
        "sum_up_diagonals(list1) # 10\n",
        "\n",
        "list2 = [\n",
        "  [ 1, 2, 3 ],\n",
        "  [ 4, 5, 6 ],\n",
        "  [ 7, 8, 9 ]\n",
        "]\n",
        " \n",
        "sum_up_diagonals(list2) # 30\n",
        " \n",
        "list3 = [\n",
        "  [ 4, 1, 0 ],\n",
        "  [ -1, -1, 0],\n",
        "  [ 0, 0, 9]\n",
        "]\n",
        "\n",
        "sum_up_diagonals(list3) # 11\n",
        "\n",
        "list4 = [\n",
        "  [ 1, 2, 3, 4 ],\n",
        "  [ 5, 6, 7, 8 ],\n",
        "  [ 9, 10, 11, 12 ],\n",
        "  [ 13, 14, 15, 16 ]\n",
        "]\n",
        " \n",
        "sum_up_diagonals(list4) # 68\n",
        "'''\n",
        "\n",
        "def sum_up_diagonals(matrix):\n",
        "  diag = []\n",
        "  for idx,row in enumerate(matrix):\n",
        "    diag.append(row[idx])\n",
        "    diag.append(row[len(row)-1-idx])\n",
        "  return sum(diag)\n",
        "\n",
        "\n",
        "list1 = [\n",
        "  [ 1, 2 ],\n",
        "  [ 3, 4 ]\n",
        "]\n",
        " \n",
        "print(sum_up_diagonals(list1))\n",
        "\n",
        "list4 = [\n",
        "  [ 1, 2, 3, 4 ],\n",
        "  [ 5, 6, 7, 8 ],\n",
        "  [ 9, 10, 11, 12 ],\n",
        "  [ 13, 14, 15, 16 ]\n",
        "]\n",
        " \n",
        "print(sum_up_diagonals(list4)) # 68\n",
        "\n",
        "list3 = [\n",
        "  [ 4, 1, 0 ],\n",
        "  [ -1, -1, 0],\n",
        "  [ 0, 0, 9]\n",
        "]\n",
        "\n",
        "print(sum_up_diagonals(list3)) # 11"
      ],
      "metadata": {
        "colab": {
          "base_uri": "https://localhost:8080/"
        },
        "id": "WPqSHVLZqzeE",
        "outputId": "8e220783-5cd7-45f1-df6e-3bb1dc3b5486"
      },
      "execution_count": 77,
      "outputs": [
        {
          "output_type": "stream",
          "name": "stdout",
          "text": [
            "10\n",
            "68\n",
            "11\n"
          ]
        }
      ]
    },
    {
      "cell_type": "code",
      "source": [
        "'''\n",
        "min_max_key_in_dictionary({2:'a', 7:'b', 1:'c',10:'d',4:'e'}) # [1,10]\n",
        "min_max_key_in_dictionary({1: \"Elie\", 4:\"Matt\", 2: \"Tim\"}) # [1,4]\n",
        "'''\n",
        "\n",
        "def min_max_key_in_dictionary(some_dict):\n",
        "  return [min(some_dict.keys()),max(some_dict.keys())]\n",
        "\n",
        "print(min_max_key_in_dictionary({2:'a', 7:'b', 1:'c',10:'d',4:'e'}))\n",
        "print(min_max_key_in_dictionary({1: \"Elie\", 4:\"Matt\", 2: \"Tim\"}))"
      ],
      "metadata": {
        "colab": {
          "base_uri": "https://localhost:8080/"
        },
        "id": "r4jzo0JK4t-R",
        "outputId": "36d3f639-3844-4489-a734-70afbd2f0e4b"
      },
      "execution_count": 78,
      "outputs": [
        {
          "output_type": "stream",
          "name": "stdout",
          "text": [
            "[1, 10]\n",
            "[1, 4]\n"
          ]
        }
      ]
    },
    {
      "cell_type": "code",
      "source": [
        "'''\n",
        "find_greater_numbers([1,2,3]) # 3 \n",
        "find_greater_numbers([6,1,2,7]) # 4\n",
        "find_greater_numbers([5,4,3,2,1]) # 0\n",
        "find_greater_numbers([]) # 0\n",
        "'''\n",
        "\n",
        "def find_greater_numbers(num_list):\n",
        "  result = []\n",
        "  for idx,num in enumerate(num_list):\n",
        "   result.extend([num<val for val in num_list[idx:]])\n",
        "  return result.count(True)\n",
        "\n",
        "print(find_greater_numbers([1,2,3]))\n",
        "print(find_greater_numbers([6,1,2,7]))\n",
        "print(find_greater_numbers([5,4,3,2,1]))\n",
        "print(find_greater_numbers([]))\n",
        "\n",
        "# another solution\n",
        "\n",
        "def find_greater_numbers(arr):\n",
        "    count = 0\n",
        "    i = 0\n",
        "    j = 1\n",
        "    while i < len(arr):\n",
        "        while j < len(arr):\n",
        "            if arr[j] > arr[i]:\n",
        "                count += 1\n",
        "            j+=1\n",
        "        j = i+1\n",
        "        i+=1\n",
        "    return count;"
      ],
      "metadata": {
        "colab": {
          "base_uri": "https://localhost:8080/"
        },
        "id": "PegDRQ2W5TuY",
        "outputId": "0c57e8b5-bf4f-443a-a071-d7dda3c728c3"
      },
      "execution_count": 79,
      "outputs": [
        {
          "output_type": "stream",
          "name": "stdout",
          "text": [
            "3\n",
            "4\n",
            "0\n",
            "0\n"
          ]
        }
      ]
    },
    {
      "cell_type": "code",
      "source": [
        "'''\n",
        "two_oldest_ages( [1, 2, 10, 8] ) # [8, 10]\n",
        "two_oldest_ages( [6,1,9,10,4] ) # [9,10]\n",
        "two_oldest_ages( [4,25,3,20,19,5] ) # [20,25]\n",
        "'''\n",
        "\n",
        "def two_oldest_ages(num_list):\n",
        "  result = []\n",
        "  for i in range(2):\n",
        "    result.append(num_list.pop(num_list.index(max(num_list))))\n",
        "  return result[::-1]\n",
        "\n",
        "print(two_oldest_ages( [1, 2, 10, 8] ))\n",
        "print(two_oldest_ages( [6,1,9,10,4] ))\n",
        "print(two_oldest_ages( [4,25,3,20,19,5] ))\n",
        "\n",
        "# another solution\n",
        "\n",
        "def two_oldest_ages(ages):\n",
        "    return sorted(ages)[-2:] # sort in ascending order and get the last two highest elements -- soo simple!!!"
      ],
      "metadata": {
        "colab": {
          "base_uri": "https://localhost:8080/"
        },
        "id": "zZfRSsHSO5A7",
        "outputId": "843b1bec-1f9e-40d1-906e-62d9d2088c2b"
      },
      "execution_count": 80,
      "outputs": [
        {
          "output_type": "stream",
          "name": "stdout",
          "text": [
            "[8, 10]\n",
            "[9, 10]\n",
            "[20, 25]\n"
          ]
        }
      ]
    },
    {
      "cell_type": "code",
      "source": [
        "'''\n",
        "is_odd_string('a') # True\n",
        "is_odd_string('aaaa') # False\n",
        "is_odd_string('amazing') # True\n",
        "is_odd_string('veryfun') # True\n",
        "is_odd_string('veryfunny') # False\n",
        "'''\n",
        "\n",
        "def is_odd_string(word):\n",
        "  char_dict = {}\n",
        "  result = []\n",
        "  for idx,i in enumerate(range(97,123)):\n",
        "    char_dict[chr(i)] = idx+1\n",
        "  for char in word:\n",
        "    result.append(char_dict[char])\n",
        "  return sum(result)%2==1\n",
        "\n",
        "print(is_odd_string('a'))\n",
        "print(is_odd_string('aaaa'))\n",
        "print(is_odd_string('amazing'))\n",
        "print(is_odd_string('veryfun'))\n",
        "print(is_odd_string('veryfunny'))\n",
        "\n",
        "# another solution\n",
        "\n",
        "def is_odd_string(string):\n",
        "    total = sum((ord(c) - 96) for c in string.lower()) or 0\n",
        "    return total % 2 == 1"
      ],
      "metadata": {
        "colab": {
          "base_uri": "https://localhost:8080/"
        },
        "id": "wr8uJI4-QJLw",
        "outputId": "a254aba7-24ce-4169-c126-a7bacde95a30"
      },
      "execution_count": 81,
      "outputs": [
        {
          "output_type": "stream",
          "name": "stdout",
          "text": [
            "True\n",
            "False\n",
            "True\n",
            "True\n",
            "False\n"
          ]
        }
      ]
    },
    {
      "cell_type": "markdown",
      "source": [
        "### Part 5\n",
        "\n",
        "---\n",
        "\n"
      ],
      "metadata": {
        "id": "_pPqdbvyT-pD"
      }
    },
    {
      "cell_type": "code",
      "source": [
        "'''\n",
        "valid_parentheses(\"()\") # True \n",
        "valid_parentheses(\")(()))\") # False \n",
        "valid_parentheses(\"(\") # False \n",
        "valid_parentheses(\"(())((()())())\") # True \n",
        "valid_parentheses('))((') # False\n",
        "valid_parentheses('())(') # False\n",
        "valid_parentheses('()()()()())()(') # False\n",
        "'''\n",
        "import re\n",
        "\n",
        "def valid_parentheses(parens):\n",
        "  pattern = re.compile(r'^\\([\\d\\w\\(\\)]*\\)$')\n",
        "  match = pattern.findall(parens)\n",
        "  return True if match else False\n",
        "  \n",
        "print(valid_parentheses(\"()\"))\n",
        "print(valid_parentheses(\")(()))\"))\n",
        "print(valid_parentheses(\"(\"))\n",
        "print(valid_parentheses(\"(())((()())())\"))\n",
        "print(valid_parentheses('))(('))\n",
        "print(valid_parentheses('())('))\n",
        "print(valid_parentheses('()()()()())()('))"
      ],
      "metadata": {
        "colab": {
          "base_uri": "https://localhost:8080/"
        },
        "id": "jN9zmg6VUAyg",
        "outputId": "1a28742d-14cb-4502-a0b1-7adcc75cadb5"
      },
      "execution_count": null,
      "outputs": [
        {
          "output_type": "stream",
          "name": "stdout",
          "text": [
            "True\n",
            "False\n",
            "False\n",
            "True\n",
            "False\n",
            "False\n",
            "False\n"
          ]
        }
      ]
    },
    {
      "cell_type": "code",
      "source": [
        "'''\n",
        "reverse_vowels(\"Hello!\") # \"Holle!\" \n",
        "reverse_vowels(\"Tomatoes\") # \"Temotaos\" \n",
        "reverse_vowels(\"Reverse Vowels In A String\") # \"RivArsI Vewols en e Streng\"\n",
        "reverse_vowels(\"aeiou\") # \"uoiea\"\n",
        "reverse_vowels(\"why try, shy fly?\") # \"why try, shy fly?\"\n",
        "'''\n",
        "\n",
        "def reverse_vowels(some_string):\n",
        "  pos = []\n",
        "  vowel = []\n",
        "  for idx,char in enumerate(some_string):\n",
        "    if char.lower() in 'aeiou':\n",
        "      pos.append(idx)\n",
        "      vowel.append(char)\n",
        "  vowel.reverse()\n",
        "  result_dict = dict(zip(pos,vowel))\n",
        "  result = ''\n",
        "  for idx,char in enumerate(some_string):\n",
        "    result += result_dict.get(idx,char)\n",
        "  return result\n",
        "\n",
        "\n",
        "print(reverse_vowels(\"Hello!\"))\n",
        "print(reverse_vowels(\"Tomatoes\"))\n",
        "print(reverse_vowels(\"Reverse Vowels In A String\"))\n",
        "print(reverse_vowels(\"aeiou\"))\n",
        "print(reverse_vowels(\"why try, shy fly?\"))\n",
        "\n",
        "# another solution\n",
        "\n",
        "def reverse_vowels(s):\n",
        "    vowels = \"aeiou\"\n",
        "    string = list(s)\n",
        "    i, j = 0, len(s) - 1\n",
        "    while i < j:\n",
        "        if string[i].lower() not in vowels:\n",
        "            i += 1\n",
        "        elif string[j].lower() not in vowels:\n",
        "            j -= 1\n",
        "        else:\n",
        "            string[i], string[j] = string[j], string[i]\n",
        "            i += 1\n",
        "            j -= 1\n",
        "    return \"\".join(string)"
      ],
      "metadata": {
        "colab": {
          "base_uri": "https://localhost:8080/"
        },
        "id": "cHbuIDZGZPCL",
        "outputId": "70aca40a-e3cc-428a-d1d4-e994d488cc9d"
      },
      "execution_count": null,
      "outputs": [
        {
          "output_type": "stream",
          "name": "stdout",
          "text": [
            "Holle!\n",
            "Temotaos\n",
            "RivArsI Vewols en e Streng\n",
            "uoiea\n",
            "why try, shy fly?\n"
          ]
        }
      ]
    },
    {
      "cell_type": "code",
      "source": [
        "'''\n",
        "three_odd_numbers([1,2,3,4,5]) # True\n",
        "three_odd_numbers([0,-2,4,1,9,12,4,1,0]) # True\n",
        "three_odd_numbers([5,2,1]) # False\n",
        "three_odd_numbers([1,2,3,3,2]) # False\n",
        "'''\n",
        "\n",
        "def three_odd_numbers(num_list):\n",
        "  for i in range(len(num_list)-3):\n",
        "    result = sum(num_list[i:i+3])\n",
        "    if result%2 == 1:\n",
        "      return True\n",
        "  return False\n",
        "  \n",
        "print(three_odd_numbers([1,2,3,4,5]))\n",
        "print(three_odd_numbers([0,-2,4,1,9,12,4,1,0]))\n",
        "print(three_odd_numbers([5,2,1]))\n",
        "print(three_odd_numbers([1,2,3,3,2]))\n",
        "\n",
        "# another solution\n",
        "\n",
        "def three_odd_numbers(arr):\n",
        "    i = 0\n",
        "    while(i < (len(arr) -2)):\n",
        "        total = 0\n",
        "        j = i\n",
        "        while(j <= i+2):\n",
        "            total += arr[j]\n",
        "            j+=1\n",
        "            \n",
        "        if (j-i) % 3 == 0 and total % 2 != 0:\n",
        "            return True\n",
        "            \n",
        "        i+= 1\n",
        "    return False"
      ],
      "metadata": {
        "colab": {
          "base_uri": "https://localhost:8080/"
        },
        "id": "mfLTzdMAAHpK",
        "outputId": "fd9a81c5-977a-43ae-db34-d0882ad303f0"
      },
      "execution_count": null,
      "outputs": [
        {
          "output_type": "stream",
          "name": "stdout",
          "text": [
            "True\n",
            "True\n",
            "False\n",
            "False\n"
          ]
        }
      ]
    },
    {
      "cell_type": "code",
      "source": [
        "'''\n",
        "mode([2,4,1,2,3,3,4,4,5,4,4,6,4,6,7,4]) # 4\n",
        "'''\n",
        "\n",
        "# define mode below:\n",
        "\n",
        "def mode(num_list):\n",
        "  result = []\n",
        "  for num in num_list:\n",
        "    result.append((num_list.count(num),num))\n",
        "  return max(set(result))[1]\n",
        "\n",
        "print(mode([2,4,1,2,3,3,4,4,5,4,4,6,4,6,7,4]))\n",
        "\n",
        "# another solution\n",
        "\n",
        "def mode(collection):\n",
        "    count = {val: collection.count(val) for val in collection}\n",
        "    max_value = max(count.values())\n",
        "    correct_index = list(count.values()).index(max_value)\n",
        "    return list(count.keys())[correct_index]"
      ],
      "metadata": {
        "colab": {
          "base_uri": "https://localhost:8080/"
        },
        "id": "eCmp2sXJk8ve",
        "outputId": "387c2822-836f-4c3b-80e5-d6d79ee23802"
      },
      "execution_count": null,
      "outputs": [
        {
          "output_type": "stream",
          "name": "stdout",
          "text": [
            "4\n"
          ]
        }
      ]
    },
    {
      "cell_type": "code",
      "source": [
        "'''\n",
        "rAvg = running_average()\n",
        "rAvg(10) # 10.0\n",
        "rAvg(11) # 10.5\n",
        "rAvg(12) # 11\n",
        "\n",
        "rAvg2 = running_average()\n",
        "rAvg2(1) # 1\n",
        "rAvg2(3) # 2\n",
        "'''\n",
        "\n",
        "def running_average():\n",
        "  nums = []\n",
        "  def inner(val):\n",
        "    nums.append(val)\n",
        "    return round(sum(nums)/len(nums),1)\n",
        "  return inner\n",
        "\n",
        "rAvg = running_average()\n",
        "print(rAvg(10))\n",
        "print(rAvg(11))\n",
        "print(rAvg(12))\n",
        "\n",
        "# another solution\n",
        "\n",
        "def running_average():\n",
        "    running_average.accumulator = 0\n",
        "    running_average.size = 0\n",
        "  \n",
        "    def inner(number):\n",
        "        running_average.accumulator += number\n",
        "        running_average.size += 1\n",
        "        return running_average.accumulator / running_average.size\n",
        "    \n",
        "    return inner"
      ],
      "metadata": {
        "colab": {
          "base_uri": "https://localhost:8080/"
        },
        "id": "ZH8-VaH8rN18",
        "outputId": "d501355f-403f-4093-aaba-9d59c3a73e9a"
      },
      "execution_count": null,
      "outputs": [
        {
          "output_type": "stream",
          "name": "stdout",
          "text": [
            "10.0\n",
            "10.5\n",
            "11.0\n"
          ]
        }
      ]
    },
    {
      "cell_type": "markdown",
      "source": [
        "### Part 6\n",
        "\n",
        "---\n",
        "\n"
      ],
      "metadata": {
        "id": "68e258UQ4Rnt"
      }
    },
    {
      "cell_type": "code",
      "source": [
        "'''\n",
        "counter = letter_counter('Amazing')\n",
        "counter('a') # 2\n",
        "counter('m') # 1\n",
        "\n",
        "counter2 = letter_counter('This Is Really Fun!')\n",
        "counter2('i') # 2\n",
        "counter2('t') # 1 \n",
        "'''\n",
        "\n",
        "def letter_counter(some_string):\n",
        "  def inner(char):\n",
        "    return some_string.lower().count(char.lower())\n",
        "  return inner\n",
        "\n",
        "counter = letter_counter('Amazing')\n",
        "print(counter('a')) # 2\n",
        "print(counter('m')) # 1\n",
        "\n",
        "# another solution\n",
        "\n",
        "def letter_counter(s):\n",
        "    letter_counter.val = s\n",
        "    def inner(char):\n",
        "        return len(list(c.lower() for c in letter_counter.val.lower() if c == char))\n",
        "    return inner"
      ],
      "metadata": {
        "colab": {
          "base_uri": "https://localhost:8080/"
        },
        "id": "zC4n6Uk4zklr",
        "outputId": "2259d04c-4e86-40dd-b7fc-93afc7e1e2da"
      },
      "execution_count": null,
      "outputs": [
        {
          "output_type": "stream",
          "name": "stdout",
          "text": [
            "2\n",
            "1\n"
          ]
        }
      ]
    },
    {
      "cell_type": "code",
      "source": [
        "'''\n",
        "def add(a,b):\n",
        "    return a+b\n",
        "\n",
        "oneAddition = once(add)\n",
        "\n",
        "oneAddition(2,2) # 4\n",
        "oneAddition(2,2) # None\n",
        "oneAddition(12,200) # None\n",
        "'''\n",
        "\n",
        "def add(a,b):\n",
        "    return a+b\n",
        "\n",
        "def once(fn):\n",
        "  check = 0\n",
        "  def inner(*args):\n",
        "    nonlocal check\n",
        "    if check == 1:\n",
        "      return None\n",
        "    check = 1\n",
        "    return fn(*args)\n",
        "  return inner\n",
        "\n",
        "oneAddition = once(add)\n",
        "\n",
        "print(oneAddition(2,2))\n",
        "print(oneAddition(2,2))\n",
        "\n",
        "# another solution\n",
        "\n",
        "def once(fn):\n",
        "    fn.is_called = False\n",
        "    def inner(*args):\n",
        "        if not(fn.is_called):\n",
        "            fn.is_called = True\n",
        "            return fn(*args)\n",
        "    return inner"
      ],
      "metadata": {
        "colab": {
          "base_uri": "https://localhost:8080/"
        },
        "id": "xWL9wJFk5eWg",
        "outputId": "46c0cd03-1fba-415b-c16a-3e1699ef5b52"
      },
      "execution_count": null,
      "outputs": [
        {
          "output_type": "stream",
          "name": "stdout",
          "text": [
            "4\n",
            "None\n"
          ]
        }
      ]
    },
    {
      "cell_type": "code",
      "source": [
        "'''\n",
        "primes = next_prime()\n",
        "[next(primes) for i in range(25)]\n",
        "# [2, 3, 5, 7, 11, 13, 17, 19, 23, 29, 31, 37, 41, 43, 47, 53, 59, 61, 67, 71, 73, 79, 83, 89, 97]\n",
        "'''\n",
        "\n",
        "def is_prime(val):\n",
        "  for num in range(2,val):\n",
        "    if val%num == 0:\n",
        "      return False\n",
        "  return True\n",
        "\n",
        "\n",
        "def next_prime():\n",
        "  val = 2\n",
        "  while True:\n",
        "    result = is_prime(val)\n",
        "    if result:\n",
        "      yield val\n",
        "      val += 1\n",
        "    else:\n",
        "      val += 1\n",
        "\n",
        "\n",
        "primes = next_prime()\n",
        "print([next(primes) for i in range(25)])\n",
        "\n",
        "# another solution\n",
        "\n",
        "def next_prime():\n",
        "    num = 2\n",
        "    all_primes = set()\n",
        "    while True:\n",
        "        for prime in all_primes:\n",
        "            if num % prime == 0:\n",
        "                break\n",
        "        else:\n",
        "            all_primes.add(num)\n",
        "            yield num\n",
        "        num += num % 2 + 1"
      ],
      "metadata": {
        "colab": {
          "base_uri": "https://localhost:8080/"
        },
        "id": "_oOMKgMB8x4l",
        "outputId": "907af479-3b6d-4d7f-ebbf-3d02c1cbd2ae"
      },
      "execution_count": null,
      "outputs": [
        {
          "output_type": "stream",
          "name": "stdout",
          "text": [
            "[2, 3, 5, 7, 11, 13, 17, 19, 23, 29, 31, 37, 41, 43, 47, 53, 59, 61, 67, 71, 73, 79, 83, 89, 97]\n"
          ]
        }
      ]
    }
  ]
}