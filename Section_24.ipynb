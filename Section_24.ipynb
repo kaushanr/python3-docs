{
  "nbformat": 4,
  "nbformat_minor": 0,
  "metadata": {
    "colab": {
      "name": "Section_24.ipynb",
      "provenance": [],
      "authorship_tag": "ABX9TyPtH1qA/HGUCBR5JMuARbUM",
      "include_colab_link": true
    },
    "kernelspec": {
      "name": "python3",
      "display_name": "Python 3"
    },
    "language_info": {
      "name": "python"
    }
  },
  "cells": [
    {
      "cell_type": "markdown",
      "metadata": {
        "id": "view-in-github",
        "colab_type": "text"
      },
      "source": [
        "<a href=\"https://colab.research.google.com/github/kaushanr/python3-docs/blob/main/Section_24.ipynb\" target=\"_parent\"><img src=\"https://colab.research.google.com/assets/colab-badge.svg\" alt=\"Open In Colab\"/></a>"
      ]
    },
    {
      "cell_type": "markdown",
      "source": [
        "# Object Oriented Programming - 1\n",
        "\n"
      ],
      "metadata": {
        "id": "YocMTqNCiHnR"
      }
    },
    {
      "cell_type": "code",
      "execution_count": null,
      "metadata": {
        "id": "hxvPRa0CiDwF",
        "colab": {
          "base_uri": "https://localhost:8080/"
        },
        "outputId": "0ed402d9-315b-49f2-d088-124b931de884"
      },
      "outputs": [
        {
          "output_type": "stream",
          "name": "stdout",
          "text": [
            "Help on class list in module builtins:\n",
            "\n",
            "class list(object)\n",
            " |  list(iterable=(), /)\n",
            " |  \n",
            " |  Built-in mutable sequence.\n",
            " |  \n",
            " |  If no argument is given, the constructor creates a new empty list.\n",
            " |  The argument must be an iterable if specified.\n",
            " |  \n",
            " |  Methods defined here:\n",
            " |  \n",
            " |  __add__(self, value, /)\n",
            " |      Return self+value.\n",
            " |  \n",
            " |  __contains__(self, key, /)\n",
            " |      Return key in self.\n",
            " |  \n",
            " |  __delitem__(self, key, /)\n",
            " |      Delete self[key].\n",
            " |  \n",
            " |  __eq__(self, value, /)\n",
            " |      Return self==value.\n",
            " |  \n",
            " |  __ge__(self, value, /)\n",
            " |      Return self>=value.\n",
            " |  \n",
            " |  __getattribute__(self, name, /)\n",
            " |      Return getattr(self, name).\n",
            " |  \n",
            " |  __getitem__(...)\n",
            " |      x.__getitem__(y) <==> x[y]\n",
            " |  \n",
            " |  __gt__(self, value, /)\n",
            " |      Return self>value.\n",
            " |  \n",
            " |  __iadd__(self, value, /)\n",
            " |      Implement self+=value.\n",
            " |  \n",
            " |  __imul__(self, value, /)\n",
            " |      Implement self*=value.\n",
            " |  \n",
            " |  __init__(self, /, *args, **kwargs)\n",
            " |      Initialize self.  See help(type(self)) for accurate signature.\n",
            " |  \n",
            " |  __iter__(self, /)\n",
            " |      Implement iter(self).\n",
            " |  \n",
            " |  __le__(self, value, /)\n",
            " |      Return self<=value.\n",
            " |  \n",
            " |  __len__(self, /)\n",
            " |      Return len(self).\n",
            " |  \n",
            " |  __lt__(self, value, /)\n",
            " |      Return self<value.\n",
            " |  \n",
            " |  __mul__(self, value, /)\n",
            " |      Return self*value.\n",
            " |  \n",
            " |  __ne__(self, value, /)\n",
            " |      Return self!=value.\n",
            " |  \n",
            " |  __repr__(self, /)\n",
            " |      Return repr(self).\n",
            " |  \n",
            " |  __reversed__(self, /)\n",
            " |      Return a reverse iterator over the list.\n",
            " |  \n",
            " |  __rmul__(self, value, /)\n",
            " |      Return value*self.\n",
            " |  \n",
            " |  __setitem__(self, key, value, /)\n",
            " |      Set self[key] to value.\n",
            " |  \n",
            " |  __sizeof__(self, /)\n",
            " |      Return the size of the list in memory, in bytes.\n",
            " |  \n",
            " |  append(self, object, /)\n",
            " |      Append object to the end of the list.\n",
            " |  \n",
            " |  clear(self, /)\n",
            " |      Remove all items from list.\n",
            " |  \n",
            " |  copy(self, /)\n",
            " |      Return a shallow copy of the list.\n",
            " |  \n",
            " |  count(self, value, /)\n",
            " |      Return number of occurrences of value.\n",
            " |  \n",
            " |  extend(self, iterable, /)\n",
            " |      Extend list by appending elements from the iterable.\n",
            " |  \n",
            " |  index(self, value, start=0, stop=9223372036854775807, /)\n",
            " |      Return first index of value.\n",
            " |      \n",
            " |      Raises ValueError if the value is not present.\n",
            " |  \n",
            " |  insert(self, index, object, /)\n",
            " |      Insert object before index.\n",
            " |  \n",
            " |  pop(self, index=-1, /)\n",
            " |      Remove and return item at index (default last).\n",
            " |      \n",
            " |      Raises IndexError if list is empty or index is out of range.\n",
            " |  \n",
            " |  remove(self, value, /)\n",
            " |      Remove first occurrence of value.\n",
            " |      \n",
            " |      Raises ValueError if the value is not present.\n",
            " |  \n",
            " |  reverse(self, /)\n",
            " |      Reverse *IN PLACE*.\n",
            " |  \n",
            " |  sort(self, /, *, key=None, reverse=False)\n",
            " |      Stable sort *IN PLACE*.\n",
            " |  \n",
            " |  ----------------------------------------------------------------------\n",
            " |  Static methods defined here:\n",
            " |  \n",
            " |  __new__(*args, **kwargs) from builtins.type\n",
            " |      Create and return a new object.  See help(type) for accurate signature.\n",
            " |  \n",
            " |  ----------------------------------------------------------------------\n",
            " |  Data and other attributes defined here:\n",
            " |  \n",
            " |  __hash__ = None\n",
            "\n",
            "<class 'list'>\n"
          ]
        }
      ],
      "source": [
        "# OOP - a method of programming that attempts to model some process or thing in the world as a class or object\n",
        "\n",
        "  # class - a blueprint for objects. Classes can contain methods (functions) and attributes (like keys in a dict)\n",
        "            # models the grouped functionality that can be used as a generalized template \n",
        "\n",
        "  # instance - objects that are constructed from a class blueprint that contain their class's methods and properties\n",
        "               # creating a list object is an instance of the list class. similiar for dict,tuples,etc\n",
        "\n",
        "help(list) # class list(object)\n",
        "\n",
        "nums = [1,2,3] # creates an instance of the list class\n",
        "print(type(nums))\n",
        "\n",
        "# Why OOP?\n",
        "\n",
        "    # with OOP, the goal is to encapsulate your code into logical hierachial groupings\n",
        "    # using classes so that you can reason about your code at a higher level\n",
        "\n",
        "# Class syntax\n",
        "\n",
        "    # {class}\n",
        "    # _cards {private list attribute} - these are private variables that are not exposed outside the class\n",
        "    # _max_cards {private int attribute} - can be accessed from outside the class if really needed - no strict constraints\n",
        "    # shuffle {public method} - available for use and access outside the class \n",
        "    # deal_card {public method}\n",
        "\n",
        "# Encapsulation - the grouping of private and public attributes and methods into a programmatic class,\n",
        "                  # making abstraction possible\n",
        "\n",
        "# Abstraction - exposing only the relevant data in a class interface, hiding private attributes and \n",
        "                # methods (inner workings of a class) from users"
      ]
    },
    {
      "cell_type": "code",
      "source": [
        "# making an user class for a game \n",
        "\n",
        "class User:  # naming constraints - CamelCase - and in singular form\n",
        "  pass # pass used to 'exit' class\n",
        "\n",
        "user1 = User() # invoking a class to create a class object\n",
        "print(user1)\n",
        "print(type(user1))\n",
        "\n",
        "user2 = User()\n",
        "print(user2)"
      ],
      "metadata": {
        "colab": {
          "base_uri": "https://localhost:8080/"
        },
        "id": "byShfSLFhldd",
        "outputId": "dc196634-46f3-41ff-faaa-3aea5ed6d7e0"
      },
      "execution_count": null,
      "outputs": [
        {
          "output_type": "stream",
          "name": "stdout",
          "text": [
            "<__main__.User object at 0x7f3fff99f910>\n",
            "<class '__main__.User'>\n",
            "<__main__.User object at 0x7f3fff9a3150>\n"
          ]
        }
      ]
    },
    {
      "cell_type": "code",
      "source": [
        "# __init__ method - an internal funtion inside the class\n",
        "\n",
        "    # classes in python can have a special '__init__' method, which gets \n",
        "    # called everytime you create an instance of a class (instantiate)\n",
        "    # Python looks for this automatically - never called for by user\n",
        "\n",
        "class User:\n",
        "  \n",
        "  def __init__(self): # initiated and run automatically on invoking of class\n",
        "    print('A NEW USER HAS BEEN MADE!')\n",
        "\n",
        "\n",
        "user1 = User()\n",
        "user2 = User()\n",
        "user3 = User()\n",
        "\n",
        "    # __init__ method is typically used to initialize all the data\n",
        "    # 'self' keyword refers to the specific instance of that user class - 'myself' class instance basically...\n",
        "\n",
        "print()\n",
        "\n",
        "class User:\n",
        "\n",
        "  def __init__(self,first): # nothing is passed into the 'self' parameter, python handles this internally\n",
        "    self.name = first # self refers to an exact instance it is called on. \n",
        "\n",
        "\n",
        "user1 = User('Joe')\n",
        "user2 = User('Blanca')\n",
        "\n",
        "    # to access specific attributes on an instance run : instance.attribute_name\n",
        "\n",
        "print(user1.name) # 'user1.name' since in class 'self.name' - basically 'instance.samething' equals 'self.samething'\n",
        "print(user2.name,'\\n')\n",
        "\n",
        "    # self must always be the first parameter to '__init__' and any methods and properties on class instances\n",
        "\n",
        "class User:\n",
        "\n",
        "  def __init__(self,calling_name,surname,years_old):\n",
        "    self.first = calling_name\n",
        "    self.last = surname\n",
        "    self.age = years_old\n",
        "\n",
        "user1 = User('Chris','Martin',45)\n",
        "\n",
        "print(user1.first,user1.last,user1.age)\n",
        "\n",
        "    # creating an object that is an instance of a class is called instantiating a class"
      ],
      "metadata": {
        "colab": {
          "base_uri": "https://localhost:8080/"
        },
        "id": "4n3fG0_ij-_s",
        "outputId": "a255eb0a-2002-489c-b988-9768a6fcf859"
      },
      "execution_count": null,
      "outputs": [
        {
          "output_type": "stream",
          "name": "stdout",
          "text": [
            "A NEW USER HAS BEEN MADE!\n",
            "A NEW USER HAS BEEN MADE!\n",
            "A NEW USER HAS BEEN MADE!\n",
            "\n",
            "Joe\n",
            "Blanca \n",
            "\n",
            "Chris Martin 45\n"
          ]
        }
      ]
    },
    {
      "cell_type": "code",
      "source": [
        "# Coding exercise\n",
        "\n",
        "class Comment:\n",
        "\n",
        "  def __init__(self,username,text,likes=0):\n",
        "    self.username = username\n",
        "    self.text = text\n",
        "    self.likes = likes\n",
        "\n",
        "c = Comment(\"davey123\", \"lol you're so silly\", 3)\n",
        "print(c. username,c.text,c.likes)\n",
        "\n",
        "another_comment = Comment(\"rosa77\", \"soooo cute!!!\")\n",
        "print(another_comment.username)\n",
        "print(another_comment.text)\n",
        "print(another_comment.likes)"
      ],
      "metadata": {
        "colab": {
          "base_uri": "https://localhost:8080/"
        },
        "id": "HM6VXKQjwkyz",
        "outputId": "ccd8b1eb-f6cf-432f-99ef-f5b2178cb186"
      },
      "execution_count": null,
      "outputs": [
        {
          "output_type": "stream",
          "name": "stdout",
          "text": [
            "davey123 lol you're so silly 3\n",
            "rosa77\n",
            "soooo cute!!!\n",
            "0\n"
          ]
        }
      ]
    },
    {
      "cell_type": "code",
      "source": [
        "# Underscore variables\n",
        "\n",
        "    # _name - no behavioural difference from a typical snake_case variable - convention used to refer to a private variable\n",
        "    # __name - name mangling \n",
        "    # __name__ - used for Python specific methods - will overwrite in built functions - must be respected!\n",
        "\n",
        "class Person:\n",
        "\n",
        "  def __init__(self):\n",
        "    self.name = 'Tony'\n",
        "    self._secret = 'Hi'\n",
        "    self.__msg = 'I like turtles!' \n",
        "    self.__lol = 'HAHAHAHA'\n",
        "\n",
        "p = Person()\n",
        "print(p.name)\n",
        "print(p._secret)\n",
        "# print(p.__msg) # throws an error - name mangling occurs\n",
        "print(dir(p),'\\n')\n",
        "\n",
        "    # name mangled attributes show up in the following syntax - '_class__attribute'\n",
        "    # name mangling is useful when mutiple classes use the same attribute name\n",
        "    # this makes each attribute unique to the given class to avoid conflicts\n",
        "    # more details in inheritance, name conflicts...\n",
        "\n",
        "print(p._Person__msg) # accessing the mangled attribute"
      ],
      "metadata": {
        "colab": {
          "base_uri": "https://localhost:8080/"
        },
        "id": "H48lHvRA3Wsj",
        "outputId": "6e8a8328-7e4f-4b9d-c193-f1c39d85ce71"
      },
      "execution_count": null,
      "outputs": [
        {
          "output_type": "stream",
          "name": "stdout",
          "text": [
            "Tony\n",
            "Hi\n",
            "['_Person__lol', '_Person__msg', '__class__', '__delattr__', '__dict__', '__dir__', '__doc__', '__eq__', '__format__', '__ge__', '__getattribute__', '__gt__', '__hash__', '__init__', '__init_subclass__', '__le__', '__lt__', '__module__', '__ne__', '__new__', '__reduce__', '__reduce_ex__', '__repr__', '__setattr__', '__sizeof__', '__str__', '__subclasshook__', '__weakref__', '_secret', 'name'] \n",
            "\n",
            "I like turtles!\n"
          ]
        }
      ]
    },
    {
      "cell_type": "code",
      "source": [
        "# Methods in classes\n",
        "\n",
        "class User:\n",
        "\n",
        "  def __init__(self,calling_name,surname,years_old):\n",
        "    self.first = calling_name\n",
        "    self.last = surname\n",
        "    self.age = years_old\n",
        "\n",
        "  def full_name(self): # typical function inside a class becomes a class.method\n",
        "    return f'The full name is {self.first} {self.last}'\n",
        "\n",
        "  def initials(self):\n",
        "    return f'The initials are {self.first[0]}.{self.last[0]}.'\n",
        "\n",
        "  def likes(self,thing):\n",
        "    return f'{self.first} likes {thing}'\n",
        "\n",
        "  def is_senior(self):\n",
        "    return self.age >= 65\n",
        "\n",
        "  def birthday(self):\n",
        "    self.age += 1\n",
        "    return f'Happy {self.age}th Birthday {self.first}!'\n",
        "\n",
        "\n",
        "user1 = User('Chris','Martin',45) # user1 is a class instance\n",
        "print(user1.full_name())\n",
        "print(user1.initials())\n",
        "print(user1.likes('ice cream'))\n",
        "print(user1.age)\n",
        "print(user1.is_senior())\n",
        "print(user1.birthday())\n",
        "print(user1.age)\n",
        "\n",
        "    # the class above contains all instance methods - method works on the class instance - user1 \n",
        "    # these are different from a class methods "
      ],
      "metadata": {
        "colab": {
          "base_uri": "https://localhost:8080/"
        },
        "id": "Zv8kjk1zAjvW",
        "outputId": "dba6eb78-5ecc-480f-b6f7-729e271ce4c9"
      },
      "execution_count": null,
      "outputs": [
        {
          "output_type": "stream",
          "name": "stdout",
          "text": [
            "The full name is Chris Martin\n",
            "The initials are C.M.\n",
            "Chris likes ice cream\n",
            "45\n",
            "False\n",
            "Happy 46th Birthday Chris!\n",
            "46\n"
          ]
        }
      ]
    },
    {
      "cell_type": "code",
      "source": [
        "# Coding exercise\n",
        "\n",
        "class BankAccount:\n",
        "\n",
        "  def __init__(self,owner):\n",
        "    self.owner = owner\n",
        "    self.balance = 0.0\n",
        "\n",
        "  def deposit(self,amount):\n",
        "    self.balance += amount\n",
        "    return self.balance \n",
        "\n",
        "  def withdraw(self,amount):\n",
        "    self.balance -= amount\n",
        "    return self.balance\n",
        "\n",
        "\n",
        "user1 = BankAccount('Tim')\n",
        "print(user1.owner)\n",
        "print(user1.balance,'\\n')\n",
        "\n",
        "acct = BankAccount(\"Darcy\")\n",
        "print(acct.owner) #Darcy\n",
        "print(acct.balance) #0.0\n",
        "print(acct.deposit(10))  #10.0\n",
        "print(acct.withdraw(3))  #7.0\n",
        "print(acct.balance)   #7.0"
      ],
      "metadata": {
        "colab": {
          "base_uri": "https://localhost:8080/"
        },
        "id": "nz7RULZHiBpD",
        "outputId": "1cb72b7e-e78d-47a2-a697-373902756bd8"
      },
      "execution_count": null,
      "outputs": [
        {
          "output_type": "stream",
          "name": "stdout",
          "text": [
            "Tim\n",
            "0.0 \n",
            "\n",
            "Darcy\n",
            "0.0\n",
            "10.0\n",
            "7.0\n",
            "7.0\n"
          ]
        }
      ]
    },
    {
      "cell_type": "code",
      "source": [
        "# Class attributes\n",
        "\n",
        "    # class attributes are defined directly on a class\n",
        "    # these are shared by all instances of a class and the class itself\n",
        "\n",
        "class User:\n",
        "\n",
        "  active_users = 0 # class attribute - defined once on the User class - does not exist with any class instances\n",
        "\n",
        "  def __init__(self,calling_name,surname,years_old):\n",
        "    self.first = calling_name\n",
        "    self.last = surname\n",
        "    self.age = years_old\n",
        "    User.active_users += 1 # any time a new user is created through an instance - this gets updated\n",
        "\n",
        "  def logout(self):\n",
        "    User.active_users -= 1\n",
        "    return f'{self.first} has logged out'\n",
        "\n",
        "  def full_name(self):\n",
        "    return f'The full name is {self.first} {self.last}'\n",
        "\n",
        "  def initials(self):\n",
        "    return f'The initials are {self.first[0]}.{self.last[0]}.'\n",
        "\n",
        "  def likes(self,thing):\n",
        "    return f'{self.first} likes {thing}'\n",
        "\n",
        "  def is_senior(self):\n",
        "    return self.age >= 65\n",
        "\n",
        "  def birthday(self):\n",
        "    self.age += 1\n",
        "    return f'Happy {self.age}th Birthday {self.first}!'\n",
        "\n",
        "\n",
        "print(User.active_users) # accessing class attribute - call on class_name.attribute_name\n",
        "user1 = User('Joe','Smith',68)\n",
        "user2 = User('Blanca','Lopez',42)\n",
        "print(User.active_users,'\\n')\n",
        "\n",
        "print(user2.logout())\n",
        "print(User.active_users)"
      ],
      "metadata": {
        "colab": {
          "base_uri": "https://localhost:8080/"
        },
        "id": "pzmCE4RAnq0W",
        "outputId": "51c3f481-69db-4480-8fad-2944c90243cd"
      },
      "execution_count": null,
      "outputs": [
        {
          "output_type": "stream",
          "name": "stdout",
          "text": [
            "0\n",
            "2 \n",
            "\n",
            "Blanca has logged out\n",
            "1\n"
          ]
        }
      ]
    },
    {
      "cell_type": "code",
      "source": [
        "# Continued\n",
        "\n",
        "class Pet:\n",
        "\n",
        "  allowed = ['cat','dog','fish','rat']\n",
        "\n",
        "  def __init__(self,name,species):\n",
        "    if species not in Pet.allowed:\n",
        "      raise ValueError(f'You can\\'t have a {species} as a pet!')\n",
        "    self.name = name\n",
        "    self.species = species\n",
        "\n",
        "  def set_species(self,species):\n",
        "    if species not in Pet.allowed:\n",
        "      raise ValueError(f'You can\\'t have a {species} as a pet!')\n",
        "    self.species = species\n",
        "\n",
        "pet1 = Pet('Blue','cat')\n",
        "pet2 = Pet('Wyatt','dog')\n",
        "#pet3 = Pet('Fluffy','tiger') # throws a ValueError\n",
        "pet1.set_species('rat')\n",
        "print(pet1.species,'\\n')\n",
        "#pet2.set_species('bear')\n",
        "\n",
        "print(Pet.allowed)\n",
        "Pet.allowed.append('pig')\n",
        "print(Pet.allowed,'\\n')\n",
        "\n",
        "    # class attributes - we can also define attributes directly on a class that\n",
        "    # are shared by all instances of a class and the class itself \n",
        "\n",
        "print(pet1.allowed) # each instance has its own 'copy' of the class attribute\n",
        "print(pet2.allowed,'\\n')\n",
        "\n",
        "    # but each instance attribute points directly to the class attribute\n",
        "\n",
        "print(id(Pet.allowed)) # using 'id' to find the memmory address location \n",
        "print(id(pet1.allowed)) # each of the instances point to the same unique id\n",
        "print(id(pet2.allowed))"
      ],
      "metadata": {
        "colab": {
          "base_uri": "https://localhost:8080/"
        },
        "id": "j8hHZN94swty",
        "outputId": "fef4ba60-37e6-4b10-fe72-af566c083bcb"
      },
      "execution_count": null,
      "outputs": [
        {
          "output_type": "stream",
          "name": "stdout",
          "text": [
            "rat \n",
            "\n",
            "['cat', 'dog', 'fish', 'rat']\n",
            "['cat', 'dog', 'fish', 'rat', 'pig'] \n",
            "\n",
            "['cat', 'dog', 'fish', 'rat', 'pig']\n",
            "['cat', 'dog', 'fish', 'rat', 'pig'] \n",
            "\n",
            "140045893137184\n",
            "140045893137184\n",
            "140045893137184\n"
          ]
        }
      ]
    },
    {
      "cell_type": "code",
      "source": [
        "# Coding exercise - modelling a chicken coup\n",
        "\n",
        "class Chicken:\n",
        "\n",
        "  total_eggs = 0\n",
        "\n",
        "  def __init__(self,name,species):\n",
        "    self.name = name\n",
        "    self.species = species\n",
        "    self.eggs = 0\n",
        "\n",
        "  def lay_egg(self):\n",
        "    self.eggs += 1\n",
        "    Chicken.total_eggs += 1\n",
        "    return self.eggs\n",
        "\n",
        "c1 = Chicken(name=\"Alice\", species=\"Partridge Silkie\")\n",
        "c2 = Chicken(name=\"Amelia\", species=\"Speckled Sussex\")\n",
        "print(Chicken.total_eggs) #0\n",
        "c1.lay_egg()  #1\n",
        "print(Chicken.total_eggs) #1\n",
        "c2.lay_egg()  #1\n",
        "c2.lay_egg()  #2\n",
        "print(Chicken.total_eggs) #3"
      ],
      "metadata": {
        "id": "hhx1TdB5Ot_o",
        "colab": {
          "base_uri": "https://localhost:8080/"
        },
        "outputId": "28679f81-7645-4677-d67d-f9278ae511c5"
      },
      "execution_count": null,
      "outputs": [
        {
          "output_type": "stream",
          "name": "stdout",
          "text": [
            "0\n",
            "1\n",
            "3\n"
          ]
        }
      ]
    },
    {
      "cell_type": "code",
      "source": [
        "# Class methods \n",
        "\n",
        "    # class methods are methods that are not concerned with instances\n",
        "    # but the class itself\n",
        "    # contains the '@classmethod' decorator\n",
        "\n",
        "class User:\n",
        "\n",
        "  active_users = 0 \n",
        "\n",
        "  @classmethod # class method decorator as a prefix\n",
        "  def display_active_users(cls):\n",
        "    print(cls)\n",
        "    return f'There are currently {cls.active_users} active users'\n",
        "\n",
        "  @classmethod\n",
        "  def from_string(cls,data_str):\n",
        "    first,last,age = data_str.split(',') # string method to split data on CSV\n",
        "    return cls(first,last,int(age)) # returns the result, but also creates a class instance, since \n",
        "                                    # cls(first,last,age) equal to User(first,last,age) which invokes a class instance \n",
        "\n",
        "  def __init__(self,calling_name,surname,years_old):\n",
        "    self.first = calling_name\n",
        "    self.last = surname\n",
        "    self.age = years_old\n",
        "    User.active_users += 1 \n",
        "\n",
        "  def logout(self):\n",
        "    User.active_users -= 1\n",
        "    return f'{self.first} has logged out'\n",
        "\n",
        "  def full_name(self):\n",
        "    return f'The full name is {self.first} {self.last}'\n",
        "\n",
        "  def initials(self):\n",
        "    return f'The initials are {self.first[0]}.{self.last[0]}.'\n",
        "\n",
        "  def likes(self,thing):\n",
        "    return f'{self.first} likes {thing}'\n",
        "\n",
        "  def is_senior(self):\n",
        "    return self.age >= 65\n",
        "\n",
        "  def birthday(self):\n",
        "    self.age += 1\n",
        "    return f'Happy {self.age}th Birthday {self.first}!'\n",
        "\n",
        "\n",
        "print(User.display_active_users()) # class method called on class - not on instance of class\n",
        "\n",
        "user1 = User('Joe','Smith',68)\n",
        "user2 = User('Blanca','Lopez',42)\n",
        "print(User.display_active_users())\n",
        "user1 = User('Joe','Smith',68)\n",
        "user2 = User('Blanca','Lopez',42)\n",
        "print(User.display_active_users())\n",
        "\n",
        "print()\n",
        "\n",
        "tom = User.from_string('Tom,Jones,89') # convert CSV input and create a class instance\n",
        "print(tom.first)\n",
        "print(tom.full_name())\n",
        "print(tom.birthday())\n",
        "\n",
        "    # class methods are typicaly used to convertor validate data coming into a class before instance can be created. "
      ],
      "metadata": {
        "id": "8reHqbGuUaKA",
        "colab": {
          "base_uri": "https://localhost:8080/"
        },
        "outputId": "aad2aafc-7881-4d51-bad0-7abc970af064"
      },
      "execution_count": 6,
      "outputs": [
        {
          "output_type": "stream",
          "name": "stdout",
          "text": [
            "<class '__main__.User'>\n",
            "There are currently 0 active users\n",
            "<class '__main__.User'>\n",
            "There are currently 2 active users\n",
            "<class '__main__.User'>\n",
            "There are currently 4 active users\n",
            "\n",
            "Tom\n",
            "The full name is Tom Jones\n",
            "Happy 90th Birthday Tom!\n"
          ]
        }
      ]
    },
    {
      "cell_type": "code",
      "source": [
        "# __repr__ method\n",
        "\n",
        "class User_without_repr:\n",
        "\n",
        "  def __init__(self,calling_name,surname,years_old):\n",
        "    self.first = calling_name\n",
        "    self.last = surname\n",
        "    self.age = years_old\n",
        "    User.active_users += 1 \n",
        "\n",
        "\n",
        "class User_with_repr:\n",
        "\n",
        "  def __init__(self,calling_name,surname,years_old):\n",
        "    self.first = calling_name\n",
        "    self.last = surname\n",
        "    self.age = years_old\n",
        "    User.active_users += 1 \n",
        "\n",
        "  def __repr__(self): # used to give a description about the class instance\n",
        "    return f'{self.first} is {self.age}'\n",
        "\n",
        "\n",
        "tom1 = User_without_repr('Tom','Jones',89)\n",
        "print(tom1,'\\n') # prints some python garble\n",
        "tom2 = User_with_repr('Tom','Jones',89)\n",
        "print(tom2,'\\n') # prints some human garble :D\n",
        "\n",
        "j = User_with_repr('Sheldon','Cooper',32)\n",
        "print(j) \n",
        "j = str(j) # __repr__ is called for the string convertion as well\n",
        "print(j) "
      ],
      "metadata": {
        "colab": {
          "base_uri": "https://localhost:8080/"
        },
        "id": "9-LsHRAQiiLC",
        "outputId": "330f18a7-4953-49ee-e4c0-ef04cb9269db"
      },
      "execution_count": 12,
      "outputs": [
        {
          "output_type": "stream",
          "name": "stdout",
          "text": [
            "<__main__.User_without_repr object at 0x7f901259e7d0> \n",
            "\n",
            "Tom is 89 \n",
            "\n",
            "Sheldon is 32\n",
            "Sheldon is 32\n"
          ]
        }
      ]
    }
  ]
}