{
  "nbformat": 4,
  "nbformat_minor": 0,
  "metadata": {
    "colab": {
      "name": "Section_25.ipynb",
      "provenance": [],
      "authorship_tag": "ABX9TyPAcBS/UDTRaOVkQ/HKQi/K",
      "include_colab_link": true
    },
    "kernelspec": {
      "name": "python3",
      "display_name": "Python 3"
    },
    "language_info": {
      "name": "python"
    }
  },
  "cells": [
    {
      "cell_type": "markdown",
      "metadata": {
        "id": "view-in-github",
        "colab_type": "text"
      },
      "source": [
        "<a href=\"https://colab.research.google.com/github/kaushanr/python3-docs/blob/main/Section_25.ipynb\" target=\"_parent\"><img src=\"https://colab.research.google.com/assets/colab-badge.svg\" alt=\"Open In Colab\"/></a>"
      ]
    },
    {
      "cell_type": "markdown",
      "source": [
        "# Deck of Cards"
      ],
      "metadata": {
        "id": "TOfy5O5HxZEk"
      }
    },
    {
      "cell_type": "code",
      "execution_count": null,
      "metadata": {
        "id": "2XGSV7ttxVMn",
        "colab": {
          "base_uri": "https://localhost:8080/"
        },
        "outputId": "ef085beb-bc47-489f-c4bd-6565c37c60f5"
      },
      "outputs": [
        {
          "output_type": "stream",
          "name": "stdout",
          "text": [
            "['A of Hearts', 'A of Diamonds', 'A of Clubs', 'A of Spades', '2 of Hearts', '2 of Diamonds', '2 of Clubs', '2 of Spades', '3 of Hearts', '3 of Diamonds', '3 of Clubs', '3 of Spades', '4 of Hearts', '4 of Diamonds', '4 of Clubs', '4 of Spades', '5 of Hearts', '5 of Diamonds', '5 of Clubs', '5 of Spades', '6 of Hearts', '6 of Diamonds', '6 of Clubs', '6 of Spades', '7 of Hearts', '7 of Diamonds', '7 of Clubs', '7 of Spades', '8 of Hearts', '8 of Diamonds', '8 of Clubs', '8 of Spades', '9 of Hearts', '9 of Diamonds', '9 of Clubs', '9 of Spades', '10 of Hearts', '10 of Diamonds', '10 of Clubs', '10 of Spades', 'J of Hearts', 'J of Diamonds', 'J of Clubs', 'J of Spades', 'Q of Hearts', 'Q of Diamonds', 'Q of Clubs', 'Q of Spades', 'K of Hearts', 'K of Diamonds', 'K of Clubs', 'K of Spades']\n",
            "52\n",
            "Deck of 52 cards\n",
            "['A of Hearts', 'A of Diamonds', 'A of Clubs', 'A of Spades', '2 of Hearts', '2 of Diamonds', '2 of Clubs', '2 of Spades', '3 of Hearts', '3 of Diamonds', '3 of Clubs', '3 of Spades', '4 of Hearts', '4 of Diamonds', '4 of Clubs', '4 of Spades', '5 of Hearts', '5 of Diamonds', '5 of Clubs', '5 of Spades', '6 of Hearts', '6 of Diamonds', '6 of Clubs', '6 of Spades', '7 of Hearts', '7 of Diamonds', '7 of Clubs', '7 of Spades', '8 of Hearts', '8 of Diamonds', '8 of Clubs', '8 of Spades', '9 of Hearts', '9 of Diamonds', '9 of Clubs', '9 of Spades', '10 of Hearts', '10 of Diamonds', '10 of Clubs', '10 of Spades', 'J of Hearts', 'J of Diamonds', 'J of Clubs', 'J of Spades', 'Q of Hearts', 'Q of Diamonds', 'Q of Clubs', 'Q of Spades', 'K of Hearts', 'K of Diamonds', 'K of Clubs', 'K of Spades']\n",
            "['5 of Spades', '8 of Diamonds', '3 of Diamonds', 'K of Diamonds', '6 of Spades', '7 of Spades', '4 of Diamonds', '9 of Clubs', 'J of Clubs', 'J of Hearts', '8 of Clubs', '3 of Hearts', '10 of Hearts', '5 of Diamonds', '9 of Diamonds', '8 of Hearts', 'K of Hearts', 'A of Clubs', '5 of Clubs', '6 of Hearts', '6 of Diamonds', '9 of Hearts', '4 of Hearts', 'Q of Diamonds', '10 of Clubs', 'Q of Hearts', 'A of Hearts', 'Q of Clubs', '7 of Clubs', 'K of Clubs', '5 of Hearts', 'Q of Spades', '10 of Diamonds', '2 of Clubs', 'J of Diamonds', '2 of Spades', '9 of Spades', '4 of Clubs', 'K of Spades', 'J of Spades', '6 of Clubs', 'A of Spades', 'A of Diamonds', '7 of Hearts', '8 of Spades', '2 of Diamonds', '3 of Spades', '10 of Spades', '7 of Diamonds', '3 of Clubs', '4 of Spades', '2 of Hearts']\n",
            "52\n",
            "47\n",
            "['3 of Spades']\n",
            "['2 of Diamonds', '8 of Spades', '7 of Hearts']\n",
            "43\n"
          ]
        }
      ],
      "source": [
        "class Card:\n",
        "\n",
        "  def __init__(self,suit,value):\n",
        "    self.suit = suit\n",
        "    self.value = value\n",
        "\n",
        "  def __repr__(self):\n",
        "    return f'{self.value} of {self.suit}'\n",
        "\n",
        "\n",
        "class Deck:\n",
        "\n",
        "  def __init__(self):\n",
        "    self.cards = [f'{Card(suit,value)}' for value in \n",
        "                  ('A','2','3','4','5','6','7','8','9','10','J','Q','K') \n",
        "                  for suit in ('Hearts','Diamonds','Clubs','Spades')\n",
        "                  ]\n",
        "    print(self.cards)\n",
        "    self.deck_size = len(self.cards)\n",
        "\n",
        "  def __repr__(self):\n",
        "    return f'Deck of {self.deck_size} cards'\n",
        "\n",
        "  def count(self):\n",
        "    return print(len(self.cards))\n",
        "\n",
        "  def _deal(self,number):\n",
        "    if not len(self.cards):\n",
        "      raise ValueError('All cards have been dealt')\n",
        "    elif len(self.cards) < number:\n",
        "      self.deal = [self.cards.pop() for num in range(len(self.cards))]\n",
        "      return self.deal\n",
        "    self.deal = [self.cards.pop() for num in range(number)]\n",
        "    return self.deal\n",
        "\n",
        "  def shuffle(self):\n",
        "    print(self.cards)\n",
        "    from random import shuffle as shfl\n",
        "    if len(self.cards) < 52:\n",
        "      raise ValueError('Only full decks can be shuffled')\n",
        "    shfl(self.cards)\n",
        "    print(self.cards)\n",
        "\n",
        "  def deal_card(self):\n",
        "    return print(self._deal(1))\n",
        "\n",
        "  def deal_hand(self,num):\n",
        "    return print(self._deal(num))\n",
        "\n",
        "\n",
        "\n",
        "deck1 = Deck()\n",
        "deck1.count()\n",
        "print(deck1)\n",
        "deck1.shuffle()\n",
        "deck1.count()\n",
        "deck1._deal(5)\n",
        "deck1.count()\n",
        "deck1.deal_card()\n",
        "deck1.deal_hand(3)\n",
        "\n",
        "deck1.count()\n",
        "#deck1._deal(5)\n"
      ]
    },
    {
      "cell_type": "code",
      "source": [
        "from random import shuffle\n",
        "\n",
        "s = shuffle([1,2,3,4,5,6,7,8,9])\n",
        "print(s)\n",
        "\n",
        "import random\n",
        "\n",
        "mylist = [\"apple\", \"banana\", \"cherry\"]\n",
        "shuffle(mylist)\n",
        "\n",
        "print(mylist)"
      ],
      "metadata": {
        "colab": {
          "base_uri": "https://localhost:8080/"
        },
        "id": "GtkZNVWEiZPL",
        "outputId": "7b80f1a2-d5d2-4192-d488-cf4ce6879fdf"
      },
      "execution_count": null,
      "outputs": [
        {
          "output_type": "stream",
          "name": "stdout",
          "text": [
            "None\n",
            "['cherry', 'banana', 'apple']\n"
          ]
        }
      ]
    },
    {
      "cell_type": "code",
      "source": [
        "# version that works for the in-built testing algorithm\n",
        "\n",
        "class Card:\n",
        "\n",
        "  def __init__(self,suit,value):\n",
        "    self.suit = suit\n",
        "    self.value = value\n",
        "\n",
        "  def __repr__(self):\n",
        "    return '{} of {}'.format(self.value,self.suit)\n",
        "\n",
        "\n",
        "class Deck:\n",
        "\n",
        "  def __init__(self):\n",
        "    self.cards = [Card(suit,value) for value in \n",
        "                  ('A','2','3','4','5','6','7','8','9','10','J','Q','K') \n",
        "                  for suit in ('Hearts','Diamonds','Clubs','Spades')\n",
        "                  ]\n",
        "\n",
        "  def __repr__(self):\n",
        "    return 'Deck of {} cards'.format(self.count())\n",
        "\n",
        "  def count(self):\n",
        "    return len(self.cards)\n",
        "\n",
        "  def _deal(self,number):\n",
        "    if not self.count():\n",
        "      raise ValueError('All cards have been dealt')\n",
        "    elif self.count() < number: # using the 'min' function instead removes this extra conditional check\n",
        "      deal = [self.cards.pop() for num in range(len(self.cards))]\n",
        "      return deal\n",
        "    deal = [self.cards.pop() for num in range(number)]\n",
        "    return deal\n",
        "\n",
        "  def shuffle(self):\n",
        "    from random import shuffle as shfl\n",
        "    if self.count() < 52:\n",
        "      raise ValueError('Only full decks can be shuffled')\n",
        "    shfl(self.cards)\n",
        "    return self.cards\n",
        "\n",
        "  def deal_card(self):\n",
        "    return self._deal(1)[0]\n",
        "\n",
        "  def deal_hand(self,num):\n",
        "    return self._deal(num)\n",
        "\n",
        "\n",
        "\n",
        "deck1 = Deck()\n",
        "deck1.count()\n",
        "print(deck1)\n",
        "deck1.shuffle()\n",
        "deck1.count()\n",
        "deck1._deal(5)\n",
        "deck1.count()\n",
        "deck1.deal_card()\n",
        "deck1.deal_hand(3)\n",
        "\n",
        "deck1.count()"
      ],
      "metadata": {
        "colab": {
          "base_uri": "https://localhost:8080/"
        },
        "id": "UgSP9XJ_oX1o",
        "outputId": "3494bfcc-1c65-4a11-dca6-a514552dbe9a"
      },
      "execution_count": null,
      "outputs": [
        {
          "output_type": "stream",
          "name": "stdout",
          "text": [
            "[A of Hearts, A of Diamonds, A of Clubs, A of Spades, 2 of Hearts, 2 of Diamonds, 2 of Clubs, 2 of Spades, 3 of Hearts, 3 of Diamonds, 3 of Clubs, 3 of Spades, 4 of Hearts, 4 of Diamonds, 4 of Clubs, 4 of Spades, 5 of Hearts, 5 of Diamonds, 5 of Clubs, 5 of Spades, 6 of Hearts, 6 of Diamonds, 6 of Clubs, 6 of Spades, 7 of Hearts, 7 of Diamonds, 7 of Clubs, 7 of Spades, 8 of Hearts, 8 of Diamonds, 8 of Clubs, 8 of Spades, 9 of Hearts, 9 of Diamonds, 9 of Clubs, 9 of Spades, 10 of Hearts, 10 of Diamonds, 10 of Clubs, 10 of Spades, J of Hearts, J of Diamonds, J of Clubs, J of Spades, Q of Hearts, Q of Diamonds, Q of Clubs, Q of Spades, K of Hearts, K of Diamonds, K of Clubs, K of Spades]\n",
            "Deck of 52 cards\n"
          ]
        },
        {
          "output_type": "execute_result",
          "data": {
            "text/plain": [
              "43"
            ]
          },
          "metadata": {},
          "execution_count": 90
        }
      ]
    },
    {
      "cell_type": "code",
      "source": [
        "# model solution\n",
        "\n",
        "from random import shuffle\n",
        "# Each instance of Card  should have a suit (\"Hearts\", \"Diamonds\", \"Clubs\", or \"Spades\").\n",
        "# Each instance of Card  should have a value (\"A\", \"2\", \"3\", \"4\", \"5\", \"6\", \"7\", \"8\", \"9\", \"10\", \"J\", \"Q\", \"K\").\n",
        "# Card 's __repr__  method should display the card's value and suit (e.g. \"A of Clubs\", \"J of Diamonds\", etc.)\n",
        "\n",
        "\n",
        "class Card:\n",
        "\tdef __init__(self, value, suit):\n",
        "\t\tself.value = value\n",
        "\t\tself.suit = suit\n",
        "\n",
        "\tdef __repr__(self):\n",
        "\t\t# return \"{} of {}\".format(self.value, self.suit)\n",
        "\t\treturn f\"{self.value} of {self.suit}\"\n",
        "\n",
        "# Each instance of Deck  should have a cards attribute with all 52 possible instances of Card .\n",
        "# Deck  should have an instance method called count  which returns a count of how many cards remain in the deck.\n",
        "# Deck 's __repr__  method should display information on how many cards are in the deck (e.g. \"Deck of 52 cards\", \"Deck of 12 cards\", etc.)\n",
        "# Deck  should have an instance method called _deal  which accepts a number and removes at most that many cards from the deck (it may need to remove fewer if you request more cards than are currently in the deck!). If there are no cards left, this method should return a ValueError  with the message \"All cards have been dealt\".\n",
        "# Deck  should have an instance method called shuffle  which will shuffle a full deck of cards. If there are cards missing from the deck, this method should return a ValueError  with the message \"Only full decks can be shuffled\".\n",
        "# Deck  should have an instance method called deal_card  which uses the _deal  method to deal a single card from the deck.\n",
        "# Deck  should have an instance method called deal_hand  which accepts a number and uses the _deal  method to deal a list of cards from the deck.\n",
        "\n",
        "class Deck:\n",
        "\tdef __init__(self):\n",
        "\t\tsuits = [\"Hearts\", \"Diamonds\", \"Clubs\", \"Spades\"]\n",
        "\t\tvalues = ['A','2','3','4','5','6','7','8','9','10','J','Q','K']\n",
        "\t\tself.cards = [Card(value, suit) for suit in suits for value in values]\n",
        "\n",
        "\tdef __repr__(self):\n",
        "\t\treturn f\"Deck of {self.count()} cards\"\n",
        "\n",
        "\tdef count(self):\n",
        "\t\treturn len(self.cards)\n",
        "\n",
        "\tdef _deal(self, num):\n",
        "\t\tcount = self.count()\n",
        "\t\tactual = min([count,num]) \n",
        "\t\tif count == 0:\n",
        "\t\t\traise ValueError(\"All cards have been dealt\")\n",
        "\t\tcards = self.cards[-actual:]\n",
        "\t\tself.cards = self.cards[:-actual]\n",
        "\t\treturn cards\n",
        "\n",
        "\tdef deal_card(self):\n",
        "\t\treturn self._deal(1)[0]\n",
        "\n",
        "\tdef deal_hand(self, hand_size):\n",
        "\t\treturn self._deal(hand_size)\n",
        "\n",
        "\tdef shuffle(self):\n",
        "\t\tif self.count() < 52:\n",
        "\t\t\traise ValueError(\"Only full decks can be shuffled\")\n",
        "\n",
        "\t\tshuffle(self.cards)\n",
        "\t\treturn self\n",
        "\n",
        "\n",
        "d = Deck()\n",
        "d.shuffle()\n",
        "card = d.deal_card()\n",
        "print(card)\n",
        "hand = d.deal_hand(20)\n",
        "card2 = d.deal_card()\n",
        "print(card2)\n",
        "print(d.cards)\n",
        "card2 = d.deal_card()\n",
        "\n",
        "# print(d.cards)\n",
        "\n",
        "\n",
        "\n",
        "\n",
        "\n",
        "\n",
        "\n"
      ],
      "metadata": {
        "colab": {
          "base_uri": "https://localhost:8080/"
        },
        "id": "UOtiAvvLCzx7",
        "outputId": "ffd9c441-3d9b-4a05-a586-4acbb14ef27e"
      },
      "execution_count": null,
      "outputs": [
        {
          "output_type": "stream",
          "name": "stdout",
          "text": [
            "K of Clubs\n",
            "J of Diamonds\n",
            "[4 of Diamonds, A of Diamonds, 9 of Diamonds, 8 of Spades, 10 of Diamonds, 6 of Spades, 3 of Hearts, A of Hearts, 4 of Hearts, 3 of Diamonds, 9 of Spades, 2 of Spades, K of Spades, 2 of Diamonds, 4 of Spades, 10 of Hearts, 4 of Clubs, K of Hearts, A of Spades, A of Clubs, Q of Spades, 7 of Spades, 2 of Hearts, 10 of Clubs, Q of Hearts, 6 of Clubs, J of Hearts, J of Clubs, 6 of Hearts, 7 of Clubs]\n"
          ]
        }
      ]
    }
  ]
}