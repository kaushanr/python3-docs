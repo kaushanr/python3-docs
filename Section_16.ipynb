{
  "nbformat": 4,
  "nbformat_minor": 0,
  "metadata": {
    "colab": {
      "name": "Section_16.ipynb",
      "provenance": [],
      "authorship_tag": "ABX9TyP4ZG1smhVdO9jrXCiFYGRp",
      "include_colab_link": true
    },
    "kernelspec": {
      "name": "python3",
      "display_name": "Python 3"
    },
    "language_info": {
      "name": "python"
    }
  },
  "cells": [
    {
      "cell_type": "markdown",
      "metadata": {
        "id": "view-in-github",
        "colab_type": "text"
      },
      "source": [
        "<a href=\"https://colab.research.google.com/github/kaushanr/python3-docs/blob/main/Section_16.ipynb\" target=\"_parent\"><img src=\"https://colab.research.google.com/assets/colab-badge.svg\" alt=\"Open In Colab\"/></a>"
      ]
    },
    {
      "cell_type": "markdown",
      "source": [
        "# Tuples and Sets"
      ],
      "metadata": {
        "id": "6VdJ7xS-VUeX"
      }
    },
    {
      "cell_type": "code",
      "execution_count": null,
      "metadata": {
        "id": "E2wIeemZVQVM",
        "colab": {
          "base_uri": "https://localhost:8080/"
        },
        "outputId": "74ceeb69-23e9-4da5-f6f4-9b3081bd92e7"
      },
      "outputs": [
        {
          "output_type": "stream",
          "name": "stdout",
          "text": [
            "(1, 2, 3, True, 'five', ['a', 'b', 'c'], None, {'rand': 'object'})\n",
            "True\n",
            "False\n",
            "('H', 'e', 'l', 'l', 'o')\n",
            "('January', 'February', 'March', 'April', 'May', 'June', 'July', 'August', 'September', 'October', 'November', 'December')\n",
            "(('username', 'kaushanr'), ('isBoring', True))\n",
            "['a', 'b', 'c']\n",
            "{'rand': 'object'}\n",
            "Tokyo Office\n"
          ]
        }
      ],
      "source": [
        "# Tuple - an ordered collection or grouping of items\n",
        "\n",
        "obj_tuple = (1,2,3,True,'five',['a','b','c'],None,{'rand':'object'})\n",
        "print(obj_tuple) # can contain any data type\n",
        "\n",
        "  # its an immutable sequence, where the order is fixed and cannot be changed, hence faster than lists\n",
        "  # data cannot be updated nor deleted\n",
        "\n",
        "# finding whether some value exists inside tuple\n",
        "\n",
        "print('five' in num_tuple)\n",
        "print(0 in num_tuple)\n",
        "\n",
        "# creating tuples\n",
        "\n",
        "some_const = tuple('Hello') # iterates along each character of string object\n",
        "print(some_const)\n",
        "\n",
        "  # num = 45.73\n",
        "  # print(tuple(num)) # throws error as float is not an iterable object\n",
        "\n",
        "months = ['January','February','March','April','May','June','July','August','September','October','November','December']\n",
        "months_tuple = tuple(months) # 'tuple' function takes single argument and converts iterable object to a tuple\n",
        "print(months_tuple)\n",
        "\n",
        "some_dict = {'username':'kaushanr','isBoring':True}\n",
        "some_tuple = tuple(some_dict.items()) # creates nested tuples for dict.items()\n",
        "print(some_tuple)\n",
        "\n",
        "# accessing data in tuples\n",
        "\n",
        "print(obj_tuple[5]) # accessing data through indexing similiar to lists\n",
        "print(obj_tuple[-1])\n",
        "\n",
        "# tuples in dictionaries\n",
        "\n",
        "  # tuples can be used as keys in a dictionary, but other data types like lists\n",
        "  # do not work as keys in a dictionary\n",
        "\n",
        "locations = {\n",
        "    (35.6895,39.6917) : 'Tokyo Office',\n",
        "    (40.7128,74.0060) : 'New York Office',\n",
        "    (37.7749,122.4194) : 'San Francisco Office'\n",
        "}\n",
        "print(locations[(35.6895,39.6917)]) # dict[key] passed in for value result"
      ]
    },
    {
      "cell_type": "code",
      "source": [
        "# Tuple Looping\n",
        "\n",
        "names = ('Mother','Voodoo','Preacher','Rabbit') # all hail MOH!\n",
        "for name in names: # for loop print\n",
        "  print(name)\n",
        "\n",
        "sentence = ('This','tuple','object','is','in','ascending','order','...')\n",
        "\n",
        "i = len(sentence) - 1\n",
        "while i >= 0: # reversed print order with while loop\n",
        "  print(sentence[i])\n",
        "  i -= 1\n",
        "\n",
        "# Tuple Methods\n",
        "\n",
        "# .count() - returns the number of times a value appears in a tuple\n",
        "\n",
        "num = (1,2,3,1,1,50.77,8,3,50.77)\n",
        "print(num.count(50.77))\n",
        "\n",
        "# .index() - returns the index at which the value is found in a tuple\n",
        "\n",
        "print(num.index(2))\n",
        "print(num.index(50.77)) # for repeated items, gives index of the first occurance only\n",
        "\n",
        "# Nested Tuples\n",
        "\n",
        "nested_tuple = (1,2,3,('a','b','c'),5,6)\n",
        "print(nested_tuple[3])\n",
        "print(nested_tuple[3][1]) # access inner tuple object inside tuple\n",
        "\n",
        "# Slicing\n",
        "\n",
        "print(nested_tuple)\n",
        "print(len(nested_tuple))\n",
        "\n",
        "sliced_tuple = nested_tuple[1:4] # slicing within start : end range - end index of slicing is exclusive!\n",
        "print(sliced_tuple)\n",
        "\n",
        "sliced_tuple = nested_tuple[1:6:2] # slicing within range with step over\n",
        "print(sliced_tuple) # "
      ],
      "metadata": {
        "colab": {
          "base_uri": "https://localhost:8080/"
        },
        "id": "zUvYEA_iy6a-",
        "outputId": "260f2885-9006-48ba-aeb1-051a1947941e"
      },
      "execution_count": null,
      "outputs": [
        {
          "output_type": "stream",
          "name": "stdout",
          "text": [
            "Mother\n",
            "Voodoo\n",
            "Preacher\n",
            "Rabbit\n",
            "...\n",
            "order\n",
            "ascending\n",
            "in\n",
            "is\n",
            "object\n",
            "tuple\n",
            "This\n",
            "2\n",
            "1\n",
            "5\n",
            "('a', 'b', 'c')\n",
            "b\n",
            "(1, 2, 3, ('a', 'b', 'c'), 5, 6)\n",
            "6\n",
            "(2, 3, ('a', 'b', 'c'))\n",
            "(2, ('a', 'b', 'c'), 6)\n"
          ]
        }
      ]
    },
    {
      "cell_type": "code",
      "source": [
        "# Sets - similiar to formal mathematical sets that do not have duplicate values nor any order\n",
        "        # hence values cannot be accessed by indexing\n",
        "\n",
        "s = {1,4,5,True,None,'abc',60.13} # all data types except boolean can be added in\n",
        "print(s)\n",
        "print(type(s))\n",
        "\n",
        "s = set({1,2,3,4,5,5,5}) # removes duplicate values\n",
        "print(s)\n",
        "\n",
        "s = set([1,2,3,4]) # 'set' function takes in a single argument\n",
        "print(s)\n",
        "print(type(s))\n",
        "\n",
        "print(4 in s)\n",
        "print(8 in s)\n",
        "\n",
        "# accessing values in a set\n",
        "\n",
        "for val in s:\n",
        "  print(val)\n",
        "\n",
        "# example\n",
        "\n",
        "cities = ['Tokyo','Delhi','Auckland','Colombo','London','Delhi','Tokyo','Toronto','Kyoto','Madrid','Tokyo','Zurich'] # list of cities with duplicates\n",
        "\n",
        "  # filter out the duplicates and return a list\n",
        "\n",
        "filt_cities = list(set(cities)) # convert to set to filter duplicates and convert back to list \n",
        "print(filt_cities)"
      ],
      "metadata": {
        "id": "Y5-JIGjt6nkN",
        "colab": {
          "base_uri": "https://localhost:8080/"
        },
        "outputId": "10535fa8-ef53-4cbd-e722-bd3de1f40bb2"
      },
      "execution_count": null,
      "outputs": [
        {
          "output_type": "stream",
          "name": "stdout",
          "text": [
            "{1, 4, 5, None, 'abc', 60.13}\n",
            "<class 'set'>\n",
            "{1, 2, 3, 4, 5}\n",
            "{1, 2, 3, 4}\n",
            "<class 'set'>\n",
            "True\n",
            "False\n",
            "1\n",
            "2\n",
            "3\n",
            "4\n",
            "['Tokyo', 'Colombo', 'Delhi', 'Auckland', 'Zurich', 'Madrid', 'London', 'Toronto', 'Kyoto']\n"
          ]
        }
      ]
    },
    {
      "cell_type": "code",
      "source": [
        "# Set Methods \n",
        "\n",
        "# .add() - adds an element to a set - ignored if item already in set\n",
        "\n",
        "s = set([1,2,'a',3.777])\n",
        "print(s)\n",
        "s.add('added') # adds data to a random place in the set... no order\n",
        "print(s)\n",
        "\n",
        "# .remove() - removes a value from a set - triggers error if value not found\n",
        "\n",
        "set1 = set(range(1,7))\n",
        "print(set1)\n",
        "set1.remove(4)\n",
        "print(set1)\n",
        "\n",
        "# .dicard() - same as .remove() - does not trigger key error for values not in set\n",
        "\n",
        "set1.discard(2)\n",
        "print(set1)\n",
        "set1.discard(8) # executes, but throws no errors\n",
        "print(set1)\n",
        "\n",
        "# .copy() - makes a copy of the set\n",
        "\n",
        "print(set1)\n",
        "another_set = set1.copy()\n",
        "print(another_set)\n",
        "print(another_set is set1) # creates a copy in memory\n",
        "\n",
        "# .clear() - clears out the entire set\n",
        "\n",
        "set1.clear()\n",
        "print(set1)"
      ],
      "metadata": {
        "colab": {
          "base_uri": "https://localhost:8080/"
        },
        "id": "E1f3Ht_SyBc8",
        "outputId": "40793485-f5c0-4ca4-92c0-80eed6160478"
      },
      "execution_count": null,
      "outputs": [
        {
          "output_type": "stream",
          "name": "stdout",
          "text": [
            "{1, 2, 3.777, 'a'}\n",
            "{1, 2, 3.777, 'a', 'added'}\n",
            "{1, 2, 3, 4, 5, 6}\n",
            "{1, 2, 3, 5, 6}\n",
            "{1, 3, 5, 6}\n",
            "{1, 3, 5, 6}\n",
            "{1, 3, 5, 6}\n",
            "{1, 3, 5, 6}\n",
            "False\n",
            "set()\n"
          ]
        }
      ]
    },
    {
      "cell_type": "code",
      "source": [
        "# Set Math\n",
        "\n",
        "# Union - '|'\n",
        "\n",
        "math_students = {'Matthew','Helen','Prashant','James','Aparna'}\n",
        "biology_students = {'Jane','Matthew','Charlotte','Mesut','Oliver','James'}\n",
        "\n",
        "print(math_students|biology_students) # creates new set with no duplicates\n",
        "\n",
        "# Intersection - '&'\n",
        "\n",
        "print(math_students & biology_students)"
      ],
      "metadata": {
        "colab": {
          "base_uri": "https://localhost:8080/"
        },
        "id": "0mMuL4Io2kah",
        "outputId": "7d072fba-65b0-48fb-d2a7-9723ccfff49d"
      },
      "execution_count": null,
      "outputs": [
        {
          "output_type": "stream",
          "name": "stdout",
          "text": [
            "{'Jane', 'Helen', 'Charlotte', 'Matthew', 'Mesut', 'James', 'Prashant', 'Aparna', 'Oliver'}\n",
            "{'Matthew', 'James'}\n"
          ]
        }
      ]
    },
    {
      "cell_type": "code",
      "source": [
        "# Coding Excercise\n",
        "\n",
        "# 1 - Create a variable called numbers which is a tuple with the the values 1, 2, 3 and 4 inside.\n",
        "numbers = tuple(range(1,5))\n",
        "print(numbers)\n",
        "\n",
        "# 2 - Create a variable called value which is a tuple with the the value 1 inside.\n",
        "value = tuple([1]) # (1,) - single valued tuple\n",
        "print(value)\n",
        "\n",
        "# 3 - Given the following variable:\n",
        "\n",
        "values = [10,20,30]\n",
        "\n",
        "# Create a variable called static_values which is the result of the values variable converted to a tuple\n",
        "static_values = tuple(values)\n",
        "print(static_values)\n",
        "\n",
        "# 4 - Given the following variable\n",
        "\n",
        "stuff = [1,3,1,5,2,5,1,2,5]\n",
        "\n",
        "# Create a variable called unique_stuff which is a set of only the unique values in the stuff list\n",
        "unique_stuff = set(stuff)\n",
        "print(unique_stuff)"
      ],
      "metadata": {
        "colab": {
          "base_uri": "https://localhost:8080/"
        },
        "id": "AGck7y3hNgNn",
        "outputId": "477b021c-59d4-459f-9464-daa0c435b314"
      },
      "execution_count": null,
      "outputs": [
        {
          "output_type": "stream",
          "name": "stdout",
          "text": [
            "(1, 2, 3, 4)\n",
            "(1,)\n",
            "(10, 20, 30)\n",
            "{1, 2, 3, 5}\n"
          ]
        }
      ]
    },
    {
      "cell_type": "code",
      "source": [
        "# Set Comprehension\n",
        "\n",
        "some_set = {x**2 for x in range(1,10)} # unlike dictionaries, only one variable specified\n",
        "print(some_set) # no order in the set, previous order scrambled\n",
        "\n",
        "char_set = {char.upper() for char in 'hello'}\n",
        "print(char_set) # order scrambled and duplicates removed\n",
        "\n",
        "string = 'hello'\n",
        "char_set = {char for char in string if char in 'aeiou'}\n",
        "print(char_set)\n",
        "\n",
        "val = len({char for char in string if char in 'aeiou'}) # returns length of set \n",
        "print(val)\n",
        "\n",
        "val = len({char for char in string if char in 'aeiou'}) == 5 # checks whether length of set equal to 5\n",
        "print(val)\n",
        "\n",
        "string = 'sequoia'\n",
        "val = len({char for char in string if char in 'aeiou'}) == 5 \n",
        "print(val) # returns True "
      ],
      "metadata": {
        "id": "waLsidJnOdYh",
        "colab": {
          "base_uri": "https://localhost:8080/"
        },
        "outputId": "1cfc7adc-7a90-4cfe-f0f6-baccb9ccbcb4"
      },
      "execution_count": null,
      "outputs": [
        {
          "output_type": "stream",
          "name": "stdout",
          "text": [
            "{64, 1, 4, 36, 9, 16, 49, 81, 25}\n",
            "{'H', 'L', 'O', 'E'}\n",
            "{'o', 'e'}\n",
            "2\n",
            "False\n",
            "True\n"
          ]
        }
      ]
    }
  ]
}