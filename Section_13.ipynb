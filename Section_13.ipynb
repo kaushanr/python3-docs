{
  "nbformat": 4,
  "nbformat_minor": 0,
  "metadata": {
    "colab": {
      "name": "Section_13.ipynb",
      "provenance": [],
      "authorship_tag": "ABX9TyMEALb7IIlPP8FMFw7qT1ck",
      "include_colab_link": true
    },
    "kernelspec": {
      "name": "python3",
      "display_name": "Python 3"
    },
    "language_info": {
      "name": "python"
    }
  },
  "cells": [
    {
      "cell_type": "markdown",
      "metadata": {
        "id": "view-in-github",
        "colab_type": "text"
      },
      "source": [
        "<a href=\"https://colab.research.google.com/github/kaushanr/python3_docs/blob/main/Section_13.ipynb\" target=\"_parent\"><img src=\"https://colab.research.google.com/assets/colab-badge.svg\" alt=\"Open In Colab\"/></a>"
      ]
    },
    {
      "cell_type": "markdown",
      "source": [
        "# List Comprehensions"
      ],
      "metadata": {
        "id": "VJIdxz5HFuz-"
      }
    },
    {
      "cell_type": "code",
      "execution_count": null,
      "metadata": {
        "colab": {
          "base_uri": "https://localhost:8080/"
        },
        "id": "SnIu6bdkFrb6",
        "outputId": "976a1020-a84d-4d7c-9e10-175b2e7d983a"
      },
      "outputs": [
        {
          "output_type": "stream",
          "name": "stdout",
          "text": [
            "[1, 4, 9, 16, 25]\n",
            "['C', 'O', 'L', 'T']\n",
            "['Ashley', 'Matt', 'Michael']\n",
            "['Ashley', 'Matt', 'Michael']\n",
            "[10, 20, 30, 40, 50, 60]\n",
            "[False, True, False, False, True]\n",
            "[1, 2, 3, 4, 5]\n",
            "['1', '2', '3', '4', '5']\n"
          ]
        }
      ],
      "source": [
        "# syntax - [same_variable_operation for same_variable in some_list]\n",
        "\n",
        "num = [1,2,3,4,5]\n",
        "\n",
        "new_num= [x*x for x in num]\n",
        "print(new_num)\n",
        "\n",
        "name= 'colt'\n",
        "print([char.upper() for char in name])\n",
        "\n",
        "friends = ['ashley','matt','michael']\n",
        "Friends = [friend.title() for friend in friends] # .title() - string method\n",
        "print(Friends)\n",
        "\n",
        "Friends2 = [friend[0].upper() + friend[1:] for friend in friends] # string concatenation used here\n",
        "print(Friends2)\n",
        "\n",
        "print([num*10 for num in range(1,7)])\n",
        "\n",
        "some_string = [0,1,\"\",[], 'test']\n",
        "print([bool(val) for val in some_string]) # get boolean string output\n",
        "\n",
        "print(num)\n",
        "print([str(ind) for ind in num])"
      ]
    },
    {
      "cell_type": "code",
      "source": [
        "# List comprehension with conditional logic\n",
        "\n",
        "numbers = list(range(1,11))\n",
        "print(numbers)\n",
        "\n",
        "even = [num for num in numbers if num % 2 == 0] # makes a list of even numbers\n",
        "print(even)\n",
        "odd = [num for num  in numbers if num %2 != 0] # makes a list of odd numbers\n",
        "print(odd)\n",
        "\n",
        "weird_list = [num*2 if num % 2 == 0 else num/2 for num in numbers] # the format with 'else' is different\n",
        "print(weird_list)\n",
        "\n",
        "with_vowels = 'This is so much fun'\n",
        "\n",
        "print([char for char in with_vowels if char not in \"aeiou\"]) # compares char with each character in 'aeiou' to make a new list\n",
        "print(''.join([char for char in with_vowels if char not in \"aeiou\"]))"
      ],
      "metadata": {
        "colab": {
          "base_uri": "https://localhost:8080/"
        },
        "id": "R1KQjlyqYlzq",
        "outputId": "1351cbac-4057-4e27-8ae5-2429799fc5db"
      },
      "execution_count": null,
      "outputs": [
        {
          "output_type": "stream",
          "name": "stdout",
          "text": [
            "[1, 2, 3, 4, 5, 6, 7, 8, 9, 10]\n",
            "[2, 4, 6, 8, 10]\n",
            "[1, 3, 5, 7, 9]\n",
            "[0.5, 4, 1.5, 8, 2.5, 12, 3.5, 16, 4.5, 20]\n",
            "['T', 'h', 's', ' ', 's', ' ', 's', ' ', 'm', 'c', 'h', ' ', 'f', 'n']\n",
            "Ths s s mch fn\n"
          ]
        }
      ]
    },
    {
      "cell_type": "code",
      "source": [
        "# Coding excercise\n",
        "\n",
        "answer = [num for num in list(range(1,5)) if num in list(range(3,7))]\n",
        "print(answer)\n",
        "\n",
        "answer2 = [name.lower()[::-1] for name in ['Elie','Tim','Matt']]\n",
        "print(answer2)\n",
        "\n",
        "answer =  [num for num in list(range(1,101)) if num % 12 == 0]\n",
        "print(answer)"
      ],
      "metadata": {
        "colab": {
          "base_uri": "https://localhost:8080/"
        },
        "id": "IBTVyuSyhG1b",
        "outputId": "77a42944-9fab-4c04-cd0c-469b6a99ed5a"
      },
      "execution_count": null,
      "outputs": [
        {
          "output_type": "stream",
          "name": "stdout",
          "text": [
            "[3, 4]\n",
            "['eile', 'mit', 'ttam']\n",
            "[12, 24, 36, 48, 60, 72, 84, 96]\n"
          ]
        }
      ]
    },
    {
      "cell_type": "code",
      "source": [
        "# Nested Lists\n",
        "\n",
        "nested_list = [list(range(1,4)),list(range(4,7)),list(range(7,10))]\n",
        "print(nested_list)\n",
        "\n",
        "print(nested_list[1][2]) # obtain from the outer lists, second object, the third oject in the inner list\n",
        "\n",
        "for i in nested_list: # printing values from nested lists\n",
        "  for val in i:\n",
        "    print(val)\n",
        "\n",
        "print(nested_list)\n",
        "[[print(val) for val in i] for i in nested_list]\n",
        "\n",
        "board = [[num for num in range(val,val+3)] for val in range(1,8,3)]\n",
        "print(board)\n",
        "\n",
        "xox = [[\"X\" if num %2 != 0 else \"O\" for num in range(1,4)] for val in range(1,4)] # the outer loop has no variable relation to the inner loop\n",
        "print(xox)\n",
        "\n",
        "rand_list = [['a','b','c'],[1,2,3],[True,False,None]]\n",
        "for x,y,z in rand_list: # multiple variables in a list pair can be accessed this way\n",
        "  print(x,y,z)\n",
        "  print(x,y,z, sep='\\n') # prints multiple variables in a new line"
      ],
      "metadata": {
        "colab": {
          "base_uri": "https://localhost:8080/"
        },
        "id": "KT0bkmeSl1fB",
        "outputId": "5ef68e96-8393-4996-e752-018423b6108d"
      },
      "execution_count": 1,
      "outputs": [
        {
          "output_type": "stream",
          "name": "stdout",
          "text": [
            "[[1, 2, 3], [4, 5, 6], [7, 8, 9]]\n",
            "6\n",
            "1\n",
            "2\n",
            "3\n",
            "4\n",
            "5\n",
            "6\n",
            "7\n",
            "8\n",
            "9\n",
            "[[1, 2, 3], [4, 5, 6], [7, 8, 9]]\n",
            "1\n",
            "2\n",
            "3\n",
            "4\n",
            "5\n",
            "6\n",
            "7\n",
            "8\n",
            "9\n",
            "[[1, 2, 3], [4, 5, 6], [7, 8, 9]]\n",
            "[['X', 'O', 'X'], ['X', 'O', 'X'], ['X', 'O', 'X']]\n",
            "a b c\n",
            "a\n",
            "b\n",
            "c\n",
            "1 2 3\n",
            "1\n",
            "2\n",
            "3\n",
            "True False None\n",
            "True\n",
            "False\n",
            "None\n"
          ]
        }
      ]
    }
  ]
}