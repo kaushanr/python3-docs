{
  "nbformat": 4,
  "nbformat_minor": 0,
  "metadata": {
    "colab": {
      "name": "Section_18.ipynb",
      "provenance": [],
      "authorship_tag": "ABX9TyMYkXOybSugLI0qfL8ctO1h",
      "include_colab_link": true
    },
    "kernelspec": {
      "name": "python3",
      "display_name": "Python 3"
    },
    "language_info": {
      "name": "python"
    }
  },
  "cells": [
    {
      "cell_type": "markdown",
      "metadata": {
        "id": "view-in-github",
        "colab_type": "text"
      },
      "source": [
        "<a href=\"https://colab.research.google.com/github/kaushanr/python3_docs/blob/main/Section_18.ipynb\" target=\"_parent\"><img src=\"https://colab.research.google.com/assets/colab-badge.svg\" alt=\"Open In Colab\"/></a>"
      ]
    },
    {
      "cell_type": "markdown",
      "source": [
        "# Function Exercises"
      ],
      "metadata": {
        "id": "saSYCPC60wjA"
      }
    },
    {
      "cell_type": "code",
      "execution_count": null,
      "metadata": {
        "id": "rn0XRvj20teF",
        "colab": {
          "base_uri": "https://localhost:8080/"
        },
        "outputId": "348cfc84-b292-472f-89dd-e86896eb4b5a"
      },
      "outputs": [
        {
          "output_type": "stream",
          "name": "stdout",
          "text": [
            "Wednesday\n",
            "Saturday\n",
            "None\n",
            "None\n"
          ]
        }
      ],
      "source": [
        "def return_day(num):\n",
        "    week = ('Sunday','Monday','Tuesday','Wednesday','Thursday','Friday','Saturday') # used tuple here since, order does not change\n",
        "    if num in range(1,8):\n",
        "        return week[num-1]\n",
        "    return None\n",
        "\n",
        "print(return_day(4))\n",
        "print(return_day(7))\n",
        "print(return_day(0))\n",
        "print(return_day(10))"
      ]
    },
    {
      "cell_type": "code",
      "source": [
        "'''\n",
        "last_element([1,2,3]) # 3\n",
        "last_element([]) # None\n",
        "'''\n",
        "\n",
        "def last_element(some_list):\n",
        "    if some_list:\n",
        "        return some_list.pop() # some_list[-1] would be better since no modification is made to the original list\n",
        "    return None\n",
        "\n",
        "print(last_element([1,2,3]))\n",
        "print(last_element([]),'\\n')\n",
        "\n",
        "def last_element(some_list):\n",
        "    if some_list:\n",
        "        return some_list[-1] # much better choice\n",
        "    return None\n",
        "\n",
        "print(last_element([1,2,3]))\n",
        "print(last_element([]))"
      ],
      "metadata": {
        "colab": {
          "base_uri": "https://localhost:8080/"
        },
        "id": "3Y91kX6F3kwy",
        "outputId": "b81ba8e3-9aec-4728-8b30-4d49fd513c9f"
      },
      "execution_count": null,
      "outputs": [
        {
          "output_type": "stream",
          "name": "stdout",
          "text": [
            "3\n",
            "None \n",
            "\n",
            "3\n",
            "None\n"
          ]
        }
      ]
    },
    {
      "cell_type": "code",
      "source": [
        "'''\n",
        "single_letter_count(\"Hello World\", \"h\") # 1\n",
        "single_letter_count(\"Hello World\", \"z\") # 0\n",
        "single_letter_count(\"HelLo World\", \"l\") # 3\n",
        "'''\n",
        "\n",
        "#define single_letter_count below:\n",
        "\n",
        "def single_letter_count(word,char):\n",
        "  result = word.lower().count(char.lower())\n",
        "  if result:\n",
        "      return result\n",
        "  return 0\n",
        "\n",
        "print(single_letter_count(\"Hello World\", \"h\"))"
      ],
      "metadata": {
        "colab": {
          "base_uri": "https://localhost:8080/"
        },
        "id": "qaSqktw07St_",
        "outputId": "6fe3e50b-40f6-483e-baca-fb0556675675"
      },
      "execution_count": null,
      "outputs": [
        {
          "output_type": "stream",
          "name": "stdout",
          "text": [
            "1\n"
          ]
        }
      ]
    },
    {
      "cell_type": "code",
      "source": [
        "'''\n",
        "multiple_letter_count(\"awesome\") # {'a': 1, 'e': 2, 'm': 1, 'o': 1, 's': 1, 'w': 1}\n",
        "'''\n",
        "\n",
        "# flesh out multiple_letter count:\n",
        "def multiple_letter_count(word):\n",
        "    return {char : word.count(char) for char in word}\n",
        "\n",
        "print(multiple_letter_count(\"awesome\"))"
      ],
      "metadata": {
        "colab": {
          "base_uri": "https://localhost:8080/"
        },
        "id": "P-DdDSVrUeX7",
        "outputId": "90aa0820-e6b3-40e3-986b-d82804d4a824"
      },
      "execution_count": null,
      "outputs": [
        {
          "output_type": "stream",
          "name": "stdout",
          "text": [
            "{'a': 1, 'w': 1, 'e': 2, 's': 1, 'o': 1, 'm': 1}\n"
          ]
        }
      ]
    },
    {
      "cell_type": "code",
      "source": [
        "'''\n",
        "list_manipulation([1,2,3], \"remove\", \"end\") # 3\n",
        "list_manipulation([1,2,3], \"remove\", \"beginning\") #  1\n",
        "list_manipulation([1,2,3], \"add\", \"beginning\", 20) #  [20,1,2,3]\n",
        "list_manipulation([1,2,3], \"add\", \"end\", 30) #  [1,2,3,30]\n",
        "'''\n",
        "\n",
        "def list_manipulation(some_list,cmd,loc,val=0):\n",
        "    if cmd == 'remove':\n",
        "        if loc == 'end':\n",
        "            return some_list.pop()\n",
        "        elif loc == 'beginning':\n",
        "            return some_list.pop(0)\n",
        "    elif cmd == 'add':\n",
        "        if loc == 'beginning':\n",
        "            some_list.insert(0,val)\n",
        "            return some_list\n",
        "        elif loc == 'end':\n",
        "            some_list.append(val)\n",
        "            return some_list\n",
        "\n",
        "print(list_manipulation([1,2,3], \"remove\", \"end\"))\n",
        "print(list_manipulation([1,2,3], \"add\", \"beginning\", 20))"
      ],
      "metadata": {
        "colab": {
          "base_uri": "https://localhost:8080/"
        },
        "id": "YXu49nwvb3rP",
        "outputId": "87cc6b9d-354a-48b9-83d0-975b3cc439f8"
      },
      "execution_count": null,
      "outputs": [
        {
          "output_type": "stream",
          "name": "stdout",
          "text": [
            "3\n",
            "[20, 1, 2, 3]\n"
          ]
        }
      ]
    },
    {
      "cell_type": "code",
      "source": [
        "'''\n",
        "\n",
        "\n",
        "\n",
        "\n",
        "is_palindrome('testing') # False\n",
        "is_palindrome('tacocat') # True\n",
        "is_palindrome('hannah') # True\n",
        "is_palindrome('robert') # False\n",
        "is_palindrome('amanaplanacanalpanama') # True\n",
        "'''\n",
        "\n",
        "def is_palindrome(input):\n",
        "  list_var = [char for char in input.lower() if char not in ' '] # convert to list object to remove spaces\n",
        "  no_spaces = ''.join(list_var)\n",
        "  list_var.reverse() # cannot assign to variable since return data is of NoneType - not a string method\n",
        "  result = ''.join(list_var)\n",
        "  if result == no_spaces:\n",
        "    return True\n",
        "  return False\n",
        "\n",
        "print(is_palindrome('testing'))\n",
        "print(is_palindrome('a man a plan a canal panama'))\n",
        "print(is_palindrome('tacocat'),'\\n')\n",
        "\n",
        "# another solution\n",
        "\n",
        "def is_palindrome(input):\n",
        "  no_spaces = ''.join([char for char in input.lower() if char not in ' '])\n",
        "  result = no_spaces[::-1] # reverses string order, returns string\n",
        "  return result == no_spaces # returns True or False if statement Truthy\n",
        "\n",
        "print(is_palindrome('testing'))\n",
        "print(is_palindrome('a man a plan a canal panama'))\n",
        "print(is_palindrome('tacocat'),'\\n')\n",
        "\n",
        "# another solution\n",
        "\n",
        "def is_palindrome(string):\n",
        "    stripped = string.lower().replace(\" \", \"\") # .replace(\"char to be replaced\",\"char to replace with\") - a string method \n",
        "    return stripped == stripped[::-1]\n",
        "\n",
        "print(is_palindrome('testing'))\n",
        "print(is_palindrome('a man a plan a canal panama'))\n",
        "print(is_palindrome('tacocat'))"
      ],
      "metadata": {
        "colab": {
          "base_uri": "https://localhost:8080/"
        },
        "id": "cdr4Daaj_EGz",
        "outputId": "8cdcd3fa-3bfb-4f43-b894-b21e7e43e58d"
      },
      "execution_count": null,
      "outputs": [
        {
          "output_type": "stream",
          "name": "stdout",
          "text": [
            "False\n",
            "True\n",
            "True \n",
            "\n",
            "False\n",
            "True\n",
            "True \n",
            "\n",
            "False\n",
            "True\n",
            "True\n"
          ]
        }
      ]
    },
    {
      "cell_type": "code",
      "source": [
        "# .replace() - string method\n",
        "\n",
        "something = 'unicorn'\n",
        "print(something.replace('c','q')) # both arguments have to be strings\n",
        "print('\\n',''.replace.__doc__)\n",
        "\n",
        "something = 'amanaplanacanalpanama'\n",
        "print('\\n',something.replace('a','T')) # replaces all instances of the character\n",
        "\n",
        "print('\\n',something.replace('a','T',3)) # replaces 3 instances of the character"
      ],
      "metadata": {
        "colab": {
          "base_uri": "https://localhost:8080/"
        },
        "id": "AsiG8oNAgNza",
        "outputId": "c557fdfd-cdec-4965-a126-40bc8ac74690"
      },
      "execution_count": null,
      "outputs": [
        {
          "output_type": "stream",
          "name": "stdout",
          "text": [
            "uniqorn\n",
            "\n",
            " Return a copy with all occurrences of substring old replaced by new.\n",
            "\n",
            "  count\n",
            "    Maximum number of occurrences to replace.\n",
            "    -1 (the default value) means replace all occurrences.\n",
            "\n",
            "If the optional argument count is given, only the first count occurrences are\n",
            "replaced.\n",
            "\n",
            " TmTnTplTnTcTnTlpTnTmT\n",
            "\n",
            " TmTnTplanacanalpanama\n"
          ]
        }
      ]
    },
    {
      "cell_type": "code",
      "source": [
        "'''\n",
        "multiply_even_numbers([2,3,4,5,6]) # 48\n",
        "'''\n",
        "\n",
        "def multiply_even_numbers(num_list):\n",
        "    result = 1\n",
        "    for num in num_list:\n",
        "      if num % 2 == 0:\n",
        "        result *= num\n",
        "    return result\n",
        "\n",
        "print(multiply_even_numbers([2,3,4,5,6]))"
      ],
      "metadata": {
        "colab": {
          "base_uri": "https://localhost:8080/"
        },
        "id": "KpsNXRK4ckuN",
        "outputId": "05cf1e5e-f084-404e-dd91-344a8a05e839"
      },
      "execution_count": null,
      "outputs": [
        {
          "output_type": "stream",
          "name": "stdout",
          "text": [
            "48\n"
          ]
        }
      ]
    },
    {
      "cell_type": "code",
      "source": [
        "def intersection(list1,list2):\n",
        "    set1 = set(list1)\n",
        "    set2 = set(list2)\n",
        "    return (list(set1 & set2))\n",
        "\n",
        "print(intersection([1,2,3,4,5],[3,4,1,6,7]),'\\n')\n",
        "\n",
        "# another solution\n",
        "\n",
        "def intersection(list1, list2):\n",
        "    return [val for val in set(list1) & set(list2)]\n",
        "\n",
        "print(intersection([1,2,3,4,5],[3,4,1,6,7]),'\\n')\n",
        "\n",
        "# another solution\n",
        "\n",
        "def intersection(list1, list2):\n",
        "    return list(set(list1) & set(list2))\n",
        "\n",
        "print(intersection([1,2,3,4,5],[3,4,1,6,7]))"
      ],
      "metadata": {
        "id": "M0tTkEklf4q9",
        "colab": {
          "base_uri": "https://localhost:8080/"
        },
        "outputId": "17371faa-9bc2-4090-f02b-80561d763380"
      },
      "execution_count": null,
      "outputs": [
        {
          "output_type": "stream",
          "name": "stdout",
          "text": [
            "[1, 3, 4] \n",
            "\n",
            "[1, 3, 4] \n",
            "\n",
            "[1, 3, 4]\n"
          ]
        }
      ]
    },
    {
      "cell_type": "code",
      "source": [
        "'''\n",
        "def isEven(num):\n",
        "    return num % 2 == 0\n",
        "\n",
        "partition([1,2,3,4], isEven) # [[2,4],[1,3]]\n",
        "'''\n",
        "\n",
        "def isEven(num):\n",
        "  return num % 2 == 0\n",
        "\n",
        "def partition(num_list,fn=isEven):\n",
        "  result1 = [num for num in num_list if fn(num)]\n",
        "  result2 = [num for num in num_list if not fn(num)]\n",
        "  return [result1,result2]\n",
        "\n",
        "print(partition([1,2,3,4], isEven),'\\n')\n",
        "\n",
        "# another solution\n",
        "\n",
        "def partition(lst, fn):\n",
        "    return [[val for val in lst if fn(val)], [val for val in lst if not fn(val)]]\n",
        "\n",
        "print(partition([1,2,3,4], isEven),'\\n')\n",
        "\n",
        "# another solution\n",
        "\n",
        "def partition(l, fn):\n",
        "    return [[l.pop(l.index(i)) for i in l if fn(i)],l] # whatever is popped from the truthy list, the original list will then become the falsy list\n",
        "\n",
        "print(partition([1,2,3,4], isEven))"
      ],
      "metadata": {
        "colab": {
          "base_uri": "https://localhost:8080/"
        },
        "id": "5XCP-1apjwry",
        "outputId": "840c1e48-7311-47b8-97ef-3fe0e48a3442"
      },
      "execution_count": null,
      "outputs": [
        {
          "output_type": "stream",
          "name": "stdout",
          "text": [
            "[[2, 4], [1, 3]] \n",
            "\n",
            "[[2, 4], [1, 3]] \n",
            "\n",
            "[[2, 4], [1, 3]]\n"
          ]
        }
      ]
    }
  ]
}