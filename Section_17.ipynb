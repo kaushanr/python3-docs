{
  "nbformat": 4,
  "nbformat_minor": 0,
  "metadata": {
    "colab": {
      "name": "Section_17",
      "provenance": [],
      "collapsed_sections": [],
      "authorship_tag": "ABX9TyM4a7G4DBRzl7UNSU6+F0PK",
      "include_colab_link": true
    },
    "kernelspec": {
      "name": "python3",
      "display_name": "Python 3"
    },
    "language_info": {
      "name": "python"
    }
  },
  "cells": [
    {
      "cell_type": "markdown",
      "metadata": {
        "id": "view-in-github",
        "colab_type": "text"
      },
      "source": [
        "<a href=\"https://colab.research.google.com/github/kaushanr/python3-docs/blob/main/Section_17.ipynb\" target=\"_parent\"><img src=\"https://colab.research.google.com/assets/colab-badge.svg\" alt=\"Open In Colab\"/></a>"
      ]
    },
    {
      "cell_type": "markdown",
      "source": [
        "# Functions - 1"
      ],
      "metadata": {
        "id": "e9CKXejdTGJ3"
      }
    },
    {
      "cell_type": "code",
      "execution_count": null,
      "metadata": {
        "id": "b58COTcXTC4h",
        "colab": {
          "base_uri": "https://localhost:8080/"
        },
        "outputId": "021a864a-994c-42fb-f4b2-0f0c9362d53c"
      },
      "outputs": [
        {
          "output_type": "stream",
          "name": "stdout",
          "text": [
            "Hi\n",
            "Hi\n",
            "\n",
            "Heads\n",
            "Tails\n",
            "Tails\n",
            "\n",
            "Tails\n",
            "Heads\n",
            "Tails\n"
          ]
        }
      ],
      "source": [
        "# Function - a process for executing a task - useful for executing similiar procedures \n",
        "\n",
        "  # Why? - stay DRY! - Don't Repeat Yourself, abstract away code for others\n",
        "\n",
        "# Defining functions - def name_of_function(): - typically in snake_case\n",
        "  # block of runnable code\n",
        "\n",
        "def say_hi():\n",
        "  print('Hi')\n",
        "\n",
        "say_hi() # function invoked\n",
        "\n",
        "# Return - saves the result of executing the function to an external variable\n",
        "\n",
        "  # outputs whatever is placed after the 'return' keyword\n",
        "  # pops function off of the call stack\n",
        "\n",
        "def say_hi_v2():\n",
        "  return 'Hi' # return also exits the function\n",
        "\n",
        "greeting = say_hi_v2() # result saved to variable\n",
        "print(greeting)\n",
        "\n",
        "print('')\n",
        "\n",
        "# coin flipping\n",
        "\n",
        "from random import random\n",
        "def flip_coin():\n",
        "  num = random() # random function outputs floating points between a range\n",
        "  if num <= 0.5:\n",
        "    return 'Heads'\n",
        "  else:\n",
        "    return 'Tails'\n",
        "\n",
        "for i in range(3):\n",
        "  result = flip_coin()\n",
        "  print(result)\n",
        "\n",
        "print('')\n",
        "\n",
        "from random import choice\n",
        "def flip_coin2():\n",
        "  return choice(['Heads','Tails'])\n",
        "\n",
        "for i in range(3):\n",
        "  print(flip_coin2())\n",
        "\n",
        "# functions can be overwritten "
      ]
    },
    {
      "cell_type": "code",
      "source": [
        "# Coding excercise\n",
        "\n",
        "def generate_evens():\n",
        "  return [num for num in range(1,50) if num % 2 == 0]\n",
        "\n",
        "print(generate_evens())\n",
        "\n",
        "def generate_evens():\n",
        "  result = []\n",
        "  for i in range(1,50):\n",
        "    if i % 2 == 0:\n",
        "      result.append(i) # using a list method\n",
        "  return result\n",
        "\n",
        "print(generate_evens())"
      ],
      "metadata": {
        "colab": {
          "base_uri": "https://localhost:8080/"
        },
        "id": "x5ZPKHIo5tcg",
        "outputId": "d00c897f-0f52-4c33-92c0-ffdbe64e1d81"
      },
      "execution_count": null,
      "outputs": [
        {
          "output_type": "stream",
          "name": "stdout",
          "text": [
            "[2, 4, 6, 8, 10, 12, 14, 16, 18, 20, 22, 24, 26, 28, 30, 32, 34, 36, 38, 40, 42, 44, 46, 48]\n",
            "[2, 4, 6, 8, 10, 12, 14, 16, 18, 20, 22, 24, 26, 28, 30, 32, 34, 36, 38, 40, 42, 44, 46, 48]\n"
          ]
        }
      ]
    },
    {
      "cell_type": "code",
      "source": [
        "# Functions with inputs\n",
        "\n",
        "def square(num): # accepts a single input argument in this case\n",
        "  return num**2\n",
        "\n",
        "print(square(5))\n",
        "print(square(7))\n",
        "print(square(8))\n",
        "\n",
        "print('')\n",
        "\n",
        "def add(a,b): # accepts two input arguments\n",
        "  return a + b\n",
        "\n",
        "print(add(2,3))\n",
        "print(add(56,47))\n",
        "print(add(32.56,13.77))\n",
        "\n",
        "print('')\n",
        "\n",
        "def multiply(first,second):\n",
        "  return round(first * second,2) # rounds result to 2 decimal places\n",
        "\n",
        "print(multiply(2,3))\n",
        "print(multiply(6.58,9.44))\n",
        "\n",
        "print('')\n",
        "\n",
        "def full_name(first,second):\n",
        "  return (f'Your full name is {first} {second}')\n",
        "\n",
        "print(full_name('Jake','Peralta')) # long live the Halloween Heist GOAT!\n",
        "\n",
        "print('')\n",
        "\n",
        "# Parameters vs Arguments\n",
        "\n",
        "  # Parameters - is the variable in the declaration of function\n",
        "  # Arguments - the actual data passed into the invoked funtion's parameters\n",
        "\n",
        "  # Syntax - def some_func(parameter): -- some_func(argument)\n",
        "\n",
        "  # *NOTE! - assigment order of parameters to arguments have to be the same to avoid errors \n",
        "\n",
        "def divide(num1,num2):\n",
        "  return num1/num2\n",
        "\n",
        "print(divide(2,5)) # argument assignment order matters\n",
        "print(divide(5,2))\n",
        "\n",
        "def divide(num2,num1):\n",
        "  return num1/num2\n",
        "\n",
        "print(divide(2,5)) \n",
        "print(divide(5,2))\n",
        "\n",
        "print('')\n",
        "\n",
        "# return problems\n",
        "\n",
        "def sum_odd_num(numbers):\n",
        "  total = 0\n",
        "  for num in numbers:\n",
        "    if num % 2 != 0: # odd number check\n",
        "      total += num\n",
        "  return total # place return at the outermost indentation level to avoid premature function exits\n",
        "\n",
        "print(sum_odd_num(range(1,100)))\n",
        "\n",
        "def sum_odd_num(numbers):\n",
        "  total = 0\n",
        "  odd_list = []\n",
        "  for num in numbers:\n",
        "    if num % 2 != 0: # odd number check\n",
        "      total += num\n",
        "      odd_list.append(num)\n",
        "  return odd_list, total # returns two outputs\n",
        "\n",
        "print(sum_odd_num(range(1,10)))\n",
        "print(type(sum_odd_num(range(1,10)))) # output is a tuple\n",
        "\n",
        "print('')\n",
        "\n",
        "def is_odd(num):\n",
        "  if num % 2 != 0:\n",
        "    return True\n",
        "  else: # else is redundant here, since return exits the if condition if conditional is true\n",
        "    return False\n",
        "\n",
        "print(is_odd(3))\n",
        "print(is_odd(8))\n",
        "\n",
        "def is_odd(num):\n",
        "  if num % 2 != 0:\n",
        "    return True\n",
        "  return False\n",
        "\n",
        "print(is_odd(3))\n",
        "print(is_odd(8))"
      ],
      "metadata": {
        "colab": {
          "base_uri": "https://localhost:8080/"
        },
        "id": "XccHOt1T6z91",
        "outputId": "ca52985a-3f24-4749-cb6c-3b11e2bcd61e"
      },
      "execution_count": null,
      "outputs": [
        {
          "output_type": "stream",
          "name": "stdout",
          "text": [
            "25\n",
            "49\n",
            "64\n",
            "\n",
            "5\n",
            "103\n",
            "46.33\n",
            "\n",
            "6\n",
            "62.12\n",
            "\n",
            "Your full name is Jake Peralta\n",
            "\n",
            "0.4\n",
            "2.5\n",
            "2.5\n",
            "0.4\n",
            "\n",
            "2500\n",
            "([1, 3, 5, 7, 9], 25)\n",
            "<class 'tuple'>\n",
            "\n",
            "True\n",
            "False\n",
            "True\n",
            "False\n"
          ]
        }
      ]
    },
    {
      "cell_type": "code",
      "source": [
        "# Default Parameters\n",
        "\n",
        "def power(num,power = 2): # power parameter set to default value of 2 if not specified in argument\n",
        "  return num ** power\n",
        "\n",
        "print(power(2,3))\n",
        "print(power(3,3))\n",
        "print(power(3)) # still works!\n",
        "\n",
        "print('')\n",
        "\n",
        "from random import randint # not a good idea as random.randint has to be inserted prior to executing this function\n",
        "def add(a = randint(1,10),b = randint(1,10)):\n",
        "  return a + b\n",
        "\n",
        "print(add(56,75))\n",
        "print(add()) # still works tho...\n",
        "\n",
        "print('')\n",
        "\n",
        "# some welcome screen example\n",
        "\n",
        "def welcome_NYPD(name,user = False):\n",
        "  if name == 'Jake Peralta' and user:\n",
        "    return 'Hi there Jake!, HH GOAT!'\n",
        "  elif name == 'Jake' or name == 'Jake Peralta':\n",
        "    return 'Maan, I really thought you were Jake...wait up in the lounge please'\n",
        "  elif name == 'Doug Judy':\n",
        "    return 'Best police buds or whaaat now!...in you go to the holding cell, Judy'\n",
        "  return 'Hi there ' + name + ', please wait up in the lounge'\n",
        "\n",
        "print(welcome_NYPD('Amy Santiago'))\n",
        "print(welcome_NYPD('Jake'))\n",
        "print(welcome_NYPD('Jake Peralta'))\n",
        "print(welcome_NYPD('Jake Peralta',True))\n",
        "print(welcome_NYPD('Doug Judy'))\n",
        "\n",
        "print('')\n",
        "\n",
        "# default parameters can take on any data type or even other functions\n",
        "\n",
        "def add(a,b):\n",
        "  return a + b\n",
        "\n",
        "def multiply(a,b):\n",
        "  return a * b\n",
        "\n",
        "def math(a,b,func = add): # func defaults to invoking a secondary function if not specified\n",
        "  return func(a,b)\n",
        "\n",
        "print(math(3,4))\n",
        "print(math(3,4,multiply))\n",
        "print(math(3,4,power)) # this will trigger a compile error if only this cell block is run at initiation"
      ],
      "metadata": {
        "colab": {
          "base_uri": "https://localhost:8080/"
        },
        "id": "21wF3VNQNkZy",
        "outputId": "653eaef5-00be-4fab-897c-9f512c2c1756"
      },
      "execution_count": null,
      "outputs": [
        {
          "output_type": "stream",
          "name": "stdout",
          "text": [
            "8\n",
            "27\n",
            "9\n",
            "\n",
            "131\n",
            "8\n",
            "\n",
            "Hi there Amy Santiago, please wait up in the lounge\n",
            "Maan, I really thought you were Jake...wait up in the lounge please\n",
            "Maan, I really thought you were Jake...wait up in the lounge please\n",
            "Hi there Jake!, HH GOAT!\n",
            "Best police buds or whaaat now!...in you go to the holding cell, Judy\n",
            "\n",
            "7\n",
            "12\n",
            "81\n"
          ]
        }
      ]
    },
    {
      "cell_type": "code",
      "source": [
        "# Coding excercise\n",
        "\n",
        "# Define speak below:\n",
        "def speak(animal = 'dog'):\n",
        "    if animal == 'pig':\n",
        "        return 'oink'\n",
        "    elif animal == 'duck':\n",
        "        return 'quack'\n",
        "    elif animal == 'cat':\n",
        "        return 'meow'\n",
        "    elif animal == 'dog':\n",
        "        return 'woof'\n",
        "    return '?'\n",
        "\n",
        "for word in ['pig','duck','cat','dog','elephant']:\n",
        "  print(speak(word))\n",
        "\n",
        "print(speak())\n",
        "\n",
        "print('')\n",
        "\n",
        "# another method using dictionaries\n",
        "\n",
        "def speak(animal = 'dog'):\n",
        "  sounds = {'pig':'oink','duck':'quack','cat':'meow','dog':'woof'}\n",
        "  if animal in sounds: # used to filter out non existent key case\n",
        "    return sounds[animal] # not particularly good - results in key error for non existent keys\n",
        "  return '?'\n",
        "\n",
        "for word in ['pig','duck','cat','dog','elephant']:\n",
        "  print(speak(word))\n",
        "\n",
        "print(speak())\n",
        "\n",
        "print('')\n",
        "\n",
        "# another method\n",
        "\n",
        "def speak(animal = 'dog'):\n",
        "  sounds = {'pig':'oink','duck':'quack','cat':'meow','dog':'woof'}\n",
        "  sound  = sounds.get(animal) # .get() is preferred - no key errors for non existent keys\n",
        "  if sound:\n",
        "    return sound\n",
        "  return '?'\n",
        "\n",
        "for word in ['pig','duck','cat','dog','elephant']:\n",
        "  print(speak(word))\n",
        "\n",
        "print(speak())"
      ],
      "metadata": {
        "colab": {
          "base_uri": "https://localhost:8080/"
        },
        "id": "XOHjKcD8ZHoV",
        "outputId": "a403c94d-e0fb-41f8-8066-b4cdddbe524d"
      },
      "execution_count": null,
      "outputs": [
        {
          "output_type": "stream",
          "name": "stdout",
          "text": [
            "oink\n",
            "quack\n",
            "meow\n",
            "woof\n",
            "?\n",
            "woof\n",
            "\n",
            "oink\n",
            "quack\n",
            "meow\n",
            "woof\n",
            "?\n",
            "woof\n",
            "\n",
            "oink\n",
            "quack\n",
            "meow\n",
            "woof\n",
            "?\n",
            "woof\n"
          ]
        }
      ]
    },
    {
      "cell_type": "code",
      "source": [
        "# Keyword Arguments\n",
        "\n",
        "def power(num,power = 2): \n",
        "  return num ** power\n",
        "\n",
        "result = power(power = 4, num = 3) # scrambling argument order only works when parameter name are known and can be assigned as arguments\n",
        "print(result)\n",
        "\n",
        "result = power(num = 3, power = 4) \n",
        "print(result)\n",
        "\n",
        "result = power(3,4) \n",
        "print(result)\n",
        "\n",
        "result = power(4,3) \n",
        "print(result)\n",
        "\n",
        "  # Default parameters - work when you assign a value to a parameter when contructing the function\n",
        "  # Keyword arguments - work when you invoke a function and assign values to the arguments using the parameter names\n",
        "  # Notice the difference!"
      ],
      "metadata": {
        "id": "zsqqmzWob0NK",
        "colab": {
          "base_uri": "https://localhost:8080/"
        },
        "outputId": "f08100cc-0632-4101-91d6-728140b95af8"
      },
      "execution_count": null,
      "outputs": [
        {
          "output_type": "stream",
          "name": "stdout",
          "text": [
            "81\n",
            "81\n",
            "81\n",
            "64\n"
          ]
        }
      ]
    },
    {
      "cell_type": "code",
      "source": [
        "# Scope\n",
        "\n",
        "  # variables created in a function are scoped to that function (variable used internally only)\n",
        "\n",
        "name1 = 'Boyle'\n",
        "\n",
        "def say_hello():\n",
        "  return f'Hello {name1}' # works because 'name' is a global variable declared outside a function\n",
        "\n",
        "print(name1) # global variable can be accessed outside, and inside a function\n",
        "print(say_hello()) \n",
        "\n",
        "def say_hello():\n",
        "  name2 = 'Rosa'\n",
        "  return f'Hello {name2}'\n",
        "\n",
        "  # print(name2) # name2 is a local variable declared inside a function, hence cannot be accessed outside\n",
        "print(say_hello())\n",
        "\n",
        "print('')\n",
        "\n",
        "# global variables\n",
        "\n",
        "  # functions will inherently look for local variables within them unless specfied\n",
        "\n",
        "total = 0\n",
        "\n",
        "def increment():\n",
        "  global total # function wil not work unless specified to look for global variable defined outside function\n",
        "  total += 1 # by default it will look for a locally declared variable of the same name\n",
        "  return total\n",
        "\n",
        "for i in range(10):\n",
        "  print(increment())\n",
        "\n",
        "  # global variable can be accessed inside a function but not manipulated or operated on in any way\n",
        "\n",
        "print('')\n",
        "\n",
        "# nonlocal - allows modification of a parent's variable in a child - nested functions\n",
        "\n",
        "def outer():\n",
        "  count = 0\n",
        "  def inner():\n",
        "    nonlocal count # count declared in outer function, but is not a global variable, hence its nonlocal\n",
        "    count += 1\n",
        "    return count\n",
        "  return inner()\n",
        "\n",
        "print(outer())"
      ],
      "metadata": {
        "colab": {
          "base_uri": "https://localhost:8080/"
        },
        "id": "bo3izdmpfZhH",
        "outputId": "6660ccf7-c5bb-458a-ca25-0ab3136659dd"
      },
      "execution_count": null,
      "outputs": [
        {
          "output_type": "stream",
          "name": "stdout",
          "text": [
            "Boyle\n",
            "Hello Boyle\n",
            "Hello Rosa\n",
            "\n",
            "1\n",
            "2\n",
            "3\n",
            "4\n",
            "5\n",
            "6\n",
            "7\n",
            "8\n",
            "9\n",
            "10\n",
            "\n",
            "1\n"
          ]
        }
      ]
    },
    {
      "cell_type": "code",
      "source": [
        "# Documenting Functions - docstrings\n",
        "\n",
        "def say_hello():\n",
        "  \"\"\"A simple function that returns the string \\'Hello\\'.\"\"\"\n",
        "  return 'Hello'\n",
        "\n",
        "print(say_hello.__doc__,'\\n') # shows function documentation if it exists\n",
        "\n",
        "print(print.__doc__,'\\n')\n",
        "\n",
        "from random import randint\n",
        "print(randint.__doc__,'\\n')\n",
        "\n",
        "print(list.pop.__doc__,'\\n')\n",
        "\n",
        "print({}.fromkeys.__doc__)"
      ],
      "metadata": {
        "colab": {
          "base_uri": "https://localhost:8080/"
        },
        "id": "tD1KMpbVtwHO",
        "outputId": "ef321d4e-dcb6-432e-c23f-bacfc38ccfa2"
      },
      "execution_count": null,
      "outputs": [
        {
          "output_type": "stream",
          "name": "stdout",
          "text": [
            "A simple function that returns the string 'Hello'. \n",
            "\n",
            "print(value, ..., sep=' ', end='\\n', file=sys.stdout, flush=False)\n",
            "\n",
            "Prints the values to a stream, or to sys.stdout by default.\n",
            "Optional keyword arguments:\n",
            "file:  a file-like object (stream); defaults to the current sys.stdout.\n",
            "sep:   string inserted between values, default a space.\n",
            "end:   string appended after the last value, default a newline.\n",
            "flush: whether to forcibly flush the stream. \n",
            "\n",
            "Return random integer in range [a, b], including both end points.\n",
            "         \n",
            "\n",
            "Remove and return item at index (default last).\n",
            "\n",
            "Raises IndexError if list is empty or index is out of range. \n",
            "\n",
            "Create a new dictionary with keys from iterable and values set to value.\n"
          ]
        }
      ]
    }
  ]
}