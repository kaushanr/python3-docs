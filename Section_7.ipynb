{
  "nbformat": 4,
  "nbformat_minor": 0,
  "metadata": {
    "colab": {
      "name": "Section_7.ipynb",
      "provenance": [],
      "authorship_tag": "ABX9TyNztJkJd9jbKFbG5NF731+v",
      "include_colab_link": true
    },
    "kernelspec": {
      "name": "python3",
      "display_name": "Python 3"
    },
    "language_info": {
      "name": "python"
    }
  },
  "cells": [
    {
      "cell_type": "markdown",
      "metadata": {
        "id": "view-in-github",
        "colab_type": "text"
      },
      "source": [
        "<a href=\"https://colab.research.google.com/github/kaushanr/python3_docs/blob/main/Section_7.ipynb\" target=\"_parent\"><img src=\"https://colab.research.google.com/assets/colab-badge.svg\" alt=\"Open In Colab\"/></a>"
      ]
    },
    {
      "cell_type": "markdown",
      "source": [
        "# Variables and Data Types"
      ],
      "metadata": {
        "id": "5PUyklSyKxmH"
      }
    },
    {
      "cell_type": "code",
      "execution_count": null,
      "metadata": {
        "colab": {
          "base_uri": "https://localhost:8080/"
        },
        "id": "5ZooOT8wKu7_",
        "outputId": "434d6713-27cf-4f7a-b551-a3dac5af1df9"
      },
      "outputs": [
        {
          "output_type": "stream",
          "name": "stdout",
          "text": [
            "99\n",
            "198\n",
            "100\n",
            "100\n",
            "1337\n",
            "5 10 15\n"
          ]
        }
      ],
      "source": [
        "# variable  assignment\n",
        "\n",
        "num_of_cats = 99\n",
        "print(num_of_cats)\n",
        "\n",
        "print(num_of_cats*2)  # variable 'num_of_cats' value does not change\n",
        "\n",
        "# variable reassignment \n",
        "\n",
        "python_is_awesome = 100\n",
        "print(python_is_awesome)\n",
        "\n",
        "just_another_var = python_is_awesome\n",
        "print(just_another_var)\n",
        "\n",
        "python_is_awesome = 1337\n",
        "print(python_is_awesome)\n",
        "\n",
        "# declaring multiple variables\n",
        "\n",
        "all,  at, once = 5, 10, 15\n",
        "print(all, at, once)"
      ]
    },
    {
      "cell_type": "code",
      "source": [
        "num_of_cats = 99\n",
        "print(num_of_cats)\n",
        "\n",
        "num_of_cats = num_of_cats - 1\n",
        "print(num_of_cats)"
      ],
      "metadata": {
        "colab": {
          "base_uri": "https://localhost:8080/"
        },
        "id": "afgP7_z3hxd3",
        "outputId": "eef58d90-5f1a-42cc-c046-99875323cc04"
      },
      "execution_count": null,
      "outputs": [
        {
          "output_type": "stream",
          "name": "stdout",
          "text": [
            "99\n",
            "98\n"
          ]
        }
      ]
    },
    {
      "cell_type": "code",
      "source": [
        "# Bank Robery Money\n",
        "\n",
        "cash = 19867324678987.99  # DON'T CHANGE THE CASH VARIABLE\n",
        "\n",
        "# ADD YOUR CODE BELOW:\n",
        "cash = cash/5\n",
        "print(cash) # or print(cash/5)"
      ],
      "metadata": {
        "colab": {
          "base_uri": "https://localhost:8080/"
        },
        "id": "1d0QmJH0iX1r",
        "outputId": "3ce1562a-a395-4f2a-a0df-3721788b3c08"
      },
      "execution_count": null,
      "outputs": [
        {
          "output_type": "stream",
          "name": "stdout",
          "text": [
            "3973464935797.5977\n"
          ]
        }
      ]
    },
    {
      "cell_type": "code",
      "source": [
        "# Naming Restrictions\n",
        "\n",
        "# Variables must start with a letter or an underscore\n",
        "\n",
        "cats, _cats = 5, 10\n",
        "\n",
        "# Rest of the name must consist of letters, numbers or underscores. No special characters\n",
        "\n",
        "# Variable names are case sensitive"
      ],
      "metadata": {
        "id": "j4kD_oNzqkHn"
      },
      "execution_count": null,
      "outputs": []
    },
    {
      "cell_type": "code",
      "source": [
        "# Naming Conventions \n",
        "\n",
        "snake_case = 1 # typical snake_case naming for variables\n",
        "\n",
        "SNAKE_CASE = 2 # capital snake_case naming for constants\n",
        "\n",
        "camelCase = 3 # lower camel case naming for variables, not typically used\n",
        "\n",
        "CamelCase = 4 # upper camel case naming used for classes\n",
        "\n",
        "_no_touchy_ = 5 # double underscores 'dunders', variables that must not be altered"
      ],
      "metadata": {
        "id": "LHufPJLr1Qzj"
      },
      "execution_count": null,
      "outputs": []
    },
    {
      "cell_type": "code",
      "source": [
        "# Data Types\n",
        "\n",
        "# int, float, bool, str, list, dict\n",
        "\n",
        "is_active = True # boolean assignment must start with capital letters\n",
        "print(is_active)\n",
        "\n",
        "random_name = 'Randy'\n",
        "print(random_name)\n",
        "\n",
        "some_string = '8'\n",
        "print(type(some_string))\n",
        "print(type(8))"
      ],
      "metadata": {
        "colab": {
          "base_uri": "https://localhost:8080/"
        },
        "id": "7zhLXWVu35ql",
        "outputId": "77e744cb-e23d-4342-dcdb-fdefc87af4e0"
      },
      "execution_count": null,
      "outputs": [
        {
          "output_type": "stream",
          "name": "stdout",
          "text": [
            "True\n",
            "Randy\n",
            "<class 'str'>\n",
            "<class 'int'>\n"
          ]
        }
      ]
    },
    {
      "cell_type": "code",
      "source": [
        "#  Dynamic Typing\n",
        "\n",
        "# python is a dynnamically typed language, meaning that the same variables can be reassigned to hold different types of data along the code\n",
        "\n",
        "awesomness = True\n",
        "print(awesomness)\n",
        "\n",
        "awesomness = 'a dog'\n",
        "print(awesomness)\n",
        "\n",
        "awesomness = None\n",
        "print(awesomness)\n",
        "\n",
        "awesomness = 22/7\n",
        "print(awesomness)"
      ],
      "metadata": {
        "colab": {
          "base_uri": "https://localhost:8080/"
        },
        "id": "A8aV3IQq6_Dt",
        "outputId": "362960db-8f8e-41e2-c6ef-8187227b6754"
      },
      "execution_count": null,
      "outputs": [
        {
          "output_type": "stream",
          "name": "stdout",
          "text": [
            "True\n",
            "a dog\n",
            "None\n",
            "3.142857142857143\n"
          ]
        }
      ]
    },
    {
      "cell_type": "code",
      "source": [
        "# Usage of NoneType\n",
        "\n",
        "name = 'Daisy'\n",
        "age = 30\n",
        "child = None\n",
        "print(child)\n",
        "print(type(child))"
      ],
      "metadata": {
        "colab": {
          "base_uri": "https://localhost:8080/"
        },
        "id": "6tQKsAtV8b6B",
        "outputId": "6d7308e3-0bf2-45cf-ddc1-1e6f41df696b"
      },
      "execution_count": null,
      "outputs": [
        {
          "output_type": "stream",
          "name": "stdout",
          "text": [
            "None\n",
            "<class 'NoneType'>\n"
          ]
        }
      ]
    },
    {
      "cell_type": "code",
      "source": [
        "# Strings\n",
        "\n",
        "# strings can be declared by using either 'something' or \"something\". Stick with one convention throughout\n",
        "\n",
        "# Cascaded quotations \n",
        "\n",
        "msg  = \"he said 'hello there!'\"\n",
        "\n",
        "print(msg)\n",
        "\n",
        "# Escape Sequences\n",
        "\n",
        "new_line = ' hello \\n world'\n",
        "print(new_line)"
      ],
      "metadata": {
        "colab": {
          "base_uri": "https://localhost:8080/"
        },
        "id": "9s-iLGKY9t9C",
        "outputId": "fd81b51c-ecc3-47d5-bafb-7b97e2fcb1e0"
      },
      "execution_count": 21,
      "outputs": [
        {
          "output_type": "stream",
          "name": "stdout",
          "text": [
            "he said 'hello there!'\n",
            " hello \n",
            " world\n"
          ]
        }
      ]
    }
  ]
}