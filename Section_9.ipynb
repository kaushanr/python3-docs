{
  "nbformat": 4,
  "nbformat_minor": 0,
  "metadata": {
    "colab": {
      "name": "Section_9.ipynb",
      "provenance": [],
      "authorship_tag": "ABX9TyPEl4i6AHaPfL6AOu/+kWOg",
      "include_colab_link": true
    },
    "kernelspec": {
      "name": "python3",
      "display_name": "Python 3"
    },
    "language_info": {
      "name": "python"
    }
  },
  "cells": [
    {
      "cell_type": "markdown",
      "metadata": {
        "id": "view-in-github",
        "colab_type": "text"
      },
      "source": [
        "<a href=\"https://colab.research.google.com/github/kaushanr/python3_docs/blob/main/Section_9.ipynb\" target=\"_parent\"><img src=\"https://colab.research.google.com/assets/colab-badge.svg\" alt=\"Open In Colab\"/></a>"
      ]
    },
    {
      "cell_type": "markdown",
      "source": [
        "# Rock, Paper, Scissors"
      ],
      "metadata": {
        "id": "VvojzSIrbp_0"
      }
    },
    {
      "cell_type": "code",
      "execution_count": 33,
      "metadata": {
        "id": "_UTOgS-hbl8C",
        "colab": {
          "base_uri": "https://localhost:8080/"
        },
        "outputId": "6c32c556-f798-4681-96f8-a8bcd37c6d95"
      },
      "outputs": [
        {
          "output_type": "stream",
          "name": "stdout",
          "text": [
            "Welcome to RPS, the basic version\n",
            "Player 1, make your move : Rock\n",
            "Player 2, make your move : Scissors\n",
            "Shoot!\n",
            "Player 1 wins!\n"
          ]
        }
      ],
      "source": [
        "# The basic version\n",
        "\n",
        "print('Welcome to RPS, the basic version')\n",
        "\n",
        "player1 = input('Player 1, make your move : ')\n",
        "player2 = input('Player 2, make your move : ')\n",
        "\n",
        "# print('****NO CHEATING****\\n' * 20) # prints output 20 times on new lines\n",
        "\n",
        "if player1 and player2:\n",
        "  print('Shoot!')\n",
        "  if player1 == 'Rock' and player2 == 'Paper':\n",
        "    print('Player 2 wins!')\n",
        "  elif player1 == 'Rock' and player2 == 'Scissors':\n",
        "    print('Player 1 wins!')\n",
        "  elif player1 == 'Paper' and player2 == 'Rock':\n",
        "    print('Player 1 wins!')\n",
        "  elif player1 == 'Paper' and player2 == 'Scissors':\n",
        "    print('Player 2 wins!')\n",
        "  elif player1 == 'Scissors' and player2 == 'Rock':\n",
        "    print('Player 2 wins!')\n",
        "  elif player1 == 'Scissors' and player2 == 'Paper':\n",
        "    print('Player 1 wins!')\n",
        "  elif player1 == player2:\n",
        "    print('It\\'s a tie!')\n",
        "  else:\n",
        "    print('Something went wrong...')\n",
        "elif player1 and not player2:\n",
        "  print('Player 2, you didn\\'t enter anything!')\n",
        "elif not player1 and player2:\n",
        "  print('Player 1, you didn\\'t enter anything!')\n",
        "else:\n",
        "  print('Player 1 and Player 2, you didn\\'t enter anything!')"
      ]
    },
    {
      "cell_type": "code",
      "source": [
        "# Refactored RPS version (slightly beyond basic here...)\n",
        "\n",
        "import getpass as gp # library used for hiding password input characters\n",
        "\n",
        "print('Welcome to RPS, the basic pro-plus-max++ version')\n",
        "\n",
        "player1 = gp.getpass('Player 1, make your move : ') # getpass stores the entered data in string type\n",
        "player2 = gp.getpass('Player 2, make your move : ')\n",
        "\n",
        "# print('****NO CHEATING****\\n' * 20) # prints output 20 times on new lines\n",
        "\n",
        "player1 = player1.capitalize() # Checks input string and converts to capitalized case\n",
        "player2 = player2.capitalize()\n",
        "\n",
        "if player1 and player2:\n",
        "  print('Shoot!')\n",
        "  if player1 == player2: # Refactored nested conditionals\n",
        "    print('It\\'s a tie!')\n",
        "  elif player1 == 'Rock': \n",
        "    if player2 == 'Paper':\n",
        "      print('Player 2 wins!')\n",
        "    elif player2 == 'Scissors':\n",
        "      print('Player 1 wins!')\n",
        "    else:\n",
        "      print('Something went wrong...') # checks for player2 garbage inputs\n",
        "  elif player1 == 'Paper':\n",
        "    if player2 == 'Rock':\n",
        "      print('Player 1 wins!')\n",
        "    elif player2 == 'Scissors':\n",
        "      print('Player 2 wins!')\n",
        "    else:\n",
        "      print('Something went wrong...')\n",
        "  elif player1 == 'Scissors':\n",
        "    if player2 == 'Rock':\n",
        "      print('Player 2 wins!')\n",
        "    elif player2 == 'Paper':\n",
        "      print('Player 1 wins!')\n",
        "    else:\n",
        "      print('Something went wrong...')\n",
        "  else:\n",
        "    print('Something went wrong...') # checks for player1 garbage inputs\n",
        "elif player1 and not player2:\n",
        "  print('Player 2, you didn\\'t enter anything!')\n",
        "elif not player1 and player2:\n",
        "  print('Player 1, you didn\\'t enter anything!')\n",
        "else:\n",
        "  print('Player 1 and Player 2, you didn\\'t enter anything!')"
      ],
      "metadata": {
        "colab": {
          "base_uri": "https://localhost:8080/"
        },
        "id": "-z-StkXZkHVH",
        "outputId": "5d9f5e5a-45bf-43ca-8045-9ad2d8e7ac3a"
      },
      "execution_count": 52,
      "outputs": [
        {
          "output_type": "stream",
          "name": "stdout",
          "text": [
            "Welcome to RPS, the basic pro-plus-max++ version\n",
            "Player 1, make your move : ··········\n",
            "Player 2, make your move : ··········\n",
            "Shoot!\n",
            "Player 2 wins!\n"
          ]
        }
      ]
    },
    {
      "cell_type": "code",
      "source": [
        "# RPS... the player vs computer version\n",
        "\n",
        "from random import choice # random.choice(seq), returns a random element from a non-empty sequence\n",
        "\n",
        "print('Welcome to RPS, the \"AI\" (*coughs) version')\n",
        "\n",
        "player = input('Player, make your move : ').capitalize() # Checks input string and converts to capitalized case\n",
        "\n",
        "computer = choice(['Rock','Paper','Scissors']) # picks a random choice from the list and stores in variable\n",
        "print('The computer chose : ' + computer)\n",
        "\n",
        "# print('****NO CHEATING****\\n' * 20) # prints output 20 times on new lines\n",
        "\n",
        "if player:\n",
        "  print('Shoot!')\n",
        "  if player == computer: # Refactored nested conditionals\n",
        "    print('It\\'s a tie!')\n",
        "  elif player == 'Rock': \n",
        "    if computer == 'Paper':\n",
        "      print('The computer wins!')\n",
        "    elif computer == 'Scissors':\n",
        "      print('Player wins!')\n",
        "  elif player == 'Paper':\n",
        "    if computer == 'Rock':\n",
        "      print('Player wins!')\n",
        "    elif computer == 'Scissors':\n",
        "      print('The computer wins!')\n",
        "  elif player == 'Scissors':\n",
        "    if computer == 'Rock':\n",
        "      print('The computer wins!')\n",
        "    elif computer == 'Paper':\n",
        "      print('Player wins!')\n",
        "  else:\n",
        "    print('Something went wrong...') # checks for player garbage inputs\n",
        "else:\n",
        "  print('Player, you didn\\'t enter anything!')"
      ],
      "metadata": {
        "colab": {
          "base_uri": "https://localhost:8080/"
        },
        "id": "t9c9NcjHtmIx",
        "outputId": "87820660-9bfb-430a-93fa-46b68501dd84"
      },
      "execution_count": 53,
      "outputs": [
        {
          "output_type": "stream",
          "name": "stdout",
          "text": [
            "Welcome to RPS, the \"AI\" (*coughs) version\n",
            "Player, make your move : rock\n",
            "The computer chose : Rock\n",
            "Shoot!\n",
            "It's a tie!\n"
          ]
        }
      ]
    }
  ]
}