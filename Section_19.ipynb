{
  "nbformat": 4,
  "nbformat_minor": 0,
  "metadata": {
    "colab": {
      "name": "Section_19",
      "provenance": [],
      "authorship_tag": "ABX9TyOzuc2XvxmQetJ7aCmg8YMC",
      "include_colab_link": true
    },
    "kernelspec": {
      "name": "python3",
      "display_name": "Python 3"
    },
    "language_info": {
      "name": "python"
    }
  },
  "cells": [
    {
      "cell_type": "markdown",
      "metadata": {
        "id": "view-in-github",
        "colab_type": "text"
      },
      "source": [
        "<a href=\"https://colab.research.google.com/github/kaushanr/python3-docs/blob/main/Section_19.ipynb\" target=\"_parent\"><img src=\"https://colab.research.google.com/assets/colab-badge.svg\" alt=\"Open In Colab\"/></a>"
      ]
    },
    {
      "cell_type": "markdown",
      "source": [
        "# Functions - 2"
      ],
      "metadata": {
        "id": "WdUhLZWWj-hp"
      }
    },
    {
      "cell_type": "code",
      "execution_count": null,
      "metadata": {
        "id": "--1bHRX6j6Qi",
        "colab": {
          "base_uri": "https://localhost:8080/"
        },
        "outputId": "bf28c8ab-d2b8-4d63-e4aa-f80c8012a2d4"
      },
      "outputs": [
        {
          "output_type": "stream",
          "name": "stdout",
          "text": [
            "(4, 5, 6, 8)\n",
            "23\n",
            "(4, 5, 2)\n",
            "11 \n",
            "\n",
            "Welcome back Colt!\n",
            "Not sure who you are...\n"
          ]
        }
      ],
      "source": [
        "# *args - a special operator that can be passed to functions - gathers remaining arguments as a tuple\n",
        "\n",
        "  # syntax - *somename\n",
        "\n",
        "def sum_all_nums(*args): # '*'args used only in the function input stage\n",
        "  print(args) # returns a iterable tuple with all input arguments\n",
        "  sum = 0\n",
        "  for num in args:\n",
        "    sum += num\n",
        "  return sum\n",
        "\n",
        "print(sum_all_nums(4,5,6,8))\n",
        "print(sum_all_nums(4,5,2),'\\n')\n",
        "\n",
        "def correct_id(*args):\n",
        "  if 'Colt' in args and 'Steele' in args:\n",
        "    return 'Welcome back Colt!'\n",
        "  return 'Not sure who you are...'\n",
        "\n",
        "print(correct_id(1,True,50.77,'Steele','Rhino',None,'Colt')) # True condition if tuple contains the two indexed 'Colt','Steele' strings\n",
        "print(correct_id(1,True,50.77,'Paterson','Rhino',None,'Colt'))"
      ]
    },
    {
      "cell_type": "code",
      "source": [
        "# Coding exercise\n",
        "\n",
        "def contains_purple(*args):\n",
        "  new_arg = (val.lower() for val in args if type(val) == str)\n",
        "  #print(new_arg)\n",
        "  if 'purple' in new_arg:\n",
        "    return True\n",
        "  return False\n",
        "\n",
        "print(contains_purple(1,True, 50.77, None, 'hello','Purple'))\n",
        "print(contains_purple(1,True, 50.77, None, 'hello','yellow'))"
      ],
      "metadata": {
        "colab": {
          "base_uri": "https://localhost:8080/"
        },
        "id": "_R21nIU9IMHh",
        "outputId": "90ab01a5-3ae7-4c25-fa10-83838ffc5a70"
      },
      "execution_count": null,
      "outputs": [
        {
          "output_type": "stream",
          "name": "stdout",
          "text": [
            "(True, <generator object contains_purple.<locals>.<genexpr> at 0x7fb06756f7d0>)\n",
            "False\n"
          ]
        }
      ]
    },
    {
      "cell_type": "code",
      "source": [
        "# **kwargs - keyword arguments - gathers remaining keyword arguments as a dictionary\n",
        "\n",
        "def age(**kwargs):\n",
        "  print(kwargs)\n",
        "\n",
        "print(age(Bob=45,Tony=41,Jose=32,Anthony=58),'\\n') # creates a dictionary with keys and values \n",
        "\n",
        "def age(**kwargs):\n",
        "  for name,age in kwargs.items():\n",
        "    print(f'{name} is {age} years old.')\n",
        "  \n",
        "print(age(Bob=45,Tony=41,Jose=32,Anthony=58),'\\n')\n",
        "\n",
        "def special_greeting(**kwargs):\n",
        "  if 'David' in kwargs and kwargs['David'] == 'special': # checks for value of key in dictionary\n",
        "    return 'Hello David, you get a special greeting!'\n",
        "  elif 'David' in kwargs:\n",
        "    return f'{kwargs[\"David\"]} David!'\n",
        "  return 'Not sure who you are...'\n",
        "\n",
        "print(special_greeting(David = 'hello'))\n",
        "print(special_greeting(Bob = 'hello'))\n",
        "print(special_greeting(David = 'special'))"
      ],
      "metadata": {
        "colab": {
          "base_uri": "https://localhost:8080/"
        },
        "id": "bS-UidCANBZr",
        "outputId": "6b22c5c5-e305-4c92-ea9c-e26f9d2cc918"
      },
      "execution_count": null,
      "outputs": [
        {
          "output_type": "stream",
          "name": "stdout",
          "text": [
            "{'Bob': 45, 'Tony': 41, 'Jose': 32, 'Anthony': 58}\n",
            "None \n",
            "\n",
            "Bob is 45 years old.\n",
            "Tony is 41 years old.\n",
            "Jose is 32 years old.\n",
            "Anthony is 58 years old.\n",
            "None \n",
            "\n",
            "hello David!\n",
            "Not sure who you are...\n",
            "Hello David, you get a special greeting!\n"
          ]
        }
      ]
    },
    {
      "cell_type": "code",
      "source": [
        "# Coding exercise\n",
        "\n",
        "# Define combine_words below:\n",
        "def combine_words(word,**kwargs):\n",
        "    if 'prefix' in kwargs or 'suffix' in kwargs:\n",
        "        if 'prefix' in kwargs and 'suffix' in kwargs:\n",
        "            result = kwargs['prefix'] + word + kwargs['suffix']\n",
        "        elif 'prefix' in kwargs:\n",
        "            result = kwargs['prefix'] + word\n",
        "        else:\n",
        "            result = word + kwargs['suffix']\n",
        "        return result\n",
        "    return word\n",
        "\n",
        "print(combine_words('child'))\n",
        "print(combine_words('child',prefix='man'))\n",
        "print(combine_words('child',suffix='ish'))\n",
        "print(combine_words('child',prefix='man',suffix='ish'))"
      ],
      "metadata": {
        "colab": {
          "base_uri": "https://localhost:8080/"
        },
        "id": "prZZuE6koX-I",
        "outputId": "8ceaf8d6-d3ab-42de-cefa-b06d070b9000"
      },
      "execution_count": null,
      "outputs": [
        {
          "output_type": "stream",
          "name": "stdout",
          "text": [
            "child\n",
            "manchild\n",
            "childish\n",
            "manchildish\n"
          ]
        }
      ]
    },
    {
      "cell_type": "code",
      "source": [
        "# Parameter Ordering\n",
        "\n",
        "  # precedence criteria - parameters, *args, default parameters, **kwargs\n",
        "\n",
        "def display_info(a,b,*args,instructor='Colt',**kwargs):\n",
        "  return [a,b,args,instructor,kwargs]\n",
        "\n",
        "print(display_info(1,2,3,last_name = 'Steele', job = 'Instructor'))\n",
        "\n",
        "  # parameters - 1,2\n",
        "  # *args - (3,)\n",
        "  # default parameter - 'Colt'\n",
        "  # **kwargs - {'last_name':'Steele','job':'Instructor'}"
      ],
      "metadata": {
        "colab": {
          "base_uri": "https://localhost:8080/"
        },
        "id": "RnFw30DDqQzi",
        "outputId": "74f76666-a011-4d05-8da7-0a488baad435"
      },
      "execution_count": null,
      "outputs": [
        {
          "output_type": "stream",
          "name": "stdout",
          "text": [
            "[1, 2, (3,), 'Colt', {'last_name': 'Steele', 'job': 'Instructor'}]\n"
          ]
        }
      ]
    },
    {
      "cell_type": "code",
      "source": [
        "# Tuple/List Unpacking\n",
        "\n",
        "def sum_all_nums(*args): # '*'args used only in the function input stage\n",
        "  print(args) # returns a iterable tuple with all input arguments\n",
        "  sum = 0\n",
        "  for num in args:\n",
        "    sum += num\n",
        "  return sum\n",
        "\n",
        "num = list(range(1,20))\n",
        "print(num) # list object - each item in list needs to be unpacked and fed into *args so that it can form an iterable tuple\n",
        "  # print(sum_all_nums(num)) # will cause error - *args will pass entire list as one object, instead of unpacking and feeding each value\n",
        "print(sum_all_nums(*num)) # *nums - returns an unpacked tuple from the list that is passed on to 'args'"
      ],
      "metadata": {
        "colab": {
          "base_uri": "https://localhost:8080/"
        },
        "id": "8xHrusZ23sy5",
        "outputId": "ffe17df4-77f3-46db-85bb-800ee175fe74"
      },
      "execution_count": null,
      "outputs": [
        {
          "output_type": "stream",
          "name": "stdout",
          "text": [
            "[1, 2, 3, 4, 5, 6, 7, 8, 9, 10, 11, 12, 13, 14, 15, 16, 17, 18, 19]\n",
            "(1, 2, 3, 4, 5, 6, 7, 8, 9, 10, 11, 12, 13, 14, 15, 16, 17, 18, 19)\n",
            "190\n"
          ]
        }
      ]
    },
    {
      "cell_type": "code",
      "source": [
        "# Coding exercise\n",
        "\n",
        "# NO TOUCHING! =================================================================\n",
        "def count_sevens(*args):\n",
        "    return args.count(7)\n",
        "\n",
        "nums = [90,1,35,67,89,20,3,1,2,3,4,5,6,9,34,46,57,68,79,12,23,34,55,1,90,54,34,\n",
        "        76,8,23,34,45,56,67,78,12,23,34,45,56,67,768,23,4,5,6,7,8,9,12,34,14,15,\n",
        "        16,17,11,7,11,8,4,6,2,5,8,7,10,12,13,14,15,7,8,7,7,345,23,34,45,56,67,1,\n",
        "        7,3,6,7,2,3,4,5,6,7,8,9,8,7,6,5,4,2,1,2,3,4,5,6,7,8,9,0,9,8,7,8,7,6,5,4,\n",
        "        3,2,1,7]\n",
        "# NO TOUCHING! =================================================================\n",
        "\n",
        "# Write your code below:\n",
        "\n",
        "result1 = count_sevens(1,4,7)\n",
        "\n",
        "result2 = count_sevens(*nums)\n",
        "\n",
        "print(result1,result2)"
      ],
      "metadata": {
        "colab": {
          "base_uri": "https://localhost:8080/"
        },
        "id": "g88xH_a590oo",
        "outputId": "c281ea47-db35-45b5-cc6b-fd43ab3b99a0"
      },
      "execution_count": null,
      "outputs": [
        {
          "output_type": "stream",
          "name": "stdout",
          "text": [
            "1 14\n"
          ]
        }
      ]
    },
    {
      "cell_type": "code",
      "source": [
        "# Dictionary Unpacking\n",
        "\n",
        "def display_names(first,second):\n",
        "  print(f'{first} says hello!, to {second}')\n",
        "\n",
        "display_names('Charlie','Sue')\n",
        "\n",
        "names = {'first':'Colt','second':'Rusty'} \n",
        "\n",
        "display_names(**names) # **val used for dictionary unpacking, with each item(key:value) in dictionary becoming its own object (key = value,key = value)\n",
        "\n",
        "print('')\n",
        "\n",
        "def add_mult_nums(a,b,c):\n",
        "  print(a+b*c)\n",
        "\n",
        "add_mult_nums(2,3,4)\n",
        "\n",
        "some_nums = dict(a=2,b=3,c=4)\n",
        "print(some_nums)\n",
        "add_mult_nums(**some_nums)\n",
        "\n",
        "print('')\n",
        "\n",
        "def add_mult_nums(a,b,c,**kwargs):\n",
        "  print(a+b*c)\n",
        "  print('Other stuff...')\n",
        "  print(kwargs) # dictionary\n",
        "\n",
        "some_nums = dict(a=2,b=3,c=4,d=5,name='Tony')\n",
        "print(some_nums)\n",
        "add_mult_nums(**some_nums) \n",
        "# when a dictionary is unpacked, the objects are passed in as variable assignments (key1 = value1,key2 = value2) to the **kwargs operator\n",
        "# **kwargs then combines these to a dictionary\n",
        "\n",
        "add_mult_nums(**some_nums,cat='jet') # cat = 'jet' ends up in the **kwargs dictionary"
      ],
      "metadata": {
        "colab": {
          "base_uri": "https://localhost:8080/"
        },
        "id": "EnHLwZV599uk",
        "outputId": "f3086e77-1860-40a9-b681-1e382615fa27"
      },
      "execution_count": null,
      "outputs": [
        {
          "output_type": "stream",
          "name": "stdout",
          "text": [
            "Charlie says hello!, to Sue\n",
            "Colt says hello!, to Rusty\n",
            "\n",
            "14\n",
            "{'a': 2, 'b': 3, 'c': 4}\n",
            "14\n",
            "\n",
            "{'a': 2, 'b': 3, 'c': 4, 'd': 5, 'name': 'Tony'}\n",
            "14\n",
            "Other stuff...\n",
            "{'d': 5, 'name': 'Tony'}\n",
            "14\n",
            "Other stuff...\n",
            "{'d': 5, 'name': 'Tony', 'cat': 'jet'}\n"
          ]
        }
      ]
    },
    {
      "cell_type": "code",
      "source": [
        "# Coding exercise\n",
        "\n",
        "'''\n",
        "calculate(make_float=False, operation='add', message='You just added', first=2, second=4) # \"You just added 6\"\n",
        "calculate(make_float=True, operation='divide', first=3.5, second=5) # \"The result is 0.7\"\n",
        "'''\n",
        "\n",
        "def calculate(**kwargs):\n",
        "    if kwargs['operation'] == 'add':\n",
        "      result = kwargs['first'] + kwargs['second']\n",
        "    elif kwargs['operation'] == 'subtract':\n",
        "      result = kwargs['first'] - kwargs['second']\n",
        "    elif kwargs['operation'] == 'multiply':\n",
        "      result = kwargs['first'] * kwargs['second']\n",
        "    elif kwargs['operation'] == 'divide':\n",
        "      result = kwargs['first'] / kwargs['second']\n",
        "\n",
        "    if not kwargs['make_float']:\n",
        "      result = int(result)\n",
        "    \n",
        "    if kwargs.get('message'): # returns None if key is not found\n",
        "      return f'{kwargs[\"message\"]} {result}'\n",
        "    return f'The result is {result}'\n",
        "\n",
        "print(calculate(make_float=False, operation='add', message='You just added', first=2, second=4))\n",
        "print(calculate(make_float=True, operation='divide', first=3.5, second=5),'\\n')\n",
        "\n",
        "# another solution\n",
        "\n",
        "def calculate(**kwargs):\n",
        "    operation_lookup = { # performs all the operations and stores results in a dictionary\n",
        "        'add': kwargs.get('first', 0) + kwargs.get('second', 0), # returns 0, to avoid key errors or None if values not specified\n",
        "        'subtract': kwargs.get('first', 0) - kwargs.get('second', 0),\n",
        "        'divide': kwargs.get('first', 0) / kwargs.get('second', 0),\n",
        "        'multiply': kwargs.get('first', 0) * kwargs.get('second', 0)\n",
        "    }\n",
        "    is_float = kwargs.get('make_float', False) # returns False, instead of the default None, if key not found\n",
        "    operation_value = operation_lookup[kwargs.get('operation', '')]\n",
        "    if is_float:\n",
        "        final = \"{} {}\".format(kwargs.get('message','The result is'), float(operation_value))\n",
        "    else:\n",
        "        final = \"{} {}\".format(kwargs.get('message','The result is'), int(operation_value))\n",
        "    return final\n",
        "\n",
        "print(calculate(make_float=False, operation='add', message='You just added', first=2, second=4))\n",
        "print(calculate(make_float=True, operation='divide', first=3.5, second=5))"
      ],
      "metadata": {
        "colab": {
          "base_uri": "https://localhost:8080/"
        },
        "id": "GnlHl6wNJa3B",
        "outputId": "85e36bd4-4f96-4a97-be1b-ad56d3a317b0"
      },
      "execution_count": null,
      "outputs": [
        {
          "output_type": "stream",
          "name": "stdout",
          "text": [
            "You just added 6\n",
            "The result is 0.7 \n",
            "\n",
            "You just added 6\n",
            "The result is 0.7\n"
          ]
        }
      ]
    }
  ]
}