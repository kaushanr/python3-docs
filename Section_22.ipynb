{
  "nbformat": 4,
  "nbformat_minor": 0,
  "metadata": {
    "colab": {
      "name": "Section_22.ipynb",
      "provenance": [],
      "authorship_tag": "ABX9TyObJMAa3guJc5iAIe1DQV+h",
      "include_colab_link": true
    },
    "kernelspec": {
      "name": "python3",
      "display_name": "Python 3"
    },
    "language_info": {
      "name": "python"
    }
  },
  "cells": [
    {
      "cell_type": "markdown",
      "metadata": {
        "id": "view-in-github",
        "colab_type": "text"
      },
      "source": [
        "<a href=\"https://colab.research.google.com/github/kaushanr/python3-docs/blob/main/Section_22.ipynb\" target=\"_parent\"><img src=\"https://colab.research.google.com/assets/colab-badge.svg\" alt=\"Open In Colab\"/></a>"
      ]
    },
    {
      "cell_type": "markdown",
      "source": [
        "# Modules"
      ],
      "metadata": {
        "id": "T1GYMzWXF2_e"
      }
    },
    {
      "cell_type": "code",
      "execution_count": null,
      "metadata": {
        "id": "Mc-g-KYIFgUX",
        "colab": {
          "base_uri": "https://localhost:8080/"
        },
        "outputId": "a53f1100-b8f7-41ae-90b6-0e8c2b54cee0"
      },
      "outputs": [
        {
          "output_type": "stream",
          "name": "stdout",
          "text": [
            "grape\n",
            "28\n",
            "['apple', 'banana', 'orange', 'grape', 'cherry', 'durian']\n",
            "orange\n",
            "cherry\n",
            "90\n",
            "banana\n",
            "56\n"
          ]
        }
      ],
      "source": [
        "import random\n",
        "\n",
        "fruits = ['apple','banana','orange','grape','cherry','durian']\n",
        "\n",
        "print(random.choice(fruits))\n",
        "print(random.randint(1,100))\n",
        "random.shuffle(fruits)\n",
        "print(fruits)\n",
        "\n",
        "import random as rm # reassigning imported module name to custom name\n",
        "\n",
        "print(rm.choice(fruits))\n",
        "\n",
        "# import specific parts from a module using 'from' \n",
        "\n",
        "  # Syntax - from module import * - '*' imports all the parts in the module into the current namespace\n",
        "             # import module - imports the all parts in module as an attribute of the module \n",
        "             # from module import part - imports only the required part of the module\n",
        " \n",
        "from random import choice,randint\n",
        "\n",
        "print(choice(fruits))\n",
        "print(randint(1,100))\n",
        "\n",
        "from random import choice as pick ,randint as magic_number\n",
        "\n",
        "print(pick(fruits))\n",
        "print(magic_number(1,100))"
      ]
    },
    {
      "cell_type": "code",
      "source": [
        "# Coding exercise\n",
        "\n",
        "def contains_keyword(*args):\n",
        "  from keyword import iskeyword as iskey\n",
        "  return any(iskey(word) for word in args)\n",
        "\n",
        "print(contains_keyword(\"hello\", \"goodbye\"))\n",
        "print(contains_keyword(\"def\", \"haha\", \"lol\", \"chicken\", \"alaska\"))\n",
        "print(contains_keyword(\"four\", \"for\", \"if\"))\n",
        "print(contains_keyword(\"blah\", \"doggo\", \"crab\", \"anchor\"))\n",
        "print(contains_keyword(\"grizzly\", \"ignore\", \"return\", \"False\"))"
      ],
      "metadata": {
        "colab": {
          "base_uri": "https://localhost:8080/"
        },
        "id": "kTpxtxHqXOmz",
        "outputId": "a7fb5d2a-85ec-4430-9b7b-c0b46f516217"
      },
      "execution_count": null,
      "outputs": [
        {
          "output_type": "stream",
          "name": "stdout",
          "text": [
            "False\n",
            "True\n",
            "True\n",
            "False\n",
            "True\n"
          ]
        }
      ]
    },
    {
      "cell_type": "code",
      "source": [
        "# https://github.com/kaushanr/python3-docs.git\n",
        "\n",
        "# !pip install requests\n",
        "\n",
        "#url = 'https://raw.githubusercontent.com/kaushanr/python3-docs/main/docs/bananas.py' # use RAW version in github\n",
        "#r = requests.get(url)\n",
        "#with open('bananas.py', 'w') as f:\n",
        "#    f.write(r.text)\n",
        "\n",
        "import requests\n",
        "\n",
        "url = 'https://raw.githubusercontent.com/kaushanr/python3-docs/main/docs/bananas.py'\n",
        "r = requests.get(url)\n",
        "with open('bananas.py', 'w') as f:\n",
        "    f.write(r.text)\n",
        "\n",
        "url = 'https://raw.githubusercontent.com/kaushanr/python3-docs/main/docs/apples.py'\n",
        "r = requests.get(url)\n",
        "with open('apples.py', 'w') as f:\n",
        "    f.write(r.text)\n",
        "\n",
        "url = 'https://raw.githubusercontent.com/kaushanr/python3-docs/main/docs/something.py'\n",
        "r = requests.get(url)\n",
        "with open('something.py', 'w') as f:\n",
        "    f.write(r.text)\n",
        "\n",
        "from bananas import peel\n",
        "from apples import offer\n",
        "import something\n",
        "\n",
        "print(peel())\n",
        "print(offer())\n",
        "print(something.another_function())"
      ],
      "metadata": {
        "colab": {
          "base_uri": "https://localhost:8080/"
        },
        "id": "vCfWnUpBa2cw",
        "outputId": "f20d2cb1-d8b4-4cf6-a2c9-0c10df11e964"
      },
      "execution_count": null,
      "outputs": [
        {
          "output_type": "stream",
          "name": "stdout",
          "text": [
            "Here's a delicious banana!\n",
            "Hey do you like apples?\n",
            "Yay!\n"
          ]
        }
      ]
    },
    {
      "cell_type": "code",
      "source": [
        "# External Modules\n",
        "\n",
        "# !pip install termcolor\n",
        "\n",
        "from termcolor import colored,cprint\n",
        "\n",
        "print(dir(termcolor))\n",
        "\n",
        "help(termcolor)\n",
        "\n",
        "cprint(colored('Hi there!',color = 'magenta'))\n",
        "cprint(colored('Hi there!',color = 'red',on_color = 'on_cyan',attrs = ['blink'])) # blink may not work on jupyter notebooks\n"
      ],
      "metadata": {
        "colab": {
          "base_uri": "https://localhost:8080/"
        },
        "id": "x_gTu7_mDWkV",
        "outputId": "e5993ab7-b78e-4aaa-9f79-b1f6b663f851"
      },
      "execution_count": null,
      "outputs": [
        {
          "output_type": "stream",
          "name": "stdout",
          "text": [
            "['ATTRIBUTES', 'COLORS', 'HIGHLIGHTS', 'RESET', 'VERSION', '__ALL__', '__builtins__', '__cached__', '__doc__', '__file__', '__loader__', '__name__', '__package__', '__spec__', 'colored', 'cprint', 'os', 'print_function']\n",
            "Help on module termcolor:\n",
            "\n",
            "NAME\n",
            "    termcolor - ANSII Color formatting for output in terminal.\n",
            "\n",
            "FUNCTIONS\n",
            "    colored(text, color=None, on_color=None, attrs=None)\n",
            "        Colorize text.\n",
            "        \n",
            "        Available text colors:\n",
            "            red, green, yellow, blue, magenta, cyan, white.\n",
            "        \n",
            "        Available text highlights:\n",
            "            on_red, on_green, on_yellow, on_blue, on_magenta, on_cyan, on_white.\n",
            "        \n",
            "        Available attributes:\n",
            "            bold, dark, underline, blink, reverse, concealed.\n",
            "        \n",
            "        Example:\n",
            "            colored('Hello, World!', 'red', 'on_grey', ['blue', 'blink'])\n",
            "            colored('Hello, World!', 'green')\n",
            "    \n",
            "    cprint(text, color=None, on_color=None, attrs=None, **kwargs)\n",
            "        Print colorize text.\n",
            "        \n",
            "        It accepts arguments of print function.\n",
            "\n",
            "DATA\n",
            "    ATTRIBUTES = {'blink': 5, 'bold': 1, 'concealed': 8, 'dark': 2, 'rever...\n",
            "    COLORS = {'blue': 34, 'cyan': 36, 'green': 32, 'grey': 30, 'magenta': ...\n",
            "    HIGHLIGHTS = {'on_blue': 44, 'on_cyan': 46, 'on_green': 42, 'on_grey':...\n",
            "    RESET = '\\x1b[0m'\n",
            "    VERSION = (1, 1, 0)\n",
            "    __ALL__ = ['colored', 'cprint']\n",
            "    print_function = _Feature((2, 6, 0, 'alpha', 2), (3, 0, 0, 'alpha', 0)...\n",
            "\n",
            "FILE\n",
            "    /usr/local/lib/python3.7/dist-packages/termcolor.py\n",
            "\n",
            "\n",
            "\u001b[35mHi there!\u001b[0m\u001b[0m\n",
            "\u001b[5m\u001b[46m\u001b[31mHi there!\u001b[0m\u001b[0m\n"
          ]
        }
      ]
    },
    {
      "cell_type": "code",
      "source": [
        "# !pip install pyfiglet\n",
        "\n",
        "import pyfiglet\n",
        "import termcolor\n",
        "\n",
        "#help(pyfiglet)\n",
        "\n",
        "def color_fun():\n",
        "  text = input('What message do you want to print? ')\n",
        "  my_color = input('What color? ')\n",
        "\n",
        "  if my_color in ('red','green','yellow','blue','magenta','cyan','white'):\n",
        "    my_color = my_color\n",
        "  else:\n",
        "    my_color = 'magenta'\n",
        "\n",
        "  rendered = pyfiglet.figlet_format(text, font='standard')\n",
        "  colored_text = termcolor.colored(rendered,color = my_color)\n",
        "  return colored_text\n",
        "\n",
        "print(color_fun())\n",
        "print(color_fun())\n",
        "print(color_fun())"
      ],
      "metadata": {
        "colab": {
          "base_uri": "https://localhost:8080/"
        },
        "id": "8EC8qxe6TCLg",
        "outputId": "2e675ec6-2bda-4405-a22f-a93beb749a0e"
      },
      "execution_count": null,
      "outputs": [
        {
          "output_type": "stream",
          "name": "stdout",
          "text": [
            "What message do you want to print? Hello World!\n",
            "What color? magenta\n",
            "\u001b[35m _   _      _ _        __        __         _     _ _ \n",
            "| | | | ___| | | ___   \\ \\      / /__  _ __| | __| | |\n",
            "| |_| |/ _ \\ | |/ _ \\   \\ \\ /\\ / / _ \\| '__| |/ _` | |\n",
            "|  _  |  __/ | | (_) |   \\ V  V / (_) | |  | | (_| |_|\n",
            "|_| |_|\\___|_|_|\\___/     \\_/\\_/ \\___/|_|  |_|\\__,_(_)\n",
            "                                                      \n",
            "\u001b[0m\n",
            "What message do you want to print? python\n",
            "What color? green\n",
            "\u001b[32m             _   _                 \n",
            " _ __  _   _| |_| |__   ___  _ __  \n",
            "| '_ \\| | | | __| '_ \\ / _ \\| '_ \\ \n",
            "| |_) | |_| | |_| | | | (_) | | | |\n",
            "| .__/ \\__, |\\__|_| |_|\\___/|_| |_|\n",
            "|_|    |___/                       \n",
            "\u001b[0m\n",
            "What message do you want to print? Yay!\n",
            "What color? teal\n",
            "\u001b[35m__   __          _ \n",
            "\\ \\ / /_ _ _   _| |\n",
            " \\ V / _` | | | | |\n",
            "  | | (_| | |_| |_|\n",
            "  |_|\\__,_|\\__, (_)\n",
            "           |___/   \n",
            "\u001b[0m\n"
          ]
        }
      ]
    },
    {
      "cell_type": "code",
      "source": [
        "# PEP 8 Style Guide\n",
        "\n",
        "# !pip install autopep8\n",
        "\n",
        "import requests\n",
        "\n",
        "url = 'https://raw.githubusercontent.com/kaushanr/python3-docs/main/docs/ugly_code.py'\n",
        "r = requests.get(url)\n",
        "with open('ugly_code.py', 'w') as f:\n",
        "    f.write(r.text)\n",
        "\n",
        "# autopep8 --in-line ugly_code.py # this does not work on jupyter - but it should cleanup the existing file in place\n",
        "# autopep8 --in-line -a ugly_code.py # aggressive format cleanup - tidies up more than whitespaces\n"
      ],
      "metadata": {
        "id": "KWFJnb12ji2M"
      },
      "execution_count": 140,
      "outputs": []
    },
    {
      "cell_type": "code",
      "source": [
        "# Revisting Dunders - '__name__' variables\n",
        "\n",
        "def say_hi():\n",
        "  print(f'My __name__ is {__name__}')\n",
        "\n",
        "def say_sup():\n",
        "  print(f'My __name__ is {__name__}')\n",
        "\n",
        "\n",
        "say_hi()\n",
        "say_sup()\n",
        "\n",
        "print()\n",
        "\n",
        "import requests\n",
        "\n",
        "url = 'https://raw.githubusercontent.com/kaushanr/python3-docs/main/docs/say_hey.py'\n",
        "r = requests.get(url)\n",
        "with open('say_hey.py', 'w') as f:\n",
        "    f.write(r.text)\n",
        "\n",
        "from say_hey import say_hey # this will cause python to import and run the called function, hence the additional print output\n",
        "                            # this can be avoided by checking whether the __name__ == __main__ to stop any secondary functions \n",
        "                            # running upon being imported\n",
        "\n",
        "say_hi()\n",
        "say_hey()\n",
        "\n",
        "# __name__ is just a variable that takes the name of its function unless it is the main function\n",
        "\n",
        "# when run, very python file has a __name__ variable \n",
        "# if the file is the main file being run, its value is __main__\n",
        "\n",
        "print()\n",
        "\n",
        "url = 'https://raw.githubusercontent.com/kaushanr/python3-docs/main/docs/say_sup.py'\n",
        "r = requests.get(url)\n",
        "with open('say_sup.py', 'w') as f:\n",
        "    f.write(r.text)\n",
        "\n",
        "from say_sup import say_sup # this will cause python to import and run the called function, hence the additional print output\n",
        "                            # this can be avoided by checking whether the __name__ == __main__ to stop any secondary functions \n",
        "                            # running upon being imported\n",
        "\n",
        "say_hi()\n",
        "say_sup()"
      ],
      "metadata": {
        "colab": {
          "base_uri": "https://localhost:8080/"
        },
        "id": "24XFYSuzumqo",
        "outputId": "d99f815d-9736-4d8d-8d7b-75c39d5445dd"
      },
      "execution_count": 1,
      "outputs": [
        {
          "output_type": "stream",
          "name": "stdout",
          "text": [
            "My __name__ is __main__\n",
            "My __name__ is __main__\n",
            "\n",
            "My __name__ is say_hey\n",
            "My __name__ is __main__\n",
            "My __name__ is say_hey\n",
            "\n",
            "My __name__ is __main__\n",
            "My __name__ is say_sup\n"
          ]
        }
      ]
    }
  ]
}