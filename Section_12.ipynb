{
  "nbformat": 4,
  "nbformat_minor": 0,
  "metadata": {
    "colab": {
      "name": "Section_12.ipynb",
      "provenance": [],
      "authorship_tag": "ABX9TyPMVB21xDvEkoX3dXhcN5PA",
      "include_colab_link": true
    },
    "kernelspec": {
      "name": "python3",
      "display_name": "Python 3"
    },
    "language_info": {
      "name": "python"
    }
  },
  "cells": [
    {
      "cell_type": "markdown",
      "metadata": {
        "id": "view-in-github",
        "colab_type": "text"
      },
      "source": [
        "<a href=\"https://colab.research.google.com/github/kaushanr/python3_docs/blob/main/Section_12.ipynb\" target=\"_parent\"><img src=\"https://colab.research.google.com/assets/colab-badge.svg\" alt=\"Open In Colab\"/></a>"
      ]
    },
    {
      "cell_type": "markdown",
      "source": [
        "# Lists"
      ],
      "metadata": {
        "id": "3K5fRz0l_Xb9"
      }
    },
    {
      "cell_type": "code",
      "execution_count": null,
      "metadata": {
        "id": "6gtgExsY_UxQ",
        "colab": {
          "base_uri": "https://localhost:8080/"
        },
        "outputId": "cc0eae46-60d8-4a14-da9b-31cc9649542c"
      },
      "outputs": [
        {
          "output_type": "stream",
          "name": "stdout",
          "text": [
            "['a', 1, 45, True, 6.777]\n",
            "3\n",
            "[1, 2, 3, 4, 5, 6, 7, 8, 9, 10]\n",
            "Ashley\n",
            "Michael\n",
            "True\n",
            "False\n",
            "You have good taste!\n"
          ]
        }
      ],
      "source": [
        "demo_list = ['a',1,45,True,6.777] # lists can hold any data type\n",
        "print(demo_list)\n",
        "\n",
        "tasks = ['Install Python','Learn Python','Take a break']\n",
        "print(len(tasks)) # 'len' function used to get the size of the list\n",
        "\n",
        "print(list(range(1,11))) # list function used to convert range to a list\n",
        "\n",
        "# Accessing lists\n",
        "\n",
        "friends = ['Ashley','Matt','Michael'] # lists are zero-indexed\n",
        "print(friends[0]) # first element lives at index position 0 \n",
        "print(friends[-1])\n",
        "\n",
        "print('Ashley' in friends) # checks whether the string is in the list and returns boolean output\n",
        "print('Joyce' in friends) # comparison is case-sensitive\n",
        "\n",
        "colors = ['purple','teal','orange']\n",
        "\n",
        "if 'teal' in colors: # executes if statement true\n",
        "  print('You have good taste!')\n",
        "\n",
        "# Coding excercise\n",
        "\n",
        "# DON'T TOUCH THIS PLEASE!\n",
        "people = [\"Hanna\",\"Louisa\",\"Claudia\", \"Angela\",\"Geoffrey\", \"aparna\"]\n",
        "# DON'T TOUCH THIS PLEASE!\n",
        "\n",
        "#Change \"Hanna\" to \"Hannah\"\n",
        "people[0] = 'Hannah'                # modifying items in a list through recall and reassignment\n",
        "#Change \"Geoffrey\" to \"Jeffrey\"\n",
        "people[-2] = 'Jeffrey'\n",
        "#Change \"aparna\" to \"Aparna\" (capitalize it)\n",
        "people[-1] = 'Aparna'"
      ]
    },
    {
      "cell_type": "code",
      "source": [
        "# Accessing all values in a list\n",
        "\n",
        "numbers = list(range(1,7))\n",
        "\n",
        "for num in numbers: # num will store the value of the data in the order of the list\n",
        "  print(num) \n",
        "\n",
        "people = [\"Hanna\",\"Louisa\",\"Claudia\", \"Angela\",\"Geoffrey\", \"aparna\"]\n",
        "\n",
        "for i in people: # temp variable not just an index counter, but stores the value\n",
        "  print(i) \n",
        "\n",
        "print('\\n')\n",
        "\n",
        "colors = ['purple','teal','orange','magenta','crimson','emerald']\n",
        "\n",
        "i = 0\n",
        "\n",
        "while i < len(colors):\n",
        "  print(f'{i} color : {colors[i]}') # in this case the variable i stores the index location only\n",
        "  i += 1\n",
        "\n",
        "# 'len' function works for string lengths too!\n",
        "\n",
        "print(len('the quick brown fox jumps over the lazy dog')) # spaces counted as a character too..."
      ],
      "metadata": {
        "colab": {
          "base_uri": "https://localhost:8080/"
        },
        "id": "n6LWXzJ-oOEj",
        "outputId": "41af9585-ff50-4b6e-f889-92ed2b31d33b"
      },
      "execution_count": 21,
      "outputs": [
        {
          "output_type": "stream",
          "name": "stdout",
          "text": [
            "1\n",
            "2\n",
            "3\n",
            "4\n",
            "5\n",
            "6\n",
            "Hanna\n",
            "Louisa\n",
            "Claudia\n",
            "Angela\n",
            "Geoffrey\n",
            "aparna\n",
            "\n",
            "\n",
            "0 color : purple\n",
            "1 color : teal\n",
            "2 color : orange\n",
            "3 color : magenta\n",
            "4 color : crimson\n",
            "5 color : emerald\n",
            "43\n"
          ]
        }
      ]
    },
    {
      "cell_type": "code",
      "source": [
        "# Coding excercise\n",
        "\n",
        "sounds = [\"super\", \"cali\", \"fragil\", \"istic\", \"expi\", \"ali\", \"docious\"]\n",
        "\n",
        "# Define your code below:\n",
        "\n",
        "result = \"\" # resets variable to an empty string, to avoid result compounding\n",
        "for i in sounds:\n",
        "    result += i.upper()\n",
        "print(result)"
      ],
      "metadata": {
        "colab": {
          "base_uri": "https://localhost:8080/"
        },
        "id": "gUoUwESh3Nkz",
        "outputId": "5be6e919-d7bd-4a1e-d033-aa82b12c713a"
      },
      "execution_count": 25,
      "outputs": [
        {
          "output_type": "stream",
          "name": "stdout",
          "text": [
            "SUPERCALIFRAGILISTICEXPIALIDOCIOUS\n"
          ]
        }
      ]
    },
    {
      "cell_type": "code",
      "source": [
        "# List Methods\n",
        "\n",
        "# .append - adds a single value to the end of the list\n",
        "\n",
        "first_list = [1,2,3,4]\n",
        "first_list.append(5) # adds value to the end of the list\n",
        "print(first_list)\n",
        "first_list.append('some_var') # can add any type of data\n",
        "print(first_list) # can only add one argument at a time...\n",
        "\n",
        "# .extend - adds to the end of the list all of the values passed into it \n",
        "\n",
        "nums = [1,2,3]\n",
        "print(len(nums))\n",
        "nums.append([4,5]) # gives four objects, since .append inserts the last list as a whole object\n",
        "print(nums)\n",
        "print(len(nums)) \n",
        "\n",
        "nums = [1,2,3]\n",
        "nums.extend([4,5]) # inserts the new list individually to the old one\n",
        "print(nums)\n",
        "print(len(nums))\n",
        "\n",
        "# .insert - adds a single item to any given postion in a list\n",
        "\n",
        "first_list = [1,2,3,4]\n",
        "first_list.insert(2,'Hi') # .insert(index position, item)\n",
        "print(first_list)\n",
        "\n",
        "first_list.insert(4,[45.77, True]) # adds only a single item\n",
        "print(first_list)\n",
        "\n",
        "first_list.insert(-1,'the end') # adds to the index position of old list, before it grows \n",
        "print(first_list)\n",
        "\n",
        "first_list.insert(len(first_list), 'the real end') # gets length of existing list + new insert and adds to end\n",
        "print(first_list)\n",
        "\n",
        "# .clear - removes all the items from a list\n",
        "\n",
        "items = ['socks','mug','tea pot','cat food']\n",
        "items.clear()\n",
        "print(items)\n",
        "\n",
        "# .pop - remove an item at a given location in the list and return it\n",
        "\n",
        "del_val = first_list.pop(4) # removes item in position 4\n",
        "print(first_list)\n",
        "print(del_val) # returns the deleted value\n",
        "\n",
        "first_list.pop() # if position not specified, removes item from end of list\n",
        "print(first_list)\n",
        "\n",
        "# .remove - removes the first item from a list whose value is specified, with no return\n",
        "\n",
        "some_list = [1,2,50.77,'socks',True,50.77,'tea pot', 89, 101,]\n",
        "\n",
        "some_list.remove('tea pot')\n",
        "print(some_list) # will throw a value error if item not found in list\n",
        "\n",
        "some_list.remove(50.77) # will only remove the first item of duplicate items in list\n",
        "print(some_list)"
      ],
      "metadata": {
        "colab": {
          "base_uri": "https://localhost:8080/"
        },
        "id": "m8rCuNlH4tod",
        "outputId": "2bfc095c-7762-4206-9cd9-15fd19e32772"
      },
      "execution_count": 44,
      "outputs": [
        {
          "output_type": "stream",
          "name": "stdout",
          "text": [
            "[1, 2, 3, 4, 5]\n",
            "[1, 2, 3, 4, 5, 'some_var']\n",
            "3\n",
            "[1, 2, 3, [4, 5]]\n",
            "4\n",
            "[1, 2, 3, 4, 5]\n",
            "5\n",
            "[1, 2, 'Hi', 3, 4]\n",
            "[1, 2, 'Hi', 3, [45.77, True], 4]\n",
            "[1, 2, 'Hi', 3, [45.77, True], 'the end', 4]\n",
            "[1, 2, 'Hi', 3, [45.77, True], 'the end', 4, 'the real end']\n",
            "[]\n",
            "[1, 2, 'Hi', 3, 'the end', 4, 'the real end']\n",
            "[45.77, True]\n",
            "[1, 2, 'Hi', 3, 'the end', 4]\n",
            "[1, 2, 50.77, 'socks', True, 50.77, 89, 101]\n",
            "[1, 2, 'socks', True, 50.77, 89, 101]\n"
          ]
        }
      ]
    },
    {
      "cell_type": "code",
      "source": [
        "# .index - returns the index of a specified item in list\n",
        "\n",
        "numbers = [5,5,6,7,5,8,8,9,10]\n",
        "\n",
        "print(numbers.index(7)) # index(item,start,end) start-end inclusive\n",
        "print(numbers.index(5,2)) # specify start index at 2\n",
        "print(numbers.index(8,6,8)) # specify start at 6 and end at 8, search for 8\n",
        "\n",
        "# .count - returns the number of times an item appears in the list for a single input item\n",
        "\n",
        "names = ['colt','blue','arya','lena','colt','selena','pablo']\n",
        "print(names.count('colt'))\n",
        "print(names.count('selena'))\n",
        "print(names.count('jared')) # gives 0 count without throwing up an error\n",
        "\n",
        "# .reverse - reverses the elements in the list in place\n",
        "\n",
        "print(names)\n",
        "names.reverse() # empty parantheses required\n",
        "print(names)\n",
        "\n",
        "# .sort - sort the item on the list in-place\n",
        "\n",
        "another_list = [6,4,2,1,5]\n",
        "another_list.sort()  # sorts in ascending order (for now...)\n",
        "print(another_list)\n",
        "\n",
        "names.sort() # names ordered in alphabetic precedence\n",
        "print(names)\n",
        "names.append('ARYA')\n",
        "names.sort() # capital takes higher order precedence\n",
        "print(names)\n",
        "\n",
        "# .join - commonly used to convert lists to strings (this is a string method)\n",
        "\n",
        "# concatenates a copy of the base string between each item of the iterable \n",
        "# and returns a new string\n",
        "\n",
        "words = ['Coding','is','fun!']\n",
        "print(' '.join(words)) # ' ' joins items in list with spaces to form a single string\n",
        "\n",
        "name = ['Mr','Steele']\n",
        "print('. '.join(name)) # 'base_string'.join(iterable list)\n",
        "\n",
        "# convert list to a single string \n",
        "\n",
        "print(names)\n",
        "friends = ', '.join(names)\n",
        "print(friends)\n",
        "print(type(friends))"
      ],
      "metadata": {
        "colab": {
          "base_uri": "https://localhost:8080/"
        },
        "id": "4B9p2_Uiv4i6",
        "outputId": "16d81215-3bb5-4e91-b58a-3122f56b86e1"
      },
      "execution_count": 13,
      "outputs": [
        {
          "output_type": "stream",
          "name": "stdout",
          "text": [
            "3\n",
            "4\n",
            "6\n",
            "2\n",
            "1\n",
            "0\n",
            "['colt', 'blue', 'arya', 'lena', 'colt', 'selena', 'pablo']\n",
            "['pablo', 'selena', 'colt', 'lena', 'arya', 'blue', 'colt']\n",
            "[1, 2, 4, 5, 6]\n",
            "['arya', 'blue', 'colt', 'colt', 'lena', 'pablo', 'selena']\n",
            "['ARYA', 'arya', 'blue', 'colt', 'colt', 'lena', 'pablo', 'selena']\n",
            "Coding is fun!\n",
            "Mr. Steele\n",
            "['ARYA', 'arya', 'blue', 'colt', 'colt', 'lena', 'pablo', 'selena']\n",
            "ARYA, arya, blue, colt, colt, lena, pablo, selena\n",
            "<class 'str'>\n"
          ]
        }
      ]
    }
  ]
}