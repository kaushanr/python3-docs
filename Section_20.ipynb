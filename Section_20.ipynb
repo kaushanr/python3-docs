{
  "nbformat": 4,
  "nbformat_minor": 0,
  "metadata": {
    "colab": {
      "name": "Section_20",
      "provenance": [],
      "authorship_tag": "ABX9TyPqRI5CIVCU7SeQOWIvIrWL",
      "include_colab_link": true
    },
    "kernelspec": {
      "name": "python3",
      "display_name": "Python 3"
    },
    "language_info": {
      "name": "python"
    }
  },
  "cells": [
    {
      "cell_type": "markdown",
      "metadata": {
        "id": "view-in-github",
        "colab_type": "text"
      },
      "source": [
        "<a href=\"https://colab.research.google.com/github/kaushanr/python3-docs/blob/main/Section_20.ipynb\" target=\"_parent\"><img src=\"https://colab.research.google.com/assets/colab-badge.svg\" alt=\"Open In Colab\"/></a>"
      ]
    },
    {
      "cell_type": "markdown",
      "source": [
        "# Lambdas and Built-in Functions"
      ],
      "metadata": {
        "id": "FNYNUFkZnSvs"
      }
    },
    {
      "cell_type": "code",
      "execution_count": null,
      "metadata": {
        "colab": {
          "base_uri": "https://localhost:8080/"
        },
        "id": "WMz49PDbnMpG",
        "outputId": "33e20e9d-2ac5-441d-f62b-f3ebff79e5ae"
      },
      "outputs": [
        {
          "output_type": "stream",
          "name": "stdout",
          "text": [
            "64\n",
            "64\n",
            "13\n",
            "print(value, ..., sep=' ', end='\\n', file=sys.stdout, flush=False)\n",
            "\n",
            "Prints the values to a stream, or to sys.stdout by default.\n",
            "Optional keyword arguments:\n",
            "file:  a file-like object (stream); defaults to the current sys.stdout.\n",
            "sep:   string inserted between values, default a space.\n",
            "end:   string appended after the last value, default a newline.\n",
            "flush: whether to forcibly flush the stream. \n",
            "\n",
            "square\n",
            "<lambda>\n",
            "<lambda>\n"
          ]
        }
      ],
      "source": [
        "def square(num):# typical function format\n",
        "  return num*num\n",
        "\n",
        "print(square(8))\n",
        "\n",
        "# Lambdas - is a function that has no name (anonymous functions)\n",
        "\n",
        "  # Syntax - lambda parameter(s): some_operation\n",
        "\n",
        "square2 = lambda num: num*num # single line only, with no return - can be used without assigning to a variable \n",
        "\n",
        "print(square2(8)) # invoking is similiar to a typical function\n",
        "\n",
        "add = lambda a,b: a+b\n",
        "\n",
        "print(add(10,3))\n",
        "\n",
        "print(print.__doc__,'\\n') # docstring for function documentation\n",
        "\n",
        "print(square.__name__)\n",
        "print(square2.__name__)"
      ]
    },
    {
      "cell_type": "code",
      "source": [
        "# Coding exercise\n",
        "\n",
        "cube = lambda num: num**3 # power of oerator - val**pow\n",
        "\n",
        "print(cube(2))"
      ],
      "metadata": {
        "colab": {
          "base_uri": "https://localhost:8080/"
        },
        "id": "VqHET7obyVkP",
        "outputId": "0062b00b-e871-409b-faaa-38cec64abcdc"
      },
      "execution_count": null,
      "outputs": [
        {
          "output_type": "stream",
          "name": "stdout",
          "text": [
            "8\n"
          ]
        }
      ]
    },
    {
      "cell_type": "code",
      "source": [
        "# map() - buit-in lambda function\n",
        "\n",
        "  # Def - a standard function that accepts atleast two arguments\n",
        "          # a function to map too and an iterable.\n",
        "\n",
        "          # runs the lambda for each value in the iterable and returns a map object\n",
        "          # which can be converted into another data structure.\n",
        "\n",
        "nums = list(range(10))\n",
        "print(nums)\n",
        "\n",
        "doubles = map(lambda num: num*2,nums) # map(function/lambda, iterable object)\n",
        "\n",
        "print(doubles) # returns a map object which is iterable\n",
        "\n",
        "print(list(doubles)) # map object converted to a list\n",
        "\n",
        "  # once the lambda is run it needs to be called again as it exists only for a single operation\n",
        "\n",
        "doubles = map(lambda num: num*2,nums)\n",
        "\n",
        "  # Or iterating over the map object\n",
        "for obj in doubles:\n",
        "  print(obj)\n",
        "\n",
        "people = ['Darcy','Christina','Dana','Annabel']\n",
        "\n",
        "upper = list(map(lambda person: person.upper(),people))\n",
        "\n",
        "print(upper)\n",
        "\n",
        "# using list comprehension (recap)\n",
        "\n",
        "upper2 = [person.upper() for person in people]\n",
        "print(upper2)\n",
        "\n",
        "names = [\n",
        "    {'first':'Rusty','last':'Steele'},\n",
        "    {'first':'Colt','last':'Steele'},\n",
        "    {'first':'Blue','last':'Steele'}\n",
        "]\n",
        "\n",
        "print(names)\n",
        "first_names = list(map(lambda name: name['first'],names)) # accesses the value of the indexed key in each dictionary\n",
        "print(first_names)"
      ],
      "metadata": {
        "colab": {
          "base_uri": "https://localhost:8080/"
        },
        "id": "HZ-Tn3cszC7g",
        "outputId": "4ab58720-8cfd-412c-9cd8-3f3de6482c69"
      },
      "execution_count": null,
      "outputs": [
        {
          "output_type": "stream",
          "name": "stdout",
          "text": [
            "[0, 1, 2, 3, 4, 5, 6, 7, 8, 9]\n",
            "<map object at 0x7fc09dad7350>\n",
            "[0, 2, 4, 6, 8, 10, 12, 14, 16, 18]\n",
            "0\n",
            "2\n",
            "4\n",
            "6\n",
            "8\n",
            "10\n",
            "12\n",
            "14\n",
            "16\n",
            "18\n",
            "['DARCY', 'CHRISTINA', 'DANA', 'ANNABEL']\n",
            "['DARCY', 'CHRISTINA', 'DANA', 'ANNABEL']\n",
            "[{'first': 'Rusty', 'last': 'Steele'}, {'first': 'Colt', 'last': 'Steele'}, {'first': 'Blue', 'last': 'Steele'}]\n",
            "['Rusty', 'Colt', 'Blue']\n"
          ]
        }
      ]
    },
    {
      "cell_type": "code",
      "source": [
        "# Coding exercise\n",
        "\n",
        "def decrement_list(some_list):\n",
        "  return list(map(lambda num: num-1, some_list))\n",
        "\n",
        "print(decrement_list([2,3,4]))"
      ],
      "metadata": {
        "colab": {
          "base_uri": "https://localhost:8080/"
        },
        "id": "jLanbLafz08T",
        "outputId": "bc35676a-5600-4fe1-fd58-f7af36ef7766"
      },
      "execution_count": null,
      "outputs": [
        {
          "output_type": "stream",
          "name": "stdout",
          "text": [
            "[1, 2, 3]\n",
            "False\n"
          ]
        }
      ]
    },
    {
      "cell_type": "code",
      "source": [
        "# filter()\n",
        "\n",
        "  # Def - there is a lambda for each value in the iterable\n",
        "          # returns filter object, which can be converted to other iterables\n",
        "          # the object only contains values that return True to the lambda\n",
        "\n",
        "nums = list(range(1,7))\n",
        "print(nums)\n",
        "\n",
        "evens = list(filter(lambda num: num%2 == 0, nums)) # filter only stores iterable value in new object if the lambda returns a True condition\n",
        "print(evens)\n",
        "\n",
        "names  = ['austin','penny','anthony','angel','billy']\n",
        "print(names)\n",
        "\n",
        "filtered_names = list(filter(lambda name: name.lower()[0] == 'a',names))\n",
        "print(filtered_names)\n",
        "\n",
        "users = [\n",
        "    {'username':'samuel','tweets':['I love cake','I love pie']},\n",
        "    {'username':'katie','tweets':['I love my cat']},\n",
        "    {'username':'jeff','tweets':[]},\n",
        "    {'username':'bob123','tweets':[]},\n",
        "    {'username':'doggo_luvr','tweets':['Dogs are the best']},\n",
        "    {'username':'guitar_gal','tweets':[]}\n",
        "]\n",
        "\n",
        "inactive_users = list(filter(lambda user: [] in user.values(),users))\n",
        "print(inactive_users)\n",
        "\n",
        "# another method\n",
        "\n",
        "inactive_users2 = list(filter(lambda user: len(user['tweets']) == 0,users))\n",
        "print(inactive_users2)\n",
        "\n",
        "# another method \n",
        "\n",
        "inactive_users3 = list(filter(lambda user: not user['tweets'],users)) # returns value of indexed key. empty list inherently falsy, hence invert\n",
        "print(inactive_users3)\n",
        "\n",
        "# Combining Filter and Map\n",
        "\n",
        "names  = ['Lassie','Colt','Rusty']\n",
        "\n",
        "result = list(map(lambda name: f'Your instructor is {name}', list(filter(lambda name: len(name)<5, names)))) # filter passes a revised list of iterables for map.\n",
        "print(result)\n",
        "\n",
        "inactive_users4 = list(map(lambda filt: filt['username'].upper(), list(filter(lambda user: [] in user.values(), users))))\n",
        "print(inactive_users4)\n",
        "\n",
        "# using list comprehension\n",
        "\n",
        "result1 = [f'Your instructor is {name}' for name in names if len(name)<5]\n",
        "print(result1)\n",
        "\n",
        "inactive_users5 = [user['username'].upper() for user in users if not user['tweets']]\n",
        "print(inactive_users5)"
      ],
      "metadata": {
        "colab": {
          "base_uri": "https://localhost:8080/"
        },
        "id": "S-293goJXfwV",
        "outputId": "56446d8a-f66d-43e7-ed62-9cc0e72580d2"
      },
      "execution_count": null,
      "outputs": [
        {
          "output_type": "stream",
          "name": "stdout",
          "text": [
            "[1, 2, 3, 4, 5, 6]\n",
            "[2, 4, 6]\n",
            "['austin', 'penny', 'anthony', 'angel', 'billy']\n",
            "['austin', 'anthony', 'angel']\n",
            "[{'username': 'jeff', 'tweets': []}, {'username': 'bob123', 'tweets': []}, {'username': 'guitar_gal', 'tweets': []}]\n",
            "[{'username': 'jeff', 'tweets': []}, {'username': 'bob123', 'tweets': []}, {'username': 'guitar_gal', 'tweets': []}]\n",
            "[{'username': 'jeff', 'tweets': []}, {'username': 'bob123', 'tweets': []}, {'username': 'guitar_gal', 'tweets': []}]\n",
            "['Your instructor is Colt']\n",
            "['JEFF', 'BOB123', 'GUITAR_GAL']\n",
            "['Your instructor is Colt']\n",
            "['JEFF', 'BOB123', 'GUITAR_GAL']\n"
          ]
        }
      ]
    },
    {
      "cell_type": "code",
      "source": [
        "# Coding exercise\n",
        "\n",
        "  # remove negative numbers in a  list\n",
        "\n",
        "def remove_negatives(num_list):\n",
        "  return list(filter(lambda num: num >= 0,num_list))\n",
        "\n",
        "nums = [1,0,-0.77,5,-8,-279.15,45.87]\n",
        "\n",
        "print(remove_negatives(nums))"
      ],
      "metadata": {
        "colab": {
          "base_uri": "https://localhost:8080/"
        },
        "id": "zNsbcfwFrGlq",
        "outputId": "4ba168ec-fdc3-4da9-8f1c-fd98be41cbbe"
      },
      "execution_count": null,
      "outputs": [
        {
          "output_type": "stream",
          "name": "stdout",
          "text": [
            "[1, 0, 5, 45.87]\n"
          ]
        }
      ]
    },
    {
      "cell_type": "code",
      "source": [
        "# all() - return True if all elements of the iterable are truthy or the iterable is empty - AND Case\n",
        "\n",
        "print(all([0,1,2,3,4])) # False\n",
        "\n",
        "people = ['Charlie','Casey','Cody','Carly','Cristina']\n",
        "\n",
        "print([person[0]=='C' for person in people])\n",
        "print(all([person[0]=='C' for person in people]),'\\n')\n",
        "\n",
        "people.append('Kristy')\n",
        "\n",
        "print(people)\n",
        "print([person[0]=='C' for person in people])\n",
        "print(all([person[0]=='C' for person in people]),'\\n')\n",
        "\n",
        "# any() - return True if any element of the iterable is truthy, if empty return False - OR Case\n",
        "\n",
        "print(any([0,1,2,3,4])) # True\n",
        "\n",
        "nums = list(range(1,20))\n",
        "\n",
        "print(any([num%2==0 for num in nums])) # True if any evens\n",
        "print(any([num%2==1 for num in nums])) # True if any odds"
      ],
      "metadata": {
        "colab": {
          "base_uri": "https://localhost:8080/"
        },
        "id": "CLa2TyrbunNh",
        "outputId": "39701714-3cd0-41f6-9baa-525ef189d8fc"
      },
      "execution_count": null,
      "outputs": [
        {
          "output_type": "stream",
          "name": "stdout",
          "text": [
            "False\n",
            "[True, True, True, True, True]\n",
            "True \n",
            "\n",
            "['Charlie', 'Casey', 'Cody', 'Carly', 'Cristina', 'Kristy']\n",
            "[True, True, True, True, True, False]\n",
            "False \n",
            "\n",
            "True\n",
            "True\n",
            "True\n"
          ]
        }
      ]
    },
    {
      "cell_type": "code",
      "source": [
        "# Generator expressions - more on that later... - lighter version of a list - () instead of []\n",
        "\n",
        "people = ['Charlie','Casey','Cody','Carly','Cristina']\n",
        "\n",
        "print([person[0]=='C' for person in people])\n",
        "print(all([person[0]=='C' for person in people]))\n",
        "print(type([person[0]=='C' for person in people]),'\\n')\n",
        "\n",
        "print(person[0] == 'C' for person in people) # generator object\n",
        "print(type(person[0] == 'C' for person in people)) # suitable if returning a list object is not necessary\n",
        "\n",
        "  # use a generator object if all your'e doing is iterating once\n",
        "  # use list comprehension if you want to store and reuse the generated results\n",
        "  # saves space in memory\n",
        "\n",
        "# Proof\n",
        "\n",
        "import sys\n",
        "\n",
        "list_comp = sys.getsizeof([x*10 for x in range(1000)]) # list expression\n",
        "gen_exp = sys.getsizeof(x*10 for x in range(1000)) # generator expression\n",
        "\n",
        "print('To do the same thing it takes...')\n",
        "print(f'List Comprehension : {list_comp} bytes') # a way lot more here\n",
        "print(f'Generator Expression : {gen_exp} bytes')"
      ],
      "metadata": {
        "colab": {
          "base_uri": "https://localhost:8080/"
        },
        "id": "_kRcuLpC1Jkv",
        "outputId": "654308e0-d325-484f-d073-1b2194d5dee9"
      },
      "execution_count": null,
      "outputs": [
        {
          "output_type": "stream",
          "name": "stdout",
          "text": [
            "[True, True, True, True, True]\n",
            "True\n",
            "<class 'list'> \n",
            "\n",
            "<generator object <genexpr> at 0x7ff3bb7ec2d0>\n",
            "<class 'generator'>\n",
            "To do the same thing it takes...\n",
            "List Comprehension : 9032 bytes\n",
            "Generator Expression : 128 bytes\n"
          ]
        }
      ]
    },
    {
      "cell_type": "code",
      "source": [
        "# Coding exercise\n",
        "\n",
        "def is_all_strings(some_string):\n",
        "  return all(type(string) == str for string in some_string)\n",
        "\n",
        "print(is_all_strings(['a','b','c']))\n",
        "print(is_all_strings([2,'a','b','c']))"
      ],
      "metadata": {
        "colab": {
          "base_uri": "https://localhost:8080/"
        },
        "id": "_iAnxaXgX6f8",
        "outputId": "9d8c3339-6162-43c8-f144-0bc965800484"
      },
      "execution_count": null,
      "outputs": [
        {
          "output_type": "stream",
          "name": "stdout",
          "text": [
            "True\n",
            "False\n"
          ]
        }
      ]
    },
    {
      "cell_type": "code",
      "source": [
        "# sorted() - returns a new sorted list from the items in iterable\n",
        "          # works on anything that is iterable\n",
        "\n",
        "more_nums = [6,1,4,8,2,5,0,3,7]\n",
        "\n",
        "print(sorted(more_nums)) # sorts in ascending order\n",
        "\n",
        "  # different from list.sort() method which rearranges the original list\n",
        "  # sorted does not modify the original list, but creates a new list \n",
        "\n",
        "print(more_nums)\n",
        "more_nums.sort()\n",
        "print(more_nums) # original list is sorted\n",
        "\n",
        "print(sorted(more_nums,reverse=True)) # reverse the order of list items \n",
        "\n",
        "print(sorted((4,7,1,3,8,0,2)),'\\n') # can accept a tuple, unlike list.sort() which is exclusively a list method\n",
        "\n",
        "users = [\n",
        "    {'username':'samuel','tweets':['I love cake','I love pie']},\n",
        "    {'username':'katie','tweets':['I love my cat']}, # dict length is 2 keys\n",
        "    {'username':'jeff','tweets':[],'color':'purple'}, # dict length is 3 keys\n",
        "    {'username':'bob123','tweets':[],'color':'teal','num':10}, # dict length is 4 keys\n",
        "    {'username':'doggo_luvr','tweets':['Dogs are the best']},\n",
        "    {'username':'guitar_gal','tweets':[]}\n",
        "]\n",
        "\n",
        "  # dictionary lengths are determined by the number of keys they contain\n",
        "  # sorted - can be used to sort this list of dictionaries based on a specific key sorting property\n",
        "\n",
        "from pprint import pprint\n",
        "pprint(sorted(users,key=len)) # sorts the dicts in ascending length order\n",
        "\n",
        "print()\n",
        "\n",
        "pprint(sorted(users,key = lambda user: user['username'])) # pretty print reverses the dictionary order\n",
        "\n",
        "print()\n",
        "\n",
        "pprint(sorted(users,key = lambda user: len(user['tweets'])))"
      ],
      "metadata": {
        "colab": {
          "base_uri": "https://localhost:8080/"
        },
        "id": "K5xpFS5DZhOm",
        "outputId": "42375ccd-6c51-458b-9671-102557cedd57"
      },
      "execution_count": null,
      "outputs": [
        {
          "output_type": "stream",
          "name": "stdout",
          "text": [
            "[0, 1, 2, 3, 4, 5, 6, 7, 8]\n",
            "[6, 1, 4, 8, 2, 5, 0, 3, 7]\n",
            "[0, 1, 2, 3, 4, 5, 6, 7, 8]\n",
            "[8, 7, 6, 5, 4, 3, 2, 1, 0]\n",
            "[0, 1, 2, 3, 4, 7, 8] \n",
            "\n",
            "[{'tweets': ['I love cake', 'I love pie'], 'username': 'samuel'},\n",
            " {'tweets': ['I love my cat'], 'username': 'katie'},\n",
            " {'tweets': ['Dogs are the best'], 'username': 'doggo_luvr'},\n",
            " {'tweets': [], 'username': 'guitar_gal'},\n",
            " {'color': 'purple', 'tweets': [], 'username': 'jeff'},\n",
            " {'color': 'teal', 'num': 10, 'tweets': [], 'username': 'bob123'}]\n",
            "\n",
            "[{'color': 'teal', 'num': 10, 'tweets': [], 'username': 'bob123'},\n",
            " {'tweets': ['Dogs are the best'], 'username': 'doggo_luvr'},\n",
            " {'tweets': [], 'username': 'guitar_gal'},\n",
            " {'color': 'purple', 'tweets': [], 'username': 'jeff'},\n",
            " {'tweets': ['I love my cat'], 'username': 'katie'},\n",
            " {'tweets': ['I love cake', 'I love pie'], 'username': 'samuel'}]\n",
            "\n",
            "[{'color': 'purple', 'tweets': [], 'username': 'jeff'},\n",
            " {'color': 'teal', 'num': 10, 'tweets': [], 'username': 'bob123'},\n",
            " {'tweets': [], 'username': 'guitar_gal'},\n",
            " {'tweets': ['I love my cat'], 'username': 'katie'},\n",
            " {'tweets': ['Dogs are the best'], 'username': 'doggo_luvr'},\n",
            " {'tweets': ['I love cake', 'I love pie'], 'username': 'samuel'}]\n"
          ]
        }
      ]
    },
    {
      "cell_type": "code",
      "source": [
        "# min/max\n",
        "\n",
        "# max() - returns the largest item in an iterable or the largest of two or more arguments\n",
        "# min() - vice versa\n",
        "\n",
        "print(max(3,6,9))\n",
        "print(max('c','d','a'))\n",
        "\n",
        "print(max([2,5,0,9])) # returns the maximum element in iterable list\n",
        "print(max('awesome'))\n",
        "print(max({'a':4,'b':3,'c':2,'d':1,'e':0})) # takes the max of the dictionary keys, not values\n",
        "\n",
        "print(min([2,5,0,9]),'\\n') # returns the minimum element in iterable list\n",
        "\n",
        "names = ['Arya','Samson','Dora','Tim','Ollivander']\n",
        "\n",
        "print(max(names)) # by default takes compares the first letter in alphabetical order\n",
        "print(max(names,key = lambda name: len(name)),'\\n') # returns the longest string by length\n",
        "\n",
        "songs = [\n",
        "    {'title':'happy birthday','playcount':1},\n",
        "    {'title':'Survive','playcount':6},\n",
        "    {'title':'YMCA','playcount':99},\n",
        "    {'title':'Toxic','playcount':31}\n",
        "]\n",
        "\n",
        "print(min(songs,key = lambda song: song['playcount'])) # returns a dictionary object indexed from the list\n",
        "print(min(songs,key = lambda song: song['playcount'])['title']) # returns value of key indexed in dictionary\n",
        "print(max(songs,key = lambda song: song['playcount'])['title']) "
      ],
      "metadata": {
        "id": "CX88x2zEjfdc",
        "colab": {
          "base_uri": "https://localhost:8080/"
        },
        "outputId": "72207821-b723-4c3c-903e-46a2a3918100"
      },
      "execution_count": null,
      "outputs": [
        {
          "output_type": "stream",
          "name": "stdout",
          "text": [
            "9\n",
            "d\n",
            "9\n",
            "w\n",
            "e\n",
            "0 \n",
            "\n",
            "Tim\n",
            "Ollivander \n",
            "\n",
            "{'title': 'happy birthday', 'playcount': 1}\n",
            "happy birthday\n",
            "YMCA\n"
          ]
        }
      ]
    },
    {
      "cell_type": "code",
      "source": [
        "# Coding exercise\n",
        "\n",
        "def extremes(iterable):\n",
        "  return (min(iterable),max(iterable))\n",
        "\n",
        "print(extremes('alcatraz'))\n",
        "print(extremes([99,25,30,-7]))"
      ],
      "metadata": {
        "colab": {
          "base_uri": "https://localhost:8080/"
        },
        "id": "_0e4DgpLeuT0",
        "outputId": "86e580f6-fa21-4308-8bfa-93a732116c44"
      },
      "execution_count": null,
      "outputs": [
        {
          "output_type": "stream",
          "name": "stdout",
          "text": [
            "('a', 'z')\n",
            "(-7, 99)\n"
          ]
        }
      ]
    },
    {
      "cell_type": "code",
      "source": [
        "# reversed() - reverses the iterator object\n",
        "\n",
        "nums = [1,2,3,4,5,6,7]\n",
        "nums.reverse() # list only reverse method\n",
        "print(nums)\n",
        "\n",
        "print(reversed(nums)) # returns a reverse iterator object\n",
        "print(list(reversed(nums)))\n",
        "\n",
        "print(reversed('hello')) #  useful of iterable objects other than lists\n",
        "print(''.join(list(reversed('hello'))),'\\n')\n",
        "\n",
        "for num in reversed(range(0,10)): # iterates over a reversed range\n",
        "  print(num)\n",
        "\n",
        "print()\n",
        "\n",
        "num_list = list(range(0,20))\n",
        "print(num_list[5])\n",
        "print(list(reversed(num_list))[5]) # only iterable order reversed. indexing is not reversed."
      ],
      "metadata": {
        "colab": {
          "base_uri": "https://localhost:8080/"
        },
        "id": "egyRysm5g8wc",
        "outputId": "b0addfcd-1557-49ea-e147-442a33723be2"
      },
      "execution_count": null,
      "outputs": [
        {
          "output_type": "stream",
          "name": "stdout",
          "text": [
            "[7, 6, 5, 4, 3, 2, 1]\n",
            "<list_reverseiterator object at 0x7f378a411f50>\n",
            "[1, 2, 3, 4, 5, 6, 7]\n",
            "<reversed object at 0x7f378a411290>\n",
            "olleh \n",
            "\n",
            "9\n",
            "8\n",
            "7\n",
            "6\n",
            "5\n",
            "4\n",
            "3\n",
            "2\n",
            "1\n",
            "0\n",
            "\n",
            "5\n",
            "14\n"
          ]
        }
      ]
    },
    {
      "cell_type": "code",
      "source": [
        "# len() - returns the number of objects in iterable\n",
        "\n",
        "print(len('hello')) # invoking the buit-in function called 'len'\n",
        "print('ice'.__len__()) # dunder syntax '__len__()' - 'len()' will call this method on any input passed into it"
      ],
      "metadata": {
        "colab": {
          "base_uri": "https://localhost:8080/"
        },
        "id": "FD0871jwpxSE",
        "outputId": "0376e621-147f-4a36-ac37-c57fc61146d8"
      },
      "execution_count": null,
      "outputs": [
        {
          "output_type": "stream",
          "name": "stdout",
          "text": [
            "5\n",
            "3\n"
          ]
        }
      ]
    },
    {
      "cell_type": "code",
      "source": [
        "# abs() - returns the absolute value of a number. The argument can be an integer or floating point\n",
        "\n",
        "print(abs(5))\n",
        "print(abs(-5))\n",
        "print(abs(-3.5634))\n",
        "#print(abs([1,0.7,-3.21,6,-0.2])) # this function cannot take lists, only single values\n",
        "\n",
        "import math\n",
        "print(math.fabs(-9),'\\n') # math.fabs() - returns floating point absolute value initially\n",
        "\n",
        "# sum() - takes an iterable and an optional start, (default params, start = 0)\n",
        "          # returns sum of start and items in iterable from left to right\n",
        "\n",
        "print(sum([1,2,3]))\n",
        "print(sum([1,2,3],10)) # start value given\n",
        "print(sum((1,3.7,5,4.28),6.77)) # tuple and start given\n",
        "print(sum({1,2,3,4,5},10)) # set and start given\n",
        "\n",
        "print(math.fsum([23.657,67.43433]),'\\n') # math.fsum() - useful for sums with extended floating points \n",
        "\n",
        "# round() - return a number, rounded to n-digits precision after the decimal point\n",
        "            # if n-digits omitted, returns to nearest integer \n",
        "\n",
        "print(round(10.2))\n",
        "print(22/7)\n",
        "print(round(22/7, 3)) # rounds to nearest 3 decimal places"
      ],
      "metadata": {
        "colab": {
          "base_uri": "https://localhost:8080/"
        },
        "id": "H6EsWQ1Hs6c8",
        "outputId": "a3505690-0245-4373-cdc2-cdc3a9999c1a"
      },
      "execution_count": null,
      "outputs": [
        {
          "output_type": "stream",
          "name": "stdout",
          "text": [
            "5\n",
            "5\n",
            "3.5634\n",
            "9.0 \n",
            "\n",
            "6\n",
            "16\n",
            "20.75\n",
            "25\n",
            "91.09133 \n",
            "\n",
            "10\n",
            "3.142857142857143\n",
            "3.143\n"
          ]
        }
      ]
    },
    {
      "cell_type": "code",
      "source": [
        "# Coding exercise\n",
        "\n",
        "def max_magnitude(nums):\n",
        "  return max(map(lambda num: abs(num),nums)) # convert entire list to absolute values using 'map' and then take max of list\n",
        "\n",
        "print(max_magnitude([300,20,-900]))\n",
        "print(max_magnitude([10,11,12]))\n",
        "print(max_magnitude([-5,-1,-89]),'\\n')\n",
        "\n",
        "# another method\n",
        "\n",
        "def max_magnitude(nums):\n",
        "  return abs(max(nums,key = lambda num: abs(num))) # return the object with the max absolute value as specified by the key lambda, and take absolute of result\n",
        "\n",
        "print(max_magnitude([300,20,-900]))\n",
        "print(max_magnitude([10,11,12]))\n",
        "print(max_magnitude([-5,-1,-89]),'\\n')\n",
        "\n",
        "# another method\n",
        "\n",
        "def max_magnitude(nums):\n",
        "  return max(abs(num) for num in nums) # list comprehension / generator expression method\n",
        "\n",
        "print(max_magnitude([300,20,-900]))\n",
        "print(max_magnitude([10,11,12]))\n",
        "print(max_magnitude([-5,-1,-89]),'\\n')"
      ],
      "metadata": {
        "colab": {
          "base_uri": "https://localhost:8080/"
        },
        "id": "XlwZSoVXz5G-",
        "outputId": "f8081431-e59f-4d46-e14d-302850b3a85e"
      },
      "execution_count": null,
      "outputs": [
        {
          "output_type": "stream",
          "name": "stdout",
          "text": [
            "900\n",
            "12\n",
            "89 \n",
            "\n",
            "900\n",
            "12\n",
            "89 \n",
            "\n",
            "900\n",
            "12\n",
            "89 \n",
            "\n"
          ]
        }
      ]
    },
    {
      "cell_type": "code",
      "source": [
        "# Coding exercise\n",
        "\n",
        "'''\n",
        "sum_even_values(1,2,3,4,5,6) # 12\n",
        "sum_even_values(4,2,1,10) # 16\n",
        "sum_even_values(1) # 0\n",
        "'''\n",
        "\n",
        "# define sum_even_values\n",
        "\n",
        "def sum_even_values(*args):\n",
        "  return sum(num if num%2==0 else 0 for num in args )\n",
        "\n",
        "print(sum_even_values(*range(10))) # input argument has to be an unpacked set of values - *input for unpacking!\n",
        "print(sum_even_values(1,3,5,7),'\\n')\n",
        "\n",
        "# another solution\n",
        "\n",
        "def sum_even_values(*args):\n",
        "  return sum(filter(lambda num: num%2 == 0,args)) # creates a filtered generator object.\n",
        "\n",
        "print(sum_even_values(*range(10)))\n",
        "print(sum_even_values(1,3,5,7))"
      ],
      "metadata": {
        "colab": {
          "base_uri": "https://localhost:8080/"
        },
        "id": "lHkisMDc6zfp",
        "outputId": "b6b420ee-2f07-4cbb-c621-45ac9db3a47f"
      },
      "execution_count": null,
      "outputs": [
        {
          "output_type": "stream",
          "name": "stdout",
          "text": [
            "20\n",
            "0 \n",
            "\n",
            "20\n",
            "0\n"
          ]
        }
      ]
    },
    {
      "cell_type": "code",
      "source": [
        "# Coding exercise\n",
        "\n",
        "def sum_floats(*args):\n",
        "  return sum(num for num in args if type(num)==float)\n",
        "\n",
        "print(sum_floats(1.5, 2.4, 'awesome', [], 1)) # 3.9\n",
        "print(sum_floats(1,2,3,4,5),'\\n') # 0\n",
        "\n",
        "# another solution\n",
        "\n",
        "def sum_floats(*args):\n",
        "  return sum(filter(lambda num: type(num)==float,args))\n",
        "\n",
        "print(sum_floats(1.5, 2.4, 'awesome', [], 1)) # 3.9\n",
        "print(sum_floats(1,2,3,4,5)) # 0"
      ],
      "metadata": {
        "colab": {
          "base_uri": "https://localhost:8080/"
        },
        "id": "1APWwsnQXuOw",
        "outputId": "657bad17-0780-42bb-8323-34f6fd6b746f"
      },
      "execution_count": null,
      "outputs": [
        {
          "output_type": "stream",
          "name": "stdout",
          "text": [
            "3.9\n",
            "0 \n",
            "\n",
            "3.9\n",
            "0\n"
          ]
        }
      ]
    },
    {
      "cell_type": "code",
      "source": [
        "# zip()\n",
        "\n",
        "    # def - makes an iterator that aggregates elements from each of the iterables\n",
        "            # returns an iterator of tuples, where the i-th tuple contains the i-th element from each of the argument sequences or iterables\n",
        "            # the iterator stops when the shortest input iterable is exhausted\n",
        "\n",
        "first_zip = zip([1,2,3],[4,5,6])\n",
        "\n",
        "print(zip([1,2,3],[4,5,6])) # creates a zip object\n",
        "print(list(zip([1,2,3],[4,5,6]))) # creates a list of tuples\n",
        "print(dict(zip([1,2,3],[4,5,6])),'\\n') # creates a dictionary where each tuple provides a single key-value pair\n",
        "\n",
        "nums1 = [1,2,3,4,5,6] # length = 6 elements\n",
        "nums2 = [45.77,23.1,11.08,95.13] # length = 4 elements\n",
        "\n",
        "print(list(zip(nums1,nums2))) # result length only goes up to the length of shortest iterable argument\n",
        "print(list(zip(nums2,nums1)),'\\n') # swapping input argument order changes the result\n",
        "\n",
        "word = 'thing' # length = 5 elements\n",
        "\n",
        "print(list(zip(word,nums1,nums2)),'\\n') # can zip strings, which are iterable\n",
        "\n",
        "# unpacking lists and passing in as arguments\n",
        "\n",
        "collected = list(zip(word,nums1,nums2))\n",
        "print(collected)\n",
        "\n",
        "print(list(zip(*collected))) # unpacks each tuple and passes as an individual argument\n",
        "  # similiar to list(zip(tuple1,tuple2,tuple3))"
      ],
      "metadata": {
        "colab": {
          "base_uri": "https://localhost:8080/"
        },
        "id": "0Xpg78MPb3Dl",
        "outputId": "697c21e0-cd03-4781-96d4-670bd37a76bd"
      },
      "execution_count": null,
      "outputs": [
        {
          "output_type": "stream",
          "name": "stdout",
          "text": [
            "<zip object at 0x7fd8929b7d20>\n",
            "[(1, 4), (2, 5), (3, 6)]\n",
            "{1: 4, 2: 5, 3: 6} \n",
            "\n",
            "[(1, 45.77), (2, 23.1), (3, 11.08), (4, 95.13)]\n",
            "[(45.77, 1), (23.1, 2), (11.08, 3), (95.13, 4)] \n",
            "\n",
            "[('t', 1, 45.77), ('h', 2, 23.1), ('i', 3, 11.08), ('n', 4, 95.13)] \n",
            "\n",
            "[('t', 1, 45.77), ('h', 2, 23.1), ('i', 3, 11.08), ('n', 4, 95.13)]\n",
            "[('t', 'h', 'i', 'n'), (1, 2, 3, 4), (45.77, 23.1, 11.08, 95.13)]\n"
          ]
        }
      ]
    },
    {
      "cell_type": "code",
      "source": [
        "midterms = [80,91,78]\n",
        "finals = [98,89,53]\n",
        "students = ['dan','ang','kate']\n",
        "\n",
        "# final_grades = {'dan':98,'ang':91,'kate':78}\n",
        "\n",
        "combined = list(zip(midterms,finals))\n",
        "final_result = dict(zip(students,(max(mark) for mark in combined)))\n",
        "\n",
        "print(final_result)\n",
        "\n",
        "# another solution\n",
        "\n",
        "final_result = {pair[0]:max(pair[1],pair[2]) for pair in zip(students,midterms,finals)} # dict comprehension\n",
        "print(final_result)\n",
        "\n",
        "# another solution\n",
        "\n",
        "final_result = {key:max(val1,val2) for key,val1,val2 in zip(students,midterms,finals)}\n",
        "print(final_result)\n",
        "\n",
        "# another solution\n",
        "\n",
        "final_result = dict(zip(students,list(map(lambda pair: max(pair),zip(midterms,finals)))))\n",
        "print(final_result)\n",
        "\n",
        "# average result\n",
        "\n",
        "final_result = dict(zip(students,list(map(lambda pair: round(sum(pair)/2,2),zip(midterms,finals)))))\n",
        "print(final_result)"
      ],
      "metadata": {
        "colab": {
          "base_uri": "https://localhost:8080/"
        },
        "id": "AvQHzQn7-igP",
        "outputId": "34513009-3f47-494c-c28a-d5d32ce2f276"
      },
      "execution_count": null,
      "outputs": [
        {
          "output_type": "stream",
          "name": "stdout",
          "text": [
            "{'dan': 98, 'ang': 91, 'kate': 78}\n",
            "{'dan': 98, 'ang': 91, 'kate': 78}\n",
            "{'dan': 98, 'ang': 91, 'kate': 78}\n",
            "{'dan': 98, 'ang': 91, 'kate': 78}\n",
            "{'dan': 89.0, 'ang': 90.0, 'kate': 65.5}\n"
          ]
        }
      ]
    },
    {
      "cell_type": "code",
      "source": [
        "# Coding exercise\n",
        "\n",
        "def interleave(str1,str2):\n",
        "  step1 = list(zip(list(map(lambda char: char,str1)),list(map(lambda char: char,str2))))\n",
        "  print(step1) # converts each character in string to a list using 'map', then zips the two character lists to create a paired tuple list\n",
        "  step2 = list(map(lambda val:list(val),step1))\n",
        "  print(step2) # converts the paired tuple list to a nested list\n",
        "  return ''.join(list(map(lambda vals:''.join(vals),step2))) # two stage '.join' on the inner and outer list to return a single combined string\n",
        "\n",
        "print(interleave('hi','ha'),'\\n')\n",
        "print(interleave('aaa', 'zzz'),'\\n')\n",
        "print(interleave('lzr','iad'),'\\n')\n",
        "\n",
        "# another solution\n",
        "\n",
        "def interleave(str1,str2):\n",
        "  step1 = list(zip(str1,str2)) # string is an iterable object, hence it can be directly zipped using the 'zip' function\n",
        "  print(step1) \n",
        "  step2 = list(map(lambda val:list(val),step1))\n",
        "  print(step2) # converts the paired tuple list to a nested list\n",
        "  return ''.join(list(map(lambda vals:''.join(vals),step2))) # two stage '.join' on the inner and outer list to return a single combined string\n",
        "\n",
        "print(interleave('hi','ha'),'\\n')\n",
        "print(interleave('aaa', 'zzz'),'\\n')\n",
        "print(interleave('lzr','iad'),'\\n')\n",
        "\n",
        "# another solution\n",
        "\n",
        "def interleave(str1,str2):\n",
        "  return ''.join(''.join(x) for x in (zip(str1,str2))) # converting to list not necessary, can use generator expression\n",
        "\n",
        "print(interleave('hi','ha'))\n",
        "print(interleave('aaa', 'zzz'))\n",
        "print(interleave('lzr','iad'))\n",
        "\n",
        "print(list(zip('hi','ha')))"
      ],
      "metadata": {
        "colab": {
          "base_uri": "https://localhost:8080/"
        },
        "id": "vopsUwBDIKop",
        "outputId": "8c4285cc-3d5b-42f0-bdf0-e2404dbd8917"
      },
      "execution_count": null,
      "outputs": [
        {
          "output_type": "stream",
          "name": "stdout",
          "text": [
            "[('h', 'h'), ('i', 'a')]\n",
            "[['h', 'h'], ['i', 'a']]\n",
            "hhia \n",
            "\n",
            "[('a', 'z'), ('a', 'z'), ('a', 'z')]\n",
            "[['a', 'z'], ['a', 'z'], ['a', 'z']]\n",
            "azazaz \n",
            "\n",
            "[('l', 'i'), ('z', 'a'), ('r', 'd')]\n",
            "[['l', 'i'], ['z', 'a'], ['r', 'd']]\n",
            "lizard \n",
            "\n",
            "[('h', 'h'), ('i', 'a')]\n",
            "[['h', 'h'], ['i', 'a']]\n",
            "hhia \n",
            "\n",
            "[('a', 'z'), ('a', 'z'), ('a', 'z')]\n",
            "[['a', 'z'], ['a', 'z'], ['a', 'z']]\n",
            "azazaz \n",
            "\n",
            "[('l', 'i'), ('z', 'a'), ('r', 'd')]\n",
            "[['l', 'i'], ['z', 'a'], ['r', 'd']]\n",
            "lizard \n",
            "\n",
            "hhia\n",
            "azazaz\n",
            "lizard\n",
            "[('h', 'h'), ('i', 'a')]\n"
          ]
        }
      ]
    },
    {
      "cell_type": "code",
      "source": [
        "# Coding exercise\n",
        "\n",
        "def triple_and_filter(nums):\n",
        "  return list(map(lambda val: val*3,filter(lambda num: num%4==0,nums)))\n",
        "\n",
        "print(triple_and_filter([1,2,3,4]))\n",
        "print(triple_and_filter([6,8,10,12]))\n",
        "\n",
        "def extract_full_name(names):\n",
        "  return list(map(lambda name: f\"{name['first']} {name['last']}\",names))\n",
        "\n",
        "names = [{'first': 'Elie', 'last': 'Schoppik'}, {'first': 'Colt', 'last': 'Steele'}]\n",
        "\n",
        "print(extract_full_name(names))"
      ],
      "metadata": {
        "colab": {
          "base_uri": "https://localhost:8080/"
        },
        "id": "wVsoc7B9Xsa4",
        "outputId": "18058e2b-355f-4b1c-d1e5-1291f3a6aef8"
      },
      "execution_count": null,
      "outputs": [
        {
          "output_type": "stream",
          "name": "stdout",
          "text": [
            "[12]\n",
            "[24, 36]\n",
            "['Elie Schoppik', 'Colt Steele']\n"
          ]
        }
      ]
    }
  ]
}