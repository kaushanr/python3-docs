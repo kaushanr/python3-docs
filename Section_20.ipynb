{
  "nbformat": 4,
  "nbformat_minor": 0,
  "metadata": {
    "colab": {
      "name": "Section_20",
      "provenance": [],
      "authorship_tag": "ABX9TyPcn97vJ26Oh0JB5cCGVuYd",
      "include_colab_link": true
    },
    "kernelspec": {
      "name": "python3",
      "display_name": "Python 3"
    },
    "language_info": {
      "name": "python"
    }
  },
  "cells": [
    {
      "cell_type": "markdown",
      "metadata": {
        "id": "view-in-github",
        "colab_type": "text"
      },
      "source": [
        "<a href=\"https://colab.research.google.com/github/kaushanr/python3-docs/blob/main/Section_20.ipynb\" target=\"_parent\"><img src=\"https://colab.research.google.com/assets/colab-badge.svg\" alt=\"Open In Colab\"/></a>"
      ]
    },
    {
      "cell_type": "markdown",
      "source": [
        "# Lambdas and Built-in Functions"
      ],
      "metadata": {
        "id": "FNYNUFkZnSvs"
      }
    },
    {
      "cell_type": "code",
      "execution_count": 7,
      "metadata": {
        "colab": {
          "base_uri": "https://localhost:8080/"
        },
        "id": "WMz49PDbnMpG",
        "outputId": "33e20e9d-2ac5-441d-f62b-f3ebff79e5ae"
      },
      "outputs": [
        {
          "output_type": "stream",
          "name": "stdout",
          "text": [
            "64\n",
            "64\n",
            "13\n",
            "print(value, ..., sep=' ', end='\\n', file=sys.stdout, flush=False)\n",
            "\n",
            "Prints the values to a stream, or to sys.stdout by default.\n",
            "Optional keyword arguments:\n",
            "file:  a file-like object (stream); defaults to the current sys.stdout.\n",
            "sep:   string inserted between values, default a space.\n",
            "end:   string appended after the last value, default a newline.\n",
            "flush: whether to forcibly flush the stream. \n",
            "\n",
            "square\n",
            "<lambda>\n",
            "<lambda>\n"
          ]
        }
      ],
      "source": [
        "def square(num):# typical function format\n",
        "  return num*num\n",
        "\n",
        "print(square(8))\n",
        "\n",
        "# Lambdas - is a function that has no name (anonymous functions)\n",
        "\n",
        "  # Syntax - lambda parameter(s): some_operation\n",
        "\n",
        "square2 = lambda num: num*num # single line only, with no return - can be used without assigning to a variable \n",
        "\n",
        "print(square2(8)) # invoking is similiar to a typical function\n",
        "\n",
        "add = lambda a,b: a+b\n",
        "\n",
        "print(add(10,3))\n",
        "\n",
        "print(print.__doc__,'\\n') # docstring for function documentation\n",
        "\n",
        "print(square.__name__)\n",
        "print(square2.__name__)"
      ]
    },
    {
      "cell_type": "code",
      "source": [
        "# Coding exercise\n",
        "\n",
        "cube = lambda num: num**3 # power of oerator - val**pow\n",
        "\n",
        "print(cube(2))"
      ],
      "metadata": {
        "colab": {
          "base_uri": "https://localhost:8080/"
        },
        "id": "VqHET7obyVkP",
        "outputId": "0062b00b-e871-409b-faaa-38cec64abcdc"
      },
      "execution_count": 12,
      "outputs": [
        {
          "output_type": "stream",
          "name": "stdout",
          "text": [
            "8\n"
          ]
        }
      ]
    },
    {
      "cell_type": "code",
      "source": [
        "# Map - buit-in lambda function\n",
        "\n",
        "  # Def - a standard function that accepts atleast two arguments\n",
        "          # a function to map too and an iterable.\n",
        "\n",
        "          # runs the lambda for each value in the iterable and returns a map object\n",
        "          # which can be converted into another data structure.\n",
        "\n",
        "nums = list(range(10))\n",
        "print(nums)\n",
        "\n",
        "doubles = map(lambda num: num*2,nums) # map(function/lambda, iterable object)\n",
        "\n",
        "print(doubles) # returns a map object which is iterable\n",
        "\n",
        "print(list(doubles)) # map object converted to a list\n",
        "\n",
        "  # once the lambda is run it needs to be called again as it exists only for a single operation\n",
        "\n",
        "doubles = map(lambda num: num*2,nums)\n",
        "\n",
        "  # Or iterating over the map object\n",
        "for obj in doubles:\n",
        "  print(obj)\n",
        "\n",
        "people = ['Darcy','Christina','Dana','Annabel']\n",
        "\n",
        "upper = list(map(lambda person: person.upper(),people))\n",
        "\n",
        "print(upper)\n",
        "\n",
        "# using list comprehension (recap)\n",
        "\n",
        "upper2 = [person.upper() for person in people]\n",
        "print(upper2)\n",
        "\n",
        "names = [\n",
        "    {'first':'Rusty','last':'Steele'},\n",
        "    {'first':'Colt','last':'Steele'},\n",
        "    {'first':'Blue','last':'Steele'}\n",
        "]\n",
        "\n",
        "print(names)\n",
        "first_names = list(map(lambda name: name['first'],names)) # accesses the value of the indexed key in each dictionary\n",
        "print(first_names)"
      ],
      "metadata": {
        "colab": {
          "base_uri": "https://localhost:8080/"
        },
        "id": "HZ-Tn3cszC7g",
        "outputId": "4ab58720-8cfd-412c-9cd8-3f3de6482c69"
      },
      "execution_count": 26,
      "outputs": [
        {
          "output_type": "stream",
          "name": "stdout",
          "text": [
            "[0, 1, 2, 3, 4, 5, 6, 7, 8, 9]\n",
            "<map object at 0x7fc09dad7350>\n",
            "[0, 2, 4, 6, 8, 10, 12, 14, 16, 18]\n",
            "0\n",
            "2\n",
            "4\n",
            "6\n",
            "8\n",
            "10\n",
            "12\n",
            "14\n",
            "16\n",
            "18\n",
            "['DARCY', 'CHRISTINA', 'DANA', 'ANNABEL']\n",
            "['DARCY', 'CHRISTINA', 'DANA', 'ANNABEL']\n",
            "[{'first': 'Rusty', 'last': 'Steele'}, {'first': 'Colt', 'last': 'Steele'}, {'first': 'Blue', 'last': 'Steele'}]\n",
            "['Rusty', 'Colt', 'Blue']\n"
          ]
        }
      ]
    },
    {
      "cell_type": "code",
      "source": [
        "# Coding exercise\n",
        "\n",
        "def decrement_list(some_list):\n",
        "  return list(map(lambda num: num-1, some_list))\n",
        "\n",
        "print(decrement_list([2,3,4]))"
      ],
      "metadata": {
        "colab": {
          "base_uri": "https://localhost:8080/"
        },
        "id": "jLanbLafz08T",
        "outputId": "bc35676a-5600-4fe1-fd58-f7af36ef7766"
      },
      "execution_count": 4,
      "outputs": [
        {
          "output_type": "stream",
          "name": "stdout",
          "text": [
            "[1, 2, 3]\n",
            "False\n"
          ]
        }
      ]
    },
    {
      "cell_type": "code",
      "source": [
        "# Filter \n",
        "\n",
        "  # Def - there is a lambda for each value in the iterable\n",
        "          # returns filter object, which can be converted to other iterables\n",
        "          # the object only contains values that return True to the lambda\n",
        "\n",
        "nums = list(range(1,7))\n",
        "print(nums)\n",
        "\n",
        "evens = list(filter(lambda num: num%2 == 0, nums)) # filter only stores iterable value in new object if the lambda returns a True condition\n",
        "print(evens)\n",
        "\n",
        "names  = ['austin','penny','anthony','angel','billy']\n",
        "print(names)\n",
        "\n",
        "filtered_names = list(filter(lambda name: name.lower()[0] == 'a',names))\n",
        "print(filtered_names)\n",
        "\n",
        "users = [\n",
        "    {'username':'samuel','tweets':['I love cake','I love pie']},\n",
        "    {'username':'katie','tweets':['I love my cat']},\n",
        "    {'username':'jeff','tweets':[]},\n",
        "    {'username':'bob123','tweets':[]},\n",
        "    {'username':'doggo_luvr','tweets':['Dogs are the best']},\n",
        "    {'username':'guitar_gal','tweets':[]}\n",
        "]\n",
        "\n",
        "inactive_users = list(filter(lambda user: [] in user.values(),users))\n",
        "print(inactive_users)\n",
        "\n",
        "# another method\n",
        "\n",
        "inactive_users2 = list(filter(lambda user: len(user['tweets']) == 0,users))\n",
        "print(inactive_users2)\n",
        "\n",
        "# another method \n",
        "\n",
        "inactive_users3 = list(filter(lambda user: not user['tweets'],users)) # returns value of indexed key. empty list inherently falsy, hence invert\n",
        "print(inactive_users3)\n",
        "\n",
        "# Combining Filter and Map\n",
        "\n",
        "names  = ['Lassie','Colt','Rusty']\n",
        "\n",
        "result = list(map(lambda name: f'Your instructor is {name}', list(filter(lambda name: len(name)<5, names)))) # filter passes a revised list of iterables for map.\n",
        "print(result)\n",
        "\n",
        "inactive_users4 = list(map(lambda filt: filt['username'].upper(), list(filter(lambda user: [] in user.values(), users))))\n",
        "print(inactive_users4)\n",
        "\n",
        "# using list comprehension\n",
        "\n",
        "result1 = [f'Your instructor is {name}' for name in names if len(name)<5]\n",
        "print(result1)\n",
        "\n",
        "inactive_users5 = [user['username'].upper() for user in users if not user['tweets']]\n",
        "print(inactive_users5)"
      ],
      "metadata": {
        "colab": {
          "base_uri": "https://localhost:8080/"
        },
        "id": "S-293goJXfwV",
        "outputId": "56446d8a-f66d-43e7-ed62-9cc0e72580d2"
      },
      "execution_count": 27,
      "outputs": [
        {
          "output_type": "stream",
          "name": "stdout",
          "text": [
            "[1, 2, 3, 4, 5, 6]\n",
            "[2, 4, 6]\n",
            "['austin', 'penny', 'anthony', 'angel', 'billy']\n",
            "['austin', 'anthony', 'angel']\n",
            "[{'username': 'jeff', 'tweets': []}, {'username': 'bob123', 'tweets': []}, {'username': 'guitar_gal', 'tweets': []}]\n",
            "[{'username': 'jeff', 'tweets': []}, {'username': 'bob123', 'tweets': []}, {'username': 'guitar_gal', 'tweets': []}]\n",
            "[{'username': 'jeff', 'tweets': []}, {'username': 'bob123', 'tweets': []}, {'username': 'guitar_gal', 'tweets': []}]\n",
            "['Your instructor is Colt']\n",
            "['JEFF', 'BOB123', 'GUITAR_GAL']\n",
            "['Your instructor is Colt']\n",
            "['JEFF', 'BOB123', 'GUITAR_GAL']\n"
          ]
        }
      ]
    }
  ]
}