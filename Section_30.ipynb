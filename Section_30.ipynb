{
  "nbformat": 4,
  "nbformat_minor": 0,
  "metadata": {
    "colab": {
      "provenance": [],
      "authorship_tag": "ABX9TyNsAu3QFQTAEHWyQZQrR7Ui",
      "include_colab_link": true
    },
    "kernelspec": {
      "name": "python3",
      "display_name": "Python 3"
    },
    "language_info": {
      "name": "python"
    }
  },
  "cells": [
    {
      "cell_type": "markdown",
      "metadata": {
        "id": "view-in-github",
        "colab_type": "text"
      },
      "source": [
        "<a href=\"https://colab.research.google.com/github/kaushanr/python3-docs/blob/main/Section_30.ipynb\" target=\"_parent\"><img src=\"https://colab.research.google.com/assets/colab-badge.svg\" alt=\"Open In Colab\"/></a>"
      ]
    },
    {
      "cell_type": "markdown",
      "source": [
        "# File I/O"
      ],
      "metadata": {
        "id": "yo3Mn7vYqwNZ"
      }
    },
    {
      "cell_type": "code",
      "execution_count": 24,
      "metadata": {
        "id": "j_0slWAAqs-q",
        "colab": {
          "base_uri": "https://localhost:8080/",
          "height": 105
        },
        "outputId": "62a2e697-2295-495f-85a6-1e9937450226"
      },
      "outputs": [
        {
          "output_type": "stream",
          "name": "stdout",
          "text": [
            "Loaded : short_story.txt, to workspace.\n",
            "<_io.TextIOWrapper name='short_story.txt' mode='r' encoding='UTF-8'>\n",
            "This short story is really short\n",
            "\n"
          ]
        },
        {
          "output_type": "execute_result",
          "data": {
            "text/plain": [
              "''"
            ],
            "application/vnd.google.colaboratory.intrinsic+json": {
              "type": "string"
            }
          },
          "metadata": {},
          "execution_count": 24
        }
      ],
      "source": [
        "# Reading files\n",
        "'''\n",
        "import requests\n",
        "url = 'https://raw.githubusercontent.com/kaushanr/python3-docs/main/docs/short_story.txt'\n",
        "page = requests.get(url)\n",
        "print(page.text) # JSON/HTML format response for text return\n",
        "'''\n",
        "def my_load(file_name,url = 'https://raw.githubusercontent.com/kaushanr/python3-docs/main/docs/'):\n",
        "  '''my_load(file_name,url = DefaultParameter)'''\n",
        "  import requests\n",
        "  url = url + file_name\n",
        "  r = requests.get(url)\n",
        "  with open(file_name, 'w') as f:\n",
        "      f.write(r.text)\n",
        "  return print(f'Loaded : {file_name}, to workspace.')\n",
        "  \n",
        "\n",
        "my_load('short_story.txt')\n",
        "\n",
        "f = open('short_story.txt')\n",
        "print(f)\n",
        "# help(f) # object of type TextIOWrapper Class\n",
        "print(f.read())\n",
        "f.read() # the second read request returns an empty string\n",
        "\n",
        "  # Cursor movement in Python results in the cursor moving to a newline in file after the previous line is read"
      ]
    },
    {
      "cell_type": "code",
      "source": [
        "# Seek and Cursors\n",
        "\n",
        "my_load('short_story_2.txt')\n",
        "file = open('short_story_2.txt')\n",
        "\n",
        "print(file.read()) # when open() is called, a pipeline remains open between the file and python\n",
        "print('end of first read request')\n",
        "print(file.read()) # nothing returned on second read request\n",
        "\n",
        "file.seek(0) # returns the cursor to the top of the file\n",
        "print('return cursor to top of file')\n",
        "print(file.read())\n",
        "\n",
        "print()\n",
        "\n",
        "file.seek(1) # places cursor before the first character in file\n",
        "print(file.read())\n",
        "\n",
        "file.seek(0)\n",
        "print(file.readline()) # returns the result of reading the file line by line\n",
        "\n",
        "file.seek(0)\n",
        "print(file.readlines()) # returns a list of all the lines in the file\n",
        "\n",
        "  # Note - it is important to terminate this connection between python and the file\n",
        "  # any changes made to the file end, will show up on the results if the connection is left open\n",
        "\n",
        "  # once work is done with a file, it should be manually closed\n",
        "  # it saves system resources!\n",
        "\n",
        "print(file.closed) # checks whether file is closed - returns a boolean value\n",
        "file.close()\n",
        "print(file.closed)"
      ],
      "metadata": {
        "colab": {
          "base_uri": "https://localhost:8080/"
        },
        "id": "Wye6Lqmb8_6I",
        "outputId": "fdc66a7b-a42a-4b0a-f8d1-a267ef0a2dea"
      },
      "execution_count": null,
      "outputs": [
        {
          "output_type": "stream",
          "name": "stdout",
          "text": [
            "Loaded : short_story_2.txt, to workspace.\n",
            "this short story is version 2\n",
            "it's a little longer\n",
            "the end.\n",
            "\n",
            "end of first read request\n",
            "\n",
            "return cursor to top of file\n",
            "this short story is version 2\n",
            "it's a little longer\n",
            "the end.\n",
            "\n",
            "\n",
            "his short story is version 2\n",
            "it's a little longer\n",
            "the end.\n",
            "\n",
            "this short story is version 2\n",
            "\n",
            "['this short story is version 2\\n', \"it's a little longer\\n\", 'the end.\\n']\n",
            "False\n",
            "True\n"
          ]
        }
      ]
    },
    {
      "cell_type": "code",
      "source": [
        "# With blocks\n",
        "\n",
        "  # popular statement - automatically closes an opened file, if there is a error on load\n",
        "\n",
        "with open('short_story_2.txt') as f:\n",
        "  data = f.read()\n",
        "\n",
        "print(f.closed)\n",
        "\n",
        "try:\n",
        "  print(f.read())\n",
        "except ValueError as err:\n",
        "  print(err)\n",
        "\n",
        "print()\n",
        "print(data)\n",
        "print(data)\n",
        "\n",
        "  # the 'with' blocks call the internal .__enter__() method on entry \n",
        "  # and the .__exit__() method on exit of the file read"
      ],
      "metadata": {
        "colab": {
          "base_uri": "https://localhost:8080/"
        },
        "id": "MmUPKrAIPSh0",
        "outputId": "e539da24-6c0c-450f-97cc-e07964b1ce08"
      },
      "execution_count": null,
      "outputs": [
        {
          "output_type": "stream",
          "name": "stdout",
          "text": [
            "True\n",
            "I/O operation on closed file.\n",
            "\n",
            "this short story is version 2\n",
            "it's a little longer\n",
            "the end.\n",
            "\n",
            "this short story is version 2\n",
            "it's a little longer\n",
            "the end.\n",
            "\n"
          ]
        }
      ]
    },
    {
      "cell_type": "code",
      "source": [
        "# Writing to files \n",
        "\n",
        "  # this involves creating a new file called 'test_file.txt' in the workspace\n",
        "\n",
        "with open('test_file.txt','w') as file: # creates an empty file and writes the data\n",
        "  file.write('Writing files is great\\n')\n",
        "  file.write('Here\\'s another line of text\\n')\n",
        "  file.write('Closing now, goodbye!')\n",
        "\n",
        "with open('test_file.txt') as f: # reading the data from the same file\n",
        "  data = f.read()\n",
        "\n",
        "print(data)\n",
        "\n",
        "print()\n",
        "\n",
        "print('test_file.txt contains:')\n",
        "!cat test_file.txt\n",
        "\n",
        "  # Note - 'w' flag overwrites the existing contents of the file"
      ],
      "metadata": {
        "colab": {
          "base_uri": "https://localhost:8080/"
        },
        "id": "9xE4mQXQVydY",
        "outputId": "f5c3f689-e5cc-4563-dfa1-eb50092b3f9f"
      },
      "execution_count": 21,
      "outputs": [
        {
          "output_type": "stream",
          "name": "stdout",
          "text": [
            "Writing files is great\n",
            "Here's another line of text\n",
            "Closing now, goodbye!\n",
            "\n",
            "test_file.txt contains:\n",
            "Writing files is great\n",
            "Here's another line of text\n",
            "Closing now, goodbye!"
          ]
        }
      ]
    },
    {
      "cell_type": "code",
      "source": [
        "# File Modes\n",
        "\n",
        "  # r - default param - read a file only\n",
        "  # w - write to a file - previous contents overwritten\n",
        "  # a - append - write to END of a file - previous contents preserved \n",
        "  # r+ = read/write to a file with a cursor position, default position 'seek(0)'\n",
        "\n",
        "# w\n",
        "print('test_file.txt contains:')\n",
        "!cat test_file.txt\n",
        "\n",
        "with open('test_file.txt','w') as file: # creates an empty file and writes the data\n",
        "  file.write('Writing files is great\\n')\n",
        "\n",
        "print('','\\n')\n",
        "print('test_file.txt contains:')\n",
        "!cat test_file.txt\n",
        "\n",
        "# a\n",
        "with open('test_file.txt','a') as file: # appends the data to existing content\n",
        "  file.write('Appending data to existing content!') # append always add to the end only!!\n",
        "\n",
        "print('','\\n')\n",
        "print('test_file.txt contains:')\n",
        "!cat test_file.txt\n",
        "\n",
        "# r+\n",
        "with open('test_file.txt','r+') as file: # overwrites and replaces the data from the new cursor position onwards\n",
        "  file.write('Added using R+') \n",
        "\n",
        "print('','\\n')\n",
        "print('test_file.txt contains:')\n",
        "!cat test_file.txt\n",
        "\n",
        "  # r+ - method will not create a new file when invoked - will return error if file does not already exist\n",
        "  # w and a will create a new file if the requested file name does not exist"
      ],
      "metadata": {
        "id": "70o0WFAAePmo",
        "colab": {
          "base_uri": "https://localhost:8080/"
        },
        "outputId": "cc0c53d7-fbcd-414c-fb1c-035c37dddb57"
      },
      "execution_count": 22,
      "outputs": [
        {
          "output_type": "stream",
          "name": "stdout",
          "text": [
            "test_file.txt contains:\n",
            "Writing files is great\n",
            "Here's another line of text\n",
            "Closing now, goodbye! \n",
            "\n",
            "test_file.txt contains:\n",
            "Writing files is great\n",
            " \n",
            "\n",
            "test_file.txt contains:\n",
            "Writing files is great\n",
            "Appending data to existing content! \n",
            "\n",
            "test_file.txt contains:\n",
            "Added using R+is great\n",
            "Appending data to existing content!"
          ]
        }
      ]
    },
    {
      "cell_type": "code",
      "source": [
        "# Coding exercise\n",
        "\n",
        "my_load('story.txt')\n",
        "\n",
        "def copy(file,new_file):\n",
        "  with open(file) as read_file:\n",
        "    data = read_file.read()\n",
        "\n",
        "  with open(new_file,'w') as write_file:\n",
        "    write_file.write(data)\n",
        "\n",
        "copy('story.txt','story_copy.txt')"
      ],
      "metadata": {
        "colab": {
          "base_uri": "https://localhost:8080/"
        },
        "id": "hGVmR8GivG-d",
        "outputId": "98450e15-b46f-402c-c62c-0ae516cb411d"
      },
      "execution_count": 26,
      "outputs": [
        {
          "output_type": "stream",
          "name": "stdout",
          "text": [
            "Loaded : story.txt, to workspace.\n"
          ]
        }
      ]
    },
    {
      "cell_type": "code",
      "source": [
        "# Coding exercise\n",
        "\n",
        "my_load('story.txt')\n",
        "\n",
        "def copy_and_reverse(file,new_file):\n",
        "  with open(file) as read_file:\n",
        "    data = read_file.read()\n",
        "    \n",
        "  with open(new_file,'w') as write_file:\n",
        "    write_file.write(data[::-1])\n",
        "\n",
        "copy_and_reverse('story.txt','story_reversed.txt')"
      ],
      "metadata": {
        "colab": {
          "base_uri": "https://localhost:8080/"
        },
        "id": "Rg_V12pqx55Z",
        "outputId": "d6e1dad5-c457-4c56-875f-8690f0ff82e4"
      },
      "execution_count": 30,
      "outputs": [
        {
          "output_type": "stream",
          "name": "stdout",
          "text": [
            "Loaded : story.txt, to workspace.\n"
          ]
        }
      ]
    },
    {
      "cell_type": "code",
      "source": [
        "# Coding exercise\n",
        "\n",
        "my_load('story.txt')\n",
        "\n",
        "def statistics(file):\n",
        "  with open(file) as read_file:\n",
        "    lines = len(read_file.readlines())\n",
        "    read_file.seek(0)\n",
        "    words = sum(len(line.split(\" \")) for line in read_file.readlines())\n",
        "    read_file.seek(0)\n",
        "    characters = len(read_file.read())\n",
        "\n",
        "  return {'lines':lines,'words':words,'characters':characters}\n",
        "  \n",
        "\n",
        "statistics('story.txt')"
      ],
      "metadata": {
        "colab": {
          "base_uri": "https://localhost:8080/"
        },
        "id": "Fh759qys5kc2",
        "outputId": "33d82871-1b3d-437c-9703-a36ee4a24543"
      },
      "execution_count": 85,
      "outputs": [
        {
          "output_type": "stream",
          "name": "stdout",
          "text": [
            "Loaded : story.txt, to workspace.\n"
          ]
        },
        {
          "output_type": "execute_result",
          "data": {
            "text/plain": [
              "{'lines': 172, 'words': 2145, 'characters': 11228}"
            ]
          },
          "metadata": {},
          "execution_count": 85
        }
      ]
    },
    {
      "cell_type": "code",
      "source": [
        "# Coding exercise\n",
        "\n",
        "my_load('story.txt')\n",
        "\n",
        "def find_and_replace(file,word,replace):\n",
        "\n",
        "  with open(file) as read_file:\n",
        "    data = read_file.read()\n",
        "\n",
        "  with open(file,'w') as file:\n",
        "    data = data.replace(word,replace)\n",
        "    file.write(data)\n",
        "\n",
        "find_and_replace('story.txt','Alice','Colt')"
      ],
      "metadata": {
        "colab": {
          "base_uri": "https://localhost:8080/"
        },
        "id": "ZqSJCg-rJjNT",
        "outputId": "f248d050-5c41-4c08-d5e9-8ceddb631767"
      },
      "execution_count": 97,
      "outputs": [
        {
          "output_type": "stream",
          "name": "stdout",
          "text": [
            "Loaded : story.txt, to workspace.\n"
          ]
        }
      ]
    },
    {
      "cell_type": "code",
      "source": [
        "# another solution\n",
        "\n",
        "my_load('story.txt')\n",
        "\n",
        "def find_and_replace(file_name, old_word, new_word):\n",
        "    with open(file_name, \"r+\") as file:\n",
        "        text = file.read()\n",
        "        new_text = text.replace(old_word, new_word)\n",
        "        file.seek(0)\n",
        "        file.write(new_text)\n",
        "        file.truncate() # The truncate() method resizes the file to the given number of bytes.\n",
        "                        # If the size is not specified, the current position will be used.\n",
        "\n",
        "find_and_replace('story.txt','Alice','Colt')"
      ],
      "metadata": {
        "colab": {
          "base_uri": "https://localhost:8080/"
        },
        "id": "yNGIQeiwMMM7",
        "outputId": "6294fcdd-ca6c-43f1-f90f-650414780606"
      },
      "execution_count": 96,
      "outputs": [
        {
          "output_type": "stream",
          "name": "stdout",
          "text": [
            "Loaded : story.txt, to workspace.\n"
          ]
        }
      ]
    }
  ]
}