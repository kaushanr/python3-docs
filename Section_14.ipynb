{
  "nbformat": 4,
  "nbformat_minor": 0,
  "metadata": {
    "colab": {
      "name": "Section_14.ipynb",
      "provenance": [],
      "authorship_tag": "ABX9TyP9Dy5j6X5NHMe9tFRaQB4u",
      "include_colab_link": true
    },
    "kernelspec": {
      "name": "python3",
      "display_name": "Python 3"
    },
    "language_info": {
      "name": "python"
    }
  },
  "cells": [
    {
      "cell_type": "markdown",
      "metadata": {
        "id": "view-in-github",
        "colab_type": "text"
      },
      "source": [
        "<a href=\"https://colab.research.google.com/github/kaushanr/python3_docs/blob/main/Section_14.ipynb\" target=\"_parent\"><img src=\"https://colab.research.google.com/assets/colab-badge.svg\" alt=\"Open In Colab\"/></a>"
      ]
    },
    {
      "cell_type": "markdown",
      "source": [
        "# Dictionaries"
      ],
      "metadata": {
        "id": "On1OpV-BDUQ7"
      }
    },
    {
      "cell_type": "code",
      "execution_count": 47,
      "metadata": {
        "id": "--DxaddRDRzy",
        "colab": {
          "base_uri": "https://localhost:8080/"
        },
        "outputId": "3ff55a3c-584a-441d-916e-6e83a35fcfde"
      },
      "outputs": [
        {
          "output_type": "stream",
          "name": "stdout",
          "text": [
            "{'name': 'Jet', 'age': '0.25', 'isCute': True}\n",
            "{'key': 'value', 'key2': 3.45}\n",
            "Colt\n",
            "{'name': 'Colt', 'owns_dog': True, 'num_of_courses': 4, 'favorite_language': 'Python', 'is_hilarious': False, 44: 'is my favorite number', 'myRating': 'Excellent'}\n"
          ]
        }
      ],
      "source": [
        "# Dictionary - a data structure that consists of key value pairs\n",
        "\n",
        "instructor = { # key : value\n",
        "    'name' : 'Colt',\n",
        "    'owns_dog' : True,\n",
        "    'num_of_courses' : 4,\n",
        "    'favorite_language' : 'Python', # values can be any data type\n",
        "    'is_hilarious' : False,\n",
        "    44 : 'is my favorite number' # keys can either be a number of string\n",
        "}\n",
        "\n",
        "cat = {'name':'Jet','age':'0.25','isCute':True}\n",
        "print(cat)\n",
        "\n",
        "another_dict = dict(key = 'value', key2 = 3.45) # 'dict' used to generate a dictionary\n",
        "print(another_dict)\n",
        "\n",
        "# Accessing values - some_dict['key']... like dictionary indexing\n",
        "\n",
        "print(instructor['name']) # trigger error if key not in dictionary\n",
        "\n",
        "# Entering to a dictionary\n",
        "\n",
        "instructor['myRating'] = 'Excellent' # adds a key-value pair\n",
        "print(instructor)"
      ]
    },
    {
      "cell_type": "code",
      "source": [
        "# Iterating dictionaries\n",
        "\n",
        "instructor = { # key : value\n",
        "    'name' : 'Colt',\n",
        "    'owns_dog' : True,\n",
        "    'num_of_courses' : 4,\n",
        "    'favorite_language' : 'Python', # values can be any data type\n",
        "    'is_hilarious' : False,\n",
        "    44 : 'is my favorite number' # keys can either be a number of string\n",
        "}\n",
        "\n",
        "# .values() - accessing values only\n",
        "\n",
        "print(instructor.values()) # returns only values in list form\n",
        "\n",
        "for value in instructor.values():\n",
        "  print(value)\n",
        "\n",
        "# .keys() - accessing keys only\n",
        "\n",
        "print(instructor.keys()) # returs only keys in list form\n",
        "\n",
        "for key in instructor.keys():\n",
        "  print(key)\n",
        "\n",
        "# .items() - accessing keys and values\n",
        "\n",
        "print(instructor.items()) # returns the list form of a dictionary\n",
        "\n",
        "for key,value in instructor.items(): # two iterable variables declared in syntax\n",
        "  print(f'key is : {key}, value is : {value}')\n",
        "\n",
        "# Coding excercise\n",
        "\n",
        "# DON'T TOUCH PLEASE!\n",
        "donations = dict(sam=25.0, lena=88.99, chuck=13.0, linus=99.5, stan=150.0, lisa=50.25, harrison=10.0)\n",
        "# DON'T TOUCH PLEASE!\n",
        "\n",
        "\n",
        "# Use a loop to add together all the donations and store the resulting number in a variable called total_donations\n",
        "\n",
        "total_donations = 0\n",
        "for v in donations.values():\n",
        "    total_donations += v\n",
        "print(total_donations)\n",
        "\n",
        "# check for key availability\n",
        "\n",
        "print('name' in instructor) \n",
        "print('awesome' in instructor)\n",
        "\n",
        "print('Python' in instructor) # only checks keys, not values\n",
        "print('Python' in instructor.values()) # checks values\n"
      ],
      "metadata": {
        "colab": {
          "base_uri": "https://localhost:8080/"
        },
        "id": "B4T4CiAASxMg",
        "outputId": "a8c9c3d4-0b10-423c-a128-54ec8b5d4831"
      },
      "execution_count": null,
      "outputs": [
        {
          "output_type": "stream",
          "name": "stdout",
          "text": [
            "dict_values(['Colt', True, 4, 'Python', False, 'is my favorite number'])\n",
            "Colt\n",
            "True\n",
            "4\n",
            "Python\n",
            "False\n",
            "is my favorite number\n",
            "dict_keys(['name', 'owns_dog', 'num_of_courses', 'favorite_language', 'is_hilarious', 44])\n",
            "name\n",
            "owns_dog\n",
            "num_of_courses\n",
            "favorite_language\n",
            "is_hilarious\n",
            "44\n",
            "dict_items([('name', 'Colt'), ('owns_dog', True), ('num_of_courses', 4), ('favorite_language', 'Python'), ('is_hilarious', False), (44, 'is my favorite number')])\n",
            "key is : name, value is : Colt\n",
            "key is : owns_dog, value is : True\n",
            "key is : num_of_courses, value is : 4\n",
            "key is : favorite_language, value is : Python\n",
            "key is : is_hilarious, value is : False\n",
            "key is : 44, value is : is my favorite number\n",
            "436.74\n",
            "True\n",
            "False\n",
            "False\n",
            "True\n"
          ]
        }
      ]
    },
    {
      "cell_type": "code",
      "source": [
        "# Dictionary Methods\n",
        "\n",
        "# .clear() - removes out all keys and values\n",
        "\n",
        "cat = {'name':'Jet','age':'0.25','isCute':True,'isNaughty':True,'alias':'Miss cheif'}\n",
        "\n",
        "print(cat)\n",
        "cat.clear()\n",
        "print(cat)\n",
        "\n",
        "# .copy() - makes a copy of a dictionary\n",
        "\n",
        "dict1 = dict(a = 1, b = 2, c = 3, d = 4, e = 5, f = 6)\n",
        "print(dict1)\n",
        "\n",
        "dict2  =   dict1.copy()\n",
        "print(dict2)\n",
        "\n",
        "print(dict1  is dict2) # creates a copy in different memory location\n",
        "\n",
        "# .fromkeys() - creates key-value pairs from comma seperated variable\n",
        "    # format - {}.fromkeys(iterable key object,value)\n",
        "\n",
        "dict_a = {}.fromkeys('a','b') # takes only two arguments, key-value\n",
        "print(dict_a)\n",
        "dict_b = {}.fromkeys(['name','age','phone','email'],'unknown') \n",
        "print(dict_b) #  assigns 'unknown' to each key in list\n",
        "dict_c = {}.fromkeys('a',list(range(1,6)))\n",
        "print(dict_c) # same list method does not work with values\n",
        "dict_d = {}.fromkeys('phone','unknown')\n",
        "print(dict_d) # iterates over each letter in string key... \n",
        "dict_d.clear()\n",
        "dict_d = {}.fromkeys(['phone'],'unknown') # preferred method with key in list\n",
        "print(dict_d)\n",
        "dict_e = {}.fromkeys(range(1,10),'unknown')\n",
        "print(dict_e)\n",
        "\n",
        "# .get() - retrieves a key in an object and returns None if key does not exist\n",
        "\n",
        "print(dict1)\n",
        "result = dict1.get('c')\n",
        "print(result) # prints out the value of the key\n",
        "result = dict1.get('email')\n",
        "print(result) # None type result "
      ],
      "metadata": {
        "colab": {
          "base_uri": "https://localhost:8080/"
        },
        "id": "2LZeIiJjcbDw",
        "outputId": "3862dcd0-4e45-4913-f92a-68cc0621d8cb"
      },
      "execution_count": null,
      "outputs": [
        {
          "output_type": "stream",
          "name": "stdout",
          "text": [
            "{'name': 'Jet', 'age': '0.25', 'isCute': True, 'isNaughty': True, 'alias': 'Miss cheif'}\n",
            "{}\n",
            "{'a': 1, 'b': 2, 'c': 3, 'd': 4, 'e': 5, 'f': 6}\n",
            "{'a': 1, 'b': 2, 'c': 3, 'd': 4, 'e': 5, 'f': 6}\n",
            "False\n",
            "{'a': 'b'}\n",
            "{'name': 'unknown', 'age': 'unknown', 'phone': 'unknown', 'email': 'unknown'}\n",
            "{'a': [1, 2, 3, 4, 5]}\n",
            "{'p': 'unknown', 'h': 'unknown', 'o': 'unknown', 'n': 'unknown', 'e': 'unknown'}\n",
            "{'phone': 'unknown'}\n",
            "{1: 'unknown', 2: 'unknown', 3: 'unknown', 4: 'unknown', 5: 'unknown', 6: 'unknown', 7: 'unknown', 8: 'unknown', 9: 'unknown'}\n",
            "{'a': 1, 'b': 2, 'c': 3, 'd': 4, 'e': 5, 'f': 6}\n",
            "3\n",
            "None\n",
            "<class 'NoneType'>\n"
          ]
        }
      ]
    },
    {
      "cell_type": "code",
      "source": [
        "# Coding Excercise\n",
        "\n",
        "#DO NOT TOUCH game_properties!\n",
        "game_properties = [\"current_score\", \"high_score\", \"number_of_lives\", \"items_in_inventory\", \"power_ups\", \"ammo\", \"enemies_on_screen\", \"enemy_kills\", \"enemy_kill_streaks\", \"minutes_played\", \"notifications\", \"achievements\"] \n",
        "\n",
        "# Use the game_properties list and dict.fromkeys() to generate a dictionary with all values set to 0. Save the result to a variable called initial_game_state\n",
        "\n",
        "initial_game_state = {}.fromkeys(game_properties,0)\n",
        "print(initial_game_state)"
      ],
      "metadata": {
        "colab": {
          "base_uri": "https://localhost:8080/"
        },
        "id": "bc5eGvDO1YGn",
        "outputId": "cb484823-0470-4a97-c466-0714f55210c3"
      },
      "execution_count": 33,
      "outputs": [
        {
          "output_type": "stream",
          "name": "stdout",
          "text": [
            "{'current_score': 0, 'high_score': 0, 'number_of_lives': 0, 'items_in_inventory': 0, 'power_ups': 0, 'ammo': 0, 'enemies_on_screen': 0, 'enemy_kills': 0, 'enemy_kill_streaks': 0, 'minutes_played': 0, 'notifications': 0, 'achievements': 0}\n"
          ]
        }
      ]
    },
    {
      "cell_type": "code",
      "source": [
        "# More Methods\n",
        "\n",
        "# .pop() - takes a single argument - removes a key-value pair - returns the value of the removed key\n",
        "\n",
        "cat = {'name':'Jet','age':'0.25','isCute':True,'isNaughty':True,'alias':'Miss cheif'}\n",
        "\n",
        "print(cat)\n",
        "result = cat.pop('alias') # throws error if key not in list\n",
        "print(cat)\n",
        "print(result)\n",
        "\n",
        "# .popitem() - removes a key-value pair from end of dictionary - no input arguments\n",
        "\n",
        "result = cat.popitem()\n",
        "print(cat)\n",
        "print(result)\n",
        "print(type(result)) # this result is in tuple data type\n",
        "\n",
        "# .update() - updates keys and values with another set of key-value pairs \n",
        "\n",
        "cat_dict = {'location':'Colombo,LK'}\n",
        "cat_dict.update(cat)\n",
        "print(cat_dict)\n",
        "\n",
        "cat_dict['isCute'] = False\n",
        "print(cat_dict)\n",
        "cat_dict.update(cat) # updates and overwrites both existing and non-existent key-values\n",
        "print(cat_dict)\n",
        "cat_dict.update({})\n",
        "print(cat_dict) # cannot remove values, only add stuff - so this doesnt really work\n"
      ],
      "metadata": {
        "colab": {
          "base_uri": "https://localhost:8080/"
        },
        "id": "Zw0bmPNL1tl9",
        "outputId": "359d23d3-93bb-4dc3-fca5-0e7dd8b11cc7"
      },
      "execution_count": 44,
      "outputs": [
        {
          "output_type": "stream",
          "name": "stdout",
          "text": [
            "{'name': 'Jet', 'age': '0.25', 'isCute': True, 'isNaughty': True, 'alias': 'Miss cheif'}\n",
            "{'name': 'Jet', 'age': '0.25', 'isCute': True, 'isNaughty': True}\n",
            "Miss cheif\n",
            "{'name': 'Jet', 'age': '0.25', 'isCute': True}\n",
            "('isNaughty', True)\n",
            "<class 'tuple'>\n",
            "{'location': 'Colombo,LK', 'name': 'Jet', 'age': '0.25', 'isCute': True}\n",
            "{'location': 'Colombo,LK', 'name': 'Jet', 'age': '0.25', 'isCute': False}\n",
            "{'location': 'Colombo,LK', 'name': 'Jet', 'age': '0.25', 'isCute': True}\n",
            "{'location': 'Colombo,LK', 'name': 'Jet', 'age': '0.25', 'isCute': True}\n"
          ]
        }
      ]
    },
    {
      "cell_type": "code",
      "source": [
        "# Coding Excercise\n",
        "\n",
        "inventory = {'croissant': 19, 'bagel': 4, 'muffin': 8, 'cake': 1} #DON'T CHANGE THIS LINE!\n",
        "\n",
        "# Make a copy of inventory and save it to a variable called stock_list USE A DICTIONARY METHOD\n",
        "stock_list = inventory.copy()\n",
        "print(stock_list)\n",
        "\n",
        "# add the value 18 to stock_list under the key \"cookie\"\n",
        "stock_list.update({'cookie':18}) \n",
        "# or stock_list['cookie'] = 18\n",
        "print(stock_list)\n",
        "\n",
        "# remove 'cake' from stock_list USE A DICTIONARY METHOD\n",
        "stock_list.pop('cake')\n",
        "print(stock_list)"
      ],
      "metadata": {
        "colab": {
          "base_uri": "https://localhost:8080/"
        },
        "id": "mwO390Pp9NWi",
        "outputId": "39c3923c-35c9-4470-af97-8bf3a4804b98"
      },
      "execution_count": 46,
      "outputs": [
        {
          "output_type": "stream",
          "name": "stdout",
          "text": [
            "{'croissant': 19, 'bagel': 4, 'muffin': 8, 'cake': 1}\n",
            "{'croissant': 19, 'bagel': 4, 'muffin': 8, 'cake': 1, 'cookie': '18'}\n",
            "{'croissant': 19, 'bagel': 4, 'muffin': 8, 'cookie': '18'}\n"
          ]
        }
      ]
    },
    {
      "cell_type": "code",
      "source": [
        "# Playlist Modelling\n",
        "\n",
        "playlist = {\n",
        "    'title':'Made in Lagos',\n",
        "    'author':'Wizkid',\n",
        "    'songs':[\n",
        "             {'title':'Reckless','artist':['Wizkid'],'duration':3.53},\n",
        "             {'title':'Ginger','artist':['Wizkid','Burna Boy'],'duration':3.16},\n",
        "             {'title':'No Stress','artist':['Wizkid'],'duration':3.22},\n",
        "             {'title':'Essence','artist':['Wizkid','Tems'],'duration':4.08},\n",
        "             {'title':'Gyrate','artist':['Wizkid'],'duration':3.13}\n",
        "    ]\n",
        "}\n",
        "\n",
        "print(playlist['songs']) # creates a list with dictionaries containing song info\n",
        "\n",
        "for song in playlist['songs']: # accesses each dictionary within the list\n",
        "  print(song['title']) # indexes for value of invoked key within accessed dictionary\n",
        "\n",
        "# check for total playlist duration\n",
        "\n",
        "total_duration = 0\n",
        "for song in playlist['songs']: \n",
        "  total_duration += song['duration'] # indexes through duration and adds value\n",
        "print(total_duration)\n",
        "\n",
        "# check for artist in playlist\n",
        "\n",
        "for song in playlist['songs']:\n",
        "  print('Burna Boy' in song['artist'])\n"
      ],
      "metadata": {
        "colab": {
          "base_uri": "https://localhost:8080/"
        },
        "id": "QnE9UmuWmiWv",
        "outputId": "8820e28d-b40d-4f86-eacc-48bc1fc3b530"
      },
      "execution_count": 12,
      "outputs": [
        {
          "output_type": "stream",
          "name": "stdout",
          "text": [
            "[{'title': 'Reckless', 'artist': ['Wizkid'], 'duration': 3.53}, {'title': 'Ginger', 'artist': ['Wizkid', 'Burna Boy'], 'duration': 3.16}, {'title': 'No Stress', 'artist': ['Wizkid'], 'duration': 3.22}, {'title': 'Essence', 'artist': ['Wizkid', 'Tems'], 'duration': 4.08}, {'title': 'Gyrate', 'artist': ['Wizkid'], 'duration': 3.13}]\n",
            "Reckless\n",
            "Ginger\n",
            "No Stress\n",
            "Essence\n",
            "Gyrate\n",
            "17.12\n",
            "False\n",
            "True\n",
            "False\n",
            "False\n",
            "False\n"
          ]
        }
      ]
    },
    {
      "cell_type": "code",
      "source": [
        "# Dictionary Comprehension\n",
        "\n",
        "# iterates over keys by default, use .items() for key and values\n",
        "\n",
        "numbers = dict(first = 1, second = 2, third = 3,  fourth = 4)\n",
        "print(numbers)\n",
        "squared_numbers = {key : value **2 for key,value in numbers.items()} # ** - to the power of operator\n",
        "print(squared_numbers) # key remains unchanged\n",
        "\n",
        "some_dict = {num : num**2 for num in list(range(1,10))}\n",
        "print(some_dict)\n",
        "\n",
        "str1 = 'ABC'\n",
        "str2 = '123'\n",
        "new_dict = {str1[i] : str2[i] for i in range(len(str1))}\n",
        "print(new_dict)\n",
        "\n",
        "instructor = {'name':'colt','city':'san francisco','color':'purple'}\n",
        "all_caps = {key.upper() : value.upper() for key,value in instructor.items()}\n",
        "print(all_caps)\n",
        "\n",
        "# conditional logic with dictionaries\n",
        "\n",
        "num_list = list(range(10))\n",
        "num_par = {num : ('even' if num%2 == 0 else 'odd') for num in num_list} # checks for number parity\n",
        "print(num_par)"
      ],
      "metadata": {
        "colab": {
          "base_uri": "https://localhost:8080/"
        },
        "id": "SLWClieVrvFy",
        "outputId": "83dad716-433e-4afe-d143-049e3057438a"
      },
      "execution_count": 22,
      "outputs": [
        {
          "output_type": "stream",
          "name": "stdout",
          "text": [
            "{'first': 1, 'second': 2, 'third': 3, 'fourth': 4}\n",
            "{'first': 1, 'second': 4, 'third': 9, 'fourth': 16}\n",
            "{1: 1, 2: 4, 3: 9, 4: 16, 5: 25, 6: 36, 7: 49, 8: 64, 9: 81}\n",
            "{'A': '1', 'B': '2', 'C': '3'}\n",
            "{'NAME': 'COLT', 'CITY': 'SAN FRANCISCO', 'COLOR': 'PURPLE'}\n",
            "{0: 'even', 1: 'odd', 2: 'even', 3: 'odd', 4: 'even', 5: 'odd', 6: 'even', 7: 'odd', 8: 'even', 9: 'odd'}\n"
          ]
        }
      ]
    }
  ]
}