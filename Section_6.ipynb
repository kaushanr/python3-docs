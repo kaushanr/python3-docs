{
  "nbformat": 4,
  "nbformat_minor": 0,
  "metadata": {
    "colab": {
      "name": "Section 6.ipynb",
      "provenance": [],
      "collapsed_sections": [],
      "authorship_tag": "ABX9TyO1Fi6iXYVADoqxRiLAF86g",
      "include_colab_link": true
    },
    "kernelspec": {
      "name": "python3",
      "display_name": "Python 3"
    },
    "language_info": {
      "name": "python"
    }
  },
  "cells": [
    {
      "cell_type": "markdown",
      "metadata": {
        "id": "view-in-github",
        "colab_type": "text"
      },
      "source": [
        "<a href=\"https://colab.research.google.com/github/kaushanr/python3_docs/blob/main/Section_6.ipynb\" target=\"_parent\"><img src=\"https://colab.research.google.com/assets/colab-badge.svg\" alt=\"Open In Colab\"/></a>"
      ]
    },
    {
      "cell_type": "markdown",
      "source": [
        "# Numbers, Operators and Comments"
      ],
      "metadata": {
        "id": "RMRBenSDj2-5"
      }
    },
    {
      "cell_type": "code",
      "execution_count": 5,
      "metadata": {
        "colab": {
          "base_uri": "https://localhost:8080/"
        },
        "id": "8pOqVfwJjvqM",
        "outputId": "db725374-d0dc-4aba-f2a0-aac4e7d8b940"
      },
      "outputs": [
        {
          "output_type": "stream",
          "name": "stdout",
          "text": [
            "<class 'int'>\n",
            "<class 'float'>\n",
            "<class 'float'>\n",
            "<class 'int'>\n",
            "3\n"
          ]
        },
        {
          "output_type": "execute_result",
          "data": {
            "text/plain": [
              "20.777"
            ]
          },
          "metadata": {},
          "execution_count": 5
        }
      ],
      "source": [
        "# This is a standard single line comment structure in python.\n",
        "\n",
        "# Floating point vs integer number wrt to memory allocation.\n",
        "# Four data types for number representation - integer, floating point, complex, long.\n",
        "\n",
        "# With jupyter notebooks, you need to call the print function to show the output of each line given its rich text representation format\n",
        "\n",
        "print(type(9)) # type is a function used to figure out the property of the object of interest\n",
        "print(type(9.0))\n",
        "print(type(999999.2))\n",
        "print(type(999999))\n",
        "\n",
        "print(2 + 1) # returns an integer\n",
        "20 + 0.777 # returns a float"
      ]
    }
  ]
}