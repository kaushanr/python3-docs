{
  "nbformat": 4,
  "nbformat_minor": 0,
  "metadata": {
    "colab": {
      "name": "Section_28.ipynb",
      "provenance": [],
      "authorship_tag": "ABX9TyNsKG1c7Hb3MsKQfpuZzWtG",
      "include_colab_link": true
    },
    "kernelspec": {
      "name": "python3",
      "display_name": "Python 3"
    },
    "language_info": {
      "name": "python"
    }
  },
  "cells": [
    {
      "cell_type": "markdown",
      "metadata": {
        "id": "view-in-github",
        "colab_type": "text"
      },
      "source": [
        "<a href=\"https://colab.research.google.com/github/kaushanr/python3-docs/blob/main/Section_28.ipynb\" target=\"_parent\"><img src=\"https://colab.research.google.com/assets/colab-badge.svg\" alt=\"Open In Colab\"/></a>"
      ]
    },
    {
      "cell_type": "markdown",
      "source": [
        "# Decorators"
      ],
      "metadata": {
        "id": "RLvPw5AfArCq"
      }
    },
    {
      "cell_type": "code",
      "execution_count": 11,
      "metadata": {
        "colab": {
          "base_uri": "https://localhost:8080/"
        },
        "id": "0ueDpqLwAmDI",
        "outputId": "53e13d5e-1fa6-460f-90d4-b7eff6a2176b"
      },
      "outputs": [
        {
          "output_type": "stream",
          "name": "stdout",
          "text": [
            "91\n",
            "441\n",
            "\n",
            "lol\n",
            "\n",
            "tehehe Linda\n",
            "tehehe Linda\n",
            "HAHAHA Linda\n",
            "tehehe Linda\n"
          ]
        }
      ],
      "source": [
        "# Higher order functions \n",
        "\n",
        "  # functions calling other functions internally and returning results\n",
        "\n",
        "def square(num):\n",
        "  return num**2\n",
        "\n",
        "def cube(num):\n",
        "  return num**3\n",
        "\n",
        "def sum(val,func):\n",
        "  total = 0\n",
        "  for num in range(val):\n",
        "     total += func(num)\n",
        "  return total\n",
        "\n",
        "print(sum(7,square))\n",
        "print(sum(7,cube))\n",
        "\n",
        "print()\n",
        "\n",
        "  # functions returning functions \n",
        "\n",
        "from random import choice\n",
        "\n",
        "def make_laugh_func():\n",
        "  def get_laugh():\n",
        "    return choice(('HAHAHA','lol','tehehe'))\n",
        "  return get_laugh\n",
        "\n",
        "laugh = make_laugh_func()\n",
        "print(laugh()) # returns the internal function to a variable called 'laugh' which then can be called as a function \n",
        "               # to expose the result of the internal function\n",
        "\n",
        "print()\n",
        "\n",
        "  # functions with arguments passed in to them\n",
        "\n",
        "from random import choice\n",
        "\n",
        "def make_laugh_at_func(person):\n",
        "  def get_laugh():\n",
        "    laugh = choice(('HAHAHA','lol','tehehe'))\n",
        "    return f'{laugh} {person}' # the 'person' argument is passed in to the outer function only but is available for access internally\n",
        "  return get_laugh\n",
        "\n",
        "  # closure functions \n",
        "\n",
        "      #  A closure is a nested function which has access to a free variable from an enclosing function that has finished its execution.\n",
        "      # characteristics of a python closure\n",
        "          # it is a nested function\n",
        "          # it has access to a free variable in outer scope\n",
        "          # it is returned from the enclosing function\n",
        "\n",
        "        # A free variable is a variable that is not bound in the local scope. \n",
        "        # In order for closures to work with immutable variables such as numbers and strings, we have to use the nonlocal keyword.\n",
        "        # immutable - cannot be changed after creation\n",
        "\n",
        "laugh_at = make_laugh_at_func('Linda')\n",
        "print(laugh_at())\n",
        "print(laugh_at())\n",
        "print(laugh_at())\n",
        "print(laugh_at())"
      ]
    },
    {
      "cell_type": "code",
      "source": [
        "# Decorators\n",
        "\n",
        "  # decorators are functions \n",
        "  # decorators wrap other functions and enhance their behaviour\n",
        "  # decorators are examples of higher order functions \n",
        "  # they have their own syntax - '@' - syntactic sugar\n",
        "\n",
        "# Decorators as functions \n",
        "\n",
        "def be_polite(fn): # takes another external function as an input argument\n",
        "  def wrapper(): # runs another internal function\n",
        "    print('What a pleasure to meet you!')\n",
        "    fn() # executes the called function as well\n",
        "    print('Have a great day!')\n",
        "  return wrapper\n",
        "\n",
        "def greet():\n",
        "  print('My name is Colt')\n",
        "\n",
        "\n",
        "greeting = be_polite(greet)\n",
        "print(greeting())\n",
        "\n",
        "print()\n",
        "\n",
        "def be_polite(fn): # takes another external function as an input argument\n",
        "  def wrapper(): # runs another internal function\n",
        "    print('What a pleasure to meet you!')\n",
        "    fn() # executes the called function as well\n",
        "    print('Have a great day!')\n",
        "  return wrapper\n",
        "\n",
        "@be_polite # the 'be_polite' function is being called as a decorative wrapper function on this function\n",
        "def greet(): # this is the decorated function - not the decorative function above...\n",
        "  print('My name is Colt')\n",
        "\n",
        "@be_polite \n",
        "def rage():\n",
        "  print('I HATE YOU!')\n",
        "\n",
        "print(greet()) # same as calling for 'be_polite(greet)'\n",
        "print(rage())"
      ],
      "metadata": {
        "colab": {
          "base_uri": "https://localhost:8080/"
        },
        "id": "Fss_lrCl52cS",
        "outputId": "e3a1a480-c095-463d-dd7c-bb6a498e7392"
      },
      "execution_count": 5,
      "outputs": [
        {
          "output_type": "stream",
          "name": "stdout",
          "text": [
            "What a pleasure to meet you!\n",
            "My name is Colt\n",
            "Have a great day!\n",
            "None\n",
            "\n",
            "What a pleasure to meet you!\n",
            "My name is Colt\n",
            "Have a great day!\n",
            "None\n",
            "What a pleasure to meet you!\n",
            "I HATE YOU!\n",
            "Have a great day!\n",
            "None\n"
          ]
        }
      ]
    },
    {
      "cell_type": "code",
      "source": [
        "def shout(fn): # the decorator function\n",
        "  def wrapper(*args,**kwargs):\n",
        "    return fn(*args,**kwargs).upper()\n",
        "  return wrapper\n",
        "\n",
        "@shout\n",
        "def greet(name): # the decorated function\n",
        "  return f'Hi, I\\'m {name}.'\n",
        "\n",
        "@shout\n",
        "def order(main,side): # use *args/**kwargs to handle more than 1 argument entry in the 'wrapper()' function\n",
        "  return f'Hi, I\\'d like the {main} with a side of {side}, please'\n",
        "\n",
        "@shout\n",
        "def lol():\n",
        "  return 'lol'\n",
        "\n",
        "print(greet('todd'))\n",
        "print(order('burger','fries'))\n",
        "print(lol())"
      ],
      "metadata": {
        "colab": {
          "base_uri": "https://localhost:8080/"
        },
        "id": "MTTwYGDQdp6j",
        "outputId": "f27be5aa-8ca1-45c6-ac14-3bd3b9955e3e"
      },
      "execution_count": 19,
      "outputs": [
        {
          "output_type": "stream",
          "name": "stdout",
          "text": [
            "HI, I'M TODD.\n",
            "HI, I'D LIKE THE BURGER WITH A SIDE OF FRIES, PLEASE\n",
            "LOL\n"
          ]
        }
      ]
    },
    {
      "cell_type": "code",
      "source": [
        "# Preserving metadata\n",
        "\n",
        "def log_function_data(fn):\n",
        "  def wrapper(*args,**kwargs):\n",
        "    '''Hi, I am a Wrapper Function'''\n",
        "    print(f'you are about to call : {fn.__name__}')\n",
        "    print(f'here\\'s the documentation : {fn.__doc__}')\n",
        "    return fn(*args,**kwargs)\n",
        "  return wrapper\n",
        "\n",
        "\n",
        "@log_function_data\n",
        "def add(x,y):\n",
        "  '''Adds two numbers together''' # docstrings included here\n",
        "  return x+y\n",
        "\n",
        "print(add(10,30))\n",
        "print(add.__doc__) # the original metadata of the decorated function is lost by the wrapper function when called externally\n",
        "print(add.__name__) # returns only the wrapper function info\n",
        "help(add) # returns the wrapper functions documentation\n",
        "\n",
        "print()\n",
        "\n",
        "  # preserving this data by using the module functools.wraps\n",
        "\n",
        "from functools import wraps\n",
        "def log_function_data(fn):\n",
        "  @wraps(fn) # decorating our wrapping function with 'wraps'\n",
        "  def wrapper(*args,**kwargs):\n",
        "    '''Hi, I am a Wrapper Function'''\n",
        "    print(f'you are about to call : {fn.__name__}')\n",
        "    print(f'here\\'s the documentation : {fn.__doc__}')\n",
        "    return fn(*args,**kwargs)\n",
        "  return wrapper\n",
        "\n",
        "\n",
        "@log_function_data\n",
        "def add(x,y):\n",
        "  '''Adds two numbers together''' # docstrings included here\n",
        "  return x+y\n",
        "\n",
        "print(add.__doc__) # returns the desired docstring and name of the decorated function\n",
        "print(add.__name__)\n",
        "help(add)"
      ],
      "metadata": {
        "colab": {
          "base_uri": "https://localhost:8080/"
        },
        "id": "gjuvQATW2c1_",
        "outputId": "47ab7cdd-0c7a-476e-d1a5-7b8ed759e8d7"
      },
      "execution_count": 12,
      "outputs": [
        {
          "output_type": "stream",
          "name": "stdout",
          "text": [
            "you are about to call : add\n",
            "here's the documentation : Adds two numbers together\n",
            "40\n",
            "Hi, I am a Wrapper Function\n",
            "wrapper\n",
            "Help on function wrapper in module __main__:\n",
            "\n",
            "wrapper(*args, **kwargs)\n",
            "    Hi, I am a Wrapper Function\n",
            "\n",
            "\n",
            "Adds two numbers together\n",
            "add\n",
            "Help on function add in module __main__:\n",
            "\n",
            "add(x, y)\n",
            "    Adds two numbers together\n",
            "\n"
          ]
        }
      ]
    },
    {
      "cell_type": "code",
      "source": [
        "# a model use case of a decorator function\n",
        "\n",
        "from time import time\n",
        "from functools import wraps\n",
        "\n",
        "def speed_test(fn):\n",
        "  @wraps(fn)\n",
        "  def wrapper(*args,**kwargs):\n",
        "    start_time = time()\n",
        "    result = fn(*args,**kwargs)\n",
        "    end_time = time()\n",
        "    print(f'Executing : {fn.__name__}')\n",
        "    print(f'Elapsed time : {end_time - start_time}')\n",
        "    return result\n",
        "  return wrapper\n",
        "\n",
        "\n",
        "@speed_test\n",
        "def sum_nums_gen():\n",
        "  '''sums the numbers in range given by a generator expression'''\n",
        "  return sum(num for num in range(50000000))\n",
        "\n",
        "print(sum_nums_gen())\n",
        "print(sum_nums_gen.__doc__)\n",
        "print(sum_nums_gen.__name__)\n",
        "\n",
        "print()\n",
        "\n",
        "@speed_test\n",
        "def sum_nums_list():\n",
        "  '''sums the numbers in range given in a list object'''\n",
        "  return sum([num for num in range(50000000)])\n",
        "\n",
        "print(sum_nums_list())\n",
        "print(sum_nums_list.__doc__)"
      ],
      "metadata": {
        "colab": {
          "base_uri": "https://localhost:8080/"
        },
        "id": "1sKIVoHi-1RJ",
        "outputId": "8b253bda-6b36-4148-939a-f95386637c11"
      },
      "execution_count": 10,
      "outputs": [
        {
          "output_type": "stream",
          "name": "stdout",
          "text": [
            "Executing : sum_nums_gen\n",
            "Elapsed time : 3.2081778049468994\n",
            "1249999975000000\n",
            "sums the numbers in range given by a generator expression\n",
            "sum_nums_gen\n",
            "\n",
            "Executing : sum_nums_list\n",
            "Elapsed time : 4.738628625869751\n",
            "1249999975000000\n",
            "sums the numbers in range given in a list object\n"
          ]
        }
      ]
    },
    {
      "cell_type": "code",
      "source": [
        "# Coding exercise\n",
        "\n",
        "'''\n",
        "@show_args\n",
        "def do_nothing(*args, **kwargs):\n",
        "    pass\n",
        "\n",
        "do_nothing(1, 2, 3,a=\"hi\",b=\"bye\")\n",
        "\n",
        "# Should print (on two lines):\n",
        "# Here are the args: (1, 2, 3)\n",
        "# Here are the kwargs: {\"a\": \"hi\", \"b\": \"bye\"}\n",
        "'''\n",
        "\n",
        "from functools import wraps\n",
        "\n",
        "def show_args(fn):\n",
        "  @wraps(fn)\n",
        "  def wrapper(*args,**kwargs):\n",
        "    print(f'Here are the args: {args}')\n",
        "    print(f'Here are the kwargs: {kwargs}')\n",
        "    return fn(*args,**kwargs)\n",
        "  return wrapper\n",
        "\n",
        "@show_args\n",
        "def do_nothing(*args, **kwargs):\n",
        "    pass\n",
        "\n",
        "do_nothing(1, 2, 3,a=\"hi\",b=\"bye\")"
      ],
      "metadata": {
        "colab": {
          "base_uri": "https://localhost:8080/"
        },
        "id": "IhHBXSQMKfhr",
        "outputId": "9d712041-f0e9-4a3f-f2d1-68e8a1e58221"
      },
      "execution_count": 12,
      "outputs": [
        {
          "output_type": "stream",
          "name": "stdout",
          "text": [
            "Here are the args: (1, 2, 3)\n",
            "Here are the kwargs: {'a': 'hi', 'b': 'bye'}\n"
          ]
        }
      ]
    },
    {
      "cell_type": "code",
      "source": [
        "# Passing argument restrictions with decorator functions \n",
        "\n",
        "from functools import wraps \n",
        "\n",
        "def ensure_no_kwargs(fn):\n",
        "  @wraps(fn)\n",
        "  def wrapper(*args,**kwargs):\n",
        "    if kwargs:\n",
        "      raise ValueError('No **kwargs allowed please!')\n",
        "    return fn(*args,**kwargs)\n",
        "  return wrapper\n",
        "\n",
        "@ensure_no_kwargs\n",
        "def greet(name):\n",
        "  return f'hi there {name}!'\n",
        "\n",
        "\n",
        "print(greet('Matilde'))\n",
        "print(greet(name = 'Colt'))"
      ],
      "metadata": {
        "colab": {
          "base_uri": "https://localhost:8080/",
          "height": 340
        },
        "id": "SKV16Bo8T1W3",
        "outputId": "666a6586-62a5-4946-b02a-2cd0d8a208de"
      },
      "execution_count": 18,
      "outputs": [
        {
          "output_type": "stream",
          "name": "stdout",
          "text": [
            "hi there Matilde!\n"
          ]
        },
        {
          "output_type": "error",
          "ename": "ValueError",
          "evalue": "ignored",
          "traceback": [
            "\u001b[0;31m---------------------------------------------------------------------------\u001b[0m",
            "\u001b[0;31mValueError\u001b[0m                                Traceback (most recent call last)",
            "\u001b[0;32m<ipython-input-18-7ad778f41d78>\u001b[0m in \u001b[0;36m<module>\u001b[0;34m\u001b[0m\n\u001b[1;32m     17\u001b[0m \u001b[0;34m\u001b[0m\u001b[0m\n\u001b[1;32m     18\u001b[0m \u001b[0mprint\u001b[0m\u001b[0;34m(\u001b[0m\u001b[0mgreet\u001b[0m\u001b[0;34m(\u001b[0m\u001b[0;34m'Matilde'\u001b[0m\u001b[0;34m)\u001b[0m\u001b[0;34m)\u001b[0m\u001b[0;34m\u001b[0m\u001b[0;34m\u001b[0m\u001b[0m\n\u001b[0;32m---> 19\u001b[0;31m \u001b[0mprint\u001b[0m\u001b[0;34m(\u001b[0m\u001b[0mgreet\u001b[0m\u001b[0;34m(\u001b[0m\u001b[0mname\u001b[0m \u001b[0;34m=\u001b[0m \u001b[0;34m'Colt'\u001b[0m\u001b[0;34m)\u001b[0m\u001b[0;34m)\u001b[0m\u001b[0;34m\u001b[0m\u001b[0;34m\u001b[0m\u001b[0m\n\u001b[0m",
            "\u001b[0;32m<ipython-input-18-7ad778f41d78>\u001b[0m in \u001b[0;36mwrapper\u001b[0;34m(*args, **kwargs)\u001b[0m\n\u001b[1;32m      7\u001b[0m   \u001b[0;32mdef\u001b[0m \u001b[0mwrapper\u001b[0m\u001b[0;34m(\u001b[0m\u001b[0;34m*\u001b[0m\u001b[0margs\u001b[0m\u001b[0;34m,\u001b[0m\u001b[0;34m**\u001b[0m\u001b[0mkwargs\u001b[0m\u001b[0;34m)\u001b[0m\u001b[0;34m:\u001b[0m\u001b[0;34m\u001b[0m\u001b[0;34m\u001b[0m\u001b[0m\n\u001b[1;32m      8\u001b[0m     \u001b[0;32mif\u001b[0m \u001b[0mkwargs\u001b[0m\u001b[0;34m:\u001b[0m\u001b[0;34m\u001b[0m\u001b[0;34m\u001b[0m\u001b[0m\n\u001b[0;32m----> 9\u001b[0;31m       \u001b[0;32mraise\u001b[0m \u001b[0mValueError\u001b[0m\u001b[0;34m(\u001b[0m\u001b[0;34m'No **kwargs allowed please!'\u001b[0m\u001b[0;34m)\u001b[0m\u001b[0;34m\u001b[0m\u001b[0;34m\u001b[0m\u001b[0m\n\u001b[0m\u001b[1;32m     10\u001b[0m     \u001b[0;32mreturn\u001b[0m \u001b[0mfn\u001b[0m\u001b[0;34m(\u001b[0m\u001b[0;34m*\u001b[0m\u001b[0margs\u001b[0m\u001b[0;34m,\u001b[0m\u001b[0;34m**\u001b[0m\u001b[0mkwargs\u001b[0m\u001b[0;34m)\u001b[0m\u001b[0;34m\u001b[0m\u001b[0;34m\u001b[0m\u001b[0m\n\u001b[1;32m     11\u001b[0m   \u001b[0;32mreturn\u001b[0m \u001b[0mwrapper\u001b[0m\u001b[0;34m\u001b[0m\u001b[0;34m\u001b[0m\u001b[0m\n",
            "\u001b[0;31mValueError\u001b[0m: No **kwargs allowed please!"
          ]
        }
      ]
    },
    {
      "cell_type": "code",
      "source": [
        "# Coding exercise\n",
        "\n",
        "'''\n",
        "@double_return \n",
        "def add(x, y):\n",
        "    return x + y\n",
        "    \n",
        "add(1, 2) # [3, 3]\n",
        "\n",
        "@double_return\n",
        "def greet(name):\n",
        "    return \"Hi, I'm \" + name\n",
        "\n",
        "greet(\"Colt\") # [\"Hi, I'm Colt\", \"Hi, I'm Colt\"]\n",
        "'''\n",
        "from functools import wraps\n",
        "\n",
        "def double_return(fn):\n",
        "  @wraps(fn)\n",
        "  def wrapper(*args,**kwargs):\n",
        "    return [fn(*args,**kwargs)] * 2\n",
        "  return wrapper\n",
        "\n",
        "@double_return \n",
        "def add(x, y):\n",
        "    return x + y\n",
        "    \n",
        "print(add(1, 2)) # [3, 3]\n",
        "\n",
        "@double_return\n",
        "def greet(name):\n",
        "    return \"Hi, I'm \" + name\n",
        "\n",
        "print(greet(\"Colt\")) # [\"Hi, I'm Colt\", \"Hi, I'm Colt\"]"
      ],
      "metadata": {
        "colab": {
          "base_uri": "https://localhost:8080/"
        },
        "id": "GmsX5Kh_YnU8",
        "outputId": "13e95200-bf21-4a40-f169-bbbf7975a787"
      },
      "execution_count": 22,
      "outputs": [
        {
          "output_type": "stream",
          "name": "stdout",
          "text": [
            "[3, 3]\n",
            "[\"Hi, I'm Colt\", \"Hi, I'm Colt\"]\n"
          ]
        }
      ]
    },
    {
      "cell_type": "code",
      "source": [
        "# Coding exercise\n",
        "\n",
        "'''\n",
        "@ensure_fewer_than_three_args\n",
        "def add_all(*nums):\n",
        "    return sum(nums)\n",
        "\n",
        "add_all() # 0\n",
        "add_all(1) # 1\n",
        "add_all(1,2) # 3\n",
        "add_all(1,2,3) # \"Too many arguments!\"\n",
        "add_all(1,2,3,4,5,6) # \"Too many arguments!\"\n",
        "'''\n",
        "\n",
        "from functools import wraps\n",
        "\n",
        "def ensure_fewer_than_three_args(fn):\n",
        "  @wraps(fn)\n",
        "  def wrapper(*args,**kwargs):\n",
        "    if len(args) > 2:\n",
        "      return 'Too many arguments!'\n",
        "    print(args)\n",
        "    return fn(*args,**kwargs)\n",
        "  return wrapper\n",
        "\n",
        "@ensure_fewer_than_three_args\n",
        "def add_all(*args): # the args tuple is not unpacked here, the entire tuple is passed into the function and summed\n",
        "    return sum(args)\n",
        "\n",
        "print(add_all())\n",
        "print(add_all(1))\n",
        "print(add_all(1,2))\n",
        "print(add_all(1,2,3))\n",
        "\n",
        "  # Note* - for *args unpacking the def some_func(a,b,c) - some_func(*nums) - nums = [1,3,5]\n",
        "\n"
      ],
      "metadata": {
        "colab": {
          "base_uri": "https://localhost:8080/"
        },
        "id": "aTBz0D-gc9OW",
        "outputId": "aa5f61ad-85df-4cb0-a76d-c31add1b582a"
      },
      "execution_count": 10,
      "outputs": [
        {
          "output_type": "stream",
          "name": "stdout",
          "text": [
            "()\n",
            "0\n",
            "(1,)\n",
            "1\n",
            "(1, 2)\n",
            "3\n",
            "Too many arguments!\n"
          ]
        }
      ]
    },
    {
      "cell_type": "code",
      "source": [
        "# Coding exercise\n",
        "\n",
        "'''\n",
        "@only_ints \n",
        "def add(x, y):\n",
        "    return x + y\n",
        "    \n",
        "add(1, 2) # 3\n",
        "add(\"1\", \"2\") # \"Please only invoke with integers.\"\n",
        "'''\n",
        "\n",
        "from functools import wraps\n",
        "\n",
        "def only_ints(fn):\n",
        "  @wraps(fn)\n",
        "  def wrapper(*args):\n",
        "    while all(map(lambda item: type(item) == int,args)):\n",
        "      return fn(*args)\n",
        "    return 'Please only invoke with integers.'\n",
        "  return wrapper\n",
        "\n",
        "@only_ints \n",
        "def add(x, y):\n",
        "    return x + y\n",
        "\n",
        "print(add(1, 2))\n",
        "print(add(\"1\", \"2\"))\n",
        "\n",
        "print()\n",
        "\n",
        "# another solution\n",
        "\n",
        "def only_ints(fn):\n",
        "    @wraps(fn)\n",
        "    def inner(*args, **kwargs):\n",
        "        if any([arg for arg in args if type(arg) != int]): # if any non-int value is present - list will return a Truthy result\n",
        "            return \"Please only invoke with integers.\"\n",
        "        return fn(*args, **kwargs)\n",
        "    return inner\n",
        "\n",
        "print(add(1, 2))\n",
        "print(add(\"1\", \"2\"))"
      ],
      "metadata": {
        "colab": {
          "base_uri": "https://localhost:8080/"
        },
        "id": "JPWK2teN3Ua3",
        "outputId": "05d66ed8-d751-47ca-f737-441142c2ed08"
      },
      "execution_count": 21,
      "outputs": [
        {
          "output_type": "stream",
          "name": "stdout",
          "text": [
            "3\n",
            "Please only invoke with integers.\n",
            "\n",
            "3\n",
            "Please only invoke with integers.\n"
          ]
        }
      ]
    },
    {
      "cell_type": "code",
      "source": [
        "# Coding exercise\n",
        "\n",
        "'''\n",
        "@ensure_authorized\n",
        "def show_secrets(*args, **kwargs):\n",
        "    return \"Shh! Don't tell anybody!\"\n",
        "\n",
        "show_secrets(role=\"admin\") # \"Shh! Don't tell anybody!\"\n",
        "show_secrets(role=\"nobody\") # \"Unauthorized\"\n",
        "show_secrets(a=\"b\") # \"Unauthorized\"\n",
        "'''\n",
        "\n",
        "from functools import wraps\n",
        "\n",
        "def ensure_authorized(fn):\n",
        "  @wraps(fn)\n",
        "  def wrapper(*args,**kwargs):\n",
        "    if 'role' in kwargs and kwargs['role'] == 'admin':\n",
        "      return fn(*args,**kwargs)\n",
        "    return 'Unauthorized'\n",
        "  return wrapper\n",
        "\n",
        "@ensure_authorized\n",
        "def show_secrets(*args, **kwargs):\n",
        "    return \"Shh! Don't tell anybody!\"\n",
        "\n",
        "print(show_secrets(role=\"admin\"))\n",
        "print(show_secrets(role=\"nobody\"))\n",
        "print(show_secrets(a=\"b\"))\n",
        "\n",
        "print()\n",
        "\n",
        "# alternative solution\n",
        "\n",
        "def ensure_authorized(fn):\n",
        "    @wraps(fn)\n",
        "    def wrapper(*args, **kwargs):\n",
        "        if kwargs.get(\"role\",False) == \"admin\": # dict method .get() - returns the value of key - if no key returns None by default\n",
        "            return fn(*args, **kwargs)\n",
        "        return \"Unauthorized\"\n",
        "    return wrapper\n",
        "\n",
        "print(show_secrets(role=\"admin\"))\n",
        "print(show_secrets(role=\"nobody\"))\n",
        "print(show_secrets(a=\"b\"))"
      ],
      "metadata": {
        "colab": {
          "base_uri": "https://localhost:8080/"
        },
        "id": "7rPgAcuZ_QQf",
        "outputId": "3e975826-ab06-4dab-8214-121455f5c1e4"
      },
      "execution_count": 28,
      "outputs": [
        {
          "output_type": "stream",
          "name": "stdout",
          "text": [
            "\n",
            "Shh! Don't tell anybody!\n",
            "Unauthorized\n",
            "Unauthorized\n"
          ]
        }
      ]
    },
    {
      "cell_type": "code",
      "source": [
        "def ensure_authorized(fn):\n",
        "    @wraps(fn)\n",
        "    def wrapper(*args, **kwargs):\n",
        "        if kwargs.get(\"role\",False) == \"admin\": # dict method .get() - returns the value of key - if no key returns None by default - here False\n",
        "            return fn(*args, **kwargs)\n",
        "        return \"Unauthorized\"\n",
        "    return wrapper\n",
        "\n",
        "@ensure_authorized\n",
        "def show_secrets(*args, **kwargs):\n",
        "    return \"Shh! Don't tell anybody!\"\n",
        "\n",
        "print(show_secrets(role=\"admin\"))\n",
        "print(show_secrets(role=\"nobody\"))\n",
        "print(show_secrets(a=\"b\"))\n",
        "help(dict.get)"
      ],
      "metadata": {
        "colab": {
          "base_uri": "https://localhost:8080/"
        },
        "id": "Dz6euAEvFSK4",
        "outputId": "f606ee11-e68d-4915-b43f-82d59bc91808"
      },
      "execution_count": 41,
      "outputs": [
        {
          "output_type": "stream",
          "name": "stdout",
          "text": [
            "Shh! Don't tell anybody!\n",
            "Unauthorized\n",
            "Unauthorized\n",
            "Help on method_descriptor:\n",
            "\n",
            "get(self, key, default=None, /)\n",
            "    Return the value for key if key is in the dictionary, else default.\n",
            "\n"
          ]
        }
      ]
    },
    {
      "cell_type": "code",
      "source": [
        "# Decorators taking in arguments\n",
        "\n",
        "  # when we write:\n",
        "  ## @decorator\n",
        "    # def func(*args,**kwargs):\n",
        "    #   pass\n",
        "  # we're really doing:\n",
        "    # func = decorator(func) # the decorated function is passed into the decorator function\n",
        "\n",
        "  # when we write:\n",
        "    ## @decorator_with_args(arg)\n",
        "     # def func(*args,**kwargs):\n",
        "     #   pass\n",
        "  # we're really doing:\n",
        "    # func = decorator_with_args(arg)(func) # the argument is first passed into the decorator \n",
        "                                            # followed by the decorated function which receives this argument\n",
        "\n",
        "from functools import wraps\n",
        "\n",
        "def ensure_first_arg_is(val):\n",
        "  def inner_func(fn):\n",
        "    @wraps(fn)\n",
        "    def wrapper(*args,**kwargs):\n",
        "      if args and args[0] != val:\n",
        "        return f'The first arg needs to be {val}'\n",
        "      return fn(*args,**kwargs)\n",
        "    return wrapper\n",
        "  return inner_func\n",
        "\n",
        "\n",
        "@ensure_first_arg_is('burrito')\n",
        "def fav_foods(*args):\n",
        "  return args\n",
        "\n",
        "print(fav_foods('burrito','ice cream','crepes'))\n",
        "print(fav_foods('hummus','ice cream','crepes'))\n",
        "\n",
        "print()\n",
        "\n",
        "@ensure_first_arg_is(10)\n",
        "def add_to_ten(num1,num2):\n",
        "  return num1 + num2\n",
        "\n",
        "print(add_to_ten(10,23))\n",
        "print(add_to_ten(11,23))"
      ],
      "metadata": {
        "colab": {
          "base_uri": "https://localhost:8080/"
        },
        "id": "gM713S7FHzLI",
        "outputId": "621d4dda-dce4-4c64-9ef3-42f3bbeccce4"
      },
      "execution_count": 49,
      "outputs": [
        {
          "output_type": "stream",
          "name": "stdout",
          "text": [
            "('burrito', 'ice cream', 'crepes')\n",
            "The first arg needs to be burrito\n",
            "\n",
            "33\n",
            "The first arg needs to be 10\n"
          ]
        }
      ]
    },
    {
      "cell_type": "code",
      "source": [
        "# Enforcing argument types with a decorator\n",
        "\n",
        "from functools import wraps\n",
        "\n",
        "def enforce(*types):\n",
        "  def inner_func(fn):\n",
        "    @wraps(fn)\n",
        "    def wrapper(*args,**kwargs):\n",
        "      newargs = []\n",
        "      for a,t in zip(args,types):\n",
        "        print(a,t)\n",
        "        newargs.append(t(a))\n",
        "        print(newargs)\n",
        "      return fn(*newargs,**kwargs) # in this case the decorated function does not *args as an input, \n",
        "    return wrapper                 # hence the resulting list needs to be unpacked and fed into the decorated functions arguments\n",
        "  return inner_func\n",
        "\n",
        "\n",
        "@enforce(str,int)\n",
        "def repeat_msg(msg,times):\n",
        "  for val in range(times):\n",
        "    print(msg)\n",
        "    \n",
        "print(repeat_msg('Hello','3'))\n",
        "\n",
        "print()\n",
        "\n",
        "@enforce(float,float)\n",
        "def divide(a,b):\n",
        "  return a/b\n",
        "\n",
        "print(divide('3','5.6'))"
      ],
      "metadata": {
        "colab": {
          "base_uri": "https://localhost:8080/"
        },
        "id": "mWj3N-hiPr-D",
        "outputId": "58711719-507f-44bf-8930-b5bc1c8a0f89"
      },
      "execution_count": 62,
      "outputs": [
        {
          "output_type": "stream",
          "name": "stdout",
          "text": [
            "Hello <class 'str'>\n",
            "['Hello']\n",
            "3 <class 'int'>\n",
            "['Hello', 3]\n",
            "Hello\n",
            "Hello\n",
            "Hello\n",
            "None\n",
            "\n",
            "3 <class 'float'>\n",
            "[3.0]\n",
            "5.6 <class 'float'>\n",
            "[3.0, 5.6]\n",
            "0.5357142857142857\n"
          ]
        }
      ]
    },
    {
      "cell_type": "code",
      "source": [
        "# Coding exercise\n",
        "\n",
        "'''\n",
        "@delay(3)\n",
        "def say_hi():\n",
        "    return \"hi\"\n",
        "\n",
        "say_hi()\n",
        "# should print the message \"Waiting 3s before running say_hi\" to the console\n",
        "# should then wait 3 seconds\n",
        "# finally, should invoke say_hi and return \"hi\"\n",
        "'''\n",
        "\n",
        "from functools import wraps\n",
        "from time import sleep\n",
        "\n",
        "def delay(val):\n",
        "  def inner_func(fn):\n",
        "    @wraps(fn)\n",
        "    def wrapper(*args,**kwargs):\n",
        "      print(f'Waiting {val}s before running {fn.__name__}')\n",
        "      sleep(val)\n",
        "      return fn(*args,**kwargs)\n",
        "    return wrapper\n",
        "  return inner_func\n",
        "\n",
        "@delay(5)\n",
        "def say_hi():\n",
        "    return \"hi\"\n",
        "\n",
        "print(say_hi())"
      ],
      "metadata": {
        "colab": {
          "base_uri": "https://localhost:8080/"
        },
        "id": "vZMP4TfjhGkR",
        "outputId": "4e7bcb05-dfe3-401f-f5eb-466234e63864"
      },
      "execution_count": 64,
      "outputs": [
        {
          "output_type": "stream",
          "name": "stdout",
          "text": [
            "Waiting 5s before running say_hi\n",
            "hi\n"
          ]
        }
      ]
    }
  ]
}