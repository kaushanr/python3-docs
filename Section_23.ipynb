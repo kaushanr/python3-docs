{
  "nbformat": 4,
  "nbformat_minor": 0,
  "metadata": {
    "colab": {
      "name": "Section_23.ipynb",
      "provenance": [],
      "authorship_tag": "ABX9TyOT+7HQYfLFzFEtrN+dAaxb",
      "include_colab_link": true
    },
    "kernelspec": {
      "name": "python3",
      "display_name": "Python 3"
    },
    "language_info": {
      "name": "python"
    }
  },
  "cells": [
    {
      "cell_type": "markdown",
      "metadata": {
        "id": "view-in-github",
        "colab_type": "text"
      },
      "source": [
        "<a href=\"https://colab.research.google.com/github/kaushanr/python3-docs/blob/main/Section_23.ipynb\" target=\"_parent\"><img src=\"https://colab.research.google.com/assets/colab-badge.svg\" alt=\"Open In Colab\"/></a>"
      ]
    },
    {
      "cell_type": "markdown",
      "source": [
        "# HTTP Requests"
      ],
      "metadata": {
        "id": "aR3EFF9RQOLW"
      }
    },
    {
      "cell_type": "code",
      "execution_count": null,
      "metadata": {
        "id": "cD6jQIxvQLKh"
      },
      "outputs": [],
      "source": [
        "# HTTP - Hyper Text Transfer Protocol\n",
        "\n",
        "# HTTP Intro\n",
        "\n",
        "  # DNS Lookup\n",
        "  # Computer makes a REQUEST to a server\n",
        "  # Server processes the REQUEST\n",
        "  # Server issues RESPONSE\n",
        "\n",
        "# DNS Lookup - phonebook for the internet\n",
        "               # DNS Server - takes domain names and turns it into IP addresses\n",
        "\n",
        "# REQUEST / RESPONSE Cycle\n",
        "\n",
        "  # user pc issues a request and the server replies back with an appropriate response\n",
        "\n",
        "# HTTP Headers\n",
        "\n",
        "  # sent with both REQUESTS and RESPONSES\n",
        "  # provides  additional information about the request or response\n",
        "\n",
        "  # Request Headers \n",
        "      # Accept - acceptable content types for responses. eg- HTML, JSON, XML\n",
        "      # Cache-Control - specifies caching behaviour \n",
        "      # User-Agent - contains information about the software used to make the request \n",
        "\n",
        "  # Response Headers\n",
        "      # Access-Control-Allow-Origin - specify domains that can make requests\n",
        "      # Allowed - HTTP verbs that are allowed in requests\n",
        "\n",
        "# Response Status Codes - every request sent gets a response\n",
        "\n",
        "  # 2XX - Success\n",
        "  # 3XX - Redirect\n",
        "  # 4XX - Client error\n",
        "  # 5XX - Server error\n"
      ]
    },
    {
      "cell_type": "code",
      "source": [
        "# HTTP Verbs\n",
        "\n",
        "  # commonly used - GET and POST requests\n",
        "  # GET \n",
        "      # used for retreiving data\n",
        "      # data passed in query string \n",
        "      # should have no side effects\n",
        "      # can be cached\n",
        "      # can be bookmarked\n",
        "\n",
        "  # POST \n",
        "      # used for writing data \n",
        "      # data passed in request body\n",
        "      # may have some side effects\n",
        "      # not cached\n",
        "      # cannot be bookmarked\n",
        "      \n",
        "# API - Application Programming Interface\n",
        "\n",
        "  # allows you to get data from another application \n"
      ],
      "metadata": {
        "id": "fqeKho45VU07"
      },
      "execution_count": null,
      "outputs": []
    },
    {
      "cell_type": "code",
      "source": [
        "# requests module\n",
        "\n",
        "#!pip install requests\n",
        "\n",
        "import requests\n",
        "\n",
        "res = requests.get('https://news.ycombinator.com/')\n",
        "print(res)\n",
        "\n",
        "print(res.ok)\n",
        "print(res.headers)\n",
        "#print(res.text) # body of the site HTML \n",
        "\n",
        "print()\n",
        "\n",
        "def ask_http(url = 'http://www.google.com'):\n",
        "  response = requests.get(url)\n",
        "  print(f'your request to {url} came back w/ status code {response.status_code}')\n",
        "\n",
        "ask_http()\n",
        "ask_http('https://github.com/kaushanr/python3-docs/')\n",
        "ask_http('https://github.com/kaushanr/python3-docs/this-does-not-exist')"
      ],
      "metadata": {
        "colab": {
          "base_uri": "https://localhost:8080/"
        },
        "id": "VA_NGzAHrqf0",
        "outputId": "26bd6bc0-8f26-473f-c4a3-b1fc5d110641"
      },
      "execution_count": null,
      "outputs": [
        {
          "output_type": "stream",
          "name": "stdout",
          "text": [
            "<Response [200]>\n",
            "True\n",
            "{'Server': 'nginx', 'Date': 'Wed, 17 Aug 2022 01:07:39 GMT', 'Content-Type': 'text/html; charset=utf-8', 'Transfer-Encoding': 'chunked', 'Connection': 'keep-alive', 'Vary': 'Accept-Encoding', 'Cache-Control': 'private; max-age=0', 'X-Frame-Options': 'DENY', 'X-Content-Type-Options': 'nosniff', 'X-XSS-Protection': '1; mode=block', 'Referrer-Policy': 'origin', 'Strict-Transport-Security': 'max-age=31556900', 'Content-Security-Policy': \"default-src 'self'; script-src 'self' 'unsafe-inline' https://www.google.com/recaptcha/ https://www.gstatic.com/recaptcha/ https://cdnjs.cloudflare.com/; frame-src 'self' https://www.google.com/recaptcha/; style-src 'self' 'unsafe-inline'; img-src 'self' https://account.ycombinator.com; frame-ancestors 'self'\", 'Content-Encoding': 'gzip'}\n",
            "\n",
            "your request to http://www.google.com came back w/ status code 200\n",
            "your request to https://github.com/kaushanr/python3-docs/ came back w/ status code 200\n",
            "your request to https://github.com/kaushanr/python3-docs/this-does-not-exist came back w/ status code 404\n"
          ]
        }
      ]
    },
    {
      "cell_type": "code",
      "source": [
        "# Requesting JSON with Python - JavaScript Object Notation\n",
        "\n",
        "def ask_http(url = 'http://www.google.com'):\n",
        "  response = requests.get(url,headers = {'Accept':'text/plain'}) # 'text/html' - the raw html script\n",
        "  print(f'your request to {url} came back w/ status code {response.status_code}','\\n')\n",
        "  print(response.text,'\\n')\n",
        "\n",
        "ask_http('https://icanhazdadjoke.com/')\n",
        "\n",
        "\n",
        "def ask_http(url = 'https://icanhazdadjoke.com/'):\n",
        "  response = requests.get(url,headers = {'Accept':'application/json'}) # standard syntax for returning json version of site\n",
        "  print(type(response.text)) # returned .json has similiar syntax to a python dictionary, but is of 'str' type\n",
        "  print(response.text)\n",
        "  print(response.json()) # converting the returned .json message to a python dictionary\n",
        "  print(type(response.json()))\n",
        "  print(response.json()['joke']) # return value of 'joke' key in dict\n",
        "  print(f'status : {response.json()[\"status\"]}')\n",
        "\n",
        "ask_http()"
      ],
      "metadata": {
        "colab": {
          "base_uri": "https://localhost:8080/"
        },
        "id": "djTHq_OwXp87",
        "outputId": "27023db1-d06e-4b04-9139-de9f6622a8ce"
      },
      "execution_count": null,
      "outputs": [
        {
          "output_type": "stream",
          "name": "stdout",
          "text": [
            "your request to https://icanhazdadjoke.com/ came back w/ status code 200 \n",
            "\n",
            "What do you call corn that joins the army? Kernel. \n",
            "\n",
            "<class 'str'>\n",
            "{\"id\":\"Xn3wX8hi3Ed\",\"joke\":\"Did you hear about the Mexican train killer? He had loco motives\",\"status\":200}\n",
            "\n",
            "{'id': 'Xn3wX8hi3Ed', 'joke': 'Did you hear about the Mexican train killer? He had loco motives', 'status': 200}\n",
            "<class 'dict'>\n",
            "Did you hear about the Mexican train killer? He had loco motives\n",
            "status : 200\n"
          ]
        }
      ]
    },
    {
      "cell_type": "code",
      "source": [
        "# Query Strings \n",
        "\n",
        "  # A way to pass data to a server as a part of a GET request\n",
        "  # Syntax - http://www.example.com/?key1=value1&key2=value2\n",
        "  \n",
        "#!pip install pyfiglet\n",
        "\n",
        "import requests\n",
        "\n",
        "url = 'https://raw.githubusercontent.com/kaushanr/python3-docs/main/docs/heading_art.py'\n",
        "r = requests.get(url)\n",
        "with open('/content/heading_art.py', 'w') as f:\n",
        "    f.write(r.text)\n",
        "\n",
        "def dad_joke():\n",
        "  from heading_art import heading\n",
        "  print(heading('DAD JOKE 5000'))\n",
        "  category = input('Let me tell you a joke! Give me a topic : ')\n",
        "  print()\n",
        "  print('Disclaimer** Severe Cringe Alert!','\\n')\n",
        "\n",
        "  url = 'https://icanhazdadjoke.com/search?'\n",
        "  response = requests.get(url,\n",
        "                          headers = {'Accept':'application/json'},\n",
        "                          params = {'term':category,'limit':1}\n",
        "                          )\n",
        "  result = response.json()['results'][0]['joke']\n",
        "  print(response.json()['results'][0]['joke'])\n",
        "  #print(type(response.json()['results'][0]['joke']))\n",
        "  from termcolor import colored\n",
        "  result = colored(result,color = 'red',attrs = ['bold'])\n",
        "  print(result)\n",
        "  \n",
        "\n",
        "dad_joke()"
      ],
      "metadata": {
        "id": "-IXUcZB7eNcw",
        "colab": {
          "base_uri": "https://localhost:8080/"
        },
        "outputId": "e9d907fe-f9c8-4f6e-b599-0a0ddd80d0d8"
      },
      "execution_count": 3,
      "outputs": [
        {
          "output_type": "stream",
          "name": "stdout",
          "text": [
            "\u001b[33m ____    _    ____        _  ___  _  _______   ____   ___   ___   ___  \n",
            "|  _ \\  / \\  |  _ \\      | |/ _ \\| |/ / ____| | ___| / _ \\ / _ \\ / _ \\ \n",
            "| | | |/ _ \\ | | | |  _  | | | | | ' /|  _|   |___ \\| | | | | | | | | |\n",
            "| |_| / ___ \\| |_| | | |_| | |_| | . \\| |___   ___) | |_| | |_| | |_| |\n",
            "|____/_/   \\_\\____/   \\___/ \\___/|_|\\_\\_____| |____/ \\___/ \\___/ \\___/ \n",
            "                                                                       \n",
            "\u001b[0m\n",
            "Let me tell you a joke! Give me a topic : cat\n",
            "\n",
            "Disclaimer** Severe Cringe Alert! \n",
            "\n",
            "Why was the big cat disqualified from the race? Because it was a cheetah.\n",
            "\u001b[1m\u001b[31mWhy was the big cat disqualified from the race? Because it was a cheetah.\u001b[0m\n"
          ]
        }
      ]
    },
    {
      "cell_type": "code",
      "source": [
        "# API Project\n",
        "\n",
        "#!pip install pyfiglet\n",
        "\n",
        "import requests\n",
        "\n",
        "url = 'https://raw.githubusercontent.com/kaushanr/python3-docs/main/docs/heading_art.py'\n",
        "r = requests.get(url)\n",
        "with open('/content/heading_art.py', 'w') as f:\n",
        "    f.write(r.text)\n",
        "\n",
        "def dad_joke():\n",
        "  \n",
        "  from heading_art import heading\n",
        "    \n",
        "  try: # contains error handling for pyfiglet installation\n",
        "    print(heading('DAD JOKE 5000'))\n",
        "  except ModuleNotFoundError as  err:\n",
        "    print(err)\n",
        "    return print('Please install \\'pyfiglet\\' module to continue - >!pip install pyfiglet<')\n",
        "\n",
        "  category = input('Let me tell you a joke! Give me a topic : ')\n",
        "  print()\n",
        "  print('Disclaimer** Severe Cringe Alert!','\\n')\n",
        "\n",
        "  url = 'https://icanhazdadjoke.com/search?'\n",
        "  response = requests.get(url,\n",
        "                          headers = {'Accept':'application/json'},\n",
        "                          params = {'term':category}\n",
        "                          )\n",
        "  \n",
        "  data = response.json()\n",
        "  \n",
        "  if data['total_jokes']:\n",
        "\n",
        "    from random import choice\n",
        "    from termcolor import colored\n",
        "\n",
        "    print(f'I\\'ve got {data[\"total_jokes\"]} jokes about {category}. Here\\'s one : ')\n",
        "    joke = choice(data['results'])['joke']\n",
        "    result = colored(joke,color = 'red',attrs = ['bold'])\n",
        "    print(result)\n",
        "  else:\n",
        "    print(f'Sorry, I don\\'t have any jokes about {category}!. Please try again.')\n",
        "\n",
        "\n",
        "for i in range(3):\n",
        "  dad_joke()"
      ],
      "metadata": {
        "colab": {
          "base_uri": "https://localhost:8080/"
        },
        "id": "eZcwCiReM6bo",
        "outputId": "d91c87a6-ee41-46d9-c495-6fad8dde17a0"
      },
      "execution_count": 13,
      "outputs": [
        {
          "output_type": "stream",
          "name": "stdout",
          "text": [
            "\u001b[34m ____    _    ____        _  ___  _  _______   ____   ___   ___   ___  \n",
            "|  _ \\  / \\  |  _ \\      | |/ _ \\| |/ / ____| | ___| / _ \\ / _ \\ / _ \\ \n",
            "| | | |/ _ \\ | | | |  _  | | | | | ' /|  _|   |___ \\| | | | | | | | | |\n",
            "| |_| / ___ \\| |_| | | |_| | |_| | . \\| |___   ___) | |_| | |_| | |_| |\n",
            "|____/_/   \\_\\____/   \\___/ \\___/|_|\\_\\_____| |____/ \\___/ \\___/ \\___/ \n",
            "                                                                       \n",
            "\u001b[0m\n",
            "Let me tell you a joke! Give me a topic : bee\n",
            "\n",
            "Disclaimer** Severe Cringe Alert! \n",
            "\n",
            "I've got 27 jokes about bee. Here's one : \n",
            "\u001b[1m\u001b[31mI’ve just been reading a book about anti-gravity, it’s impossible to put down!\u001b[0m\n",
            "\u001b[33m ____    _    ____        _  ___  _  _______   ____   ___   ___   ___  \n",
            "|  _ \\  / \\  |  _ \\      | |/ _ \\| |/ / ____| | ___| / _ \\ / _ \\ / _ \\ \n",
            "| | | |/ _ \\ | | | |  _  | | | | | ' /|  _|   |___ \\| | | | | | | | | |\n",
            "| |_| / ___ \\| |_| | | |_| | |_| | . \\| |___   ___) | |_| | |_| | |_| |\n",
            "|____/_/   \\_\\____/   \\___/ \\___/|_|\\_\\_____| |____/ \\___/ \\___/ \\___/ \n",
            "                                                                       \n",
            "\u001b[0m\n",
            "Let me tell you a joke! Give me a topic : text\n",
            "\n",
            "Disclaimer** Severe Cringe Alert! \n",
            "\n",
            "I've got 1 jokes about text. Here's one : \n",
            "\u001b[1m\u001b[31mWhy is the new Kindle screen textured to look like paper? So you feel write at home.\u001b[0m\n",
            "\u001b[36m ____    _    ____        _  ___  _  _______   ____   ___   ___   ___  \n",
            "|  _ \\  / \\  |  _ \\      | |/ _ \\| |/ / ____| | ___| / _ \\ / _ \\ / _ \\ \n",
            "| | | |/ _ \\ | | | |  _  | | | | | ' /|  _|   |___ \\| | | | | | | | | |\n",
            "| |_| / ___ \\| |_| | | |_| | |_| | . \\| |___   ___) | |_| | |_| | |_| |\n",
            "|____/_/   \\_\\____/   \\___/ \\___/|_|\\_\\_____| |____/ \\___/ \\___/ \\___/ \n",
            "                                                                       \n",
            "\u001b[0m\n",
            "Let me tell you a joke! Give me a topic : aafsdfs\n",
            "\n",
            "Disclaimer** Severe Cringe Alert! \n",
            "\n",
            "Sorry, I don't have any jokes about aafsdfs!. Please try again.\n"
          ]
        }
      ]
    }
  ]
}