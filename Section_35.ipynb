{
  "nbformat": 4,
  "nbformat_minor": 0,
  "metadata": {
    "colab": {
      "provenance": [],
      "authorship_tag": "ABX9TyO23+bo5dhuHhRAtKb3jjvG",
      "include_colab_link": true
    },
    "kernelspec": {
      "name": "python3",
      "display_name": "Python 3"
    },
    "language_info": {
      "name": "python"
    }
  },
  "cells": [
    {
      "cell_type": "markdown",
      "metadata": {
        "id": "view-in-github",
        "colab_type": "text"
      },
      "source": [
        "<a href=\"https://colab.research.google.com/github/kaushanr/python3-docs/blob/main/Section_35.ipynb\" target=\"_parent\"><img src=\"https://colab.research.google.com/assets/colab-badge.svg\" alt=\"Open In Colab\"/></a>"
      ]
    },
    {
      "cell_type": "markdown",
      "source": [
        "# Python + SQL"
      ],
      "metadata": {
        "id": "zP0UKo1jewB5"
      }
    },
    {
      "cell_type": "code",
      "execution_count": null,
      "metadata": {
        "id": "h37qniAmesLS"
      },
      "outputs": [],
      "source": [
        "# SQL basics\n",
        "\n",
        "  # SQLITE3 used in this  - https://www.sqlite.org/index.html\n",
        "\n",
        "  # Creating tables\n",
        "\n",
        "    # SQL command syntax usually provided in UPPERCASE - LOWERCASE reserved for data\n",
        "\n",
        "#help(sqlite3)\n",
        "\n",
        "# External references on Colab SQL syntax with SQLalchemy interfacing:\n",
        "\n",
        "    # https://colab.research.google.com/github/tdmdal/mma-sql-2021/blob/master/docs/SQL_Intro_Sqlite.ipynb#scrollTo=3JdLzIG-P5iE"
      ]
    },
    {
      "cell_type": "markdown",
      "source": [
        "#### SQLite Terminal on Colab\n",
        "\n",
        "---\n",
        "\n"
      ],
      "metadata": {
        "id": "e_S4pCLcD9D7"
      }
    },
    {
      "cell_type": "code",
      "source": [
        "#!pip install ipython-sql"
      ],
      "metadata": {
        "id": "78z_5jjY7BeZ"
      },
      "execution_count": null,
      "outputs": []
    },
    {
      "cell_type": "code",
      "source": [
        "%load_ext sql"
      ],
      "metadata": {
        "id": "n6ReXyi-EAh5"
      },
      "execution_count": 5,
      "outputs": []
    },
    {
      "cell_type": "code",
      "source": [
        "%reload_ext sql"
      ],
      "metadata": {
        "id": "zk82yKf5FCIg"
      },
      "execution_count": null,
      "outputs": []
    },
    {
      "cell_type": "code",
      "source": [
        "%%sql\n",
        "sqlite:///basics.db"
      ],
      "metadata": {
        "colab": {
          "base_uri": "https://localhost:8080/",
          "height": 35
        },
        "id": "z2__74RkEEbn",
        "outputId": "d88d9f74-a8cb-4672-8afe-3accf2849719"
      },
      "execution_count": null,
      "outputs": [
        {
          "output_type": "execute_result",
          "data": {
            "text/plain": [
              "'Connected: @basics.db'"
            ],
            "application/vnd.google.colaboratory.intrinsic+json": {
              "type": "string"
            }
          },
          "metadata": {},
          "execution_count": 2
        }
      ]
    },
    {
      "cell_type": "code",
      "source": [
        "%%sql\n",
        "SELECT sqlite_version();"
      ],
      "metadata": {
        "colab": {
          "base_uri": "https://localhost:8080/",
          "height": 95
        },
        "id": "NisL3vm6Qt6z",
        "outputId": "b8c8e61e-c634-4286-d18c-d1d73e453369"
      },
      "execution_count": null,
      "outputs": [
        {
          "output_type": "stream",
          "name": "stdout",
          "text": [
            " * sqlite:///basics.db\n",
            "Done.\n"
          ]
        },
        {
          "output_type": "execute_result",
          "data": {
            "text/plain": [
              "[('3.22.0',)]"
            ],
            "text/html": [
              "<table>\n",
              "    <thead>\n",
              "        <tr>\n",
              "            <th>sqlite_version()</th>\n",
              "        </tr>\n",
              "    </thead>\n",
              "    <tbody>\n",
              "        <tr>\n",
              "            <td>3.22.0</td>\n",
              "        </tr>\n",
              "    </tbody>\n",
              "</table>"
            ]
          },
          "metadata": {},
          "execution_count": 3
        }
      ]
    },
    {
      "cell_type": "code",
      "source": [
        "%%sql \n",
        "\n",
        "-- %%sql cell magic, %sql line magic\n",
        "\n",
        "CREATE TABLE IF NOT EXISTS dog(name TEXT, breed TEXT, age INTEGER);\n",
        "INSERT INTO dog VALUES ('Doggo','Husky',4);\n",
        "SELECT * FROM dog;"
      ],
      "metadata": {
        "colab": {
          "base_uri": "https://localhost:8080/",
          "height": 130
        },
        "id": "ov_HksCtEHGc",
        "outputId": "943a1127-82d0-4a94-ee59-38bd870c7aee"
      },
      "execution_count": null,
      "outputs": [
        {
          "output_type": "stream",
          "name": "stdout",
          "text": [
            " * sqlite:///basics.db\n",
            "Done.\n",
            "1 rows affected.\n",
            "Done.\n"
          ]
        },
        {
          "output_type": "execute_result",
          "data": {
            "text/plain": [
              "[('Doggo', 'Husky', 4)]"
            ],
            "text/html": [
              "<table>\n",
              "    <thead>\n",
              "        <tr>\n",
              "            <th>name</th>\n",
              "            <th>breed</th>\n",
              "            <th>age</th>\n",
              "        </tr>\n",
              "    </thead>\n",
              "    <tbody>\n",
              "        <tr>\n",
              "            <td>Doggo</td>\n",
              "            <td>Husky</td>\n",
              "            <td>4</td>\n",
              "        </tr>\n",
              "    </tbody>\n",
              "</table>"
            ]
          },
          "metadata": {},
          "execution_count": 3
        }
      ]
    },
    {
      "cell_type": "code",
      "source": [
        "%sql CREATE TABLE IF NOT EXISTS cat(name TEXT, breed TEXT, age REAL);\n",
        "%sql INSERT INTO cat VALUES ('blue','scottish fold',3),('jet','bombay',0.3);\n",
        "a = %sql SELECT * FROM cat;\n",
        "print(a)"
      ],
      "metadata": {
        "colab": {
          "base_uri": "https://localhost:8080/"
        },
        "id": "awqvb8jGIU7I",
        "outputId": "28ad96e0-6879-4206-a410-ab75cf1a1973"
      },
      "execution_count": null,
      "outputs": [
        {
          "output_type": "stream",
          "name": "stdout",
          "text": [
            " * sqlite:///basics.db\n",
            "Done.\n",
            " * sqlite:///basics.db\n",
            "2 rows affected.\n",
            " * sqlite:///basics.db\n",
            "Done.\n",
            "+------+---------------+-----+\n",
            "| name |     breed     | age |\n",
            "+------+---------------+-----+\n",
            "| blue | scottish fold | 3.0 |\n",
            "| jet  |     bombay    | 0.3 |\n",
            "+------+---------------+-----+\n"
          ]
        }
      ]
    },
    {
      "cell_type": "code",
      "source": [
        "%%sql \n",
        "SELECT name FROM sqlite_master WHERE type ='table' AND name NOT LIKE 'sqlite_%'; -- commenting on sql"
      ],
      "metadata": {
        "colab": {
          "base_uri": "https://localhost:8080/",
          "height": 116
        },
        "id": "T3bz9txEQKtx",
        "outputId": "10cc4d9e-d095-43d5-bb9e-b2dba62b242d"
      },
      "execution_count": null,
      "outputs": [
        {
          "output_type": "stream",
          "name": "stdout",
          "text": [
            " * sqlite:///basics.db\n",
            "Done.\n"
          ]
        },
        {
          "output_type": "execute_result",
          "data": {
            "text/plain": [
              "[('dog',), ('cat',)]"
            ],
            "text/html": [
              "<table>\n",
              "    <thead>\n",
              "        <tr>\n",
              "            <th>name</th>\n",
              "        </tr>\n",
              "    </thead>\n",
              "    <tbody>\n",
              "        <tr>\n",
              "            <td>dog</td>\n",
              "        </tr>\n",
              "        <tr>\n",
              "            <td>cat</td>\n",
              "        </tr>\n",
              "    </tbody>\n",
              "</table>"
            ]
          },
          "metadata": {},
          "execution_count": 5
        }
      ]
    },
    {
      "cell_type": "code",
      "source": [
        "%%sql\n",
        "\n",
        "INSERT INTO dog (name,breed,age) VALUES ('Rose','Chihuahua',11);\n",
        "INSERT INTO dog (name,breed,age) VALUES ('Moose','Lab',5);\n",
        "INSERT INTO dog (name,breed,age) VALUES ('Champ','Husky',4);\n",
        "INSERT INTO dog (name,breed,age) VALUES ('Piggy','Corgi',9);"
      ],
      "metadata": {
        "colab": {
          "base_uri": "https://localhost:8080/"
        },
        "id": "4fim16PSvPN9",
        "outputId": "6e662ad3-06c3-4b7b-c6c9-dee9ddc84e21"
      },
      "execution_count": null,
      "outputs": [
        {
          "output_type": "stream",
          "name": "stdout",
          "text": [
            " * sqlite:///basics.db\n",
            "1 rows affected.\n",
            "1 rows affected.\n",
            "1 rows affected.\n",
            "1 rows affected.\n"
          ]
        },
        {
          "output_type": "execute_result",
          "data": {
            "text/plain": [
              "[]"
            ]
          },
          "metadata": {},
          "execution_count": 6
        }
      ]
    },
    {
      "cell_type": "code",
      "source": [
        "a = %sql SELECT * FROM dog;\n",
        "print(a)"
      ],
      "metadata": {
        "colab": {
          "base_uri": "https://localhost:8080/"
        },
        "id": "cWizmbfB4FHY",
        "outputId": "c80f83d6-1df5-47c4-e495-0841c9caf385"
      },
      "execution_count": null,
      "outputs": [
        {
          "output_type": "stream",
          "name": "stdout",
          "text": [
            " * sqlite:///basics.db\n",
            "Done.\n",
            "+-------+-----------+-----+\n",
            "|  name |   breed   | age |\n",
            "+-------+-----------+-----+\n",
            "| Doggo |   Husky   |  4  |\n",
            "|  Rose | Chihuahua |  11 |\n",
            "| Moose |    Lab    |  5  |\n",
            "| Champ |   Husky   |  4  |\n",
            "| Piggy |   Corgi   |  9  |\n",
            "+-------+-----------+-----+\n"
          ]
        }
      ]
    },
    {
      "cell_type": "code",
      "source": [
        "a = %sql SELECT name,age FROM dog; -- SELECT takes in specified columns\n",
        "print(a)"
      ],
      "metadata": {
        "id": "4ifTUu-RDMjz",
        "colab": {
          "base_uri": "https://localhost:8080/"
        },
        "outputId": "5750afd3-0c91-430f-fadd-6ec4f204bccc"
      },
      "execution_count": null,
      "outputs": [
        {
          "output_type": "stream",
          "name": "stdout",
          "text": [
            " * sqlite:///basics.db\n",
            "Done.\n",
            "+-------+-----+\n",
            "|  name | age |\n",
            "+-------+-----+\n",
            "| Doggo |  4  |\n",
            "|  Rose |  11 |\n",
            "| Moose |  5  |\n",
            "| Champ |  4  |\n",
            "| Piggy |  9  |\n",
            "+-------+-----+\n"
          ]
        }
      ]
    },
    {
      "cell_type": "code",
      "source": [
        "%%sql\n",
        "\n",
        "INSERT INTO dog (name,breed,age) VALUES ('Maggie','Terrier',4);\n",
        "INSERT INTO dog (name,breed,age) VALUES ('River','Husky',7);\n",
        "INSERT INTO dog (name,breed,age) VALUES ('Archer','Pitbull',8);\n",
        "INSERT INTO dog (name,breed,age) VALUES ('Pam','Pug',2);"
      ],
      "metadata": {
        "colab": {
          "base_uri": "https://localhost:8080/"
        },
        "id": "CqcqsO0of5zC",
        "outputId": "6895f77d-b22d-440a-9a42-f7e442feaa6f"
      },
      "execution_count": null,
      "outputs": [
        {
          "output_type": "stream",
          "name": "stdout",
          "text": [
            " * sqlite:///basics.db\n",
            "1 rows affected.\n",
            "1 rows affected.\n",
            "1 rows affected.\n",
            "1 rows affected.\n"
          ]
        },
        {
          "output_type": "execute_result",
          "data": {
            "text/plain": [
              "[]"
            ]
          },
          "metadata": {},
          "execution_count": 9
        }
      ]
    },
    {
      "cell_type": "code",
      "source": [
        "a = %sql SELECT * FROM dog;\n",
        "print(a)"
      ],
      "metadata": {
        "colab": {
          "base_uri": "https://localhost:8080/"
        },
        "id": "dPdJx5AUgQNc",
        "outputId": "c3fb060c-6f97-4b96-bfc3-e908038f7076"
      },
      "execution_count": null,
      "outputs": [
        {
          "output_type": "stream",
          "name": "stdout",
          "text": [
            " * sqlite:///basics.db\n",
            "Done.\n",
            "+--------+-----------+-----+\n",
            "|  name  |   breed   | age |\n",
            "+--------+-----------+-----+\n",
            "| Doggo  |   Husky   |  4  |\n",
            "|  Rose  | Chihuahua |  11 |\n",
            "| Moose  |    Lab    |  5  |\n",
            "| Champ  |   Husky   |  4  |\n",
            "| Piggy  |   Corgi   |  9  |\n",
            "| Maggie |  Terrier  |  4  |\n",
            "| River  |   Husky   |  7  |\n",
            "| Archer |  Pitbull  |  8  |\n",
            "|  Pam   |    Pug    |  2  |\n",
            "+--------+-----------+-----+\n"
          ]
        }
      ]
    },
    {
      "cell_type": "code",
      "source": [
        "a = %sql SELECT * FROM dog WHERE name IS 'Piggy';\n",
        "print(a)\n",
        "\n",
        "a = %sql SELECT * FROM dog WHERE breed IS 'Husky';\n",
        "print(a)\n",
        "\n",
        "a = %sql SELECT name FROM dog WHERE breed IS 'Husky';\n",
        "print(a)\n",
        "\n",
        "a = %sql SELECT * FROM dog WHERE breed IS NOT 'Chihuahua';\n",
        "print(a)\n",
        "\n",
        "a = %sql SELECT * FROM dog WHERE breed IS NOT 'Chihuahua' AND breed IS NOT 'Terrier' AND breed IS NOT 'Pug'; -- deMorgan's boolean inversion\n",
        "print(a)\n",
        "\n",
        "a = %sql SELECT * FROM dog WHERE age > 5;\n",
        "print(a)\n",
        "\n",
        "a = %sql SELECT * FROM dog WHERE name LIKE '%gg%'; -- %chars% represents any characters before and after\n",
        "print(a)\n"
      ],
      "metadata": {
        "colab": {
          "base_uri": "https://localhost:8080/"
        },
        "id": "I5Oz80FrgevH",
        "outputId": "2b5a2adc-64e3-4f95-e78a-77aea72242af"
      },
      "execution_count": null,
      "outputs": [
        {
          "output_type": "stream",
          "name": "stdout",
          "text": [
            " * sqlite:///basics.db\n",
            "Done.\n",
            "+-------+-------+-----+\n",
            "|  name | breed | age |\n",
            "+-------+-------+-----+\n",
            "| Piggy | Corgi |  9  |\n",
            "+-------+-------+-----+\n",
            " * sqlite:///basics.db\n",
            "Done.\n",
            "+-------+-------+-----+\n",
            "|  name | breed | age |\n",
            "+-------+-------+-----+\n",
            "| Doggo | Husky |  4  |\n",
            "| Champ | Husky |  4  |\n",
            "| River | Husky |  7  |\n",
            "+-------+-------+-----+\n",
            " * sqlite:///basics.db\n",
            "Done.\n",
            "+-------+\n",
            "|  name |\n",
            "+-------+\n",
            "| Doggo |\n",
            "| Champ |\n",
            "| River |\n",
            "+-------+\n",
            " * sqlite:///basics.db\n",
            "Done.\n",
            "+--------+---------+-----+\n",
            "|  name  |  breed  | age |\n",
            "+--------+---------+-----+\n",
            "| Doggo  |  Husky  |  4  |\n",
            "| Moose  |   Lab   |  5  |\n",
            "| Champ  |  Husky  |  4  |\n",
            "| Piggy  |  Corgi  |  9  |\n",
            "| Maggie | Terrier |  4  |\n",
            "| River  |  Husky  |  7  |\n",
            "| Archer | Pitbull |  8  |\n",
            "|  Pam   |   Pug   |  2  |\n",
            "+--------+---------+-----+\n",
            " * sqlite:///basics.db\n",
            "Done.\n",
            "+--------+---------+-----+\n",
            "|  name  |  breed  | age |\n",
            "+--------+---------+-----+\n",
            "| Doggo  |  Husky  |  4  |\n",
            "| Moose  |   Lab   |  5  |\n",
            "| Champ  |  Husky  |  4  |\n",
            "| Piggy  |  Corgi  |  9  |\n",
            "| River  |  Husky  |  7  |\n",
            "| Archer | Pitbull |  8  |\n",
            "+--------+---------+-----+\n",
            " * sqlite:///basics.db\n",
            "Done.\n",
            "+--------+-----------+-----+\n",
            "|  name  |   breed   | age |\n",
            "+--------+-----------+-----+\n",
            "|  Rose  | Chihuahua |  11 |\n",
            "| Piggy  |   Corgi   |  9  |\n",
            "| River  |   Husky   |  7  |\n",
            "| Archer |  Pitbull  |  8  |\n",
            "+--------+-----------+-----+\n",
            " * sqlite:///basics.db\n",
            "Done.\n",
            "+--------+---------+-----+\n",
            "|  name  |  breed  | age |\n",
            "+--------+---------+-----+\n",
            "| Doggo  |  Husky  |  4  |\n",
            "| Piggy  |  Corgi  |  9  |\n",
            "| Maggie | Terrier |  4  |\n",
            "+--------+---------+-----+\n"
          ]
        }
      ]
    },
    {
      "cell_type": "markdown",
      "source": [
        "#### SQLite DBs using Python\n",
        "\n",
        "---\n",
        "\n"
      ],
      "metadata": {
        "id": "JTTDZvjRlTQo"
      }
    },
    {
      "cell_type": "code",
      "source": [
        "# Accessing DBs \n",
        "\n",
        "import sqlite3\n",
        "\n",
        "print(f'sqlite3 version : {sqlite3.sqlite_version}')\n",
        "\n",
        "conn = sqlite3.connect('my_friends.db')\n",
        "\n",
        "# create cursor object\n",
        "c = conn.cursor()\n",
        "\n",
        "# execte some sql\n",
        "c.execute('CREATE TABLE IF NOT EXISTS friends (first_name TEXT, last_name TEXT, closeness INTEGER);')\n",
        "\n",
        "# commit changes\n",
        "conn.commit()\n",
        "conn.close() # always close the connection at the end\n",
        "\n",
        "%sql sqlite:///my_friends.db\n",
        "%sql SELECT name FROM sqlite_master WHERE type ='table' AND name NOT LIKE 'sqlite_%';\n"
      ],
      "metadata": {
        "colab": {
          "base_uri": "https://localhost:8080/",
          "height": 130
        },
        "id": "cE6FUuaNlxVL",
        "outputId": "0ca4957c-472b-4855-b128-3e7805552d4e"
      },
      "execution_count": 30,
      "outputs": [
        {
          "output_type": "stream",
          "name": "stdout",
          "text": [
            "sqlite3 version : 3.22.0\n",
            "   sqlite:///basics.db\n",
            " * sqlite:///my_friends.db\n",
            "Done.\n"
          ]
        },
        {
          "output_type": "execute_result",
          "data": {
            "text/plain": [
              "[('friends',)]"
            ],
            "text/html": [
              "<table>\n",
              "    <thead>\n",
              "        <tr>\n",
              "            <th>name</th>\n",
              "        </tr>\n",
              "    </thead>\n",
              "    <tbody>\n",
              "        <tr>\n",
              "            <td>friends</td>\n",
              "        </tr>\n",
              "    </tbody>\n",
              "</table>"
            ]
          },
          "metadata": {},
          "execution_count": 30
        }
      ]
    },
    {
      "cell_type": "code",
      "source": [
        "# Inserting into DBs\n",
        "\n",
        "%sql sqlite:///my_friends.db\n",
        "%sql DELETE FROM friends; -- deletes all the data in table\n",
        "\n",
        "import sqlite3\n",
        "\n",
        "conn = sqlite3.connect('my_friends.db')\n",
        "c = conn.cursor()\n",
        "c.execute('CREATE TABLE IF NOT EXISTS friends (first_name TEXT, last_name TEXT, closeness INTEGER);')\n",
        "insert_query = '''INSERT INTO friends \n",
        "                    VALUES (\"Merryweather\",\"Lewis\",7);'''\n",
        "c.execute(insert_query)\n",
        "conn.commit()\n",
        "conn.close() \n",
        "a = %sql SELECT * FROM friends;\n",
        "print(a)\n",
        "\n",
        "print()\n",
        "\n",
        "conn = sqlite3.connect('my_friends.db')\n",
        "c = conn.cursor()\n",
        "c.execute('CREATE TABLE IF NOT EXISTS friends (first_name TEXT, last_name TEXT, closeness INTEGER);')\n",
        "\n",
        "form_first = 'Mary-Todd'\n",
        "query = 'INSERT INTO friends (first_name) VALUES (?);' # no need of f-string anymore\n",
        "c.execute(query,(form_first,)) # the values have to be given inside of a tuple,  else it will iterate over the contents of values\n",
        "\n",
        "conn.commit()\n",
        "conn.close() \n",
        "a = %sql SELECT * FROM friends;\n",
        "print(a)\n",
        "\n",
        "print()\n",
        "\n",
        "conn = sqlite3.connect('my_friends.db')\n",
        "c = conn.cursor()\n",
        "c.execute('CREATE TABLE IF NOT EXISTS friends (first_name TEXT, last_name TEXT, closeness INTEGER);')\n",
        "\n",
        "data = ('Steve','Irwin',9)\n",
        "query = 'INSERT INTO friends VALUES (?,?,?);'\n",
        "c.execute(query,data)\n",
        "\n",
        "conn.commit()\n",
        "conn.close() \n",
        "a = %sql SELECT * FROM friends;\n",
        "print(a)"
      ],
      "metadata": {
        "id": "JXQlQmeosN0j",
        "colab": {
          "base_uri": "https://localhost:8080/"
        },
        "outputId": "610b4ff9-804a-45f2-a7b5-9311c1bea97e"
      },
      "execution_count": 77,
      "outputs": [
        {
          "output_type": "stream",
          "name": "stdout",
          "text": [
            "   sqlite:///basics.db\n",
            " * sqlite:///my_friends.db\n",
            "9 rows affected.\n",
            "   sqlite:///basics.db\n",
            " * sqlite:///my_friends.db\n",
            "Done.\n",
            "+--------------+-----------+-----------+\n",
            "|  first_name  | last_name | closeness |\n",
            "+--------------+-----------+-----------+\n",
            "| Merryweather |   Lewis   |     7     |\n",
            "+--------------+-----------+-----------+\n",
            "\n",
            "   sqlite:///basics.db\n",
            " * sqlite:///my_friends.db\n",
            "Done.\n",
            "+--------------+-----------+-----------+\n",
            "|  first_name  | last_name | closeness |\n",
            "+--------------+-----------+-----------+\n",
            "| Merryweather |   Lewis   |     7     |\n",
            "|  Mary-Todd   |    None   |    None   |\n",
            "+--------------+-----------+-----------+\n",
            "\n",
            "   sqlite:///basics.db\n",
            " * sqlite:///my_friends.db\n",
            "Done.\n",
            "+--------------+-----------+-----------+\n",
            "|  first_name  | last_name | closeness |\n",
            "+--------------+-----------+-----------+\n",
            "| Merryweather |   Lewis   |     7     |\n",
            "|  Mary-Todd   |    None   |    None   |\n",
            "|    Steve     |   Irwin   |     9     |\n",
            "+--------------+-----------+-----------+\n"
          ]
        }
      ]
    },
    {
      "cell_type": "code",
      "source": [
        "# Bulk inserts with Python\n",
        "\n",
        "import sqlite3\n",
        "\n",
        "conn = sqlite3.connect('my_friends.db')\n",
        "c = conn.cursor()\n",
        "\n",
        "people = [\n",
        "    ('Ronald','Amundsen',5),\n",
        "    ('Rosa','Parks',8),\n",
        "    ('Henry','Hudson',7),\n",
        "    ('Neil','Armstrong',7),\n",
        "    ('Daniel','Boone',3)\n",
        "]\n",
        "\n",
        "#for person in people:\n",
        "#  query = 'INSERT INTO friends VALUES (?,?,?);'\n",
        "#  c.execute(query,person)\n",
        "\n",
        "query = 'INSERT INTO friends VALUES (?,?,?);'\n",
        "c.executemany(query,people)\n",
        "\n",
        "conn.commit()\n",
        "conn.close()\n",
        "a = %sql SELECT * FROM friends;\n",
        "print(a)"
      ],
      "metadata": {
        "colab": {
          "base_uri": "https://localhost:8080/"
        },
        "id": "Doux321s66YG",
        "outputId": "6c60b68a-2394-4e15-c104-ca1562b34b39"
      },
      "execution_count": 78,
      "outputs": [
        {
          "output_type": "stream",
          "name": "stdout",
          "text": [
            "   sqlite:///basics.db\n",
            " * sqlite:///my_friends.db\n",
            "Done.\n",
            "+--------------+-----------+-----------+\n",
            "|  first_name  | last_name | closeness |\n",
            "+--------------+-----------+-----------+\n",
            "| Merryweather |   Lewis   |     7     |\n",
            "|  Mary-Todd   |    None   |    None   |\n",
            "|    Steve     |   Irwin   |     9     |\n",
            "|    Ronald    |  Amundsen |     5     |\n",
            "|     Rosa     |   Parks   |     8     |\n",
            "|    Henry     |   Hudson  |     7     |\n",
            "|     Neil     | Armstrong |     7     |\n",
            "|    Daniel    |   Boone   |     3     |\n",
            "+--------------+-----------+-----------+\n"
          ]
        }
      ]
    },
    {
      "cell_type": "code",
      "source": [
        "# Selecting with Python\n",
        "\n",
        "from pprint import pprint\n",
        "import sqlite3\n",
        "\n",
        "conn = sqlite3.connect('my_friends.db')\n",
        "c = conn.cursor()\n",
        "\n",
        "data = ('Robert','Irwin',9)\n",
        "query = 'INSERT INTO friends VALUES (?,?,?);'\n",
        "c.execute(query,data)\n",
        "\n",
        "c.execute('SELECT * FROM friends;')\n",
        "print(c) # returns an iterable cursor object containing all the table data\n",
        "print(type(c))\n",
        "\n",
        "for item in c:\n",
        "  print(item) # iterating through each row of the returned object\n",
        "\n",
        "print()\n",
        "\n",
        "c.execute('SELECT * FROM friends;')\n",
        "pprint(c.fetchall()) # returns the contents of table as a list\n",
        "\n",
        "print()\n",
        "\n",
        "c.execute('SELECT * FROM friends WHERE last_name IS \"Irwin\"')\n",
        "print(c.fetchall()) # fetches all matches in a list of tuples\n",
        "c.execute('SELECT * FROM friends WHERE last_name IS \"Irwin\"')\n",
        "print(c.fetchone()) # fetches the first instance of the match in a tuple\n",
        "\n",
        "print()\n",
        "\n",
        "c.execute('SELECT * FROM friends WHERE closeness > 5 ORDER BY closeness') # sorts in ascending order of values in closeness column\n",
        "pprint(c.fetchall())\n",
        "\n",
        "conn.commit()\n",
        "conn.close()\n",
        "a = %sql SELECT * FROM friends;\n",
        "print(a)\n"
      ],
      "metadata": {
        "colab": {
          "base_uri": "https://localhost:8080/"
        },
        "id": "ubrbIq8SUFXg",
        "outputId": "bcde031c-cddd-411a-c692-750c03ced83b"
      },
      "execution_count": 79,
      "outputs": [
        {
          "output_type": "stream",
          "name": "stdout",
          "text": [
            "<sqlite3.Cursor object at 0x7fd4a162a030>\n",
            "<class 'sqlite3.Cursor'>\n",
            "('Merryweather', 'Lewis', 7)\n",
            "('Mary-Todd', None, None)\n",
            "('Steve', 'Irwin', 9)\n",
            "('Ronald', 'Amundsen', 5)\n",
            "('Rosa', 'Parks', 8)\n",
            "('Henry', 'Hudson', 7)\n",
            "('Neil', 'Armstrong', 7)\n",
            "('Daniel', 'Boone', 3)\n",
            "('Robert', 'Irwin', 9)\n",
            "\n",
            "[('Merryweather', 'Lewis', 7),\n",
            " ('Mary-Todd', None, None),\n",
            " ('Steve', 'Irwin', 9),\n",
            " ('Ronald', 'Amundsen', 5),\n",
            " ('Rosa', 'Parks', 8),\n",
            " ('Henry', 'Hudson', 7),\n",
            " ('Neil', 'Armstrong', 7),\n",
            " ('Daniel', 'Boone', 3),\n",
            " ('Robert', 'Irwin', 9)]\n",
            "\n",
            "[('Steve', 'Irwin', 9), ('Robert', 'Irwin', 9)]\n",
            "('Steve', 'Irwin', 9)\n",
            "\n",
            "[('Merryweather', 'Lewis', 7),\n",
            " ('Henry', 'Hudson', 7),\n",
            " ('Neil', 'Armstrong', 7),\n",
            " ('Rosa', 'Parks', 8),\n",
            " ('Steve', 'Irwin', 9),\n",
            " ('Robert', 'Irwin', 9)]\n",
            "   sqlite:///basics.db\n",
            " * sqlite:///my_friends.db\n",
            "Done.\n",
            "+--------------+-----------+-----------+\n",
            "|  first_name  | last_name | closeness |\n",
            "+--------------+-----------+-----------+\n",
            "| Merryweather |   Lewis   |     7     |\n",
            "|  Mary-Todd   |    None   |    None   |\n",
            "|    Steve     |   Irwin   |     9     |\n",
            "|    Ronald    |  Amundsen |     5     |\n",
            "|     Rosa     |   Parks   |     8     |\n",
            "|    Henry     |   Hudson  |     7     |\n",
            "|     Neil     | Armstrong |     7     |\n",
            "|    Daniel    |   Boone   |     3     |\n",
            "|    Robert    |   Irwin   |     9     |\n",
            "+--------------+-----------+-----------+\n"
          ]
        }
      ]
    },
    {
      "cell_type": "code",
      "source": [
        "# SQL Injection\n",
        "\n",
        "import sqlite3\n",
        "\n",
        "conn = sqlite3.connect('users.db')\n",
        "c = conn.cursor()\n",
        "\n",
        "c.execute('CREATE TABLE IF NOT EXISTS users (username TEXT, password TEXT);')\n",
        "\n",
        "%sql sqlite:///users.db\n",
        "%sql DELETE FROM users;\n",
        "\n",
        "userdata = [\n",
        "    ('someuser_64','QwErTy123'),\n",
        "    ('loadedegg177','5Cr4MbL3D'),\n",
        "    ('Jet','meow')\n",
        "]\n",
        "\n",
        "query = 'INSERT INTO users VALUES (?,?)'\n",
        "c.executemany(query,userdata)\n",
        "\n",
        "conn.commit()\n",
        "conn.close()\n",
        "a = %sql SELECT * FROM users;\n",
        "print(a)\n",
        "\n",
        "print()\n",
        "\n",
        "  # Exploitation with SQL injections (malicious inputs)\n",
        "\n",
        "conn = sqlite3.connect('users.db')\n",
        "c = conn.cursor()\n",
        "\n",
        "for i in range(3):\n",
        "  u = input('Please enter your username : ')\n",
        "  p = input('Please enter your password : ')\n",
        "\n",
        "  query = f\"SELECT * FROM users WHERE username = '{u}' AND password = '{p}'\"\n",
        "  c.execute(query)\n",
        "  result = c.fetchone()\n",
        "\n",
        "  if result:\n",
        "    print('WELCOME BACK')\n",
        "  else:\n",
        "    print(f'LOGIN FAILED!...{2-i} attempts left')\n",
        "\n",
        "conn.commit()\n",
        "conn.close()\n",
        "\n",
        "    # By inserting ' OR 1=1-- on the input, we insert into SQL the logic for bypassing the password check\n",
        "    # ' - single quote refers to the end of password input, in this case password is empty string\n",
        "    # OR 1=1 - statement infers to SQL a conditional with pseudo code - if entered_password OR 1=1 - where 1=1 is TRUE\n",
        "    # -- comments out the trailing quote in the input\n",
        "    # equivalent code - SELECT * FROM users WHERE username = 'Jet' AND password = '' OR 1=1--'\n",
        "                      # SELECT * FROM users WHERE username = 'Jet' AND password = '' OR 1=1-- \n",
        "\n",
        "print()\n",
        "\n",
        "  # Correct method \n",
        "\n",
        "conn = sqlite3.connect('users.db')\n",
        "c = conn.cursor()\n",
        "\n",
        "for i in range(3):\n",
        "  u = input('Please enter your username : ')\n",
        "  p = input('Please enter your password : ')\n",
        "\n",
        "  query = \"SELECT * FROM users WHERE username = ? AND password = ?\"\n",
        "  c.execute(query,(u,p))\n",
        "  result = c.fetchone()\n",
        "\n",
        "  if result:\n",
        "    print('WELCOME BACK')\n",
        "  else:\n",
        "    print(f'LOGIN FAILED!...{2-i} attempts left')\n",
        "\n",
        "conn.commit()\n",
        "conn.close()"
      ],
      "metadata": {
        "colab": {
          "base_uri": "https://localhost:8080/"
        },
        "id": "VIEYdoMMiNb1",
        "outputId": "ed4c7842-4dec-4344-a59b-34b3702e5baa"
      },
      "execution_count": 9,
      "outputs": [
        {
          "output_type": "stream",
          "name": "stdout",
          "text": [
            " * sqlite:///users.db\n",
            "3 rows affected.\n",
            " * sqlite:///users.db\n",
            "Done.\n",
            "+--------------+-----------+\n",
            "|   username   |  password |\n",
            "+--------------+-----------+\n",
            "| someuser_64  | QwErTy123 |\n",
            "| loadedegg177 | 5Cr4MbL3D |\n",
            "|     Jet      |    meow   |\n",
            "+--------------+-----------+\n",
            "\n",
            "Please enter your username : Jet\n",
            "Please enter your password : meow\n",
            "WELCOME BACK\n",
            "Please enter your username : Jet\n",
            "Please enter your password : fafsaasf\n",
            "LOGIN FAILED!...1 attempts left\n",
            "Please enter your username : Jet\n",
            "Please enter your password : ' OR 1=1--\n",
            "WELCOME BACK\n",
            "\n",
            "Please enter your username : Jet\n",
            "Please enter your password : meow\n",
            "WELCOME BACK\n",
            "Please enter your username : Jet\n",
            "Please enter your password : gsdgdsg\n",
            "LOGIN FAILED!...1 attempts left\n",
            "Please enter your username : Jet\n",
            "Please enter your password : ' OR 1=1--\n",
            "LOGIN FAILED!...0 attempts left\n"
          ]
        }
      ]
    },
    {
      "cell_type": "code",
      "source": [
        "# Scraping to a DB\n",
        "\n",
        "import requests\n",
        "import sqlite3\n",
        "from bs4 import BeautifulSoup\n",
        "\n",
        "def scraper(url):\n",
        "  response = requests.get(url)\n",
        "  data = response.text\n",
        "  soup = BeautifulSoup(data,'html.parser')\n",
        "  books = soup.select('.product_pod')\n",
        "  book_data = []\n",
        "  for book in books:\n",
        "    book_data.append((get_title(book),get_rating(book),get_price(book),get_availability(book)))\n",
        "  return save_to_db(book_data)\n",
        "\n",
        "def get_title(book):\n",
        "  return book.find_all('a')[1]['title'] # alternative - book.find('h3').find('a')['title']\n",
        "\n",
        "def get_price(book):\n",
        "  return float(book.find(class_='price_color').get_text().replace('Â£',''))\n",
        "\n",
        "def get_rating(book):\n",
        "  rating_dict = {'One':1,'Two':2,'Three':3,'Four':4,'Five':5}\n",
        "  return rating_dict[book.find_all('p')[0]['class'][1]] # alternative - book.select('.star-rating')[0].get_attribute_list('class')[1]\n",
        "\n",
        "def get_availability(book):\n",
        "  return book.find(class_='instock availability').get_text().strip()\n",
        "\n",
        "def save_to_db(book_data):\n",
        "  conn = sqlite3.connect('books.db')\n",
        "  c = conn.cursor()\n",
        "  c.execute('CREATE TABLE IF NOT EXISTS books (title TEXT, rating INTEGER, price REAL, availability TEXT);')\n",
        "\n",
        "  %load_ext sql\n",
        "  %sql sqlite:///books.db\n",
        "  %sql DELETE FROM books;\n",
        "\n",
        "  query = 'INSERT INTO books VALUES (?,?,?,?);'\n",
        "  c.executemany(query,book_data)\n",
        "  \n",
        "  conn.commit()\n",
        "  conn.close()\n",
        "  a = %sql SELECT * FROM books;\n",
        "  return print(a)\n",
        "\n",
        "\n",
        "scraper('https://books.toscrape.com/')"
      ],
      "metadata": {
        "colab": {
          "base_uri": "https://localhost:8080/"
        },
        "id": "EGZf1ypSkGVl",
        "outputId": "ea3005ce-4338-4987-e5df-5a8c978e76fb"
      },
      "execution_count": 90,
      "outputs": [
        {
          "output_type": "stream",
          "name": "stdout",
          "text": [
            "The sql extension is already loaded. To reload it, use:\n",
            "  %reload_ext sql\n",
            " * sqlite:///books.db\n",
            "20 rows affected.\n",
            " * sqlite:///books.db\n",
            "Done.\n",
            "+------------------------------------------------------------------------------------------------+--------+-------+--------------+\n",
            "|                                             title                                              | rating | price | availability |\n",
            "+------------------------------------------------------------------------------------------------+--------+-------+--------------+\n",
            "|                                      A Light in the Attic                                      |   3    | 51.77 |   In stock   |\n",
            "|                                       Tipping the Velvet                                       |   1    | 53.74 |   In stock   |\n",
            "|                                           Soumission                                           |   1    |  50.1 |   In stock   |\n",
            "|                                         Sharp Objects                                          |   4    | 47.82 |   In stock   |\n",
            "|                             Sapiens: A Brief History of Humankind                              |   5    | 54.23 |   In stock   |\n",
            "|                                        The Requiem Red                                         |   1    | 22.65 |   In stock   |\n",
            "|                       The Dirty Little Secrets of Getting Your Dream Job                       |   4    | 33.34 |   In stock   |\n",
            "|    The Coming Woman: A Novel Based on the Life of the Infamous Feminist, Victoria Woodhull     |   3    | 17.93 |   In stock   |\n",
            "| The Boys in the Boat: Nine Americans and Their Epic Quest for Gold at the 1936 Berlin Olympics |   4    |  22.6 |   In stock   |\n",
            "|                                        The Black Maria                                         |   1    | 52.15 |   In stock   |\n",
            "|                         Starving Hearts (Triangular Trade Trilogy, #1)                         |   2    | 13.99 |   In stock   |\n",
            "|                                     Shakespeare's Sonnets                                      |   4    | 20.66 |   In stock   |\n",
            "|                                          Set Me Free                                           |   5    | 17.46 |   In stock   |\n",
            "|                    Scott Pilgrim's Precious Little Life (Scott Pilgrim #1)                     |   5    | 52.29 |   In stock   |\n",
            "|                                   Rip it Up and Start Again                                    |   5    | 35.02 |   In stock   |\n",
            "|       Our Band Could Be Your Life: Scenes from the American Indie Underground, 1981-1991       |   3    | 57.25 |   In stock   |\n",
            "|                                              Olio                                              |   1    | 23.88 |   In stock   |\n",
            "|                     Mesaerion: The Best Science Fiction Stories 1800-1849                      |   1    | 37.59 |   In stock   |\n",
            "|                                  Libertarianism for Beginners                                  |   2    | 51.33 |   In stock   |\n",
            "|                                    It's Only the Himalayas                                     |   2    | 45.17 |   In stock   |\n",
            "+------------------------------------------------------------------------------------------------+--------+-------+--------------+\n"
          ]
        }
      ]
    }
  ]
}