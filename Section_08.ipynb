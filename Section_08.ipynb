{
  "nbformat": 4,
  "nbformat_minor": 0,
  "metadata": {
    "colab": {
      "name": "Section_8.ipynb",
      "provenance": [],
      "authorship_tag": "ABX9TyN92HQZWFTVhc6ecLXhrah9",
      "include_colab_link": true
    },
    "kernelspec": {
      "name": "python3",
      "display_name": "Python 3"
    },
    "language_info": {
      "name": "python"
    }
  },
  "cells": [
    {
      "cell_type": "markdown",
      "metadata": {
        "id": "view-in-github",
        "colab_type": "text"
      },
      "source": [
        "<a href=\"https://colab.research.google.com/github/kaushanr/python3_docs/blob/main/Section_8.ipynb\" target=\"_parent\"><img src=\"https://colab.research.google.com/assets/colab-badge.svg\" alt=\"Open In Colab\"/></a>"
      ]
    },
    {
      "cell_type": "markdown",
      "source": [
        "# Boolean and Conditional Logic"
      ],
      "metadata": {
        "id": "G7gQRaZNh_2k"
      }
    },
    {
      "cell_type": "code",
      "execution_count": 15,
      "metadata": {
        "id": "NIjwUAauh6g7",
        "colab": {
          "base_uri": "https://localhost:8080/"
        },
        "outputId": "efe4b6ad-3c9d-4a88-ae03-88e3e0729bc9"
      },
      "outputs": [
        {
          "output_type": "stream",
          "name": "stdout",
          "text": [
            "Enter your name here : Tom Hardy\n",
            "Your name is Tom Hardy\n"
          ]
        }
      ],
      "source": [
        "# User input\n",
        "\n",
        "name = input('Enter your name here : ') # String input description\n",
        "print('Your name is ' + name) # input result is always a string!"
      ]
    },
    {
      "cell_type": "code",
      "source": [
        "# Conditional Statements\n",
        "\n",
        "name = input('Enter your name here : ')\n",
        "\n",
        "if name == 'Arya Stark': # Statement executed if condition True\n",
        "  print('Valar Moghulis') # nested statement is indent sensitive\n",
        "elif name == 'Jon Snow':\n",
        "  print('You know nothing')\n",
        "else:\n",
        "  print('Carry on ' + name)"
      ],
      "metadata": {
        "colab": {
          "base_uri": "https://localhost:8080/"
        },
        "id": "WfRAeCiktlx-",
        "outputId": "a4ffb97f-7914-4996-9bdf-fd8eae60fbd4"
      },
      "execution_count": 16,
      "outputs": [
        {
          "output_type": "stream",
          "name": "stdout",
          "text": [
            "Enter your name here : Jon Snow\n",
            "You know nothing\n"
          ]
        }
      ]
    },
    {
      "cell_type": "code",
      "source": [
        "# Truthiness\n",
        "\n",
        "x = 1\n",
        "\n",
        "print(x is 1) # 'is' function equivalent in some way to '==' comparator\n",
        "print(x is 0)\n",
        "\n",
        "animal = input('Enter your favourite animal : ')\n",
        "\n",
        "if animal: # Checks whether typed string exists in variable. If null string, does not execute further\n",
        "  print(animal + ' is my favourite too!')\n",
        "else:\n",
        "  print('You didn\\'t type anything!')\n"
      ],
      "metadata": {
        "colab": {
          "base_uri": "https://localhost:8080/"
        },
        "id": "yl7-6S_zzO1m",
        "outputId": "1157a3e2-e8cf-4afa-90f5-bcd22c1ab285"
      },
      "execution_count": 14,
      "outputs": [
        {
          "output_type": "stream",
          "name": "stdout",
          "text": [
            "True\n",
            "False\n",
            "Enter your favourite animal : zebra\n",
            "zebra is my favourite too!\n"
          ]
        }
      ]
    },
    {
      "cell_type": "code",
      "source": [
        "# Logical Operators\n",
        "\n",
        "# AND\n",
        "\n",
        "age = input('What is your age : ')\n",
        "\n",
        "if age: # Checks whether text field is empty\n",
        "  age = int(age)\n",
        "  if age >= 6 and age < 10:\n",
        "    print('You need to pay the \\'child price\\'')\n",
        "  elif age >= 10 and age < 60:\n",
        "    print('You need to pay the \\'normal price\\'')\n",
        "  elif age >= 60:\n",
        "    print('You get a senior discount')\n",
        "  else:\n",
        "    print('You cannot watch the movie, come back when you\\'re older')\n",
        "else:\n",
        "  print('You did not enter your age!')"
      ],
      "metadata": {
        "colab": {
          "base_uri": "https://localhost:8080/"
        },
        "id": "La5rt_1G4K9i",
        "outputId": "788c387e-9c2b-4473-b8ed-22e6ec35a794"
      },
      "execution_count": 31,
      "outputs": [
        {
          "output_type": "stream",
          "name": "stdout",
          "text": [
            "What is your age : 4\n",
            "You cannot watch the movie, come back when you're older\n"
          ]
        }
      ]
    },
    {
      "cell_type": "code",
      "source": [
        "# OR\n",
        "\n",
        "city = input('Enter your city : ')\n",
        "\n",
        "if city:\n",
        "  if city == 'Los Angeles' or city == 'San Francisco':\n",
        "    print('Hey, you live in California!')\n",
        "  else:\n",
        "    print('Okay, whatever...') # salty coding here :D\n",
        "else:\n",
        "  print('You didn\\'t enter your city')"
      ],
      "metadata": {
        "colab": {
          "base_uri": "https://localhost:8080/"
        },
        "id": "HamDGD_L7qwv",
        "outputId": "5f0a104a-cb76-4f8b-88cf-2154190055e3"
      },
      "execution_count": 34,
      "outputs": [
        {
          "output_type": "stream",
          "name": "stdout",
          "text": [
            "Enter your city : San Francisco\n",
            "Hey, you live in California!\n"
          ]
        }
      ]
    },
    {
      "cell_type": "code",
      "source": [
        "# NOT\n",
        "\n",
        "age = input('What is your age : ')\n",
        "\n",
        "if age: # Checks whether text field is empty\n",
        "  age = int(age)\n",
        "  if age >= 2 and age <= 8:\n",
        "    print('You need to pay $2')\n",
        "  elif not((age >= 2 and age <= 8) or age >= 65): # conditional NOT\n",
        "    print('You need to pay $10')\n",
        "  elif age >= 65:\n",
        "    print('You need to pay $5')\n",
        "  else:\n",
        "    print('You cannot watch the movie, come back when you\\'re older')\n",
        "else:\n",
        "  print('You did not enter your age!')"
      ],
      "metadata": {
        "colab": {
          "base_uri": "https://localhost:8080/"
        },
        "id": "WSd5v1oM9yJU",
        "outputId": "99423465-392c-4386-9fda-6b8a9db073d9"
      },
      "execution_count": 43,
      "outputs": [
        {
          "output_type": "stream",
          "name": "stdout",
          "text": [
            "What is your age : 25\n",
            "You need to pay $10\n"
          ]
        }
      ]
    },
    {
      "cell_type": "code",
      "source": [
        "# Question\n",
        "\n",
        "x = 0\n",
        "y = -1\n",
        "print(bool(x or y and x - 1 == y and y + 1 == x)) # Truthy statement"
      ],
      "metadata": {
        "colab": {
          "base_uri": "https://localhost:8080/"
        },
        "id": "or2XSwptBr4f",
        "outputId": "95f49425-4940-482a-f8f5-f7bab5f5cff7"
      },
      "execution_count": 45,
      "outputs": [
        {
          "output_type": "stream",
          "name": "stdout",
          "text": [
            "True\n"
          ]
        }
      ]
    },
    {
      "cell_type": "code",
      "source": [
        "# is vs ==\n",
        "\n",
        "a = 1 \n",
        "print(a == 1)\n",
        "print(a is 1)\n",
        "\n",
        "a = [1,2,3]\n",
        "b = [1,2,3]\n",
        "print(a == b) # because the value of the list is the same\n",
        "print(a is b) # checking to see if the two variables are stored in the same place in memory\n",
        "\n",
        "# with some objects like lists, everytime a new list is declared, it is stored in a different place in memory\n",
        "\n",
        "c = b\n",
        "print(c is b) # pointing to the same location in memory"
      ],
      "metadata": {
        "colab": {
          "base_uri": "https://localhost:8080/"
        },
        "id": "NvsHIwviCYBe",
        "outputId": "2717bd21-048e-4006-94bb-04f80bb3ed8f"
      },
      "execution_count": 48,
      "outputs": [
        {
          "output_type": "stream",
          "name": "stdout",
          "text": [
            "True\n",
            "True\n",
            "True\n",
            "False\n",
            "True\n"
          ]
        }
      ]
    },
    {
      "cell_type": "code",
      "source": [
        "# Bouncer\n",
        "\n",
        "age = input('How old are you? ')\n",
        "\n",
        "if age:\n",
        "  age = int(age)\n",
        "  if age >= 18 and age < 21:\n",
        "    print('You can enter, but put on this wristband')\n",
        "  elif age < 18:\n",
        "    print('Sorry, you cannot enter. Come back when you\\'re older')\n",
        "  else:\n",
        "    print('You can enter. Normal entry')\n",
        "else:\n",
        "  print('You did not enter your age! Please retry')"
      ],
      "metadata": {
        "colab": {
          "base_uri": "https://localhost:8080/"
        },
        "id": "qOA1IS4KIl42",
        "outputId": "6a7fdcbd-7ce1-4c0a-df70-88972cd9e52c"
      },
      "execution_count": 54,
      "outputs": [
        {
          "output_type": "stream",
          "name": "stdout",
          "text": [
            "How old are you? 25\n",
            "You can enter. Normal entry\n"
          ]
        }
      ]
    },
    {
      "cell_type": "code",
      "source": [
        "# Branching note\n",
        "\n",
        "x = True\n",
        " \n",
        "if x:\n",
        "    x = False\n",
        " \n",
        "elif not x:\n",
        "    x = True\n",
        "\n",
        "# in branching instructions, if one path is taken initially, then the other path deactivates, \n",
        "# unless the statement is nested in a loop that loops through the branch again."
      ],
      "metadata": {
        "id": "DIQIUxKPSnYd"
      },
      "execution_count": 55,
      "outputs": []
    },
    {
      "cell_type": "code",
      "source": [
        "# Coding excercise\n",
        "\n",
        "# NO TOUCHING ======================================\n",
        "\n",
        "from random import choice, randint\n",
        "\n",
        "# randomly assigns values to these four variables\n",
        "actually_sick = choice([True, False])\n",
        "kinda_sick = choice([True, False])\n",
        "hate_your_job = choice([True, False])\n",
        "sick_days = randint(0, 10)\n",
        "\n",
        "# NO TOUCHING ======================================\n",
        "\n",
        "print(actually_sick)\n",
        "print(kinda_sick)\n",
        "print(hate_your_job)\n",
        "\n",
        "calling_in_sick = None  # set this to True or False with Boolean Logic and Conditionals!\n",
        "\n",
        "# YOUR CODE GOES HERE vvvvvvvvvvvvvvvvvvvvvvvvvvvvvvv\n",
        "if sick_days:\n",
        "    if actually_sick:\n",
        "        calling_in_sick = True\n",
        "        print(calling_in_sick)\n",
        "    elif kinda_sick and hate_your_job:\n",
        "        calling_in_sick = True\n",
        "        print(calling_in_sick)\n",
        "else:\n",
        "    calling_in_sick = False\n",
        "    print(calling_in_sick)\n",
        "\n",
        "# YOUR CODE GOES HERE ^^^^^^^^^^^^^^^^^^^^^^^^^^^^^^^"
      ],
      "metadata": {
        "colab": {
          "base_uri": "https://localhost:8080/"
        },
        "id": "jem53atMYjOy",
        "outputId": "5099f681-55f8-4b9b-fb24-3303c95b1e2a"
      },
      "execution_count": 65,
      "outputs": [
        {
          "output_type": "stream",
          "name": "stdout",
          "text": [
            "True\n",
            "True\n",
            "False\n",
            "True\n"
          ]
        }
      ]
    }
  ]
}
