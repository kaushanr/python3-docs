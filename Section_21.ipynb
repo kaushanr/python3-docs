{
  "nbformat": 4,
  "nbformat_minor": 0,
  "metadata": {
    "colab": {
      "name": "Section_21.ipynb",
      "provenance": [],
      "authorship_tag": "ABX9TyMfEJNJMC+llRF6GVojLTN1",
      "include_colab_link": true
    },
    "kernelspec": {
      "name": "python3",
      "display_name": "Python 3"
    },
    "language_info": {
      "name": "python"
    }
  },
  "cells": [
    {
      "cell_type": "markdown",
      "metadata": {
        "id": "view-in-github",
        "colab_type": "text"
      },
      "source": [
        "<a href=\"https://colab.research.google.com/github/kaushanr/python3-docs/blob/main/Section_21.ipynb\" target=\"_parent\"><img src=\"https://colab.research.google.com/assets/colab-badge.svg\" alt=\"Open In Colab\"/></a>"
      ]
    },
    {
      "cell_type": "markdown",
      "source": [
        "# Debugging and Error Handling"
      ],
      "metadata": {
        "id": "DsSQJc_up1Uv"
      }
    },
    {
      "cell_type": "code",
      "execution_count": null,
      "metadata": {
        "id": "b4E8OLWVpvhm",
        "colab": {
          "base_uri": "https://localhost:8080/"
        },
        "outputId": "c1e47dfb-7c11-49c4-c790-c8d90cd185c8"
      },
      "outputs": [
        {
          "output_type": "stream",
          "name": "stdout",
          "text": [
            "S\n",
            "44\n",
            "{}\n",
            "abc\n",
            "hello\n"
          ]
        }
      ],
      "source": [
        "# SyntaxError - occurs when incorrect syntax is used - something Python doesn't parse\n",
        "\n",
        "  # None = 1 # incorrect assignment, None cannot be assigned any value\n",
        "  # def function: # no parantheses before colon\n",
        "\n",
        "# NameError - occurs when a varable is not defined\n",
        "\n",
        "  # some_var # some_var not declared or asigned any value of object property\n",
        "\n",
        "# TypeError - occurs when an operation or function is applied to the wrong type\n",
        "\n",
        "  # len(5) # int object not iterable, hence no length\n",
        "  # 'awesome' + [] # cannot concatenate string and list object\n",
        "\n",
        "# IndexError - occurs when you try to access an element in a iterable using an invalid index\n",
        "\n",
        "name = 'Samuel'\n",
        "print(name[0]) # S\n",
        "  # print(name[7]) # causes error as index out of range of string object\n",
        "\n",
        "# ValueError - occurs when a built-in function or operation receives an argument that has the right type but an inappropriate value \n",
        "\n",
        "print(int('44')) # 44 # int operation can accept string objects and convert to ints as long as they are numbers\n",
        "  # print(int('five')) # throws error since value inside string is inappropriate\n",
        "  # dfferent from a TypeError which would only accept a certain data type\n",
        "\n",
        "# KeyError - occurs when a dictionary does not have a specific key\n",
        "\n",
        "emp_dict = {}\n",
        "print(emp_dict) # empty dictionary\n",
        "  # print(emp_dict['first']) # accessing a key called 'first' in empty dictionary, throws an error as no such key exists\n",
        "\n",
        "# AttributeError - occurs when a variable does not have an attribute\n",
        "\n",
        "  # [1,2,3].hello() # gives error, as string object has no attribute called '.hello()'\n",
        "print(''.join(['a','b','c'])) # joining elements in a list to string\n",
        "  # print(''.joint(['a','b','c'])) # error as list object has no attribute called '.joint()'\n",
        "\n",
        "# IndentationError - givens error when indentation is used incorrectly, Python is very sensitive to identation\n",
        "\n",
        "print('hello') # no errors\n",
        "  # print('hello') # gives error as it is unexpectedly indented\n",
        "\n",
        "# for more errors refer to the Built-in Exceptions section in the Python documentation..."
      ]
    },
    {
      "cell_type": "code",
      "source": [
        "# Raising our own errors!\n",
        "\n",
        "  # Syntax - raise ValueError('invalid value!') # this statement executes a value error and returns a custom message\n",
        "\n",
        "def colorize(text,color):\n",
        "  if type(text) != str or type(color) != str: # executes if the statement is True\n",
        "    raise TypeError('Arguments must be of \\'str\\' type') \n",
        "  elif color not in ('red','orange','yellow','green','blue','indigo','violet'):\n",
        "    raise ValueError('Argument \\'color\\' not in range')\n",
        "  return f'Printed {text} in {color}.'\n",
        "\n",
        "print(colorize('Hello','red'))\n",
        "#print(colorize('Hello','teal'))\n",
        "#print(colorize(45,'red'))\n",
        "\n",
        "# coding etiquette - provide conditional branching errors for each argument on \n",
        "                     # individual branches with individual error messages \n",
        "                     # referencing that argument without combining argument errors \n",
        "                     # to a single branch "
      ],
      "metadata": {
        "colab": {
          "base_uri": "https://localhost:8080/"
        },
        "id": "SBXopHQDdWbp",
        "outputId": "4ac22a2c-b27d-4ac2-e9b5-ca9547bd5187"
      },
      "execution_count": null,
      "outputs": [
        {
          "output_type": "stream",
          "name": "stdout",
          "text": [
            "Printed Hello in red.\n"
          ]
        }
      ]
    },
    {
      "cell_type": "code",
      "source": [
        "# Error Handling\n",
        "\n",
        "# try: and except: blocks for continuing through errors without causing termminations\n",
        "\n",
        "try:\n",
        "  not_declared # should usually terminate with a NameError since variable not declared before\n",
        "except:\n",
        "  print('Problem!')\n",
        "print('after the problem exit')\n",
        "\n",
        "  # the above try and except blocks catch all errors and generalize them with \n",
        "  # a single error statement that is not specific - this is highly discouraged \n",
        "print()\n",
        "\n",
        "def get(dictionary,key): # mimics the .get() dict method\n",
        "  try:\n",
        "    return dictionary[key]\n",
        "  except KeyError:\n",
        "    return None\n",
        "\n",
        "person = {'name':'Ricky','age':34}\n",
        "print(person)\n",
        "\n",
        "print(get(person,'name')) # Ricky\n",
        "print(get(person,'address'),'\\n') # None - the KeyError is caught\n",
        "\n",
        "def numbers():\n",
        "  try:\n",
        "    num = int(input('Enter your number : '))\n",
        "  except ValueError:\n",
        "    return 'That\\'s not a number'\n",
        "  else: # else will run if except does not!\n",
        "    return f'You chose {num}'\n",
        "\n",
        "print(numbers())\n",
        "print(numbers())"
      ],
      "metadata": {
        "colab": {
          "base_uri": "https://localhost:8080/"
        },
        "id": "0hVxzPtqj801",
        "outputId": "e8f0373e-9da1-4f10-c159-a77d3140263b"
      },
      "execution_count": null,
      "outputs": [
        {
          "output_type": "stream",
          "name": "stdout",
          "text": [
            "Problem!\n",
            "after the problem exit\n",
            "\n",
            "{'name': 'Ricky', 'age': 34}\n",
            "Ricky\n",
            "None \n",
            "\n",
            "Enter your number : 12\n",
            "You chose 12\n",
            "Enter your number : abc\n",
            "That's not a number\n"
          ]
        }
      ]
    },
    {
      "cell_type": "code",
      "source": [
        "# Number Game with error handling\n",
        "\n",
        "while True:\n",
        "  try:\n",
        "    num = int(input('Enter your number : '))\n",
        "  except:\n",
        "    print('That\\'s not a number!')\n",
        "  else:\n",
        "    print(f'Good job!, you entered {num}')\n",
        "    break\n",
        "  finally:\n",
        "    print('Runs no matter what...')"
      ],
      "metadata": {
        "colab": {
          "base_uri": "https://localhost:8080/"
        },
        "id": "IhLew0QF3hny",
        "outputId": "ac33c7ff-4990-4181-f3dd-22cecb5bc2b5"
      },
      "execution_count": null,
      "outputs": [
        {
          "output_type": "stream",
          "name": "stdout",
          "text": [
            "Enter your number : \n",
            "That's not a number!\n",
            "Runs no matter what...\n",
            "Enter your number : abc\n",
            "That's not a number!\n",
            "Runs no matter what...\n",
            "Enter your number : 34\n",
            "Good job!, you entered 34\n",
            "Runs no matter what...\n"
          ]
        }
      ]
    },
    {
      "cell_type": "code",
      "source": [
        "def divide(a,b):\n",
        "  try:\n",
        "    result = round(a/b,3)\n",
        "  except ZeroDivisionError:\n",
        "    return 'Don\\'t divide by zero please!'\n",
        "  except TypeError as err: # saves the error to a variable that can be printed out\n",
        "    print(err) \n",
        "    return 'Arguments must be \\'ints\\' or \\'floats\\'.'\n",
        "  else:\n",
        "    return f'{a} divided by {b} is {result}'\n",
        "\n",
        "print(divide(22,7))\n",
        "print(divide(22,0))\n",
        "print(divide(22,'a'))\n",
        "print(divide('b',7),'\\n')\n",
        "\n",
        "# another concatenated solution -\n",
        "\n",
        "def divide(a,b):\n",
        "  try:\n",
        "    result = round(a/b,3)\n",
        "  except (ZeroDivisionError,TypeError) as err: # inserting errors in a tuple, so that if either occurs the except is triggered\n",
        "    print(err)\n",
        "    return 'Something went wrong!' # more generalized error statement for both error types\n",
        "  else:\n",
        "    return f'{a} divided by {b} is {result}'\n",
        "\n",
        "print(divide(22,7))\n",
        "print(divide(22,0))\n",
        "print(divide(22,'a'))\n",
        "print(divide('b',7))"
      ],
      "metadata": {
        "id": "BLuLKRyN5FCE",
        "colab": {
          "base_uri": "https://localhost:8080/"
        },
        "outputId": "abe21a63-bdcc-4bd2-9bde-ee5cb3afac53"
      },
      "execution_count": 14,
      "outputs": [
        {
          "output_type": "stream",
          "name": "stdout",
          "text": [
            "22 divided by 7 is 3.143\n",
            "Don't divide by zero please!\n",
            "unsupported operand type(s) for /: 'int' and 'str'\n",
            "Arguments must be 'ints' or 'floats'.\n",
            "unsupported operand type(s) for /: 'str' and 'int'\n",
            "Arguments must be 'ints' or 'floats'. \n",
            "\n",
            "22 divided by 7 is 3.143\n",
            "division by zero\n",
            "Something went wrong!\n",
            "unsupported operand type(s) for /: 'int' and 'str'\n",
            "Something went wrong!\n",
            "unsupported operand type(s) for /: 'str' and 'int'\n",
            "Something went wrong!\n"
          ]
        }
      ]
    },
    {
      "cell_type": "code",
      "source": [
        "# Debugging with PDB (Python Debugger) - sets breakpoints in code\n",
        "  \n",
        "  # Syntax - import pdb; pdb.set_trace() - pauses when it encounters this line\n",
        "\n",
        "# Common PDB commands\n",
        "\n",
        "# l (list) - shows pointer loaction of next command in line for execution\n",
        "# n (next line) - executes the next line and moves pointer forward\n",
        "# p (print)\n",
        "# c (continue - finishes debugging)\n",
        "\n",
        "import pdb\n",
        "\n",
        "def pdb_test():\n",
        "  first = 'First'\n",
        "  second = 'Second'\n",
        "  pdb.set_trace() # trace pause point inserted\n",
        "  result = first + second\n",
        "  third = 'Third'\n",
        "  result += third\n",
        "  print(result)\n",
        "\n",
        "pdb_test()\n",
        "\n",
        "# some pdb functions do not work smoothly in IPython\n",
        "# use ipdb IPython enhanced debugger - Jupyter Notebooks\n",
        "# https://colab.research.google.com/github/jakevdp/PythonDataScienceHandbook/blob/master/notebooks/01.06-Errors-and-Debugging.ipynb"
      ],
      "metadata": {
        "colab": {
          "base_uri": "https://localhost:8080/"
        },
        "id": "Uxp5LU5sZKDi",
        "outputId": "1db3f2d4-846e-4cdd-930a-e4d011ef6389"
      },
      "execution_count": 5,
      "outputs": [
        {
          "output_type": "stream",
          "name": "stdout",
          "text": [
            "> <ipython-input-5-ea57dec14d07>(18)pdb_test()\n",
            "-> result = first + second\n",
            "(Pdb) l\n",
            " 13  \t\n",
            " 14  \tdef pdb_test():\n",
            " 15  \t  first = 'First'\n",
            " 16  \t  second = 'Second'\n",
            " 17  \t  pdb.set_trace() # trace pause point inserted\n",
            " 18  ->\t  result = first + second\n",
            " 19  \t  third = 'Third'\n",
            " 20  \t  result += third\n",
            " 21  \t  print(result)\n",
            " 22  \t\n",
            " 23  \tpdb_test()\n",
            "(Pdb) first\n",
            "'First'\n",
            "(Pdb) second\n",
            "'Second'\n",
            "(Pdb) result\n",
            "'FirstSecondThird'\n",
            "(Pdb) third\n",
            "'Third'\n",
            "(Pdb) n\n",
            "> <ipython-input-5-ea57dec14d07>(19)pdb_test()\n",
            "-> third = 'Third'\n",
            "(Pdb) l\n",
            " 14  \tdef pdb_test():\n",
            " 15  \t  first = 'First'\n",
            " 16  \t  second = 'Second'\n",
            " 17  \t  pdb.set_trace() # trace pause point inserted\n",
            " 18  \t  result = first + second\n",
            " 19  ->\t  third = 'Third'\n",
            " 20  \t  result += third\n",
            " 21  \t  print(result)\n",
            " 22  \t\n",
            " 23  \tpdb_test()\n",
            "[EOF]\n",
            "(Pdb) c\n",
            "FirstSecondThird\n"
          ]
        }
      ]
    },
    {
      "cell_type": "code",
      "source": [
        "# ipdb - IPython Debugger\n",
        "\n",
        "# !pip install -Uqq ipdb\n",
        "\n",
        "import ipdb\n",
        "\n",
        "one = 'First'\n",
        "two = 'Second'\n",
        "ipdb.set_trace() # trace pause point inserted\n",
        "result = one + two\n",
        "three = 'Third'\n",
        "result += three\n",
        "print(result)\n",
        "\n",
        "# %pdb on # will automatically turn on the debugger if an exception is hit"
      ],
      "metadata": {
        "colab": {
          "base_uri": "https://localhost:8080/"
        },
        "id": "m87X-G6b6AJf",
        "outputId": "e0e0fe03-a65e-43af-8fa8-7d6f93780e82"
      },
      "execution_count": 17,
      "outputs": [
        {
          "output_type": "stream",
          "name": "stdout",
          "text": [
            "--Return--\n",
            "None\n",
            "> \u001b[0;32m<ipython-input-17-affeb9403f88>\u001b[0m(9)\u001b[0;36m<module>\u001b[0;34m()\u001b[0m\n",
            "\u001b[0;32m      8 \u001b[0;31m\u001b[0mtwo\u001b[0m \u001b[0;34m=\u001b[0m \u001b[0;34m'Second'\u001b[0m\u001b[0;34m\u001b[0m\u001b[0;34m\u001b[0m\u001b[0m\n",
            "\u001b[0m\u001b[0;32m----> 9 \u001b[0;31m\u001b[0mipdb\u001b[0m\u001b[0;34m.\u001b[0m\u001b[0mset_trace\u001b[0m\u001b[0;34m(\u001b[0m\u001b[0;34m)\u001b[0m \u001b[0;31m# trace pause point inserted\u001b[0m\u001b[0;34m\u001b[0m\u001b[0;34m\u001b[0m\u001b[0m\n",
            "\u001b[0m\u001b[0;32m     10 \u001b[0;31m\u001b[0mresult\u001b[0m \u001b[0;34m=\u001b[0m \u001b[0mone\u001b[0m \u001b[0;34m+\u001b[0m \u001b[0mtwo\u001b[0m\u001b[0;34m\u001b[0m\u001b[0;34m\u001b[0m\u001b[0m\n",
            "\u001b[0m\n",
            "ipdb> l\n",
            "\u001b[1;32m      4 \u001b[0m\u001b[0;34m\u001b[0m\u001b[0m\n",
            "\u001b[1;32m      5 \u001b[0m\u001b[0;32mimport\u001b[0m \u001b[0mipdb\u001b[0m\u001b[0;34m\u001b[0m\u001b[0;34m\u001b[0m\u001b[0m\n",
            "\u001b[1;32m      6 \u001b[0m\u001b[0;34m\u001b[0m\u001b[0m\n",
            "\u001b[1;32m      7 \u001b[0m\u001b[0mone\u001b[0m \u001b[0;34m=\u001b[0m \u001b[0;34m'First'\u001b[0m\u001b[0;34m\u001b[0m\u001b[0;34m\u001b[0m\u001b[0m\n",
            "\u001b[1;32m      8 \u001b[0m\u001b[0mtwo\u001b[0m \u001b[0;34m=\u001b[0m \u001b[0;34m'Second'\u001b[0m\u001b[0;34m\u001b[0m\u001b[0;34m\u001b[0m\u001b[0m\n",
            "\u001b[0;32m----> 9 \u001b[0;31m\u001b[0mipdb\u001b[0m\u001b[0;34m.\u001b[0m\u001b[0mset_trace\u001b[0m\u001b[0;34m(\u001b[0m\u001b[0;34m)\u001b[0m \u001b[0;31m# trace pause point inserted\u001b[0m\u001b[0;34m\u001b[0m\u001b[0;34m\u001b[0m\u001b[0m\n",
            "\u001b[0m\u001b[1;32m     10 \u001b[0m\u001b[0mresult\u001b[0m \u001b[0;34m=\u001b[0m \u001b[0mone\u001b[0m \u001b[0;34m+\u001b[0m \u001b[0mtwo\u001b[0m\u001b[0;34m\u001b[0m\u001b[0;34m\u001b[0m\u001b[0m\n",
            "\u001b[1;32m     11 \u001b[0m\u001b[0mthree\u001b[0m \u001b[0;34m=\u001b[0m \u001b[0;34m'Third'\u001b[0m\u001b[0;34m\u001b[0m\u001b[0;34m\u001b[0m\u001b[0m\n",
            "\u001b[1;32m     12 \u001b[0m\u001b[0mresult\u001b[0m \u001b[0;34m+=\u001b[0m \u001b[0mthree\u001b[0m\u001b[0;34m\u001b[0m\u001b[0;34m\u001b[0m\u001b[0m\n",
            "\u001b[1;32m     13 \u001b[0m\u001b[0mprint\u001b[0m\u001b[0;34m(\u001b[0m\u001b[0mresult\u001b[0m\u001b[0;34m)\u001b[0m\u001b[0;34m\u001b[0m\u001b[0;34m\u001b[0m\u001b[0m\n",
            "\u001b[1;32m     14 \u001b[0m\u001b[0;34m\u001b[0m\u001b[0m\n",
            "\n",
            "ipdb> one\n",
            "'First'\n",
            "ipdb> two\n",
            "'Second'\n",
            "ipdb> result\n",
            "'FirstSecondThird'\n",
            "ipdb> c\n",
            "FirstSecondThird\n"
          ]
        }
      ]
    },
    {
      "cell_type": "code",
      "source": [
        "def add_numbers(*args):\n",
        "  import pdb; pdb.set_trace() # semicolon needed to seperate import module\n",
        "  return sum(args,0)\n",
        "\n",
        "nums = tuple(range(10))\n",
        "print(add_numbers(*nums)) # unpacks tuple and feeds into *args"
      ],
      "metadata": {
        "colab": {
          "base_uri": "https://localhost:8080/"
        },
        "id": "gUGmJObZ9e7L",
        "outputId": "cfa7d38d-4126-4785-d533-c1ae2a7d7131"
      },
      "execution_count": 19,
      "outputs": [
        {
          "output_type": "stream",
          "name": "stdout",
          "text": [
            "> <ipython-input-19-fc915816bd16>(3)add_numbers()\n",
            "-> return sum(args,0)\n",
            "(Pdb) nums\n",
            "(0, 1, 2, 3, 4, 5, 6, 7, 8, 9)\n",
            "(Pdb) return\n",
            "--Return--\n",
            "> <ipython-input-19-fc915816bd16>(3)add_numbers()->45\n",
            "-> return sum(args,0)\n",
            "(Pdb) l\n",
            "  1  \tdef add_numbers(*args):\n",
            "  2  \t  import pdb; pdb.set_trace() # semicolon needed to seperate import module\n",
            "  3  ->\t  return sum(args,0)\n",
            "  4  \t\n",
            "  5  \tnums = tuple(range(10))\n",
            "  6  \tprint(add_numbers(*nums))\n",
            "[EOF]\n",
            "(Pdb) c\n",
            "45\n"
          ]
        }
      ]
    },
    {
      "cell_type": "code",
      "source": [
        "def add_numbers(a,b,c,d):\n",
        "  import pdb; pdb.set_trace() # semicolon needed to seperate import module\n",
        "  return a + b + c + d\n",
        "\n",
        "nums = (1,2,3,4)\n",
        "print(add_numbers(*nums)) # unpacks tuple and feeds into *args\n",
        "\n",
        "# using print - p followed by variable name - a,b,c,d for accessing variables having similiar names to the PDB commands"
      ],
      "metadata": {
        "colab": {
          "base_uri": "https://localhost:8080/"
        },
        "id": "b3bU4a0y_nc2",
        "outputId": "d1d3773d-9c6d-4661-c9ff-473b05fc4b8e"
      },
      "execution_count": 22,
      "outputs": [
        {
          "output_type": "stream",
          "name": "stdout",
          "text": [
            "> <ipython-input-22-0348a9ead6dc>(3)add_numbers()\n",
            "-> return a + b + c + d\n",
            "(Pdb) a \n",
            "a = 1\n",
            "b = 2\n",
            "c = 3\n",
            "d = 4\n",
            "(Pdb) p a\n",
            "1\n",
            "(Pdb) p c\n",
            "3\n",
            "(Pdb) c\n",
            "10\n"
          ]
        }
      ]
    },
    {
      "cell_type": "code",
      "source": [
        "# Coding exercise\n",
        "\n",
        "def divide(num1,num2):\n",
        "  try:\n",
        "    result = num1/num2\n",
        "  except TypeError:\n",
        "    return 'Please provide two integers or floats'\n",
        "  except ZeroDivisionError:\n",
        "    return 'Please do not divide by zero'\n",
        "  else:\n",
        "    return result\n",
        "\n",
        "\n",
        "print(divide(4,2))\n",
        "print(divide([],\"1\"))\n",
        "print(divide(1,0))"
      ],
      "metadata": {
        "colab": {
          "base_uri": "https://localhost:8080/"
        },
        "id": "IWgzgG1TCvHQ",
        "outputId": "390d2294-e39c-4682-b997-8016b6d48c0a"
      },
      "execution_count": 24,
      "outputs": [
        {
          "output_type": "stream",
          "name": "stdout",
          "text": [
            "2.0\n",
            "Please provide two integers or floats\n",
            "Please do not divide by zero\n"
          ]
        }
      ]
    }
  ]
}