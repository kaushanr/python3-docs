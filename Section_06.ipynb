{
  "nbformat": 4,
  "nbformat_minor": 0,
  "metadata": {
    "colab": {
      "name": "Section 6.ipynb",
      "provenance": [],
      "collapsed_sections": [],
      "authorship_tag": "ABX9TyNulkRmNm+hLoNhlpqb5LfX",
      "include_colab_link": true
    },
    "kernelspec": {
      "name": "python3",
      "display_name": "Python 3"
    },
    "language_info": {
      "name": "python"
    }
  },
  "cells": [
    {
      "cell_type": "markdown",
      "metadata": {
        "id": "view-in-github",
        "colab_type": "text"
      },
      "source": [
        "<a href=\"https://colab.research.google.com/github/kaushanr/python3_docs/blob/main/Section_6.ipynb\" target=\"_parent\"><img src=\"https://colab.research.google.com/assets/colab-badge.svg\" alt=\"Open In Colab\"/></a>"
      ]
    },
    {
      "cell_type": "markdown",
      "source": [
        "# Numbers, Operators and Comments"
      ],
      "metadata": {
        "id": "RMRBenSDj2-5"
      }
    },
    {
      "cell_type": "code",
      "execution_count": null,
      "metadata": {
        "colab": {
          "base_uri": "https://localhost:8080/"
        },
        "id": "8pOqVfwJjvqM",
        "outputId": "db725374-d0dc-4aba-f2a0-aac4e7d8b940"
      },
      "outputs": [
        {
          "output_type": "stream",
          "name": "stdout",
          "text": [
            "<class 'int'>\n",
            "<class 'float'>\n",
            "<class 'float'>\n",
            "<class 'int'>\n",
            "3\n"
          ]
        },
        {
          "output_type": "execute_result",
          "data": {
            "text/plain": [
              "20.777"
            ]
          },
          "metadata": {},
          "execution_count": 5
        }
      ],
      "source": [
        "# This is a standard single line comment structure in python.\n",
        "\n",
        "# Floating point vs integer number wrt to memory allocation.\n",
        "# Four data types for number representation - integer, floating point, complex, long.\n",
        "\n",
        "# With jupyter notebooks, you need to call the print function to show the output of each line given its rich text representation format\n",
        "\n",
        "print(type(9)) # type is a function used to figure out the property of the object of interest\n",
        "print(type(9.0))\n",
        "print(type(999999.2))\n",
        "print(type(999999))\n",
        "\n",
        "print(2 + 1) # returns an integer\n",
        "20 + 0.777 # returns a float"
      ]
    },
    {
      "cell_type": "code",
      "source": [
        "# Math operators\n",
        "\n",
        "# Addition (+), Subtraction (-), Multiplication (*), Division (/), Exponentiation(**), Modulo (%), Integer Division (//)\n",
        "\n",
        "# Order of operations- PEMDAS - Parantheses, Exponents, Multiplication, Division, Addition, Subtraction\n",
        "\n",
        "print(1/2)\n",
        "\n",
        "print(1/3) # Division always returns a float,  even when dividing to integers with no remainders\n",
        "\n",
        "print(2**3) # to the power of...\n",
        "\n",
        "print(49**0.5) # square root of..., returns a float\n",
        "\n",
        "print(10%3) # remainder operator\n",
        "\n",
        "print(10/3)\n",
        "\n",
        "print(10//3) # integer division returns a integer whole number\n",
        "\n",
        "print(6//7) # integer division always 'floors' the result (rounds down)\n",
        "\n",
        "print(111%7)"
      ],
      "metadata": {
        "id": "ws0rIUk-pkGY",
        "colab": {
          "base_uri": "https://localhost:8080/"
        },
        "outputId": "207e6f86-b617-45e8-be09-b61651835590"
      },
      "execution_count": 9,
      "outputs": [
        {
          "output_type": "stream",
          "name": "stdout",
          "text": [
            "0.5\n",
            "0.3333333333333333\n",
            "8\n",
            "7.0\n",
            "1\n",
            "3.3333333333333335\n",
            "3\n",
            "0\n",
            "6\n"
          ]
        }
      ]
    }
  ]
}
