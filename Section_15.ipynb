{
  "nbformat": 4,
  "nbformat_minor": 0,
  "metadata": {
    "colab": {
      "name": "Section_15",
      "provenance": [],
      "authorship_tag": "ABX9TyND0kGhmd8byD/oHvSn/qWV",
      "include_colab_link": true
    },
    "kernelspec": {
      "name": "python3",
      "display_name": "Python 3"
    },
    "language_info": {
      "name": "python"
    }
  },
  "cells": [
    {
      "cell_type": "markdown",
      "metadata": {
        "id": "view-in-github",
        "colab_type": "text"
      },
      "source": [
        "<a href=\"https://colab.research.google.com/github/kaushanr/python3_docs/blob/main/Section_15.ipynb\" target=\"_parent\"><img src=\"https://colab.research.google.com/assets/colab-badge.svg\" alt=\"Open In Colab\"/></a>"
      ]
    },
    {
      "cell_type": "markdown",
      "source": [
        "# Dictionary Excercises"
      ],
      "metadata": {
        "id": "cmha01Jctg42"
      }
    },
    {
      "cell_type": "code",
      "execution_count": null,
      "metadata": {
        "colab": {
          "base_uri": "https://localhost:8080/"
        },
        "id": "eg2f08MutdmV",
        "outputId": "13c0d3dc-aca4-4b6e-efbb-fe19fe53e49d"
      },
      "outputs": [
        {
          "output_type": "stream",
          "name": "stdout",
          "text": [
            "{'CA': 'California', 'NJ': 'New Jersey', 'RI': 'Rhode Island'}\n"
          ]
        }
      ],
      "source": [
        "list1 = [\"CA\", \"NJ\", \"RI\"]\n",
        "list2 = [\"California\", \"New Jersey\", \"Rhode Island\"]\n",
        "\n",
        "# make sure your solution is assigned to the answer variable so the tests can work!\n",
        "answer = {list1[i]:list2[i] for i in range(len(list1))}\n",
        "print(answer)"
      ]
    },
    {
      "cell_type": "code",
      "source": [
        "person = [[\"name\", \"Jared\"], [\"job\", \"Musician\"], [\"city\", \"Bern\"]]\n",
        "\n",
        "# use the person variable in your answer\n",
        "\n",
        "answer = {}\n",
        "for index in person:\n",
        "  answer.update({}.fromkeys([index[0]],index[1]))\n",
        "print(answer)\n",
        "\n",
        "answer2 = {thing[0]:thing[1] for thing in person}\n",
        "print(answer2)\n",
        "\n",
        "answer3 = {k:v for k,v in person} \n",
        "print(answer3)\n",
        "\n",
        "answer4 = dict(person) # list of pairs can be converted into a dictionary\n",
        "print(answer4)\n",
        "\n",
        "rand_list = [['a','b','c'],[1,2,3],[True,False,None]]\n",
        "for x,y,z in rand_list: # multiple variables in a list pair can be accessed this way\n",
        "  print(x,y,z)\n",
        "  print(x,y,z, sep='\\n') # prints multiple variables in a new line"
      ],
      "metadata": {
        "colab": {
          "base_uri": "https://localhost:8080/"
        },
        "id": "FhEG8tcOwKlB",
        "outputId": "607e9134-19f7-4ccc-8c50-8bd6d9b2fb77"
      },
      "execution_count": null,
      "outputs": [
        {
          "output_type": "stream",
          "name": "stdout",
          "text": [
            "{'name': 'Jared', 'job': 'Musician', 'city': 'Bern'}\n",
            "{'name': 'Jared', 'job': 'Musician', 'city': 'Bern'}\n",
            "{'name': 'Jared', 'job': 'Musician', 'city': 'Bern'}\n",
            "{'name': 'Jared', 'job': 'Musician', 'city': 'Bern'}\n",
            "a b c\n",
            "a\n",
            "b\n",
            "c\n",
            "1 2 3\n",
            "1\n",
            "2\n",
            "3\n",
            "True False None\n",
            "True\n",
            "False\n",
            "None\n"
          ]
        }
      ]
    },
    {
      "cell_type": "code",
      "source": [
        "# make sure your solution is assigned to the answer variable so the tests can work!\n",
        "answer = {}.fromkeys('aeiou',0) \n",
        "print(answer)\n",
        "\n",
        "answer1 = dict.fromkeys('aeiou',0) # dict.fromkeys works like {}.from\n",
        "print(answer1)\n",
        "\n",
        "answer2 = {char:0 for char in 'aeiou'}\n",
        "print(answer2)"
      ],
      "metadata": {
        "colab": {
          "base_uri": "https://localhost:8080/"
        },
        "id": "qJUNmZR_G3Md",
        "outputId": "dd6a9599-d695-4d13-866a-60a0907f0bee"
      },
      "execution_count": null,
      "outputs": [
        {
          "output_type": "stream",
          "name": "stdout",
          "text": [
            "{'a': 0, 'e': 0, 'i': 0, 'o': 0, 'u': 0}\n",
            "{'a': 0, 'e': 0, 'i': 0, 'o': 0, 'u': 0}\n",
            "{'a': 0, 'e': 0, 'i': 0, 'o': 0, 'u': 0}\n"
          ]
        }
      ]
    },
    {
      "cell_type": "code",
      "source": [
        "# python ASCII --> chr function\n",
        "\n",
        "print(chr(65))\n",
        "print(chr(66))\n",
        "print(chr(90))\n",
        "print(type(chr(90))) # string type\n",
        "\n",
        "# chr(65) --> 'A' to chr(90) --> 'Z'\n",
        "\n",
        "# make sure your solution is assigned to the answer variable so the tests can work!\n",
        "answer = {num:chr(num) for num in range(65,123)}\n",
        "\n",
        "from pprint import pprint # 'pretty printer' function\n",
        "pprint(answer,width = 6) #  character width of print column\n"
      ],
      "metadata": {
        "colab": {
          "base_uri": "https://localhost:8080/"
        },
        "id": "YRl4XBQjIp5_",
        "outputId": "c6d63c7e-58f6-451f-b1b5-7561d3e1812d"
      },
      "execution_count": 54,
      "outputs": [
        {
          "output_type": "stream",
          "name": "stdout",
          "text": [
            "A\n",
            "B\n",
            "Z\n",
            "<class 'str'>\n",
            "{65: 'A',\n",
            " 66: 'B',\n",
            " 67: 'C',\n",
            " 68: 'D',\n",
            " 69: 'E',\n",
            " 70: 'F',\n",
            " 71: 'G',\n",
            " 72: 'H',\n",
            " 73: 'I',\n",
            " 74: 'J',\n",
            " 75: 'K',\n",
            " 76: 'L',\n",
            " 77: 'M',\n",
            " 78: 'N',\n",
            " 79: 'O',\n",
            " 80: 'P',\n",
            " 81: 'Q',\n",
            " 82: 'R',\n",
            " 83: 'S',\n",
            " 84: 'T',\n",
            " 85: 'U',\n",
            " 86: 'V',\n",
            " 87: 'W',\n",
            " 88: 'X',\n",
            " 89: 'Y',\n",
            " 90: 'Z',\n",
            " 91: '[',\n",
            " 92: '\\\\',\n",
            " 93: ']',\n",
            " 94: '^',\n",
            " 95: '_',\n",
            " 96: '`',\n",
            " 97: 'a',\n",
            " 98: 'b',\n",
            " 99: 'c',\n",
            " 100: 'd',\n",
            " 101: 'e',\n",
            " 102: 'f',\n",
            " 103: 'g',\n",
            " 104: 'h',\n",
            " 105: 'i',\n",
            " 106: 'j',\n",
            " 107: 'k',\n",
            " 108: 'l',\n",
            " 109: 'm',\n",
            " 110: 'n',\n",
            " 111: 'o',\n",
            " 112: 'p',\n",
            " 113: 'q',\n",
            " 114: 'r',\n",
            " 115: 's',\n",
            " 116: 't',\n",
            " 117: 'u',\n",
            " 118: 'v',\n",
            " 119: 'w',\n",
            " 120: 'x',\n",
            " 121: 'y',\n",
            " 122: 'z'}\n"
          ]
        }
      ]
    }
  ]
}