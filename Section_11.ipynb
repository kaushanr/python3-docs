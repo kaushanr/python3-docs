{
  "nbformat": 4,
  "nbformat_minor": 0,
  "metadata": {
    "colab": {
      "name": "Section_11.ipynb",
      "provenance": [],
      "authorship_tag": "ABX9TyNY7dBPLUP//7rs/XL28yl+",
      "include_colab_link": true
    },
    "kernelspec": {
      "name": "python3",
      "display_name": "Python 3"
    },
    "language_info": {
      "name": "python"
    }
  },
  "cells": [
    {
      "cell_type": "markdown",
      "metadata": {
        "id": "view-in-github",
        "colab_type": "text"
      },
      "source": [
        "<a href=\"https://colab.research.google.com/github/kaushanr/python3_docs/blob/main/Section_11.ipynb\" target=\"_parent\"><img src=\"https://colab.research.google.com/assets/colab-badge.svg\" alt=\"Open In Colab\"/></a>"
      ]
    },
    {
      "cell_type": "markdown",
      "source": [
        "# Guessing Game and RPS"
      ],
      "metadata": {
        "id": "J-N-jtK3p5_6"
      }
    },
    {
      "cell_type": "code",
      "execution_count": null,
      "metadata": {
        "id": "cKZqW8Slp2sx",
        "colab": {
          "base_uri": "https://localhost:8080/"
        },
        "outputId": "98c49ab1-dfac-492a-e981-7e151021f6a4"
      },
      "outputs": [
        {
          "output_type": "stream",
          "name": "stdout",
          "text": [
            "Guess a number between 1 and 10 : \n",
            "Please enter a valid answer\n",
            "Guess a number between 1 and 10 : dfssdf\n",
            "Please enter a valid answer\n",
            "Guess a number between 1 and 10 : 5\n",
            "7\n",
            "Too low, try again!\n",
            "Guess a number between 1 and 10 : 9\n",
            "Too high, try again!\n",
            "Guess a number between 1 and 10 : 7\n",
            "Yay you won!, you've guessed it.\n",
            "Do you want to keep playing? (y/n) \n",
            "Please enter a valid answer\n",
            "Do you want to keep playing? (y/n) fsdfsfsd\n",
            "Please enter a valid answer\n",
            "Do you want to keep playing? (y/n) y\n",
            "Guess a number between 1 and 10 : 5\n",
            "1\n",
            "Too high, try again!\n",
            "Guess a number between 1 and 10 : dfsdfsd\n",
            "Please enter a valid answer\n",
            "Guess a number between 1 and 10 : \n",
            "Please enter a valid answer\n",
            "Guess a number between 1 and 10 : 4\n",
            "Too high, try again!\n",
            "Guess a number between 1 and 10 : 1\n",
            "Yay you won!, you've guessed it.\n",
            "Do you want to keep playing? (y/n) wefwe\n",
            "Please enter a valid answer\n",
            "Do you want to keep playing? (y/n) \n",
            "Please enter a valid answer\n",
            "Do you want to keep playing? (y/n) y\n",
            "Guess a number between 1 and 10 : 5\n",
            "6\n",
            "Too low, try again!\n",
            "Guess a number between 1 and 10 : 6\n",
            "Yay you won!, you've guessed it.\n",
            "Do you want to keep playing? (y/n) y\n",
            "Guess a number between 1 and 10 : 6\n",
            "9\n",
            "Too low, try again!\n",
            "Guess a number between 1 and 10 : 9\n",
            "Yay you won!, you've guessed it.\n",
            "Do you want to keep playing? (y/n) n\n",
            "Thanks for playing, Bye!\n"
          ]
        }
      ],
      "source": [
        "# Guessing Game - guess the number\n",
        "\n",
        "from random import randint\n",
        "\n",
        "while True: \n",
        "\n",
        "  while True: # checks for garbage inputs \n",
        "    msg = input('Guess a number between 1 and 10 : ')\n",
        "    if msg.isnumeric(): # checks for a valid numeric entry\n",
        "      break\n",
        "    else:\n",
        "      print('Please enter a valid answer')\n",
        "\n",
        "  num = randint(1,10) # randint is inclusive of 1 to 10. Different to ranges\n",
        "  print(num)\n",
        "\n",
        "  while int(msg) != num:\n",
        "    if int(msg) > num:\n",
        "      print('Too high, try again!')\n",
        "    elif int(msg) < num:\n",
        "      print('Too low, try again!')\n",
        "    while True: # checks for garbage inputs\n",
        "      msg = input('Guess a number between 1 and 10 : ')\n",
        "      if msg.isnumeric():\n",
        "        break\n",
        "      else:\n",
        "        print('Please enter a valid answer')\n",
        "  \n",
        "  print('Yay you won!, you\\'ve guessed it.')\n",
        "  play_again = input('Do you want to keep playing? (y/n) ').lower()\n",
        "\n",
        "  if play_again == 'n': # exits loop if play_again set to 'n'\n",
        "      break\n",
        "\n",
        "  while play_again != 'y' and play_again != 'n': # checks for garbage inputs\n",
        "    print('Please enter a valid answer')\n",
        "    play_again = input('Do you want to keep playing? (y/n) ').lower()\n",
        "    if play_again == 'n': # exits game if n\n",
        "      break\n",
        "\n",
        "print('Thanks for playing, Bye!')"
      ]
    },
    {
      "cell_type": "code",
      "source": [
        "# RPS - Even better now!\n",
        "\n",
        "from random import choice # random.choice(seq), returns a random element from a non-empty sequence\n",
        "\n",
        "print('Welcome to RPS, the \"AI\" (*coughs) version')\n",
        "\n",
        "player_wins = 0\n",
        "computer_wins  =  0\n",
        "\n",
        "rounds = int(input('How many rounds do you want to play? '))\n",
        "\n",
        "while (player_wins + computer_wins) < rounds:\n",
        "  print(f'Player score : {player_wins} Computer score : {computer_wins}')\n",
        "  \n",
        "  player = input('Player, make your move : ').capitalize() # Checks input string and converts to capitalized case\n",
        "\n",
        "  if player == 'Quit': # forefeit game at any point\n",
        "    break\n",
        "\n",
        "  computer = choice(['Rock','Paper','Scissors']) # picks a random choice from the list and stores in variable\n",
        "  print('The computer chose : ' + computer)\n",
        "\n",
        "  # print('****NO CHEATING****\\n' * 20) # prints output 20 times on new lines\n",
        "\n",
        "  if player:\n",
        "    print('Shoot!')\n",
        "    if player == computer: # Refactored nested conditionals\n",
        "      print('It\\'s a tie!')\n",
        "    elif player == 'Rock': \n",
        "      if computer == 'Paper':\n",
        "        print('The computer wins!')\n",
        "        computer_wins += 1\n",
        "      elif computer == 'Scissors':\n",
        "        print('Player wins!')\n",
        "        player_wins += 1\n",
        "    elif player == 'Paper':\n",
        "      if computer == 'Rock':\n",
        "        print('Player wins!')\n",
        "        player_wins += 1\n",
        "      elif computer == 'Scissors':\n",
        "        print('The computer wins!')\n",
        "        computer_wins += 1\n",
        "    elif player == 'Scissors':\n",
        "      if computer == 'Rock':\n",
        "        print('The computer wins!')\n",
        "        computer_wins += 1\n",
        "      elif computer == 'Paper':\n",
        "        print('Player wins!')\n",
        "        player_wins += 1\n",
        "    else:\n",
        "      print('Something went wrong...') # checks for player garbage inputs\n",
        "  else:\n",
        "    print('Player, you didn\\'t enter anything!')\n",
        "\n",
        "print(f'FINAL SCORES... Player : {player_wins} Computer : {computer_wins}')\n",
        "\n",
        "if player_wins > computer_wins:\n",
        "\n",
        "  print(f'Player WINS! in best of {rounds}')\n",
        "elif player_wins < computer_wins:\n",
        "  print(f'Computer WINS! in best of {rounds}')\n",
        "else:\n",
        "  print(f'It\\'s a tie! in best of {rounds}')\n"
      ],
      "metadata": {
        "id": "ALv7zvE01s1Y",
        "colab": {
          "base_uri": "https://localhost:8080/"
        },
        "outputId": "fff12c7a-94ff-4543-c854-0a7b7f02094c"
      },
      "execution_count": 8,
      "outputs": [
        {
          "output_type": "stream",
          "name": "stdout",
          "text": [
            "Welcome to RPS, the \"AI\" (*coughs) version\n",
            "How many rounds do you want to play? 5\n",
            "Player score : 0 Computer score : 0\n",
            "Player, make your move : rock\n",
            "The computer chose : Scissors\n",
            "Shoot!\n",
            "Player wins!\n",
            "Player score : 1 Computer score : 0\n",
            "Player, make your move : paper\n",
            "The computer chose : Scissors\n",
            "Shoot!\n",
            "The computer wins!\n",
            "Player score : 1 Computer score : 1\n",
            "Player, make your move : paper\n",
            "The computer chose : Paper\n",
            "Shoot!\n",
            "It's a tie!\n",
            "Player score : 1 Computer score : 1\n",
            "Player, make your move : scissors\n",
            "The computer chose : Scissors\n",
            "Shoot!\n",
            "It's a tie!\n",
            "Player score : 1 Computer score : 1\n",
            "Player, make your move : rock\n",
            "The computer chose : Paper\n",
            "Shoot!\n",
            "The computer wins!\n",
            "Player score : 1 Computer score : 2\n",
            "Player, make your move : quit\n",
            "FINAL SCORES... Player : 1 Computer : 2\n",
            "Computer WINS! in best of 5\n"
          ]
        }
      ]
    },
    {
      "cell_type": "markdown",
      "source": [
        "### Refer PEP8 and AutoPEP for, code formatting to style guides"
      ],
      "metadata": {
        "id": "TkY3H5He-c_1"
      }
    }
  ]
}